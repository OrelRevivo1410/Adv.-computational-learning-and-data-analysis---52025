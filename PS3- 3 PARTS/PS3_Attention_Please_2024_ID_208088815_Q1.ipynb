{
  "cells": [
    {
      "cell_type": "markdown",
      "metadata": {
        "id": "AOpGoE2T-YXS"
      },
      "source": [
        "# Neural Machine Translation with Attention\n",
        "\n",
        "Advanced Learning Fall 2024.   \n",
        "Last updated: 2025-01-12\n"
      ]
    },
    {
      "cell_type": "markdown",
      "source": [
        "For SUBMISSION:   \n",
        "\n",
        "Please upload the complete and executed `ipynb` to your git repository. Verify that all of your output can be viewed directly from github, and provide a link to that git file below.\n",
        "\n",
        "~~~\n",
        "STUDENT ID: 208088815\n",
        "~~~\n",
        "\n",
        "~~~\n",
        "STUDENT GIT LINK: MISSING\n",
        "~~~\n",
        "In Addition, don't forget to add your ID to the files, and upload to moodle the html version:    \n",
        "  \n",
        "`PS3_Attention_2024_ID_[208088815].html`   \n",
        "\n",
        "\n"
      ],
      "metadata": {
        "id": "PpJdYve9cZa6"
      }
    },
    {
      "cell_type": "markdown",
      "metadata": {
        "id": "eecp2PAf7qJq"
      },
      "source": [
        "In this problem set we are going to jump into the depths of `seq2seq` and `attention` and build a couple of PyTorch translation mechanisms with some  twists.     \n",
        "\n",
        "\n",
        "*   Part 1 consists of a somewhat unorthodox `seq2seq` model for simple arithmetics\n",
        "*   Part 2 consists of an `seq2seq - attention` language translation model. We will use it for Hebrew and English.  \n"
      ]
    },
    {
      "cell_type": "markdown",
      "source": [
        "---"
      ],
      "metadata": {
        "id": "-VpUCez9gOZn"
      }
    },
    {
      "cell_type": "markdown",
      "metadata": {
        "id": "ajNDsL5HlZN6"
      },
      "source": [
        "A **seq2seq** model (sequence-to-sequence model) is a type of neural network designed specifically to handle sequences of data. The model converts input sequences into other sequences of data. This makes them particularly useful for tasks involving language, where the input and output are naturally sequences of words.\n",
        "\n",
        "Here's a breakdown of how `seq2seq` models work:\n",
        "\n",
        "* The encoder takes the input sequence, like a sentence in English, and processes it to capture its meaning and context.\n",
        "\n",
        "* information is then passed to the decoder, which uses it to generate the output sequence, like a translation in French.\n",
        "\n",
        "* Attention mechanism (optional): Some `seq2seq` models also incorporate an attention mechanism. This allows the decoder to focus on specific parts of the input sequence that are most relevant to generating the next element in the output sequence.\n",
        "\n",
        "`seq2seq` models are used in many natural language processing (NLP) tasks.\n",
        "\n"
      ]
    },
    {
      "cell_type": "markdown",
      "metadata": {
        "id": "VbUDn4FObol7"
      },
      "source": [
        "imports: (feel free to add)"
      ]
    },
    {
      "cell_type": "code",
      "execution_count": null,
      "metadata": {
        "id": "crTe33wcD_Eg"
      },
      "outputs": [],
      "source": [
        "# from __future__ import unicode_literals, print_function, division\n",
        "# from io import open\n",
        "# import unicodedata\n",
        "# Standard library imports\n",
        "from __future__ import unicode_literals, print_function, division\n",
        "from io import open\n",
        "import os\n",
        "import re\n",
        "import random\n",
        "import time\n",
        "import math\n",
        "import zipfile\n",
        "import unicodedata\n",
        "\n",
        "# PyTorch imports\n",
        "import torch\n",
        "import torch.nn as nn\n",
        "import torch.nn.functional as F\n",
        "from torch import optim\n",
        "from torch.utils.data import TensorDataset, DataLoader, RandomSampler\n",
        "\n",
        "# NumPy\n",
        "import numpy as np\n",
        "\n",
        "# Matplotlib imports\n",
        "import matplotlib.pyplot as plt\n",
        "import matplotlib.ticker as ticker\n",
        "plt.switch_backend('agg')\n",
        "\n",
        "# Keras imports\n",
        "from keras.models import Sequential, Model\n",
        "from keras.layers import Input, LSTM, Attention, Flatten, RepeatVector, TimeDistributed, Dense\n",
        "from keras.callbacks import ModelCheckpoint\n",
        "\n",
        "# TensorFlow Keras imports\n",
        "import tensorflow as tf\n",
        "from tensorflow.keras import layers, models\n",
        "from tensorflow.keras.optimizers import Adam\n",
        "from tensorflow.keras.losses import SparseCategoricalCrossentropy\n",
        "from tensorflow.keras.preprocessing.sequence import pad_sequences\n",
        "from tensorflow.keras.layers import Input, Embedding, Dense, Bidirectional, Dropout, RepeatVector, TimeDistributed\n",
        "from tensorflow.keras.callbacks import ModelCheckpoint\n",
        "\n",
        "# Device setup for PyTorch\n",
        "device = torch.device(\"cuda\" if torch.cuda.is_available() else \"cpu\")"
      ]
    },
    {
      "cell_type": "markdown",
      "metadata": {
        "id": "CiwtNgENbx2g"
      },
      "source": [
        "## Part 1: Seq2Seq Arithmetic model"
      ]
    },
    {
      "cell_type": "markdown",
      "metadata": {
        "id": "x1gWov3Gx67I"
      },
      "source": [
        "**Using RNN `seq2seq` model to \"learn\" simple arithmetics!**\n",
        "\n",
        "> Given the string \"54-7\", the model should return a prediction: \"47\".  \n",
        "> Given the string \"10+20\", the model should return a prediction: \"30\".\n"
      ]
    },
    {
      "cell_type": "markdown",
      "metadata": {
        "id": "Dxo92ZgTy6ED"
      },
      "source": [
        "- Watch Lukas Biewald's short [video](https://youtu.be/MqugtGD605k?si=rAH34ZTJyYDj-XJ1) explaining `seq2seq` models and his toy application (somewhat outdated).\n",
        "- You can find the code for his example [here](https://github.com/lukas/ml-class/blob/master/videos/seq2seq/train.py).    \n",
        "\n"
      ]
    },
    {
      "cell_type": "markdown",
      "metadata": {
        "id": "OEu_5YvqFPai"
      },
      "source": [
        "1.1) Using Lukas' code, implement a `seq2seq` network that can learn how to solve **addition AND substraction** of two numbers of maximum length of 4, using the following steps (similar to the example):      \n",
        "\n",
        "* Generate data; X: queries (two numbers), and Y: answers   \n",
        "* One-hot encode X and Y,\n",
        "* Build a `seq2seq` network (with LSTM, RepeatVector, and TimeDistributed layers)\n",
        "* Train the model.\n",
        "* While training, sample from the validation set at random so we can visualize the generated solutions against the true solutions.    \n",
        "\n",
        "Notes:  \n",
        "* The code in the example is quite old and based on Keras. You might have to adapt some of the code to overcome methods/code that is not supported anymore. Hint: for the evaluation part, review the type and format of the \"correct\" output - this will help you fix the unsupported \"model.predict_classes\".\n",
        "* Please use the parameters in the code cell below to train the model.     \n",
        "* Instead of using a `wandb.config` object, please use a simple dictionary instead.   \n",
        "* You don't need to run the model for more than 50 iterations (epochs) to get a gist of what is happening and what the algorithm is doing.\n",
        "* Extra credit if you can implement the network in PyTorch (this is not difficult).    \n",
        "* Extra credit if you are able to significantly improve the model."
      ]
    },
    {
      "cell_type": "markdown",
      "metadata": {
        "id": "qXJQqZbEbRup"
      },
      "source": [
        "1.2).\n",
        "\n",
        "a) Do you think this model performs well?  Why or why not?     \n",
        "b) What are its limitations?   \n",
        "c) What would you do to improve it?    \n",
        "d) Can you apply an attention mechanism to this model? Why or why not?   "
      ]
    },
    {
      "cell_type": "markdown",
      "source": [
        "1.3).  \n",
        "\n",
        "Add attention to the model. Evaluate the performance against the `seq2seq` you trained above. Which one is performing better?"
      ],
      "metadata": {
        "id": "6wvRhhOcgmrQ"
      }
    },
    {
      "cell_type": "markdown",
      "source": [
        "1.4)\n",
        "\n",
        "Using any neural network architecture of your liking, build  a model with the aim to beat the best performing model in 1.1 or 1.3. Compare your results in a meaningful way, and add a short explanation to why you think/thought your suggested network is better."
      ],
      "metadata": {
        "id": "AtEJK5IZkk8j"
      }
    },
    {
      "cell_type": "code",
      "execution_count": null,
      "metadata": {
        "id": "bwZKyzoBKl4G"
      },
      "outputs": [],
      "source": [
        "config = {}\n",
        "config[\"training_size\"] = 40000\n",
        "config[\"digits\"] = 4\n",
        "config[\"hidden_size\"] = 128\n",
        "config[\"batch_size\"] = 128\n",
        "config[\"iterations\"] = 50\n",
        "chars = '0123456789-+ '"
      ]
    },
    {
      "cell_type": "markdown",
      "metadata": {
        "id": "N6YxgNvo0W_o"
      },
      "source": [
        "SOLUTION:"
      ]
    },
    {
      "cell_type": "code",
      "source": [
        "### MISSING SOLUTION\n",
        "# Generationg the data using Lukas' code\n",
        "# Defining a dictionary to store the model parameters\n",
        "config_dict = {\n",
        "    \"training_size\": 40000,\n",
        "    \"digits\": 4,\n",
        "    \"hidden_size\": 128,\n",
        "    \"batch_size\": 128,\n",
        "    \"iterations\" : 50,\n",
        "    \"chars\" : '0123456789-+ '\n",
        "}\n",
        "\n",
        "class CharacterTable(object):\n",
        "    \"\"\"Given a set of characters:\n",
        "    + Encode them to a one hot integer representation\n",
        "    + Decode the one hot integer representation to their character output\n",
        "    + Decode a vector of probabilities to their character output\n",
        "    \"\"\"\n",
        "    def __init__(self, chars):\n",
        "        \"\"\"Initialize character table.\n",
        "        # Arguments\n",
        "            chars: Characters that can appear in the input.\n",
        "        \"\"\"\n",
        "        self.chars = sorted(set(chars))\n",
        "        self.char_indices = dict((c, i) for i, c in enumerate(self.chars))\n",
        "        self.indices_char = dict((i, c) for i, c in enumerate(self.chars))\n",
        "\n",
        "    def encode(self, C, num_rows):\n",
        "        \"\"\"One hot encode given string C.\n",
        "        # Arguments\n",
        "            num_rows: Number of rows in the returned one hot encoding. This is\n",
        "                used to keep the # of rows for each data the same.\n",
        "        \"\"\"\n",
        "        x = np.zeros((num_rows, len(self.chars)))\n",
        "        for i, c in enumerate(C):\n",
        "            x[i, self.char_indices[c]] = 1\n",
        "        return x\n",
        "\n",
        "    def decode(self, x, calc_argmax=True):\n",
        "        if calc_argmax:\n",
        "            x = x.argmax(axis=-1)\n",
        "        return ''.join(self.indices_char[x] for x in x)\n",
        "\n",
        "\n",
        "# Maximum length of input is 'int + int' (e.g., '345+678'). Maximum length of\n",
        "# int is DIGITS.\n",
        "maxlen = config_dict['digits'] + 1 + config_dict['digits']\n",
        "\n",
        "# All the numbers, plus and minus signs and space for padding.\n",
        "chars = config_dict[\"chars\"]\n",
        "ctable = CharacterTable(chars)\n",
        "\n",
        "questions = []\n",
        "expected = []\n",
        "seen = set()\n",
        "print('Generating data...')\n",
        "\n",
        "while len(questions) < config_dict['training_size']:\n",
        "    f = lambda: int(''.join(np.random.choice(list('0123456789'))\n",
        "                    for i in range(np.random.randint(1, config_dict['digits'] + 1))))\n",
        "    a, b = f(), f()\n",
        "    # Randomly choose addition or subtraction\n",
        "    operation = np.random.choice(['+', '-'])\n",
        "\n",
        "    # Skip any questions we've already seen\n",
        "    # Also skip any such that x+Y == Y+x (hence the sorting).\n",
        "    key = (a, b, operation)\n",
        "    if key in seen:\n",
        "        continue\n",
        "    seen.add(key)\n",
        "\n",
        "    # Create the question string\n",
        "    q = f\"{a}{operation}{b}\"\n",
        "    query = q + ' ' * (maxlen - len(q))\n",
        "    # Compute the answer\n",
        "    ans = str(a + b) if operation == '+' else str(a - b)\n",
        "    ans += ' ' * (config_dict['digits'] + 1 - len(ans))\n",
        "\n",
        "    questions.append(query)\n",
        "    expected.append(ans)\n",
        "\n",
        "print('Total addition questions:', len(questions))\n",
        "\n",
        "print('Vectorization...')\n",
        "x = np.zeros((len(questions), maxlen, len(config_dict['chars'])), dtype=bool)\n",
        "y = np.zeros((len(questions), config_dict['digits'] + 1, len(config_dict['chars'])), dtype=bool)\n",
        "\n",
        "for i, sentence in enumerate(questions):\n",
        "    x[i] = ctable.encode(sentence, maxlen)\n",
        "for i, sentence in enumerate(expected):\n",
        "    y[i] = ctable.encode(sentence, config_dict['digits'] + 1)\n",
        "\n",
        "\n",
        "# Shuffle (x, y) in unison as the later parts of x will almost all be larger\n",
        "# digits.\n",
        "indices = np.arange(len(y))\n",
        "np.random.shuffle(indices)\n",
        "x = x[indices]\n",
        "y = y[indices]\n",
        "\n",
        "# Explicitly set apart 10% for validation data that we never train over.\n",
        "split_at = len(x) - len(x) // 10\n",
        "(x_train, x_val) = x[:split_at], x[split_at:]\n",
        "(y_train, y_val) = y[:split_at], y[split_at:]"
      ],
      "metadata": {
        "id": "GlF7abtLjz06",
        "colab": {
          "base_uri": "https://localhost:8080/"
        },
        "outputId": "f62dd24c-8572-4bb0-ce68-97537728329e"
      },
      "execution_count": null,
      "outputs": [
        {
          "output_type": "stream",
          "name": "stdout",
          "text": [
            "Generating data...\n",
            "Total addition questions: 40000\n",
            "Vectorization...\n"
          ]
        }
      ]
    },
    {
      "cell_type": "code",
      "source": [
        "# Building a seq2seq network\n",
        "# Defining the model\n",
        "model1 = Sequential()\n",
        "model1.add(LSTM(config_dict['hidden_size'] , input_shape=(maxlen, len(chars))))\n",
        "model1.add(RepeatVector(config_dict['digits'] + 1))\n",
        "model1.add(LSTM(config_dict['hidden_size'], return_sequences=True))\n",
        "model1.add(TimeDistributed(Dense(len(chars), activation='softmax')))\n",
        "model1.compile(loss='categorical_crossentropy',\n",
        "              optimizer='adam',\n",
        "              metrics=['accuracy'])\n",
        "model1.summary()\n",
        "\n",
        "# Train the model each generation and show predictions against the validation\n",
        "# dataset.\n",
        "checkpoint = ModelCheckpoint('best_model.h5',\n",
        "                             monitor='val_loss',\n",
        "                             save_best_only=True,\n",
        "                             mode='min',\n",
        "                             verbose=1)\n",
        "for iteration in range(config_dict['iterations']):\n",
        "    print()\n",
        "    print('-' * 50)\n",
        "    print('Iteration', iteration)\n",
        "\n",
        "    model1.fit(x_train, y_train,\n",
        "              batch_size=config_dict['batch_size'],\n",
        "              epochs=1,\n",
        "              validation_data=(x_val, y_val),\n",
        "              callbacks=[checkpoint])\n",
        "    # Select 10 samples from the validation set at random so we can visualize\n",
        "    # errors.\n",
        "    for i in range(10):\n",
        "        ind = np.random.randint(0, len(x_val))\n",
        "        rowx, rowy = x_val[np.array([ind])], y_val[np.array([ind])]\n",
        "        preds = model1.predict(rowx, verbose=0)\n",
        "        preds = np.argmax(preds, axis=-1)\n",
        "        q = ctable.decode(rowx[0])\n",
        "        correct = ctable.decode(rowy[0])\n",
        "        guess = ctable.decode(preds[0], calc_argmax=False)\n",
        "        print('Q', q, end=' ')\n",
        "        print('T', correct, end=' ')\n",
        "        if correct == guess:\n",
        "            print('☑', end=' ')\n",
        "        else:\n",
        "            print('☒', end=' ')\n",
        "        print(guess)"
      ],
      "metadata": {
        "colab": {
          "base_uri": "https://localhost:8080/",
          "height": 1000
        },
        "id": "aZz-Km9dYskB",
        "outputId": "87746d90-0eb8-49f6-f505-34395817865c"
      },
      "execution_count": null,
      "outputs": [
        {
          "output_type": "stream",
          "name": "stderr",
          "text": [
            "/usr/local/lib/python3.11/dist-packages/keras/src/layers/rnn/rnn.py:200: UserWarning: Do not pass an `input_shape`/`input_dim` argument to a layer. When using Sequential models, prefer using an `Input(shape)` object as the first layer in the model instead.\n",
            "  super().__init__(**kwargs)\n"
          ]
        },
        {
          "output_type": "display_data",
          "data": {
            "text/plain": [
              "\u001b[1mModel: \"sequential\"\u001b[0m\n"
            ],
            "text/html": [
              "<pre style=\"white-space:pre;overflow-x:auto;line-height:normal;font-family:Menlo,'DejaVu Sans Mono',consolas,'Courier New',monospace\"><span style=\"font-weight: bold\">Model: \"sequential\"</span>\n",
              "</pre>\n"
            ]
          },
          "metadata": {}
        },
        {
          "output_type": "display_data",
          "data": {
            "text/plain": [
              "┏━━━━━━━━━━━━━━━━━━━━━━━━━━━━━━━━━━━━━━┳━━━━━━━━━━━━━━━━━━━━━━━━━━━━━┳━━━━━━━━━━━━━━━━━┓\n",
              "┃\u001b[1m \u001b[0m\u001b[1mLayer (type)                        \u001b[0m\u001b[1m \u001b[0m┃\u001b[1m \u001b[0m\u001b[1mOutput Shape               \u001b[0m\u001b[1m \u001b[0m┃\u001b[1m \u001b[0m\u001b[1m        Param #\u001b[0m\u001b[1m \u001b[0m┃\n",
              "┡━━━━━━━━━━━━━━━━━━━━━━━━━━━━━━━━━━━━━━╇━━━━━━━━━━━━━━━━━━━━━━━━━━━━━╇━━━━━━━━━━━━━━━━━┩\n",
              "│ lstm (\u001b[38;5;33mLSTM\u001b[0m)                          │ (\u001b[38;5;45mNone\u001b[0m, \u001b[38;5;34m128\u001b[0m)                 │          \u001b[38;5;34m72,704\u001b[0m │\n",
              "├──────────────────────────────────────┼─────────────────────────────┼─────────────────┤\n",
              "│ repeat_vector (\u001b[38;5;33mRepeatVector\u001b[0m)         │ (\u001b[38;5;45mNone\u001b[0m, \u001b[38;5;34m5\u001b[0m, \u001b[38;5;34m128\u001b[0m)              │               \u001b[38;5;34m0\u001b[0m │\n",
              "├──────────────────────────────────────┼─────────────────────────────┼─────────────────┤\n",
              "│ lstm_1 (\u001b[38;5;33mLSTM\u001b[0m)                        │ (\u001b[38;5;45mNone\u001b[0m, \u001b[38;5;34m5\u001b[0m, \u001b[38;5;34m128\u001b[0m)              │         \u001b[38;5;34m131,584\u001b[0m │\n",
              "├──────────────────────────────────────┼─────────────────────────────┼─────────────────┤\n",
              "│ time_distributed (\u001b[38;5;33mTimeDistributed\u001b[0m)   │ (\u001b[38;5;45mNone\u001b[0m, \u001b[38;5;34m5\u001b[0m, \u001b[38;5;34m13\u001b[0m)               │           \u001b[38;5;34m1,677\u001b[0m │\n",
              "└──────────────────────────────────────┴─────────────────────────────┴─────────────────┘\n"
            ],
            "text/html": [
              "<pre style=\"white-space:pre;overflow-x:auto;line-height:normal;font-family:Menlo,'DejaVu Sans Mono',consolas,'Courier New',monospace\">┏━━━━━━━━━━━━━━━━━━━━━━━━━━━━━━━━━━━━━━┳━━━━━━━━━━━━━━━━━━━━━━━━━━━━━┳━━━━━━━━━━━━━━━━━┓\n",
              "┃<span style=\"font-weight: bold\"> Layer (type)                         </span>┃<span style=\"font-weight: bold\"> Output Shape                </span>┃<span style=\"font-weight: bold\">         Param # </span>┃\n",
              "┡━━━━━━━━━━━━━━━━━━━━━━━━━━━━━━━━━━━━━━╇━━━━━━━━━━━━━━━━━━━━━━━━━━━━━╇━━━━━━━━━━━━━━━━━┩\n",
              "│ lstm (<span style=\"color: #0087ff; text-decoration-color: #0087ff\">LSTM</span>)                          │ (<span style=\"color: #00d7ff; text-decoration-color: #00d7ff\">None</span>, <span style=\"color: #00af00; text-decoration-color: #00af00\">128</span>)                 │          <span style=\"color: #00af00; text-decoration-color: #00af00\">72,704</span> │\n",
              "├──────────────────────────────────────┼─────────────────────────────┼─────────────────┤\n",
              "│ repeat_vector (<span style=\"color: #0087ff; text-decoration-color: #0087ff\">RepeatVector</span>)         │ (<span style=\"color: #00d7ff; text-decoration-color: #00d7ff\">None</span>, <span style=\"color: #00af00; text-decoration-color: #00af00\">5</span>, <span style=\"color: #00af00; text-decoration-color: #00af00\">128</span>)              │               <span style=\"color: #00af00; text-decoration-color: #00af00\">0</span> │\n",
              "├──────────────────────────────────────┼─────────────────────────────┼─────────────────┤\n",
              "│ lstm_1 (<span style=\"color: #0087ff; text-decoration-color: #0087ff\">LSTM</span>)                        │ (<span style=\"color: #00d7ff; text-decoration-color: #00d7ff\">None</span>, <span style=\"color: #00af00; text-decoration-color: #00af00\">5</span>, <span style=\"color: #00af00; text-decoration-color: #00af00\">128</span>)              │         <span style=\"color: #00af00; text-decoration-color: #00af00\">131,584</span> │\n",
              "├──────────────────────────────────────┼─────────────────────────────┼─────────────────┤\n",
              "│ time_distributed (<span style=\"color: #0087ff; text-decoration-color: #0087ff\">TimeDistributed</span>)   │ (<span style=\"color: #00d7ff; text-decoration-color: #00d7ff\">None</span>, <span style=\"color: #00af00; text-decoration-color: #00af00\">5</span>, <span style=\"color: #00af00; text-decoration-color: #00af00\">13</span>)               │           <span style=\"color: #00af00; text-decoration-color: #00af00\">1,677</span> │\n",
              "└──────────────────────────────────────┴─────────────────────────────┴─────────────────┘\n",
              "</pre>\n"
            ]
          },
          "metadata": {}
        },
        {
          "output_type": "display_data",
          "data": {
            "text/plain": [
              "\u001b[1m Total params: \u001b[0m\u001b[38;5;34m205,965\u001b[0m (804.55 KB)\n"
            ],
            "text/html": [
              "<pre style=\"white-space:pre;overflow-x:auto;line-height:normal;font-family:Menlo,'DejaVu Sans Mono',consolas,'Courier New',monospace\"><span style=\"font-weight: bold\"> Total params: </span><span style=\"color: #00af00; text-decoration-color: #00af00\">205,965</span> (804.55 KB)\n",
              "</pre>\n"
            ]
          },
          "metadata": {}
        },
        {
          "output_type": "display_data",
          "data": {
            "text/plain": [
              "\u001b[1m Trainable params: \u001b[0m\u001b[38;5;34m205,965\u001b[0m (804.55 KB)\n"
            ],
            "text/html": [
              "<pre style=\"white-space:pre;overflow-x:auto;line-height:normal;font-family:Menlo,'DejaVu Sans Mono',consolas,'Courier New',monospace\"><span style=\"font-weight: bold\"> Trainable params: </span><span style=\"color: #00af00; text-decoration-color: #00af00\">205,965</span> (804.55 KB)\n",
              "</pre>\n"
            ]
          },
          "metadata": {}
        },
        {
          "output_type": "display_data",
          "data": {
            "text/plain": [
              "\u001b[1m Non-trainable params: \u001b[0m\u001b[38;5;34m0\u001b[0m (0.00 B)\n"
            ],
            "text/html": [
              "<pre style=\"white-space:pre;overflow-x:auto;line-height:normal;font-family:Menlo,'DejaVu Sans Mono',consolas,'Courier New',monospace\"><span style=\"font-weight: bold\"> Non-trainable params: </span><span style=\"color: #00af00; text-decoration-color: #00af00\">0</span> (0.00 B)\n",
              "</pre>\n"
            ]
          },
          "metadata": {}
        },
        {
          "output_type": "stream",
          "name": "stdout",
          "text": [
            "\n",
            "--------------------------------------------------\n",
            "Iteration 0\n",
            "\u001b[1m276/282\u001b[0m \u001b[32m━━━━━━━━━━━━━━━━━━━\u001b[0m\u001b[37m━\u001b[0m \u001b[1m0s\u001b[0m 7ms/step - accuracy: 0.3061 - loss: 2.0461\n",
            "Epoch 1: val_loss improved from inf to 1.66067, saving model to best_model.h5\n"
          ]
        },
        {
          "output_type": "stream",
          "name": "stderr",
          "text": [
            "WARNING:absl:You are saving your model as an HDF5 file via `model.save()` or `keras.saving.save_model(model)`. This file format is considered legacy. We recommend using instead the native Keras format, e.g. `model.save('my_model.keras')` or `keras.saving.save_model(model, 'my_model.keras')`. \n"
          ]
        },
        {
          "output_type": "stream",
          "name": "stdout",
          "text": [
            "\b\b\b\b\b\b\b\b\b\b\b\b\b\b\b\b\b\b\b\b\b\b\b\b\b\b\b\b\b\b\b\b\b\b\b\b\b\b\b\b\b\b\b\b\b\b\b\b\b\b\b\b\b\b\b\b\b\b\b\b\b\b\b\b\b\b\b\b\b\b\b\b\b\b\r\u001b[1m282/282\u001b[0m \u001b[32m━━━━━━━━━━━━━━━━━━━━\u001b[0m\u001b[37m\u001b[0m \u001b[1m10s\u001b[0m 9ms/step - accuracy: 0.3071 - loss: 2.0416 - val_accuracy: 0.3936 - val_loss: 1.6607\n",
            "Q 42-599    T -557  ☒ -233 \n",
            "Q 5530+105  T 5635  ☒ 133  \n",
            "Q 89-41     T 48    ☒ -3   \n",
            "Q 4-832     T -828  ☒ -233 \n",
            "Q 442-8     T 434   ☒ 13   \n",
            "Q 8967-4795 T 4172  ☒ 1333 \n",
            "Q 852+7     T 859   ☒ 133  \n",
            "Q 8614-49   T 8565  ☒ 133  \n",
            "Q 1420+6    T 1426  ☒ 133  \n",
            "Q 9154-9209 T -55   ☒ 1333 \n",
            "\n",
            "--------------------------------------------------\n",
            "Iteration 1\n",
            "\u001b[1m277/282\u001b[0m \u001b[32m━━━━━━━━━━━━━━━━━━━\u001b[0m\u001b[37m━\u001b[0m \u001b[1m0s\u001b[0m 6ms/step - accuracy: 0.3984 - loss: 1.6477\n",
            "Epoch 1: val_loss improved from 1.66067 to 1.57283, saving model to best_model.h5\n"
          ]
        },
        {
          "output_type": "stream",
          "name": "stderr",
          "text": [
            "WARNING:absl:You are saving your model as an HDF5 file via `model.save()` or `keras.saving.save_model(model)`. This file format is considered legacy. We recommend using instead the native Keras format, e.g. `model.save('my_model.keras')` or `keras.saving.save_model(model, 'my_model.keras')`. \n"
          ]
        },
        {
          "output_type": "stream",
          "name": "stdout",
          "text": [
            "\b\b\b\b\b\b\b\b\b\b\b\b\b\b\b\b\b\b\b\b\b\b\b\b\b\b\b\b\b\b\b\b\b\b\b\b\b\b\b\b\b\b\b\b\b\b\b\b\b\b\b\b\b\b\b\b\b\b\b\b\b\b\b\b\b\b\b\b\b\b\b\b\b\b\r\u001b[1m282/282\u001b[0m \u001b[32m━━━━━━━━━━━━━━━━━━━━\u001b[0m\u001b[37m\u001b[0m \u001b[1m2s\u001b[0m 7ms/step - accuracy: 0.3985 - loss: 1.6474 - val_accuracy: 0.4211 - val_loss: 1.5728\n",
            "Q 1+7816    T 7817  ☒ 107  \n",
            "Q 881-825   T 56    ☒ -84  \n",
            "Q 1564+89   T 1653  ☒ 1445 \n",
            "Q 29-542    T -513  ☒ -433 \n",
            "Q 8234+20   T 8254  ☒ 1222 \n",
            "Q 370-38    T 332   ☒ 322  \n",
            "Q 0+548     T 548   ☒ 144  \n",
            "Q 2048-46   T 2002  ☒ 324  \n",
            "Q 960-0     T 960   ☒ 800  \n",
            "Q 1-235     T -234  ☒ -233 \n",
            "\n",
            "--------------------------------------------------\n",
            "Iteration 2\n",
            "\u001b[1m281/282\u001b[0m \u001b[32m━━━━━━━━━━━━━━━━━━━\u001b[0m\u001b[37m━\u001b[0m \u001b[1m0s\u001b[0m 6ms/step - accuracy: 0.4200 - loss: 1.5790\n",
            "Epoch 1: val_loss improved from 1.57283 to 1.51819, saving model to best_model.h5\n"
          ]
        },
        {
          "output_type": "stream",
          "name": "stderr",
          "text": [
            "WARNING:absl:You are saving your model as an HDF5 file via `model.save()` or `keras.saving.save_model(model)`. This file format is considered legacy. We recommend using instead the native Keras format, e.g. `model.save('my_model.keras')` or `keras.saving.save_model(model, 'my_model.keras')`. \n"
          ]
        },
        {
          "output_type": "stream",
          "name": "stdout",
          "text": [
            "\b\b\b\b\b\b\b\b\b\b\b\b\b\b\b\b\b\b\b\b\b\b\b\b\b\b\b\b\b\b\b\b\b\b\b\b\b\b\b\b\b\b\b\b\b\b\b\b\b\b\b\b\b\b\b\b\b\b\b\b\b\b\b\b\b\b\b\b\b\b\b\b\b\b\r\u001b[1m282/282\u001b[0m \u001b[32m━━━━━━━━━━━━━━━━━━━━\u001b[0m\u001b[37m\u001b[0m \u001b[1m2s\u001b[0m 7ms/step - accuracy: 0.4201 - loss: 1.5788 - val_accuracy: 0.4399 - val_loss: 1.5182\n",
            "Q 638+898   T 1536  ☒ 8088 \n",
            "Q 7516-4    T 7512  ☒ 6665 \n",
            "Q 8+432     T 440   ☒ 333  \n",
            "Q 2073-9952 T -7879 ☒ -3229\n",
            "Q 2184-2361 T -177  ☒ -319 \n",
            "Q 8201-3    T 8198  ☒ 8383 \n",
            "Q 5727+30   T 5757  ☒ 7773 \n",
            "Q 985-1     T 984   ☒ 888  \n",
            "Q 1089+59   T 1148  ☒ 9999 \n",
            "Q 7-5289    T -5282 ☒ -7739\n",
            "\n",
            "--------------------------------------------------\n",
            "Iteration 3\n",
            "\u001b[1m279/282\u001b[0m \u001b[32m━━━━━━━━━━━━━━━━━━━\u001b[0m\u001b[37m━\u001b[0m \u001b[1m0s\u001b[0m 6ms/step - accuracy: 0.4396 - loss: 1.5189\n",
            "Epoch 1: val_loss improved from 1.51819 to 1.46746, saving model to best_model.h5\n"
          ]
        },
        {
          "output_type": "stream",
          "name": "stderr",
          "text": [
            "WARNING:absl:You are saving your model as an HDF5 file via `model.save()` or `keras.saving.save_model(model)`. This file format is considered legacy. We recommend using instead the native Keras format, e.g. `model.save('my_model.keras')` or `keras.saving.save_model(model, 'my_model.keras')`. \n"
          ]
        },
        {
          "output_type": "stream",
          "name": "stdout",
          "text": [
            "\b\b\b\b\b\b\b\b\b\b\b\b\b\b\b\b\b\b\b\b\b\b\b\b\b\b\b\b\b\b\b\b\b\b\b\b\b\b\b\b\b\b\b\b\b\b\b\b\b\b\b\b\b\b\b\b\b\b\b\b\b\b\b\b\b\b\b\b\b\b\b\b\b\b\r\u001b[1m282/282\u001b[0m \u001b[32m━━━━━━━━━━━━━━━━━━━━\u001b[0m\u001b[37m\u001b[0m \u001b[1m2s\u001b[0m 8ms/step - accuracy: 0.4396 - loss: 1.5187 - val_accuracy: 0.4572 - val_loss: 1.4675\n",
            "Q 626-249   T 377   ☒ 226  \n",
            "Q 4616-0    T 4616  ☒ 6666 \n",
            "Q 45+45     T 90    ☒ 55   \n",
            "Q 2499-850  T 1649  ☒ -416 \n",
            "Q 30+824    T 854   ☒ 331  \n",
            "Q 227+319   T 546   ☒ 221  \n",
            "Q 2627-107  T 2520  ☒ 2266 \n",
            "Q 77-847    T -770  ☒ -766 \n",
            "Q 56-25     T 31    ☒ 21   \n",
            "Q 1-890     T -889  ☒ -999 \n",
            "\n",
            "--------------------------------------------------\n",
            "Iteration 4\n",
            "\u001b[1m278/282\u001b[0m \u001b[32m━━━━━━━━━━━━━━━━━━━\u001b[0m\u001b[37m━\u001b[0m \u001b[1m0s\u001b[0m 8ms/step - accuracy: 0.4555 - loss: 1.4657\n",
            "Epoch 1: val_loss improved from 1.46746 to 1.40703, saving model to best_model.h5\n"
          ]
        },
        {
          "output_type": "stream",
          "name": "stderr",
          "text": [
            "WARNING:absl:You are saving your model as an HDF5 file via `model.save()` or `keras.saving.save_model(model)`. This file format is considered legacy. We recommend using instead the native Keras format, e.g. `model.save('my_model.keras')` or `keras.saving.save_model(model, 'my_model.keras')`. \n"
          ]
        },
        {
          "output_type": "stream",
          "name": "stdout",
          "text": [
            "\b\b\b\b\b\b\b\b\b\b\b\b\b\b\b\b\b\b\b\b\b\b\b\b\b\b\b\b\b\b\b\b\b\b\b\b\b\b\b\b\b\b\b\b\b\b\b\b\b\b\b\b\b\b\b\b\b\b\b\b\b\b\b\b\b\b\b\b\b\b\b\b\b\b\r\u001b[1m282/282\u001b[0m \u001b[32m━━━━━━━━━━━━━━━━━━━━\u001b[0m\u001b[37m\u001b[0m \u001b[1m2s\u001b[0m 8ms/step - accuracy: 0.4556 - loss: 1.4654 - val_accuracy: 0.4795 - val_loss: 1.4070\n",
            "Q 74+94     T 168   ☒ 148  \n",
            "Q 77+5183   T 5260  ☒ 7782 \n",
            "Q 5546+885  T 6431  ☒ 5592 \n",
            "Q 320+561   T 881   ☒ 322  \n",
            "Q 78+12     T 90    ☒ 72   \n",
            "Q 4756+39   T 4795  ☒ 5328 \n",
            "Q 476+8     T 484   ☒ 778  \n",
            "Q 13+34     T 47    ☒ 33   \n",
            "Q 281-499   T -218  ☒ -15  \n",
            "Q 9+1120    T 1129  ☒ 1222 \n",
            "\n",
            "--------------------------------------------------\n",
            "Iteration 5\n",
            "\u001b[1m282/282\u001b[0m \u001b[32m━━━━━━━━━━━━━━━━━━━━\u001b[0m\u001b[37m\u001b[0m \u001b[1m0s\u001b[0m 6ms/step - accuracy: 0.4799 - loss: 1.4008\n",
            "Epoch 1: val_loss improved from 1.40703 to 1.34149, saving model to best_model.h5\n"
          ]
        },
        {
          "output_type": "stream",
          "name": "stderr",
          "text": [
            "WARNING:absl:You are saving your model as an HDF5 file via `model.save()` or `keras.saving.save_model(model)`. This file format is considered legacy. We recommend using instead the native Keras format, e.g. `model.save('my_model.keras')` or `keras.saving.save_model(model, 'my_model.keras')`. \n"
          ]
        },
        {
          "output_type": "stream",
          "name": "stdout",
          "text": [
            "\b\b\b\b\b\b\b\b\b\b\b\b\b\b\b\b\b\b\b\b\b\b\b\b\b\b\b\b\b\b\b\b\b\b\b\b\b\b\b\b\b\b\b\b\b\b\b\b\b\b\b\b\b\b\b\b\b\b\b\b\b\b\b\b\b\b\b\b\b\b\b\b\b\b\r\u001b[1m282/282\u001b[0m \u001b[32m━━━━━━━━━━━━━━━━━━━━\u001b[0m\u001b[37m\u001b[0m \u001b[1m2s\u001b[0m 7ms/step - accuracy: 0.4799 - loss: 1.4007 - val_accuracy: 0.4995 - val_loss: 1.3415\n",
            "Q 51+35     T 86    ☒ 50   \n",
            "Q 424+5143  T 5567  ☒ 1039 \n",
            "Q 8050+6470 T 14520 ☒ 10533\n",
            "Q 9091-5232 T 3859  ☒ 930  \n",
            "Q 171-7346  T -7175 ☒ -7452\n",
            "Q 206-9     T 197   ☒ 103  \n",
            "Q 28-4      T 24    ☒ 37   \n",
            "Q 1+6918    T 6919  ☒ 6000 \n",
            "Q 360+1332  T 1692  ☒ 3337 \n",
            "Q 917-64    T 853   ☒ 903  \n",
            "\n",
            "--------------------------------------------------\n",
            "Iteration 6\n",
            "\u001b[1m275/282\u001b[0m \u001b[32m━━━━━━━━━━━━━━━━━━━\u001b[0m\u001b[37m━\u001b[0m \u001b[1m0s\u001b[0m 6ms/step - accuracy: 0.5030 - loss: 1.3379\n",
            "Epoch 1: val_loss improved from 1.34149 to 1.27785, saving model to best_model.h5\n"
          ]
        },
        {
          "output_type": "stream",
          "name": "stderr",
          "text": [
            "WARNING:absl:You are saving your model as an HDF5 file via `model.save()` or `keras.saving.save_model(model)`. This file format is considered legacy. We recommend using instead the native Keras format, e.g. `model.save('my_model.keras')` or `keras.saving.save_model(model, 'my_model.keras')`. \n"
          ]
        },
        {
          "output_type": "stream",
          "name": "stdout",
          "text": [
            "\b\b\b\b\b\b\b\b\b\b\b\b\b\b\b\b\b\b\b\b\b\b\b\b\b\b\b\b\b\b\b\b\b\b\b\b\b\b\b\b\b\b\b\b\b\b\b\b\b\b\b\b\b\b\b\b\b\b\b\b\b\b\b\b\b\b\b\b\b\b\b\b\b\b\r\u001b[1m282/282\u001b[0m \u001b[32m━━━━━━━━━━━━━━━━━━━━\u001b[0m\u001b[37m\u001b[0m \u001b[1m2s\u001b[0m 7ms/step - accuracy: 0.5032 - loss: 1.3374 - val_accuracy: 0.5265 - val_loss: 1.2779\n",
            "Q 8+7310    T 7318  ☒ 7335 \n",
            "Q 3330-661  T 2669  ☒ 3651 \n",
            "Q 974+295   T 1269  ☒ 1453 \n",
            "Q 69-7409   T -7340 ☒ -7005\n",
            "Q 511+8     T 519   ☒ 552  \n",
            "Q 59-26     T 33    ☒ 21   \n",
            "Q 923+5004  T 5927  ☒ 1033 \n",
            "Q 171-7346  T -7175 ☒ -7555\n",
            "Q 8355+6    T 8361  ☒ 8451 \n",
            "Q 6293+131  T 6424  ☒ 6281 \n",
            "\n",
            "--------------------------------------------------\n",
            "Iteration 7\n",
            "\u001b[1m282/282\u001b[0m \u001b[32m━━━━━━━━━━━━━━━━━━━━\u001b[0m\u001b[37m\u001b[0m \u001b[1m0s\u001b[0m 6ms/step - accuracy: 0.5295 - loss: 1.2726\n",
            "Epoch 1: val_loss improved from 1.27785 to 1.22154, saving model to best_model.h5\n"
          ]
        },
        {
          "output_type": "stream",
          "name": "stderr",
          "text": [
            "WARNING:absl:You are saving your model as an HDF5 file via `model.save()` or `keras.saving.save_model(model)`. This file format is considered legacy. We recommend using instead the native Keras format, e.g. `model.save('my_model.keras')` or `keras.saving.save_model(model, 'my_model.keras')`. \n"
          ]
        },
        {
          "output_type": "stream",
          "name": "stdout",
          "text": [
            "\b\b\b\b\b\b\b\b\b\b\b\b\b\b\b\b\b\b\b\b\b\b\b\b\b\b\b\b\b\b\b\b\b\b\b\b\b\b\b\b\b\b\b\b\b\b\b\b\b\b\b\b\b\b\b\b\b\b\b\b\b\b\b\b\b\b\b\b\b\b\b\b\b\b\r\u001b[1m282/282\u001b[0m \u001b[32m━━━━━━━━━━━━━━━━━━━━\u001b[0m\u001b[37m\u001b[0m \u001b[1m2s\u001b[0m 7ms/step - accuracy: 0.5295 - loss: 1.2725 - val_accuracy: 0.5437 - val_loss: 1.2215\n",
            "Q 940+380   T 1320  ☒ 1004 \n",
            "Q 3201+640  T 3841  ☒ 3055 \n",
            "Q 8678-77   T 8601  ☒ 8555 \n",
            "Q 52+549    T 601   ☒ 500  \n",
            "Q 586+457   T 1043  ☒ 1104 \n",
            "Q 1353+42   T 1395  ☒ 1554 \n",
            "Q 6001-21   T 5980  ☒ 6085 \n",
            "Q 9327+195  T 9522  ☒ 9305 \n",
            "Q 676-9135  T -8459 ☒ -6355\n",
            "Q 485+760   T 1245  ☒ 1004 \n",
            "\n",
            "--------------------------------------------------\n",
            "Iteration 8\n",
            "\u001b[1m278/282\u001b[0m \u001b[32m━━━━━━━━━━━━━━━━━━━\u001b[0m\u001b[37m━\u001b[0m \u001b[1m0s\u001b[0m 11ms/step - accuracy: 0.5502 - loss: 1.2108\n",
            "Epoch 1: val_loss improved from 1.22154 to 1.17168, saving model to best_model.h5\n"
          ]
        },
        {
          "output_type": "stream",
          "name": "stderr",
          "text": [
            "WARNING:absl:You are saving your model as an HDF5 file via `model.save()` or `keras.saving.save_model(model)`. This file format is considered legacy. We recommend using instead the native Keras format, e.g. `model.save('my_model.keras')` or `keras.saving.save_model(model, 'my_model.keras')`. \n"
          ]
        },
        {
          "output_type": "stream",
          "name": "stdout",
          "text": [
            "\b\b\b\b\b\b\b\b\b\b\b\b\b\b\b\b\b\b\b\b\b\b\b\b\b\b\b\b\b\b\b\b\b\b\b\b\b\b\b\b\b\b\b\b\b\b\b\b\b\b\b\b\b\b\b\b\b\b\b\b\b\b\b\b\b\b\b\b\b\b\b\b\b\b\b\r\u001b[1m282/282\u001b[0m \u001b[32m━━━━━━━━━━━━━━━━━━━━\u001b[0m\u001b[37m\u001b[0m \u001b[1m4s\u001b[0m 12ms/step - accuracy: 0.5503 - loss: 1.2106 - val_accuracy: 0.5626 - val_loss: 1.1717\n",
            "Q 732+6     T 738   ☒ 734  \n",
            "Q 700+93    T 793   ☒ 809  \n",
            "Q 8724+5    T 8729  ☒ 8720 \n",
            "Q 9+3529    T 3538  ☒ 3569 \n",
            "Q 3688-666  T 3022  ☒ 259  \n",
            "Q 9813-307  T 9506  ☒ 8000 \n",
            "Q 58+38     T 96    ☒ 11   \n",
            "Q 3940+72   T 4012  ☒ 3999 \n",
            "Q 95+531    T 626   ☒ 519  \n",
            "Q 867+7281  T 8148  ☒ 1410 \n",
            "\n",
            "--------------------------------------------------\n",
            "Iteration 9\n",
            "\u001b[1m280/282\u001b[0m \u001b[32m━━━━━━━━━━━━━━━━━━━\u001b[0m\u001b[37m━\u001b[0m \u001b[1m0s\u001b[0m 6ms/step - accuracy: 0.5687 - loss: 1.1583\n",
            "Epoch 1: val_loss improved from 1.17168 to 1.12789, saving model to best_model.h5\n"
          ]
        },
        {
          "output_type": "stream",
          "name": "stderr",
          "text": [
            "WARNING:absl:You are saving your model as an HDF5 file via `model.save()` or `keras.saving.save_model(model)`. This file format is considered legacy. We recommend using instead the native Keras format, e.g. `model.save('my_model.keras')` or `keras.saving.save_model(model, 'my_model.keras')`. \n"
          ]
        },
        {
          "output_type": "stream",
          "name": "stdout",
          "text": [
            "\b\b\b\b\b\b\b\b\b\b\b\b\b\b\b\b\b\b\b\b\b\b\b\b\b\b\b\b\b\b\b\b\b\b\b\b\b\b\b\b\b\b\b\b\b\b\b\b\b\b\b\b\b\b\b\b\b\b\b\b\b\b\b\b\b\b\b\b\b\b\b\b\b\b\r\u001b[1m282/282\u001b[0m \u001b[32m━━━━━━━━━━━━━━━━━━━━\u001b[0m\u001b[37m\u001b[0m \u001b[1m2s\u001b[0m 7ms/step - accuracy: 0.5687 - loss: 1.1582 - val_accuracy: 0.5759 - val_loss: 1.1279\n",
            "Q 149+3     T 152   ☒ 147  \n",
            "Q 4-7641    T -7637 ☒ -7614\n",
            "Q 92+23     T 115   ☒ 127  \n",
            "Q 79+5251   T 5330  ☒ 5222 \n",
            "Q 84+4      T 88    ☒ 96   \n",
            "Q 1320-4    T 1316  ☒ 1112 \n",
            "Q 602+858   T 1460  ☒ 1519 \n",
            "Q 6756-58   T 6698  ☒ 6685 \n",
            "Q 408-63    T 345   ☒ 352  \n",
            "Q 8-7330    T -7322 ☒ -7319\n",
            "\n",
            "--------------------------------------------------\n",
            "Iteration 10\n",
            "\u001b[1m279/282\u001b[0m \u001b[32m━━━━━━━━━━━━━━━━━━━\u001b[0m\u001b[37m━\u001b[0m \u001b[1m0s\u001b[0m 6ms/step - accuracy: 0.5807 - loss: 1.1229\n",
            "Epoch 1: val_loss improved from 1.12789 to 1.08987, saving model to best_model.h5\n"
          ]
        },
        {
          "output_type": "stream",
          "name": "stderr",
          "text": [
            "WARNING:absl:You are saving your model as an HDF5 file via `model.save()` or `keras.saving.save_model(model)`. This file format is considered legacy. We recommend using instead the native Keras format, e.g. `model.save('my_model.keras')` or `keras.saving.save_model(model, 'my_model.keras')`. \n"
          ]
        },
        {
          "output_type": "stream",
          "name": "stdout",
          "text": [
            "\b\b\b\b\b\b\b\b\b\b\b\b\b\b\b\b\b\b\b\b\b\b\b\b\b\b\b\b\b\b\b\b\b\b\b\b\b\b\b\b\b\b\b\b\b\b\b\b\b\b\b\b\b\b\b\b\b\b\b\b\b\b\b\b\b\b\b\b\b\b\b\b\b\b\r\u001b[1m282/282\u001b[0m \u001b[32m━━━━━━━━━━━━━━━━━━━━\u001b[0m\u001b[37m\u001b[0m \u001b[1m2s\u001b[0m 7ms/step - accuracy: 0.5808 - loss: 1.1228 - val_accuracy: 0.5913 - val_loss: 1.0899\n",
            "Q 5530+0    T 5530  ☒ 5459 \n",
            "Q 233+18    T 251   ☒ 239  \n",
            "Q 4647-34   T 4613  ☒ 4643 \n",
            "Q 500-9293  T -8793 ☒ -8900\n",
            "Q 145+179   T 324   ☒ 249  \n",
            "Q 8295-3    T 8292  ☒ 8299 \n",
            "Q 45+34     T 79    ☒ 92   \n",
            "Q 55-2669   T -2614 ☒ -2581\n",
            "Q 8+240     T 248   ☒ 249  \n",
            "Q 48+448    T 496   ☒ 450  \n",
            "\n",
            "--------------------------------------------------\n",
            "Iteration 11\n",
            "\u001b[1m282/282\u001b[0m \u001b[32m━━━━━━━━━━━━━━━━━━━━\u001b[0m\u001b[37m\u001b[0m \u001b[1m0s\u001b[0m 8ms/step - accuracy: 0.5945 - loss: 1.0879\n",
            "Epoch 1: val_loss improved from 1.08987 to 1.07116, saving model to best_model.h5\n"
          ]
        },
        {
          "output_type": "stream",
          "name": "stderr",
          "text": [
            "WARNING:absl:You are saving your model as an HDF5 file via `model.save()` or `keras.saving.save_model(model)`. This file format is considered legacy. We recommend using instead the native Keras format, e.g. `model.save('my_model.keras')` or `keras.saving.save_model(model, 'my_model.keras')`. \n"
          ]
        },
        {
          "output_type": "stream",
          "name": "stdout",
          "text": [
            "\b\b\b\b\b\b\b\b\b\b\b\b\b\b\b\b\b\b\b\b\b\b\b\b\b\b\b\b\b\b\b\b\b\b\b\b\b\b\b\b\b\b\b\b\b\b\b\b\b\b\b\b\b\b\b\b\b\b\b\b\b\b\b\b\b\b\b\b\b\b\b\b\b\b\r\u001b[1m282/282\u001b[0m \u001b[32m━━━━━━━━━━━━━━━━━━━━\u001b[0m\u001b[37m\u001b[0m \u001b[1m3s\u001b[0m 9ms/step - accuracy: 0.5945 - loss: 1.0879 - val_accuracy: 0.5952 - val_loss: 1.0712\n",
            "Q 792-23    T 769   ☒ 793  \n",
            "Q 5394-5253 T 141   ☒ -11  \n",
            "Q 94+72     T 166   ☒ 171  \n",
            "Q 22-95     T -73   ☒ -55  \n",
            "Q 383-2459  T -2076 ☒ -2955\n",
            "Q 653-74    T 579   ☒ 685  \n",
            "Q 702+8527  T 9229  ☒ 8533 \n",
            "Q 12-303    T -291  ☒ -309 \n",
            "Q 3133+5056 T 8189  ☒ 1055 \n",
            "Q 3-326     T -323  ☒ -325 \n",
            "\n",
            "--------------------------------------------------\n",
            "Iteration 12\n",
            "\u001b[1m275/282\u001b[0m \u001b[32m━━━━━━━━━━━━━━━━━━━\u001b[0m\u001b[37m━\u001b[0m \u001b[1m0s\u001b[0m 6ms/step - accuracy: 0.6045 - loss: 1.0544\n",
            "Epoch 1: val_loss improved from 1.07116 to 1.03376, saving model to best_model.h5\n"
          ]
        },
        {
          "output_type": "stream",
          "name": "stderr",
          "text": [
            "WARNING:absl:You are saving your model as an HDF5 file via `model.save()` or `keras.saving.save_model(model)`. This file format is considered legacy. We recommend using instead the native Keras format, e.g. `model.save('my_model.keras')` or `keras.saving.save_model(model, 'my_model.keras')`. \n"
          ]
        },
        {
          "output_type": "stream",
          "name": "stdout",
          "text": [
            "\b\b\b\b\b\b\b\b\b\b\b\b\b\b\b\b\b\b\b\b\b\b\b\b\b\b\b\b\b\b\b\b\b\b\b\b\b\b\b\b\b\b\b\b\b\b\b\b\b\b\b\b\b\b\b\b\b\b\b\b\b\b\b\b\b\b\b\b\b\b\b\b\b\b\r\u001b[1m282/282\u001b[0m \u001b[32m━━━━━━━━━━━━━━━━━━━━\u001b[0m\u001b[37m\u001b[0m \u001b[1m2s\u001b[0m 7ms/step - accuracy: 0.6046 - loss: 1.0542 - val_accuracy: 0.6069 - val_loss: 1.0338\n",
            "Q 8355+200  T 8555  ☒ 8413 \n",
            "Q 1-9809    T -9808 ☒ -9916\n",
            "Q 128-17    T 111   ☒ 103  \n",
            "Q 9413+970  T 10383 ☒ 10272\n",
            "Q 88+929    T 1017  ☒ 901  \n",
            "Q 974+84    T 1058  ☒ 104  \n",
            "Q 93+3      T 96    ☒ 94   \n",
            "Q 84+957    T 1041  ☒ 1040 \n",
            "Q 43+49     T 92    ☒ 90   \n",
            "Q 6376-6    T 6370  ☒ 6367 \n",
            "\n",
            "--------------------------------------------------\n",
            "Iteration 13\n",
            "\u001b[1m278/282\u001b[0m \u001b[32m━━━━━━━━━━━━━━━━━━━\u001b[0m\u001b[37m━\u001b[0m \u001b[1m0s\u001b[0m 6ms/step - accuracy: 0.6156 - loss: 1.0269\n",
            "Epoch 1: val_loss improved from 1.03376 to 1.02158, saving model to best_model.h5\n"
          ]
        },
        {
          "output_type": "stream",
          "name": "stderr",
          "text": [
            "WARNING:absl:You are saving your model as an HDF5 file via `model.save()` or `keras.saving.save_model(model)`. This file format is considered legacy. We recommend using instead the native Keras format, e.g. `model.save('my_model.keras')` or `keras.saving.save_model(model, 'my_model.keras')`. \n"
          ]
        },
        {
          "output_type": "stream",
          "name": "stdout",
          "text": [
            "\b\b\b\b\b\b\b\b\b\b\b\b\b\b\b\b\b\b\b\b\b\b\b\b\b\b\b\b\b\b\b\b\b\b\b\b\b\b\b\b\b\b\b\b\b\b\b\b\b\b\b\b\b\b\b\b\b\b\b\b\b\b\b\b\b\b\b\b\b\b\b\b\b\b\r\u001b[1m282/282\u001b[0m \u001b[32m━━━━━━━━━━━━━━━━━━━━\u001b[0m\u001b[37m\u001b[0m \u001b[1m2s\u001b[0m 7ms/step - accuracy: 0.6156 - loss: 1.0268 - val_accuracy: 0.6136 - val_loss: 1.0216\n",
            "Q 73-0      T 73    ☒ 61   \n",
            "Q 7880-178  T 7702  ☒ 7869 \n",
            "Q 7-2637    T -2630 ☒ -2628\n",
            "Q 643-8     T 635   ☒ 636  \n",
            "Q 4264+6505 T 10769 ☒ 11166\n",
            "Q 5339-5    T 5334  ☒ 5327 \n",
            "Q 9-3813    T -3804 ☒ -3827\n",
            "Q 8919+560  T 9479  ☒ 9066 \n",
            "Q 7-4535    T -4528 ☒ -4447\n",
            "Q 3-870     T -867  ☒ -876 \n",
            "\n",
            "--------------------------------------------------\n",
            "Iteration 14\n",
            "\u001b[1m278/282\u001b[0m \u001b[32m━━━━━━━━━━━━━━━━━━━\u001b[0m\u001b[37m━\u001b[0m \u001b[1m0s\u001b[0m 7ms/step - accuracy: 0.6242 - loss: 1.0057\n",
            "Epoch 1: val_loss improved from 1.02158 to 1.00053, saving model to best_model.h5\n"
          ]
        },
        {
          "output_type": "stream",
          "name": "stderr",
          "text": [
            "WARNING:absl:You are saving your model as an HDF5 file via `model.save()` or `keras.saving.save_model(model)`. This file format is considered legacy. We recommend using instead the native Keras format, e.g. `model.save('my_model.keras')` or `keras.saving.save_model(model, 'my_model.keras')`. \n"
          ]
        },
        {
          "output_type": "stream",
          "name": "stdout",
          "text": [
            "\b\b\b\b\b\b\b\b\b\b\b\b\b\b\b\b\b\b\b\b\b\b\b\b\b\b\b\b\b\b\b\b\b\b\b\b\b\b\b\b\b\b\b\b\b\b\b\b\b\b\b\b\b\b\b\b\b\b\b\b\b\b\b\b\b\b\b\b\b\b\b\b\b\b\r\u001b[1m282/282\u001b[0m \u001b[32m━━━━━━━━━━━━━━━━━━━━\u001b[0m\u001b[37m\u001b[0m \u001b[1m2s\u001b[0m 8ms/step - accuracy: 0.6242 - loss: 1.0056 - val_accuracy: 0.6229 - val_loss: 1.0005\n",
            "Q 71-58     T 13    ☒ 1    \n",
            "Q 0-2923    T -2923 ☒ -2929\n",
            "Q 648-230   T 418   ☒ 266  \n",
            "Q 2184-2361 T -177  ☒ 116  \n",
            "Q 48+211    T 259   ☑ 259  \n",
            "Q 3998-9666 T -5668 ☒ -5995\n",
            "Q 9010-293  T 8717  ☒ 8999 \n",
            "Q 372-995   T -623  ☒ -456 \n",
            "Q 3403-51   T 3352  ☒ 3177 \n",
            "Q 9064+5915 T 14979 ☒ 13433\n",
            "\n",
            "--------------------------------------------------\n",
            "Iteration 15\n",
            "\u001b[1m276/282\u001b[0m \u001b[32m━━━━━━━━━━━━━━━━━━━\u001b[0m\u001b[37m━\u001b[0m \u001b[1m0s\u001b[0m 9ms/step - accuracy: 0.6326 - loss: 0.9830\n",
            "Epoch 1: val_loss improved from 1.00053 to 0.97836, saving model to best_model.h5\n"
          ]
        },
        {
          "output_type": "stream",
          "name": "stderr",
          "text": [
            "WARNING:absl:You are saving your model as an HDF5 file via `model.save()` or `keras.saving.save_model(model)`. This file format is considered legacy. We recommend using instead the native Keras format, e.g. `model.save('my_model.keras')` or `keras.saving.save_model(model, 'my_model.keras')`. \n"
          ]
        },
        {
          "output_type": "stream",
          "name": "stdout",
          "text": [
            "\b\b\b\b\b\b\b\b\b\b\b\b\b\b\b\b\b\b\b\b\b\b\b\b\b\b\b\b\b\b\b\b\b\b\b\b\b\b\b\b\b\b\b\b\b\b\b\b\b\b\b\b\b\b\b\b\b\b\b\b\b\b\b\b\b\b\b\b\b\b\b\b\b\b\r\u001b[1m282/282\u001b[0m \u001b[32m━━━━━━━━━━━━━━━━━━━━\u001b[0m\u001b[37m\u001b[0m \u001b[1m3s\u001b[0m 10ms/step - accuracy: 0.6327 - loss: 0.9828 - val_accuracy: 0.6297 - val_loss: 0.9784\n",
            "Q 8-245     T -237  ☒ -248 \n",
            "Q 640-700   T -60   ☒ -12  \n",
            "Q 6081-7    T 6074  ☒ 6085 \n",
            "Q 200+424   T 624   ☒ 755  \n",
            "Q 45+45     T 90    ☑ 90   \n",
            "Q 3039+3282 T 6321  ☒ 5555 \n",
            "Q 0-47      T -47   ☑ -47  \n",
            "Q 3952-6029 T -2077 ☒ -1565\n",
            "Q 7-8291    T -8284 ☒ -8276\n",
            "Q 9-20      T -11   ☑ -11  \n",
            "\n",
            "--------------------------------------------------\n",
            "Iteration 16\n",
            "\u001b[1m276/282\u001b[0m \u001b[32m━━━━━━━━━━━━━━━━━━━\u001b[0m\u001b[37m━\u001b[0m \u001b[1m0s\u001b[0m 6ms/step - accuracy: 0.6393 - loss: 0.9644\n",
            "Epoch 1: val_loss improved from 0.97836 to 0.95815, saving model to best_model.h5\n"
          ]
        },
        {
          "output_type": "stream",
          "name": "stderr",
          "text": [
            "WARNING:absl:You are saving your model as an HDF5 file via `model.save()` or `keras.saving.save_model(model)`. This file format is considered legacy. We recommend using instead the native Keras format, e.g. `model.save('my_model.keras')` or `keras.saving.save_model(model, 'my_model.keras')`. \n"
          ]
        },
        {
          "output_type": "stream",
          "name": "stdout",
          "text": [
            "\b\b\b\b\b\b\b\b\b\b\b\b\b\b\b\b\b\b\b\b\b\b\b\b\b\b\b\b\b\b\b\b\b\b\b\b\b\b\b\b\b\b\b\b\b\b\b\b\b\b\b\b\b\b\b\b\b\b\b\b\b\b\b\b\b\b\b\b\b\b\b\b\b\b\r\u001b[1m282/282\u001b[0m \u001b[32m━━━━━━━━━━━━━━━━━━━━\u001b[0m\u001b[37m\u001b[0m \u001b[1m2s\u001b[0m 7ms/step - accuracy: 0.6394 - loss: 0.9642 - val_accuracy: 0.6394 - val_loss: 0.9581\n",
            "Q 92-72     T 20    ☒ 13   \n",
            "Q 490+629   T 1119  ☒ 1174 \n",
            "Q 2-3321    T -3319 ☒ -3317\n",
            "Q 541+39    T 580   ☑ 580  \n",
            "Q 61-6008   T -5947 ☒ -5944\n",
            "Q 89-24     T 65    ☒ 70   \n",
            "Q 9-6839    T -6830 ☒ -6829\n",
            "Q 84+335    T 419   ☒ 429  \n",
            "Q 60-6015   T -5955 ☒ -6944\n",
            "Q 26-145    T -119  ☒ -121 \n",
            "\n",
            "--------------------------------------------------\n",
            "Iteration 17\n",
            "\u001b[1m281/282\u001b[0m \u001b[32m━━━━━━━━━━━━━━━━━━━\u001b[0m\u001b[37m━\u001b[0m \u001b[1m0s\u001b[0m 6ms/step - accuracy: 0.6521 - loss: 0.9340\n",
            "Epoch 1: val_loss improved from 0.95815 to 0.94180, saving model to best_model.h5\n"
          ]
        },
        {
          "output_type": "stream",
          "name": "stderr",
          "text": [
            "WARNING:absl:You are saving your model as an HDF5 file via `model.save()` or `keras.saving.save_model(model)`. This file format is considered legacy. We recommend using instead the native Keras format, e.g. `model.save('my_model.keras')` or `keras.saving.save_model(model, 'my_model.keras')`. \n"
          ]
        },
        {
          "output_type": "stream",
          "name": "stdout",
          "text": [
            "\b\b\b\b\b\b\b\b\b\b\b\b\b\b\b\b\b\b\b\b\b\b\b\b\b\b\b\b\b\b\b\b\b\b\b\b\b\b\b\b\b\b\b\b\b\b\b\b\b\b\b\b\b\b\b\b\b\b\b\b\b\b\b\b\b\b\b\b\b\b\b\b\b\b\r\u001b[1m282/282\u001b[0m \u001b[32m━━━━━━━━━━━━━━━━━━━━\u001b[0m\u001b[37m\u001b[0m \u001b[1m2s\u001b[0m 7ms/step - accuracy: 0.6521 - loss: 0.9340 - val_accuracy: 0.6434 - val_loss: 0.9418\n",
            "Q 4-63      T -59   ☒ -60  \n",
            "Q 32+5406   T 5438  ☒ 5499 \n",
            "Q 35+49     T 84    ☒ 88   \n",
            "Q 12+1789   T 1801  ☒ 1804 \n",
            "Q 8963+490  T 9453  ☒ 1406 \n",
            "Q 5+588     T 593   ☒ 592  \n",
            "Q 9122+4    T 9126  ☒ 9114 \n",
            "Q 80-9993   T -9913 ☒ -9992\n",
            "Q 131+4115  T 4246  ☒ 4484 \n",
            "Q 65+97     T 162   ☒ 154  \n",
            "\n",
            "--------------------------------------------------\n",
            "Iteration 18\n",
            "\u001b[1m282/282\u001b[0m \u001b[32m━━━━━━━━━━━━━━━━━━━━\u001b[0m\u001b[37m\u001b[0m \u001b[1m0s\u001b[0m 7ms/step - accuracy: 0.6571 - loss: 0.9163\n",
            "Epoch 1: val_loss improved from 0.94180 to 0.92372, saving model to best_model.h5\n"
          ]
        },
        {
          "output_type": "stream",
          "name": "stderr",
          "text": [
            "WARNING:absl:You are saving your model as an HDF5 file via `model.save()` or `keras.saving.save_model(model)`. This file format is considered legacy. We recommend using instead the native Keras format, e.g. `model.save('my_model.keras')` or `keras.saving.save_model(model, 'my_model.keras')`. \n"
          ]
        },
        {
          "output_type": "stream",
          "name": "stdout",
          "text": [
            "\b\b\b\b\b\b\b\b\b\b\b\b\b\b\b\b\b\b\b\b\b\b\b\b\b\b\b\b\b\b\b\b\b\b\b\b\b\b\b\b\b\b\b\b\b\b\b\b\b\b\b\b\b\b\b\b\b\b\b\b\b\b\b\b\b\b\b\b\b\b\b\b\b\b\r\u001b[1m282/282\u001b[0m \u001b[32m━━━━━━━━━━━━━━━━━━━━\u001b[0m\u001b[37m\u001b[0m \u001b[1m2s\u001b[0m 7ms/step - accuracy: 0.6571 - loss: 0.9163 - val_accuracy: 0.6520 - val_loss: 0.9237\n",
            "Q 958-2     T 956   ☒ 957  \n",
            "Q 3538+0    T 3538  ☑ 3538 \n",
            "Q 8963+490  T 9453  ☒ 9307 \n",
            "Q 676-75    T 601   ☒ 609  \n",
            "Q 19-8      T 11    ☒ 15   \n",
            "Q 572-4     T 568   ☒ 573  \n",
            "Q 425+2     T 427   ☒ 425  \n",
            "Q 4809-788  T 4021  ☒ 4119 \n",
            "Q 8+133     T 141   ☒ 139  \n",
            "Q 8-5478    T -5470 ☒ -5479\n",
            "\n",
            "--------------------------------------------------\n",
            "Iteration 19\n",
            "\u001b[1m281/282\u001b[0m \u001b[32m━━━━━━━━━━━━━━━━━━━\u001b[0m\u001b[37m━\u001b[0m \u001b[1m0s\u001b[0m 10ms/step - accuracy: 0.6648 - loss: 0.8993\n",
            "Epoch 1: val_loss improved from 0.92372 to 0.91702, saving model to best_model.h5\n"
          ]
        },
        {
          "output_type": "stream",
          "name": "stderr",
          "text": [
            "WARNING:absl:You are saving your model as an HDF5 file via `model.save()` or `keras.saving.save_model(model)`. This file format is considered legacy. We recommend using instead the native Keras format, e.g. `model.save('my_model.keras')` or `keras.saving.save_model(model, 'my_model.keras')`. \n"
          ]
        },
        {
          "output_type": "stream",
          "name": "stdout",
          "text": [
            "\b\b\b\b\b\b\b\b\b\b\b\b\b\b\b\b\b\b\b\b\b\b\b\b\b\b\b\b\b\b\b\b\b\b\b\b\b\b\b\b\b\b\b\b\b\b\b\b\b\b\b\b\b\b\b\b\b\b\b\b\b\b\b\b\b\b\b\b\b\b\b\b\b\b\b\r\u001b[1m282/282\u001b[0m \u001b[32m━━━━━━━━━━━━━━━━━━━━\u001b[0m\u001b[37m\u001b[0m \u001b[1m3s\u001b[0m 11ms/step - accuracy: 0.6648 - loss: 0.8994 - val_accuracy: 0.6532 - val_loss: 0.9170\n",
            "Q 46+9461   T 9507  ☒ 9472 \n",
            "Q 4811-6875 T -2064 ☒ -144 \n",
            "Q 766-0     T 766   ☑ 766  \n",
            "Q 229-4     T 225   ☒ 228  \n",
            "Q 92+700    T 792   ☒ 807  \n",
            "Q 8125+501  T 8626  ☒ 8622 \n",
            "Q 779+816   T 1595  ☒ 151  \n",
            "Q 933+10    T 943   ☒ 938  \n",
            "Q 1069+286  T 1355  ☒ 1357 \n",
            "Q 3+95      T 98    ☒ 90   \n",
            "\n",
            "--------------------------------------------------\n",
            "Iteration 20\n",
            "\u001b[1m275/282\u001b[0m \u001b[32m━━━━━━━━━━━━━━━━━━━\u001b[0m\u001b[37m━\u001b[0m \u001b[1m0s\u001b[0m 6ms/step - accuracy: 0.6724 - loss: 0.8795\n",
            "Epoch 1: val_loss improved from 0.91702 to 0.89854, saving model to best_model.h5\n"
          ]
        },
        {
          "output_type": "stream",
          "name": "stderr",
          "text": [
            "WARNING:absl:You are saving your model as an HDF5 file via `model.save()` or `keras.saving.save_model(model)`. This file format is considered legacy. We recommend using instead the native Keras format, e.g. `model.save('my_model.keras')` or `keras.saving.save_model(model, 'my_model.keras')`. \n"
          ]
        },
        {
          "output_type": "stream",
          "name": "stdout",
          "text": [
            "\b\b\b\b\b\b\b\b\b\b\b\b\b\b\b\b\b\b\b\b\b\b\b\b\b\b\b\b\b\b\b\b\b\b\b\b\b\b\b\b\b\b\b\b\b\b\b\b\b\b\b\b\b\b\b\b\b\b\b\b\b\b\b\b\b\b\b\b\b\b\b\b\b\b\r\u001b[1m282/282\u001b[0m \u001b[32m━━━━━━━━━━━━━━━━━━━━\u001b[0m\u001b[37m\u001b[0m \u001b[1m2s\u001b[0m 7ms/step - accuracy: 0.6723 - loss: 0.8795 - val_accuracy: 0.6585 - val_loss: 0.8985\n",
            "Q 659-49    T 610   ☒ 541  \n",
            "Q 0-2966    T -2966 ☑ -2966\n",
            "Q 6756-58   T 6698  ☒ 6500 \n",
            "Q 125+896   T 1021  ☒ 1016 \n",
            "Q 228+697   T 925   ☒ 906  \n",
            "Q 6054+320  T 6374  ☒ 6447 \n",
            "Q 64-30     T 34    ☒ 45   \n",
            "Q 2+5693    T 5695  ☒ 5694 \n",
            "Q 812-8420  T -7608 ☒ -7436\n",
            "Q 8963+490  T 9453  ☒ 9307 \n",
            "\n",
            "--------------------------------------------------\n",
            "Iteration 21\n",
            "\u001b[1m276/282\u001b[0m \u001b[32m━━━━━━━━━━━━━━━━━━━\u001b[0m\u001b[37m━\u001b[0m \u001b[1m0s\u001b[0m 6ms/step - accuracy: 0.6778 - loss: 0.8660\n",
            "Epoch 1: val_loss did not improve from 0.89854\n",
            "\u001b[1m282/282\u001b[0m \u001b[32m━━━━━━━━━━━━━━━━━━━━\u001b[0m\u001b[37m\u001b[0m \u001b[1m2s\u001b[0m 7ms/step - accuracy: 0.6778 - loss: 0.8660 - val_accuracy: 0.6588 - val_loss: 0.9046\n",
            "Q 9992-0    T 9992  ☒ 9991 \n",
            "Q 1+6882    T 6883  ☒ 6892 \n",
            "Q 9+1120    T 1129  ☑ 1129 \n",
            "Q 57-33     T 24    ☑ 24   \n",
            "Q 34-6      T 28    ☑ 28   \n",
            "Q 7-5289    T -5282 ☑ -5282\n",
            "Q 289-9087  T -8798 ☒ -8922\n",
            "Q 599-210   T 389   ☒ 262  \n",
            "Q 923+5004  T 5927  ☒ 5020 \n",
            "Q 244-598   T -354  ☒ -343 \n",
            "\n",
            "--------------------------------------------------\n",
            "Iteration 22\n",
            "\u001b[1m277/282\u001b[0m \u001b[32m━━━━━━━━━━━━━━━━━━━\u001b[0m\u001b[37m━\u001b[0m \u001b[1m0s\u001b[0m 8ms/step - accuracy: 0.6834 - loss: 0.8538\n",
            "Epoch 1: val_loss improved from 0.89854 to 0.87622, saving model to best_model.h5\n"
          ]
        },
        {
          "output_type": "stream",
          "name": "stderr",
          "text": [
            "WARNING:absl:You are saving your model as an HDF5 file via `model.save()` or `keras.saving.save_model(model)`. This file format is considered legacy. We recommend using instead the native Keras format, e.g. `model.save('my_model.keras')` or `keras.saving.save_model(model, 'my_model.keras')`. \n"
          ]
        },
        {
          "output_type": "stream",
          "name": "stdout",
          "text": [
            "\b\b\b\b\b\b\b\b\b\b\b\b\b\b\b\b\b\b\b\b\b\b\b\b\b\b\b\b\b\b\b\b\b\b\b\b\b\b\b\b\b\b\b\b\b\b\b\b\b\b\b\b\b\b\b\b\b\b\b\b\b\b\b\b\b\b\b\b\b\b\b\b\b\b\r\u001b[1m282/282\u001b[0m \u001b[32m━━━━━━━━━━━━━━━━━━━━\u001b[0m\u001b[37m\u001b[0m \u001b[1m3s\u001b[0m 10ms/step - accuracy: 0.6834 - loss: 0.8538 - val_accuracy: 0.6635 - val_loss: 0.8762\n",
            "Q 115+2     T 117   ☒ 115  \n",
            "Q 258-705   T -447  ☒ -457 \n",
            "Q 9-6839    T -6830 ☒ -6827\n",
            "Q 9921-81   T 9840  ☒ 9853 \n",
            "Q 91+53     T 144   ☒ 148  \n",
            "Q 0-389     T -389  ☒ -387 \n",
            "Q 2353-8270 T -5917 ☒ -6530\n",
            "Q 862-7077  T -6215 ☒ -6575\n",
            "Q 2-88      T -86   ☒ -87  \n",
            "Q 819-9     T 810   ☒ 809  \n",
            "\n",
            "--------------------------------------------------\n",
            "Iteration 23\n",
            "\u001b[1m275/282\u001b[0m \u001b[32m━━━━━━━━━━━━━━━━━━━\u001b[0m\u001b[37m━\u001b[0m \u001b[1m0s\u001b[0m 7ms/step - accuracy: 0.6879 - loss: 0.8382\n",
            "Epoch 1: val_loss improved from 0.87622 to 0.86179, saving model to best_model.h5\n"
          ]
        },
        {
          "output_type": "stream",
          "name": "stderr",
          "text": [
            "WARNING:absl:You are saving your model as an HDF5 file via `model.save()` or `keras.saving.save_model(model)`. This file format is considered legacy. We recommend using instead the native Keras format, e.g. `model.save('my_model.keras')` or `keras.saving.save_model(model, 'my_model.keras')`. \n"
          ]
        },
        {
          "output_type": "stream",
          "name": "stdout",
          "text": [
            "\b\b\b\b\b\b\b\b\b\b\b\b\b\b\b\b\b\b\b\b\b\b\b\b\b\b\b\b\b\b\b\b\b\b\b\b\b\b\b\b\b\b\b\b\b\b\b\b\b\b\b\b\b\b\b\b\b\b\b\b\b\b\b\b\b\b\b\b\b\b\b\b\b\b\r\u001b[1m282/282\u001b[0m \u001b[32m━━━━━━━━━━━━━━━━━━━━\u001b[0m\u001b[37m\u001b[0m \u001b[1m2s\u001b[0m 7ms/step - accuracy: 0.6879 - loss: 0.8382 - val_accuracy: 0.6709 - val_loss: 0.8618\n",
            "Q 28-903    T -875  ☒ -892 \n",
            "Q 1838+3146 T 4984  ☒ 4045 \n",
            "Q 77+5183   T 5260  ☒ 5225 \n",
            "Q 586-786   T -200  ☑ -200 \n",
            "Q 749+39    T 788   ☒ 783  \n",
            "Q 9+1120    T 1129  ☒ 1120 \n",
            "Q 3+587     T 590   ☒ 582  \n",
            "Q 7388+8    T 7396  ☒ 7389 \n",
            "Q 7893-204  T 7689  ☒ 7733 \n",
            "Q 984-604   T 380   ☒ 362  \n",
            "\n",
            "--------------------------------------------------\n",
            "Iteration 24\n",
            "\u001b[1m278/282\u001b[0m \u001b[32m━━━━━━━━━━━━━━━━━━━\u001b[0m\u001b[37m━\u001b[0m \u001b[1m0s\u001b[0m 6ms/step - accuracy: 0.6919 - loss: 0.8245\n",
            "Epoch 1: val_loss improved from 0.86179 to 0.85826, saving model to best_model.h5\n"
          ]
        },
        {
          "output_type": "stream",
          "name": "stderr",
          "text": [
            "WARNING:absl:You are saving your model as an HDF5 file via `model.save()` or `keras.saving.save_model(model)`. This file format is considered legacy. We recommend using instead the native Keras format, e.g. `model.save('my_model.keras')` or `keras.saving.save_model(model, 'my_model.keras')`. \n"
          ]
        },
        {
          "output_type": "stream",
          "name": "stdout",
          "text": [
            "\b\b\b\b\b\b\b\b\b\b\b\b\b\b\b\b\b\b\b\b\b\b\b\b\b\b\b\b\b\b\b\b\b\b\b\b\b\b\b\b\b\b\b\b\b\b\b\b\b\b\b\b\b\b\b\b\b\b\b\b\b\b\b\b\b\b\b\b\b\b\b\b\b\b\r\u001b[1m282/282\u001b[0m \u001b[32m━━━━━━━━━━━━━━━━━━━━\u001b[0m\u001b[37m\u001b[0m \u001b[1m2s\u001b[0m 7ms/step - accuracy: 0.6919 - loss: 0.8245 - val_accuracy: 0.6713 - val_loss: 0.8583\n",
            "Q 4726+756  T 5482  ☒ 5240 \n",
            "Q 4890+1    T 4891  ☒ 4890 \n",
            "Q 7906-8    T 7898  ☒ 7910 \n",
            "Q 9672-76   T 9596  ☒ 9600 \n",
            "Q 921+3907  T 4828  ☒ 4755 \n",
            "Q 8+89      T 97    ☑ 97   \n",
            "Q 4-640     T -636  ☒ -639 \n",
            "Q 28-537    T -509  ☒ -523 \n",
            "Q 1-1940    T -1939 ☒ -1923\n",
            "Q 343+626   T 969   ☒ 909  \n",
            "\n",
            "--------------------------------------------------\n",
            "Iteration 25\n",
            "\u001b[1m282/282\u001b[0m \u001b[32m━━━━━━━━━━━━━━━━━━━━\u001b[0m\u001b[37m\u001b[0m \u001b[1m0s\u001b[0m 8ms/step - accuracy: 0.6975 - loss: 0.8152\n",
            "Epoch 1: val_loss improved from 0.85826 to 0.85294, saving model to best_model.h5\n"
          ]
        },
        {
          "output_type": "stream",
          "name": "stderr",
          "text": [
            "WARNING:absl:You are saving your model as an HDF5 file via `model.save()` or `keras.saving.save_model(model)`. This file format is considered legacy. We recommend using instead the native Keras format, e.g. `model.save('my_model.keras')` or `keras.saving.save_model(model, 'my_model.keras')`. \n"
          ]
        },
        {
          "output_type": "stream",
          "name": "stdout",
          "text": [
            "\b\b\b\b\b\b\b\b\b\b\b\b\b\b\b\b\b\b\b\b\b\b\b\b\b\b\b\b\b\b\b\b\b\b\b\b\b\b\b\b\b\b\b\b\b\b\b\b\b\b\b\b\b\b\b\b\b\b\b\b\b\b\b\b\b\b\b\b\b\b\b\b\b\b\r\u001b[1m282/282\u001b[0m \u001b[32m━━━━━━━━━━━━━━━━━━━━\u001b[0m\u001b[37m\u001b[0m \u001b[1m3s\u001b[0m 9ms/step - accuracy: 0.6975 - loss: 0.8152 - val_accuracy: 0.6770 - val_loss: 0.8529\n",
            "Q 7622+5909 T 13531 ☒ 13833\n",
            "Q 728-77    T 651   ☒ 663  \n",
            "Q 91+53     T 144   ☒ 148  \n",
            "Q 398-2300  T -1902 ☒ -1891\n",
            "Q 308+32    T 340   ☒ 359  \n",
            "Q 947+5     T 952   ☒ 951  \n",
            "Q 34+2      T 36    ☒ 37   \n",
            "Q 78-73     T 5     ☒ 1    \n",
            "Q 475-251   T 224   ☒ 232  \n",
            "Q 5727+30   T 5757  ☒ 5763 \n",
            "\n",
            "--------------------------------------------------\n",
            "Iteration 26\n",
            "\u001b[1m275/282\u001b[0m \u001b[32m━━━━━━━━━━━━━━━━━━━\u001b[0m\u001b[37m━\u001b[0m \u001b[1m0s\u001b[0m 6ms/step - accuracy: 0.7045 - loss: 0.7973\n",
            "Epoch 1: val_loss improved from 0.85294 to 0.83746, saving model to best_model.h5\n"
          ]
        },
        {
          "output_type": "stream",
          "name": "stderr",
          "text": [
            "WARNING:absl:You are saving your model as an HDF5 file via `model.save()` or `keras.saving.save_model(model)`. This file format is considered legacy. We recommend using instead the native Keras format, e.g. `model.save('my_model.keras')` or `keras.saving.save_model(model, 'my_model.keras')`. \n"
          ]
        },
        {
          "output_type": "stream",
          "name": "stdout",
          "text": [
            "\b\b\b\b\b\b\b\b\b\b\b\b\b\b\b\b\b\b\b\b\b\b\b\b\b\b\b\b\b\b\b\b\b\b\b\b\b\b\b\b\b\b\b\b\b\b\b\b\b\b\b\b\b\b\b\b\b\b\b\b\b\b\b\b\b\b\b\b\b\b\b\b\b\b\r\u001b[1m282/282\u001b[0m \u001b[32m━━━━━━━━━━━━━━━━━━━━\u001b[0m\u001b[37m\u001b[0m \u001b[1m2s\u001b[0m 7ms/step - accuracy: 0.7044 - loss: 0.7974 - val_accuracy: 0.6813 - val_loss: 0.8375\n",
            "Q 73+9048   T 9121  ☒ 9037 \n",
            "Q 7412-72   T 7340  ☒ 7347 \n",
            "Q 4790-67   T 4723  ☒ 4794 \n",
            "Q 92+16     T 108   ☒ 102  \n",
            "Q 96+173    T 269   ☒ 262  \n",
            "Q 46-33     T 13    ☒ 1    \n",
            "Q 6704+4    T 6708  ☒ 6712 \n",
            "Q 64-30     T 34    ☒ 27   \n",
            "Q 14+717    T 731   ☒ 734  \n",
            "Q 28+63     T 91    ☒ 90   \n",
            "\n",
            "--------------------------------------------------\n",
            "Iteration 27\n",
            "\u001b[1m276/282\u001b[0m \u001b[32m━━━━━━━━━━━━━━━━━━━\u001b[0m\u001b[37m━\u001b[0m \u001b[1m0s\u001b[0m 6ms/step - accuracy: 0.7117 - loss: 0.7823\n",
            "Epoch 1: val_loss improved from 0.83746 to 0.83437, saving model to best_model.h5\n"
          ]
        },
        {
          "output_type": "stream",
          "name": "stderr",
          "text": [
            "WARNING:absl:You are saving your model as an HDF5 file via `model.save()` or `keras.saving.save_model(model)`. This file format is considered legacy. We recommend using instead the native Keras format, e.g. `model.save('my_model.keras')` or `keras.saving.save_model(model, 'my_model.keras')`. \n"
          ]
        },
        {
          "output_type": "stream",
          "name": "stdout",
          "text": [
            "\b\b\b\b\b\b\b\b\b\b\b\b\b\b\b\b\b\b\b\b\b\b\b\b\b\b\b\b\b\b\b\b\b\b\b\b\b\b\b\b\b\b\b\b\b\b\b\b\b\b\b\b\b\b\b\b\b\b\b\b\b\b\b\b\b\b\b\b\b\b\b\b\b\b\r\u001b[1m282/282\u001b[0m \u001b[32m━━━━━━━━━━━━━━━━━━━━\u001b[0m\u001b[37m\u001b[0m \u001b[1m2s\u001b[0m 7ms/step - accuracy: 0.7116 - loss: 0.7824 - val_accuracy: 0.6818 - val_loss: 0.8344\n",
            "Q 7412-72   T 7340  ☑ 7340 \n",
            "Q 0-9224    T -9224 ☒ -9212\n",
            "Q 56-811    T -755  ☒ -743 \n",
            "Q 1+136     T 137   ☑ 137  \n",
            "Q 57-4934   T -4877 ☒ -4888\n",
            "Q 49-3      T 46    ☑ 46   \n",
            "Q 3694-5200 T -1506 ☒ -17  \n",
            "Q 846-20    T 826   ☒ 834  \n",
            "Q 5+3713    T 3718  ☒ 3723 \n",
            "Q 6598+9    T 6607  ☒ 6691 \n",
            "\n",
            "--------------------------------------------------\n",
            "Iteration 28\n",
            "\u001b[1m281/282\u001b[0m \u001b[32m━━━━━━━━━━━━━━━━━━━\u001b[0m\u001b[37m━\u001b[0m \u001b[1m0s\u001b[0m 6ms/step - accuracy: 0.7132 - loss: 0.7739\n",
            "Epoch 1: val_loss improved from 0.83437 to 0.82425, saving model to best_model.h5\n"
          ]
        },
        {
          "output_type": "stream",
          "name": "stderr",
          "text": [
            "WARNING:absl:You are saving your model as an HDF5 file via `model.save()` or `keras.saving.save_model(model)`. This file format is considered legacy. We recommend using instead the native Keras format, e.g. `model.save('my_model.keras')` or `keras.saving.save_model(model, 'my_model.keras')`. \n"
          ]
        },
        {
          "output_type": "stream",
          "name": "stdout",
          "text": [
            "\b\b\b\b\b\b\b\b\b\b\b\b\b\b\b\b\b\b\b\b\b\b\b\b\b\b\b\b\b\b\b\b\b\b\b\b\b\b\b\b\b\b\b\b\b\b\b\b\b\b\b\b\b\b\b\b\b\b\b\b\b\b\b\b\b\b\b\b\b\b\b\b\b\b\r\u001b[1m282/282\u001b[0m \u001b[32m━━━━━━━━━━━━━━━━━━━━\u001b[0m\u001b[37m\u001b[0m \u001b[1m2s\u001b[0m 8ms/step - accuracy: 0.7131 - loss: 0.7739 - val_accuracy: 0.6860 - val_loss: 0.8243\n",
            "Q 27+7012   T 7039  ☒ 7057 \n",
            "Q 526+4022  T 4548  ☒ 4869 \n",
            "Q 5366+383  T 5749  ☒ 5950 \n",
            "Q 752+3180  T 3932  ☒ 4980 \n",
            "Q 4+329     T 333   ☒ 334  \n",
            "Q 391+35    T 426   ☒ 429  \n",
            "Q 161+363   T 524   ☒ 505  \n",
            "Q 9898+9483 T 19381 ☒ 18876\n",
            "Q 0+623     T 623   ☑ 623  \n",
            "Q 6925+340  T 7265  ☒ 7006 \n",
            "\n",
            "--------------------------------------------------\n",
            "Iteration 29\n",
            "\u001b[1m279/282\u001b[0m \u001b[32m━━━━━━━━━━━━━━━━━━━\u001b[0m\u001b[37m━\u001b[0m \u001b[1m0s\u001b[0m 9ms/step - accuracy: 0.7165 - loss: 0.7639\n",
            "Epoch 1: val_loss improved from 0.82425 to 0.82263, saving model to best_model.h5\n"
          ]
        },
        {
          "output_type": "stream",
          "name": "stderr",
          "text": [
            "WARNING:absl:You are saving your model as an HDF5 file via `model.save()` or `keras.saving.save_model(model)`. This file format is considered legacy. We recommend using instead the native Keras format, e.g. `model.save('my_model.keras')` or `keras.saving.save_model(model, 'my_model.keras')`. \n"
          ]
        },
        {
          "output_type": "stream",
          "name": "stdout",
          "text": [
            "\b\b\b\b\b\b\b\b\b\b\b\b\b\b\b\b\b\b\b\b\b\b\b\b\b\b\b\b\b\b\b\b\b\b\b\b\b\b\b\b\b\b\b\b\b\b\b\b\b\b\b\b\b\b\b\b\b\b\b\b\b\b\b\b\b\b\b\b\b\b\b\b\b\b\r\u001b[1m282/282\u001b[0m \u001b[32m━━━━━━━━━━━━━━━━━━━━\u001b[0m\u001b[37m\u001b[0m \u001b[1m3s\u001b[0m 9ms/step - accuracy: 0.7165 - loss: 0.7639 - val_accuracy: 0.6878 - val_loss: 0.8226\n",
            "Q 71+481    T 552   ☒ 529  \n",
            "Q 4254+968  T 5222  ☒ 5201 \n",
            "Q 712+883   T 1595  ☒ 1692 \n",
            "Q 254+9     T 263   ☒ 261  \n",
            "Q 48-49     T -1    ☑ -1   \n",
            "Q 705+8227  T 8932  ☒ 8934 \n",
            "Q 6+6       T 12    ☑ 12   \n",
            "Q 685-2     T 683   ☒ 684  \n",
            "Q 464-811   T -347  ☒ -358 \n",
            "Q 44-89     T -45   ☒ -53  \n",
            "\n",
            "--------------------------------------------------\n",
            "Iteration 30\n",
            "\u001b[1m278/282\u001b[0m \u001b[32m━━━━━━━━━━━━━━━━━━━\u001b[0m\u001b[37m━\u001b[0m \u001b[1m0s\u001b[0m 7ms/step - accuracy: 0.7190 - loss: 0.7560\n",
            "Epoch 1: val_loss improved from 0.82263 to 0.80618, saving model to best_model.h5\n"
          ]
        },
        {
          "output_type": "stream",
          "name": "stderr",
          "text": [
            "WARNING:absl:You are saving your model as an HDF5 file via `model.save()` or `keras.saving.save_model(model)`. This file format is considered legacy. We recommend using instead the native Keras format, e.g. `model.save('my_model.keras')` or `keras.saving.save_model(model, 'my_model.keras')`. \n"
          ]
        },
        {
          "output_type": "stream",
          "name": "stdout",
          "text": [
            "\b\b\b\b\b\b\b\b\b\b\b\b\b\b\b\b\b\b\b\b\b\b\b\b\b\b\b\b\b\b\b\b\b\b\b\b\b\b\b\b\b\b\b\b\b\b\b\b\b\b\b\b\b\b\b\b\b\b\b\b\b\b\b\b\b\b\b\b\b\b\b\b\b\b\r\u001b[1m282/282\u001b[0m \u001b[32m━━━━━━━━━━━━━━━━━━━━\u001b[0m\u001b[37m\u001b[0m \u001b[1m2s\u001b[0m 7ms/step - accuracy: 0.7190 - loss: 0.7560 - val_accuracy: 0.6937 - val_loss: 0.8062\n",
            "Q 51-3777   T -3726 ☒ -3729\n",
            "Q 8225+4    T 8229  ☒ 8228 \n",
            "Q 38+20     T 58    ☒ 61   \n",
            "Q 194+3413  T 3607  ☒ 3527 \n",
            "Q 9+8601    T 8610  ☒ 8601 \n",
            "Q 855-893   T -38   ☒ -17  \n",
            "Q 906-159   T 747   ☒ 626  \n",
            "Q 545+775   T 1320  ☒ 1323 \n",
            "Q 3-569     T -566  ☒ -564 \n",
            "Q 66+9      T 75    ☑ 75   \n",
            "\n",
            "--------------------------------------------------\n",
            "Iteration 31\n",
            "\u001b[1m277/282\u001b[0m \u001b[32m━━━━━━━━━━━━━━━━━━━\u001b[0m\u001b[37m━\u001b[0m \u001b[1m0s\u001b[0m 7ms/step - accuracy: 0.7254 - loss: 0.7389\n",
            "Epoch 1: val_loss improved from 0.80618 to 0.80164, saving model to best_model.h5\n"
          ]
        },
        {
          "output_type": "stream",
          "name": "stderr",
          "text": [
            "WARNING:absl:You are saving your model as an HDF5 file via `model.save()` or `keras.saving.save_model(model)`. This file format is considered legacy. We recommend using instead the native Keras format, e.g. `model.save('my_model.keras')` or `keras.saving.save_model(model, 'my_model.keras')`. \n"
          ]
        },
        {
          "output_type": "stream",
          "name": "stdout",
          "text": [
            "\b\b\b\b\b\b\b\b\b\b\b\b\b\b\b\b\b\b\b\b\b\b\b\b\b\b\b\b\b\b\b\b\b\b\b\b\b\b\b\b\b\b\b\b\b\b\b\b\b\b\b\b\b\b\b\b\b\b\b\b\b\b\b\b\b\b\b\b\b\b\b\b\b\b\r\u001b[1m282/282\u001b[0m \u001b[32m━━━━━━━━━━━━━━━━━━━━\u001b[0m\u001b[37m\u001b[0m \u001b[1m2s\u001b[0m 8ms/step - accuracy: 0.7254 - loss: 0.7389 - val_accuracy: 0.6936 - val_loss: 0.8016\n",
            "Q 5-72      T -67   ☒ -69  \n",
            "Q 251-5236  T -4985 ☒ -5972\n",
            "Q 9+1120    T 1129  ☒ 1120 \n",
            "Q 1-647     T -646  ☒ -645 \n",
            "Q 9-1450    T -1441 ☒ -1446\n",
            "Q 2-516     T -514  ☒ -515 \n",
            "Q 413+38    T 451   ☒ 459  \n",
            "Q 1+988     T 989   ☒ 987  \n",
            "Q 35+9      T 44    ☒ 43   \n",
            "Q 940+6475  T 7415  ☒ 7020 \n",
            "\n",
            "--------------------------------------------------\n",
            "Iteration 32\n",
            "\u001b[1m276/282\u001b[0m \u001b[32m━━━━━━━━━━━━━━━━━━━\u001b[0m\u001b[37m━\u001b[0m \u001b[1m0s\u001b[0m 7ms/step - accuracy: 0.7306 - loss: 0.7270\n",
            "Epoch 1: val_loss improved from 0.80164 to 0.78954, saving model to best_model.h5\n"
          ]
        },
        {
          "output_type": "stream",
          "name": "stderr",
          "text": [
            "WARNING:absl:You are saving your model as an HDF5 file via `model.save()` or `keras.saving.save_model(model)`. This file format is considered legacy. We recommend using instead the native Keras format, e.g. `model.save('my_model.keras')` or `keras.saving.save_model(model, 'my_model.keras')`. \n"
          ]
        },
        {
          "output_type": "stream",
          "name": "stdout",
          "text": [
            "\b\b\b\b\b\b\b\b\b\b\b\b\b\b\b\b\b\b\b\b\b\b\b\b\b\b\b\b\b\b\b\b\b\b\b\b\b\b\b\b\b\b\b\b\b\b\b\b\b\b\b\b\b\b\b\b\b\b\b\b\b\b\b\b\b\b\b\b\b\b\b\b\b\b\r\u001b[1m282/282\u001b[0m \u001b[32m━━━━━━━━━━━━━━━━━━━━\u001b[0m\u001b[37m\u001b[0m \u001b[1m2s\u001b[0m 7ms/step - accuracy: 0.7306 - loss: 0.7270 - val_accuracy: 0.7004 - val_loss: 0.7895\n",
            "Q 18-91     T -73   ☑ -73  \n",
            "Q 9851+853  T 10704 ☒ 10663\n",
            "Q 36+9182   T 9218  ☒ 9212 \n",
            "Q 4593-239  T 4354  ☒ 4166 \n",
            "Q 9+38      T 47    ☑ 47   \n",
            "Q 201-4546  T -4345 ☒ -4332\n",
            "Q 22-7424   T -7402 ☒ -7411\n",
            "Q 3694-5200 T -1506 ☒ -144 \n",
            "Q 7349+709  T 8058  ☒ 8022 \n",
            "Q 190-6015  T -5825 ☒ -5990\n",
            "\n",
            "--------------------------------------------------\n",
            "Iteration 33\n",
            "\u001b[1m276/282\u001b[0m \u001b[32m━━━━━━━━━━━━━━━━━━━\u001b[0m\u001b[37m━\u001b[0m \u001b[1m0s\u001b[0m 9ms/step - accuracy: 0.7349 - loss: 0.7140\n",
            "Epoch 1: val_loss did not improve from 0.78954\n",
            "\u001b[1m282/282\u001b[0m \u001b[32m━━━━━━━━━━━━━━━━━━━━\u001b[0m\u001b[37m\u001b[0m \u001b[1m3s\u001b[0m 10ms/step - accuracy: 0.7348 - loss: 0.7141 - val_accuracy: 0.6975 - val_loss: 0.7965\n",
            "Q 1-342     T -341  ☑ -341 \n",
            "Q 544-4     T 540   ☒ 541  \n",
            "Q 743-95    T 648   ☒ 656  \n",
            "Q 22+323    T 345   ☒ 353  \n",
            "Q 32+71     T 103   ☒ 10   \n",
            "Q 2-365     T -363  ☑ -363 \n",
            "Q 867+0     T 867   ☑ 867  \n",
            "Q 551+7747  T 8298  ☒ 7149 \n",
            "Q 5546+885  T 6431  ☒ 6322 \n",
            "Q 5-3607    T -3602 ☒ -3603\n",
            "\n",
            "--------------------------------------------------\n",
            "Iteration 34\n",
            "\u001b[1m274/282\u001b[0m \u001b[32m━━━━━━━━━━━━━━━━━━━\u001b[0m\u001b[37m━\u001b[0m \u001b[1m0s\u001b[0m 6ms/step - accuracy: 0.7376 - loss: 0.7055\n",
            "Epoch 1: val_loss improved from 0.78954 to 0.78141, saving model to best_model.h5\n"
          ]
        },
        {
          "output_type": "stream",
          "name": "stderr",
          "text": [
            "WARNING:absl:You are saving your model as an HDF5 file via `model.save()` or `keras.saving.save_model(model)`. This file format is considered legacy. We recommend using instead the native Keras format, e.g. `model.save('my_model.keras')` or `keras.saving.save_model(model, 'my_model.keras')`. \n"
          ]
        },
        {
          "output_type": "stream",
          "name": "stdout",
          "text": [
            "\b\b\b\b\b\b\b\b\b\b\b\b\b\b\b\b\b\b\b\b\b\b\b\b\b\b\b\b\b\b\b\b\b\b\b\b\b\b\b\b\b\b\b\b\b\b\b\b\b\b\b\b\b\b\b\b\b\b\b\b\b\b\b\b\b\b\b\b\b\b\b\b\b\b\r\u001b[1m282/282\u001b[0m \u001b[32m━━━━━━━━━━━━━━━━━━━━\u001b[0m\u001b[37m\u001b[0m \u001b[1m2s\u001b[0m 7ms/step - accuracy: 0.7375 - loss: 0.7056 - val_accuracy: 0.7033 - val_loss: 0.7814\n",
            "Q 84+4      T 88    ☑ 88   \n",
            "Q 550-9400  T -8850 ☒ -8905\n",
            "Q 1673+24   T 1697  ☒ 1790 \n",
            "Q 12-303    T -291  ☒ -299 \n",
            "Q 2+819     T 821   ☒ 820  \n",
            "Q 4+3024    T 3028  ☒ 3037 \n",
            "Q 0-337     T -337  ☒ -336 \n",
            "Q 8517+199  T 8716  ☒ 8630 \n",
            "Q 56+2434   T 2490  ☒ 2498 \n",
            "Q 2-516     T -514  ☒ -515 \n",
            "\n",
            "--------------------------------------------------\n",
            "Iteration 35\n",
            "\u001b[1m278/282\u001b[0m \u001b[32m━━━━━━━━━━━━━━━━━━━\u001b[0m\u001b[37m━\u001b[0m \u001b[1m0s\u001b[0m 6ms/step - accuracy: 0.7425 - loss: 0.6941\n",
            "Epoch 1: val_loss improved from 0.78141 to 0.77167, saving model to best_model.h5\n"
          ]
        },
        {
          "output_type": "stream",
          "name": "stderr",
          "text": [
            "WARNING:absl:You are saving your model as an HDF5 file via `model.save()` or `keras.saving.save_model(model)`. This file format is considered legacy. We recommend using instead the native Keras format, e.g. `model.save('my_model.keras')` or `keras.saving.save_model(model, 'my_model.keras')`. \n"
          ]
        },
        {
          "output_type": "stream",
          "name": "stdout",
          "text": [
            "\b\b\b\b\b\b\b\b\b\b\b\b\b\b\b\b\b\b\b\b\b\b\b\b\b\b\b\b\b\b\b\b\b\b\b\b\b\b\b\b\b\b\b\b\b\b\b\b\b\b\b\b\b\b\b\b\b\b\b\b\b\b\b\b\b\b\b\b\b\b\b\b\b\b\r\u001b[1m282/282\u001b[0m \u001b[32m━━━━━━━━━━━━━━━━━━━━\u001b[0m\u001b[37m\u001b[0m \u001b[1m2s\u001b[0m 7ms/step - accuracy: 0.7424 - loss: 0.6941 - val_accuracy: 0.7041 - val_loss: 0.7717\n",
            "Q 5203+774  T 5977  ☒ 5911 \n",
            "Q 36+7057   T 7093  ☒ 7084 \n",
            "Q 91-3358   T -3267 ☒ -3273\n",
            "Q 49-3084   T -3035 ☒ -3019\n",
            "Q 230-6443  T -6213 ☒ -6133\n",
            "Q 2378+800  T 3178  ☒ 3190 \n",
            "Q 10-535    T -525  ☒ -522 \n",
            "Q 8+9702    T 9710  ☒ 9706 \n",
            "Q 552-6612  T -6060 ☒ -6036\n",
            "Q 759-3     T 756   ☒ 754  \n",
            "\n",
            "--------------------------------------------------\n",
            "Iteration 36\n",
            "\u001b[1m276/282\u001b[0m \u001b[32m━━━━━━━━━━━━━━━━━━━\u001b[0m\u001b[37m━\u001b[0m \u001b[1m0s\u001b[0m 7ms/step - accuracy: 0.7451 - loss: 0.6870\n",
            "Epoch 1: val_loss improved from 0.77167 to 0.76440, saving model to best_model.h5\n"
          ]
        },
        {
          "output_type": "stream",
          "name": "stderr",
          "text": [
            "WARNING:absl:You are saving your model as an HDF5 file via `model.save()` or `keras.saving.save_model(model)`. This file format is considered legacy. We recommend using instead the native Keras format, e.g. `model.save('my_model.keras')` or `keras.saving.save_model(model, 'my_model.keras')`. \n"
          ]
        },
        {
          "output_type": "stream",
          "name": "stdout",
          "text": [
            "\b\b\b\b\b\b\b\b\b\b\b\b\b\b\b\b\b\b\b\b\b\b\b\b\b\b\b\b\b\b\b\b\b\b\b\b\b\b\b\b\b\b\b\b\b\b\b\b\b\b\b\b\b\b\b\b\b\b\b\b\b\b\b\b\b\b\b\b\b\b\b\b\b\b\r\u001b[1m282/282\u001b[0m \u001b[32m━━━━━━━━━━━━━━━━━━━━\u001b[0m\u001b[37m\u001b[0m \u001b[1m2s\u001b[0m 8ms/step - accuracy: 0.7450 - loss: 0.6870 - val_accuracy: 0.7082 - val_loss: 0.7644\n",
            "Q 7928+900  T 8828  ☒ 8711 \n",
            "Q 6+710     T 716   ☒ 717  \n",
            "Q 6-949     T -943  ☑ -943 \n",
            "Q 17+2472   T 2489  ☒ 2498 \n",
            "Q 25+5      T 30    ☑ 30   \n",
            "Q 3-5359    T -5356 ☒ -5355\n",
            "Q 1-520     T -519  ☑ -519 \n",
            "Q 84-6118   T -6034 ☒ -6040\n",
            "Q 589-159   T 430   ☒ 400  \n",
            "Q 88-14     T 74    ☑ 74   \n",
            "\n",
            "--------------------------------------------------\n",
            "Iteration 37\n",
            "\u001b[1m276/282\u001b[0m \u001b[32m━━━━━━━━━━━━━━━━━━━\u001b[0m\u001b[37m━\u001b[0m \u001b[1m0s\u001b[0m 7ms/step - accuracy: 0.7507 - loss: 0.6757\n",
            "Epoch 1: val_loss did not improve from 0.76440\n",
            "\u001b[1m282/282\u001b[0m \u001b[32m━━━━━━━━━━━━━━━━━━━━\u001b[0m\u001b[37m\u001b[0m \u001b[1m2s\u001b[0m 8ms/step - accuracy: 0.7507 - loss: 0.6757 - val_accuracy: 0.7056 - val_loss: 0.7664\n",
            "Q 542-218   T 324   ☒ 359  \n",
            "Q 934-66    T 868   ☒ 888  \n",
            "Q 4+5140    T 5144  ☒ 5156 \n",
            "Q 8+188     T 196   ☒ 195  \n",
            "Q 543-5     T 538   ☒ 548  \n",
            "Q 9+83      T 92    ☑ 92   \n",
            "Q 1397+8191 T 9588  ☒ 10591\n",
            "Q 22-7      T 15    ☑ 15   \n",
            "Q 2381+56   T 2437  ☒ 2427 \n",
            "Q 10+3      T 13    ☑ 13   \n",
            "\n",
            "--------------------------------------------------\n",
            "Iteration 38\n",
            "\u001b[1m281/282\u001b[0m \u001b[32m━━━━━━━━━━━━━━━━━━━\u001b[0m\u001b[37m━\u001b[0m \u001b[1m0s\u001b[0m 6ms/step - accuracy: 0.7515 - loss: 0.6669\n",
            "Epoch 1: val_loss improved from 0.76440 to 0.74967, saving model to best_model.h5\n"
          ]
        },
        {
          "output_type": "stream",
          "name": "stderr",
          "text": [
            "WARNING:absl:You are saving your model as an HDF5 file via `model.save()` or `keras.saving.save_model(model)`. This file format is considered legacy. We recommend using instead the native Keras format, e.g. `model.save('my_model.keras')` or `keras.saving.save_model(model, 'my_model.keras')`. \n"
          ]
        },
        {
          "output_type": "stream",
          "name": "stdout",
          "text": [
            "\b\b\b\b\b\b\b\b\b\b\b\b\b\b\b\b\b\b\b\b\b\b\b\b\b\b\b\b\b\b\b\b\b\b\b\b\b\b\b\b\b\b\b\b\b\b\b\b\b\b\b\b\b\b\b\b\b\b\b\b\b\b\b\b\b\b\b\b\b\b\b\b\b\b\r\u001b[1m282/282\u001b[0m \u001b[32m━━━━━━━━━━━━━━━━━━━━\u001b[0m\u001b[37m\u001b[0m \u001b[1m2s\u001b[0m 7ms/step - accuracy: 0.7515 - loss: 0.6669 - val_accuracy: 0.7126 - val_loss: 0.7497\n",
            "Q 1402+4    T 1406  ☒ 1418 \n",
            "Q 8-20      T -12   ☑ -12  \n",
            "Q 1602+38   T 1640  ☒ 1632 \n",
            "Q 6009+7    T 6016  ☒ 6014 \n",
            "Q 793+908   T 1701  ☒ 1799 \n",
            "Q 754+535   T 1289  ☒ 1288 \n",
            "Q 3348+4055 T 7403  ☒ 7385 \n",
            "Q 23-450    T -427  ☒ -422 \n",
            "Q 67+8671   T 8738  ☒ 8729 \n",
            "Q 178+0     T 178   ☑ 178  \n",
            "\n",
            "--------------------------------------------------\n",
            "Iteration 39\n",
            "\u001b[1m279/282\u001b[0m \u001b[32m━━━━━━━━━━━━━━━━━━━\u001b[0m\u001b[37m━\u001b[0m \u001b[1m0s\u001b[0m 6ms/step - accuracy: 0.7576 - loss: 0.6550\n",
            "Epoch 1: val_loss improved from 0.74967 to 0.74884, saving model to best_model.h5\n"
          ]
        },
        {
          "output_type": "stream",
          "name": "stderr",
          "text": [
            "WARNING:absl:You are saving your model as an HDF5 file via `model.save()` or `keras.saving.save_model(model)`. This file format is considered legacy. We recommend using instead the native Keras format, e.g. `model.save('my_model.keras')` or `keras.saving.save_model(model, 'my_model.keras')`. \n"
          ]
        },
        {
          "output_type": "stream",
          "name": "stdout",
          "text": [
            "\b\b\b\b\b\b\b\b\b\b\b\b\b\b\b\b\b\b\b\b\b\b\b\b\b\b\b\b\b\b\b\b\b\b\b\b\b\b\b\b\b\b\b\b\b\b\b\b\b\b\b\b\b\b\b\b\b\b\b\b\b\b\b\b\b\b\b\b\b\b\b\b\b\b\r\u001b[1m282/282\u001b[0m \u001b[32m━━━━━━━━━━━━━━━━━━━━\u001b[0m\u001b[37m\u001b[0m \u001b[1m2s\u001b[0m 7ms/step - accuracy: 0.7576 - loss: 0.6550 - val_accuracy: 0.7157 - val_loss: 0.7488\n",
            "Q 480-1     T 479   ☑ 479  \n",
            "Q 837+0     T 837   ☑ 837  \n",
            "Q 972+4399  T 5371  ☒ 5022 \n",
            "Q 0-38      T -38   ☑ -38  \n",
            "Q 85-82     T 3     ☒ 1    \n",
            "Q 77+5792   T 5869  ☒ 5866 \n",
            "Q 723-9447  T -8724 ☒ -8792\n",
            "Q 8-113     T -105  ☑ -105 \n",
            "Q 170-13    T 157   ☒ 155  \n",
            "Q 3398+7    T 3405  ☒ 3397 \n",
            "\n",
            "--------------------------------------------------\n",
            "Iteration 40\n",
            "\u001b[1m280/282\u001b[0m \u001b[32m━━━━━━━━━━━━━━━━━━━\u001b[0m\u001b[37m━\u001b[0m \u001b[1m0s\u001b[0m 8ms/step - accuracy: 0.7614 - loss: 0.6453\n",
            "Epoch 1: val_loss improved from 0.74884 to 0.74520, saving model to best_model.h5\n"
          ]
        },
        {
          "output_type": "stream",
          "name": "stderr",
          "text": [
            "WARNING:absl:You are saving your model as an HDF5 file via `model.save()` or `keras.saving.save_model(model)`. This file format is considered legacy. We recommend using instead the native Keras format, e.g. `model.save('my_model.keras')` or `keras.saving.save_model(model, 'my_model.keras')`. \n"
          ]
        },
        {
          "output_type": "stream",
          "name": "stdout",
          "text": [
            "\b\b\b\b\b\b\b\b\b\b\b\b\b\b\b\b\b\b\b\b\b\b\b\b\b\b\b\b\b\b\b\b\b\b\b\b\b\b\b\b\b\b\b\b\b\b\b\b\b\b\b\b\b\b\b\b\b\b\b\b\b\b\b\b\b\b\b\b\b\b\b\b\b\b\r\u001b[1m282/282\u001b[0m \u001b[32m━━━━━━━━━━━━━━━━━━━━\u001b[0m\u001b[37m\u001b[0m \u001b[1m3s\u001b[0m 10ms/step - accuracy: 0.7614 - loss: 0.6453 - val_accuracy: 0.7134 - val_loss: 0.7452\n",
            "Q 31-358    T -327  ☒ -324 \n",
            "Q 405+18    T 423   ☒ 417  \n",
            "Q 1067-62   T 1005  ☒ 100  \n",
            "Q 2999+580  T 3579  ☒ 3688 \n",
            "Q 589+65    T 654   ☒ 656  \n",
            "Q 759+3     T 762   ☒ 761  \n",
            "Q 71-28     T 43    ☒ 42   \n",
            "Q 20+964    T 984   ☒ 997  \n",
            "Q 97-138    T -41   ☒ -56  \n",
            "Q 757-1490  T -733  ☒ -785 \n",
            "\n",
            "--------------------------------------------------\n",
            "Iteration 41\n",
            "\u001b[1m278/282\u001b[0m \u001b[32m━━━━━━━━━━━━━━━━━━━\u001b[0m\u001b[37m━\u001b[0m \u001b[1m0s\u001b[0m 6ms/step - accuracy: 0.7656 - loss: 0.6349\n",
            "Epoch 1: val_loss improved from 0.74520 to 0.73602, saving model to best_model.h5\n"
          ]
        },
        {
          "output_type": "stream",
          "name": "stderr",
          "text": [
            "WARNING:absl:You are saving your model as an HDF5 file via `model.save()` or `keras.saving.save_model(model)`. This file format is considered legacy. We recommend using instead the native Keras format, e.g. `model.save('my_model.keras')` or `keras.saving.save_model(model, 'my_model.keras')`. \n"
          ]
        },
        {
          "output_type": "stream",
          "name": "stdout",
          "text": [
            "\b\b\b\b\b\b\b\b\b\b\b\b\b\b\b\b\b\b\b\b\b\b\b\b\b\b\b\b\b\b\b\b\b\b\b\b\b\b\b\b\b\b\b\b\b\b\b\b\b\b\b\b\b\b\b\b\b\b\b\b\b\b\b\b\b\b\b\b\b\b\b\b\b\b\r\u001b[1m282/282\u001b[0m \u001b[32m━━━━━━━━━━━━━━━━━━━━\u001b[0m\u001b[37m\u001b[0m \u001b[1m2s\u001b[0m 7ms/step - accuracy: 0.7656 - loss: 0.6349 - val_accuracy: 0.7191 - val_loss: 0.7360\n",
            "Q 5-8818    T -8813 ☑ -8813\n",
            "Q 925-2     T 923   ☒ 921  \n",
            "Q 968-41    T 927   ☒ 939  \n",
            "Q 47+547    T 594   ☒ 514  \n",
            "Q 1402-41   T 1361  ☒ 1979 \n",
            "Q 7111+135  T 7246  ☒ 7257 \n",
            "Q 505-43    T 462   ☒ 469  \n",
            "Q 316+1     T 317   ☒ 316  \n",
            "Q 361+990   T 1351  ☒ 1362 \n",
            "Q 105-44    T 61    ☒ 57   \n",
            "\n",
            "--------------------------------------------------\n",
            "Iteration 42\n",
            "\u001b[1m278/282\u001b[0m \u001b[32m━━━━━━━━━━━━━━━━━━━\u001b[0m\u001b[37m━\u001b[0m \u001b[1m0s\u001b[0m 7ms/step - accuracy: 0.7716 - loss: 0.6187\n",
            "Epoch 1: val_loss did not improve from 0.73602\n",
            "\u001b[1m282/282\u001b[0m \u001b[32m━━━━━━━━━━━━━━━━━━━━\u001b[0m\u001b[37m\u001b[0m \u001b[1m2s\u001b[0m 7ms/step - accuracy: 0.7715 - loss: 0.6188 - val_accuracy: 0.7189 - val_loss: 0.7400\n",
            "Q 95-47     T 48    ☒ 49   \n",
            "Q 34-27     T 7     ☒ 1    \n",
            "Q 161+363   T 524   ☒ 419  \n",
            "Q 811-9     T 802   ☒ 702  \n",
            "Q 4-736     T -732  ☑ -732 \n",
            "Q 93+38     T 131   ☒ 121  \n",
            "Q 945-257   T 688   ☒ 682  \n",
            "Q 75-466    T -391  ☒ -399 \n",
            "Q 951-7     T 944   ☒ 945  \n",
            "Q 8+314     T 322   ☒ 323  \n",
            "\n",
            "--------------------------------------------------\n",
            "Iteration 43\n",
            "\u001b[1m278/282\u001b[0m \u001b[32m━━━━━━━━━━━━━━━━━━━\u001b[0m\u001b[37m━\u001b[0m \u001b[1m0s\u001b[0m 6ms/step - accuracy: 0.7746 - loss: 0.6100\n",
            "Epoch 1: val_loss improved from 0.73602 to 0.72997, saving model to best_model.h5\n"
          ]
        },
        {
          "output_type": "stream",
          "name": "stderr",
          "text": [
            "WARNING:absl:You are saving your model as an HDF5 file via `model.save()` or `keras.saving.save_model(model)`. This file format is considered legacy. We recommend using instead the native Keras format, e.g. `model.save('my_model.keras')` or `keras.saving.save_model(model, 'my_model.keras')`. \n"
          ]
        },
        {
          "output_type": "stream",
          "name": "stdout",
          "text": [
            "\b\b\b\b\b\b\b\b\b\b\b\b\b\b\b\b\b\b\b\b\b\b\b\b\b\b\b\b\b\b\b\b\b\b\b\b\b\b\b\b\b\b\b\b\b\b\b\b\b\b\b\b\b\b\b\b\b\b\b\b\b\b\b\b\b\b\b\b\b\b\b\b\b\b\r\u001b[1m282/282\u001b[0m \u001b[32m━━━━━━━━━━━━━━━━━━━━\u001b[0m\u001b[37m\u001b[0m \u001b[1m2s\u001b[0m 7ms/step - accuracy: 0.7745 - loss: 0.6101 - val_accuracy: 0.7201 - val_loss: 0.7300\n",
            "Q 1-9013    T -9012 ☒ -9021\n",
            "Q 722-93    T 629   ☒ 632  \n",
            "Q 5929+527  T 6456  ☒ 6404 \n",
            "Q 9+598     T 607   ☑ 607  \n",
            "Q 9830-5537 T 4293  ☒ 4333 \n",
            "Q 1841-458  T 1383  ☒ 1587 \n",
            "Q 298+6498  T 6796  ☒ 6880 \n",
            "Q 6-976     T -970  ☒ -969 \n",
            "Q 3+8106    T 8109  ☒ 8112 \n",
            "Q 0-7311    T -7311 ☒ -7310\n",
            "\n",
            "--------------------------------------------------\n",
            "Iteration 44\n",
            "\u001b[1m277/282\u001b[0m \u001b[32m━━━━━━━━━━━━━━━━━━━\u001b[0m\u001b[37m━\u001b[0m \u001b[1m0s\u001b[0m 7ms/step - accuracy: 0.7705 - loss: 0.6169\n",
            "Epoch 1: val_loss did not improve from 0.72997\n",
            "\u001b[1m282/282\u001b[0m \u001b[32m━━━━━━━━━━━━━━━━━━━━\u001b[0m\u001b[37m\u001b[0m \u001b[1m2s\u001b[0m 8ms/step - accuracy: 0.7706 - loss: 0.6169 - val_accuracy: 0.7167 - val_loss: 0.7390\n",
            "Q 1161+362  T 1523  ☒ 1517 \n",
            "Q 4132-0    T 4132  ☒ 4137 \n",
            "Q 72-7      T 65    ☑ 65   \n",
            "Q 58+5      T 63    ☑ 63   \n",
            "Q 35-329    T -294  ☒ -205 \n",
            "Q 127-30    T 97    ☒ 86   \n",
            "Q 8500+6    T 8506  ☒ 8507 \n",
            "Q 92+29     T 121   ☒ 129  \n",
            "Q 6743-6    T 6737  ☒ 6738 \n",
            "Q 71-898    T -827  ☒ -839 \n",
            "\n",
            "--------------------------------------------------\n",
            "Iteration 45\n",
            "\u001b[1m282/282\u001b[0m \u001b[32m━━━━━━━━━━━━━━━━━━━━\u001b[0m\u001b[37m\u001b[0m \u001b[1m0s\u001b[0m 7ms/step - accuracy: 0.7789 - loss: 0.5977\n",
            "Epoch 1: val_loss improved from 0.72997 to 0.70935, saving model to best_model.h5\n"
          ]
        },
        {
          "output_type": "stream",
          "name": "stderr",
          "text": [
            "WARNING:absl:You are saving your model as an HDF5 file via `model.save()` or `keras.saving.save_model(model)`. This file format is considered legacy. We recommend using instead the native Keras format, e.g. `model.save('my_model.keras')` or `keras.saving.save_model(model, 'my_model.keras')`. \n"
          ]
        },
        {
          "output_type": "stream",
          "name": "stdout",
          "text": [
            "\b\b\b\b\b\b\b\b\b\b\b\b\b\b\b\b\b\b\b\b\b\b\b\b\b\b\b\b\b\b\b\b\b\b\b\b\b\b\b\b\b\b\b\b\b\b\b\b\b\b\b\b\b\b\b\b\b\b\b\b\b\b\b\b\b\b\b\b\b\b\b\b\b\b\r\u001b[1m282/282\u001b[0m \u001b[32m━━━━━━━━━━━━━━━━━━━━\u001b[0m\u001b[37m\u001b[0m \u001b[1m2s\u001b[0m 7ms/step - accuracy: 0.7789 - loss: 0.5977 - val_accuracy: 0.7259 - val_loss: 0.7093\n",
            "Q 91+9267   T 9358  ☒ 9368 \n",
            "Q 6579-248  T 6331  ☒ 6436 \n",
            "Q 44+7      T 51    ☑ 51   \n",
            "Q 114+1     T 115   ☒ 114  \n",
            "Q 52-5555   T -5503 ☒ -5597\n",
            "Q 6+140     T 146   ☑ 146  \n",
            "Q 3468-2    T 3466  ☒ 3463 \n",
            "Q 4019-518  T 3501  ☒ 3588 \n",
            "Q 477-1     T 476   ☒ 477  \n",
            "Q 1499+8268 T 9767  ☒ 10833\n",
            "\n",
            "--------------------------------------------------\n",
            "Iteration 46\n",
            "\u001b[1m281/282\u001b[0m \u001b[32m━━━━━━━━━━━━━━━━━━━\u001b[0m\u001b[37m━\u001b[0m \u001b[1m0s\u001b[0m 6ms/step - accuracy: 0.7849 - loss: 0.5855\n",
            "Epoch 1: val_loss improved from 0.70935 to 0.70912, saving model to best_model.h5\n"
          ]
        },
        {
          "output_type": "stream",
          "name": "stderr",
          "text": [
            "WARNING:absl:You are saving your model as an HDF5 file via `model.save()` or `keras.saving.save_model(model)`. This file format is considered legacy. We recommend using instead the native Keras format, e.g. `model.save('my_model.keras')` or `keras.saving.save_model(model, 'my_model.keras')`. \n"
          ]
        },
        {
          "output_type": "stream",
          "name": "stdout",
          "text": [
            "\b\b\b\b\b\b\b\b\b\b\b\b\b\b\b\b\b\b\b\b\b\b\b\b\b\b\b\b\b\b\b\b\b\b\b\b\b\b\b\b\b\b\b\b\b\b\b\b\b\b\b\b\b\b\b\b\b\b\b\b\b\b\b\b\b\b\b\b\b\b\b\b\b\b\r\u001b[1m282/282\u001b[0m \u001b[32m━━━━━━━━━━━━━━━━━━━━\u001b[0m\u001b[37m\u001b[0m \u001b[1m2s\u001b[0m 8ms/step - accuracy: 0.7849 - loss: 0.5855 - val_accuracy: 0.7278 - val_loss: 0.7091\n",
            "Q 757+87    T 844   ☒ 843  \n",
            "Q 3393-702  T 2691  ☒ 2577 \n",
            "Q 7543-82   T 7461  ☒ 7444 \n",
            "Q 416+17    T 433   ☒ 423  \n",
            "Q 70+19     T 89    ☒ 88   \n",
            "Q 717-328   T 389   ☒ 355  \n",
            "Q 18+733    T 751   ☒ 740  \n",
            "Q 3283-22   T 3261  ☒ 3263 \n",
            "Q 5320+7    T 5327  ☒ 5326 \n",
            "Q 342-14    T 328   ☒ 327  \n",
            "\n",
            "--------------------------------------------------\n",
            "Iteration 47\n",
            "\u001b[1m280/282\u001b[0m \u001b[32m━━━━━━━━━━━━━━━━━━━\u001b[0m\u001b[37m━\u001b[0m \u001b[1m0s\u001b[0m 7ms/step - accuracy: 0.7884 - loss: 0.5771\n",
            "Epoch 1: val_loss improved from 0.70912 to 0.70533, saving model to best_model.h5\n"
          ]
        },
        {
          "output_type": "stream",
          "name": "stderr",
          "text": [
            "WARNING:absl:You are saving your model as an HDF5 file via `model.save()` or `keras.saving.save_model(model)`. This file format is considered legacy. We recommend using instead the native Keras format, e.g. `model.save('my_model.keras')` or `keras.saving.save_model(model, 'my_model.keras')`. \n"
          ]
        },
        {
          "output_type": "stream",
          "name": "stdout",
          "text": [
            "\b\b\b\b\b\b\b\b\b\b\b\b\b\b\b\b\b\b\b\b\b\b\b\b\b\b\b\b\b\b\b\b\b\b\b\b\b\b\b\b\b\b\b\b\b\b\b\b\b\b\b\b\b\b\b\b\b\b\b\b\b\b\b\b\b\b\b\b\b\b\b\b\b\b\r\u001b[1m282/282\u001b[0m \u001b[32m━━━━━━━━━━━━━━━━━━━━\u001b[0m\u001b[37m\u001b[0m \u001b[1m2s\u001b[0m 7ms/step - accuracy: 0.7884 - loss: 0.5772 - val_accuracy: 0.7306 - val_loss: 0.7053\n",
            "Q 29-4710   T -4681 ☒ -4672\n",
            "Q 1337-67   T 1270  ☒ 1392 \n",
            "Q 11-4998   T -4987 ☒ -4992\n",
            "Q 99-2808   T -2709 ☒ -2790\n",
            "Q 16+536    T 552   ☑ 552  \n",
            "Q 506+34    T 540   ☒ 551  \n",
            "Q 468-228   T 240   ☒ 226  \n",
            "Q 721-16    T 705   ☑ 705  \n",
            "Q 886-554   T 332   ☒ 323  \n",
            "Q 3793-893  T 2900  ☒ 2928 \n",
            "\n",
            "--------------------------------------------------\n",
            "Iteration 48\n",
            "\u001b[1m280/282\u001b[0m \u001b[32m━━━━━━━━━━━━━━━━━━━\u001b[0m\u001b[37m━\u001b[0m \u001b[1m0s\u001b[0m 10ms/step - accuracy: 0.7919 - loss: 0.5672\n",
            "Epoch 1: val_loss improved from 0.70533 to 0.70393, saving model to best_model.h5\n"
          ]
        },
        {
          "output_type": "stream",
          "name": "stderr",
          "text": [
            "WARNING:absl:You are saving your model as an HDF5 file via `model.save()` or `keras.saving.save_model(model)`. This file format is considered legacy. We recommend using instead the native Keras format, e.g. `model.save('my_model.keras')` or `keras.saving.save_model(model, 'my_model.keras')`. \n"
          ]
        },
        {
          "output_type": "stream",
          "name": "stdout",
          "text": [
            "\b\b\b\b\b\b\b\b\b\b\b\b\b\b\b\b\b\b\b\b\b\b\b\b\b\b\b\b\b\b\b\b\b\b\b\b\b\b\b\b\b\b\b\b\b\b\b\b\b\b\b\b\b\b\b\b\b\b\b\b\b\b\b\b\b\b\b\b\b\b\b\b\b\b\b\r\u001b[1m282/282\u001b[0m \u001b[32m━━━━━━━━━━━━━━━━━━━━\u001b[0m\u001b[37m\u001b[0m \u001b[1m3s\u001b[0m 11ms/step - accuracy: 0.7919 - loss: 0.5672 - val_accuracy: 0.7316 - val_loss: 0.7039\n",
            "Q 37-98     T -61   ☒ -51  \n",
            "Q 423-75    T 348   ☒ 356  \n",
            "Q 101+60    T 161   ☒ 162  \n",
            "Q 6367+256  T 6623  ☒ 6712 \n",
            "Q 34-314    T -280  ☒ -200 \n",
            "Q 728-95    T 633   ☒ 646  \n",
            "Q 9+1230    T 1239  ☒ 1231 \n",
            "Q 8-662     T -654  ☑ -654 \n",
            "Q 3-5359    T -5356 ☒ -5355\n",
            "Q 5771+596  T 6367  ☒ 6464 \n",
            "\n",
            "--------------------------------------------------\n",
            "Iteration 49\n",
            "\u001b[1m279/282\u001b[0m \u001b[32m━━━━━━━━━━━━━━━━━━━\u001b[0m\u001b[37m━\u001b[0m \u001b[1m0s\u001b[0m 6ms/step - accuracy: 0.7923 - loss: 0.5620\n",
            "Epoch 1: val_loss improved from 0.70393 to 0.69383, saving model to best_model.h5\n"
          ]
        },
        {
          "output_type": "stream",
          "name": "stderr",
          "text": [
            "WARNING:absl:You are saving your model as an HDF5 file via `model.save()` or `keras.saving.save_model(model)`. This file format is considered legacy. We recommend using instead the native Keras format, e.g. `model.save('my_model.keras')` or `keras.saving.save_model(model, 'my_model.keras')`. \n"
          ]
        },
        {
          "output_type": "stream",
          "name": "stdout",
          "text": [
            "\b\b\b\b\b\b\b\b\b\b\b\b\b\b\b\b\b\b\b\b\b\b\b\b\b\b\b\b\b\b\b\b\b\b\b\b\b\b\b\b\b\b\b\b\b\b\b\b\b\b\b\b\b\b\b\b\b\b\b\b\b\b\b\b\b\b\b\b\b\b\b\b\b\b\r\u001b[1m282/282\u001b[0m \u001b[32m━━━━━━━━━━━━━━━━━━━━\u001b[0m\u001b[37m\u001b[0m \u001b[1m2s\u001b[0m 7ms/step - accuracy: 0.7923 - loss: 0.5620 - val_accuracy: 0.7317 - val_loss: 0.6938\n",
            "Q 130-9952  T -9822 ☒ -9828\n",
            "Q 691+98    T 789   ☒ 781  \n",
            "Q 5796-52   T 5744  ☒ 5736 \n",
            "Q 8864-8    T 8856  ☒ 8848 \n",
            "Q 9898+9483 T 19381 ☒ 18123\n",
            "Q 7259-6344 T 915   ☒ 11   \n",
            "Q 976-4     T 972   ☑ 972  \n",
            "Q 298+6498  T 6796  ☒ 6877 \n",
            "Q 918+9775  T 10693 ☒ 10650\n",
            "Q 9-5801    T -5792 ☑ -5792\n"
          ]
        }
      ]
    },
    {
      "cell_type": "markdown",
      "source": [
        "a) I think the model performs reasonably well, with a training accuracy of about 80% and validation accuracy of about 73%. These results suggest that the model is able to learn and generalize on the task to some extent. It’s possible that the model is not fully capturing the necessary dependencies between the inputs and outputs, as reflected by some of the errors in the output predictions. In the examples from the validation data, it seems that surprisingly, the model most of the time works in estimating the answer.\n",
        "\n",
        "b)\n",
        "One limitation of this model is its inability to effectively capture long-range dependencies or focus on the most relevant parts of the input sequence for each prediction. Without an attention mechanism, the model struggles to selectively prioritize different parts of the input, which is crucial in tasks where the input sequence may vary significantly and require different areas of focus for each prediction(like this task). This lack of flexibility can hinder performance, especially when dealing with complex or nuanced patterns. Additionally, the simple encoder-decoder structure limits the model’s ability to handle more intricate dependencies, reducing its generalization to more complex inputs.\n",
        "\n",
        "c)  Improvements:\n",
        "To improve this model, I would suggest implementing an attention mechanism. Attention would allow the model to focus on different parts of the sequence, which is especially useful in sequence-to-sequence tasks where important information may be scattered throughout the input.\n",
        "Furthermore, hyperparameter tuning could help, such as adjusting the learning rate, increasing the number of layers, or adding more neurons per layer. Regularization techniques like dropout could help prevent overfitting and improve generalization.\n",
        "Additionally, expanding the training data could help the model generalize better to a wider range of inputs. We can balance the dataset between operations to ensure the model works well for sunstraction and addition.\n",
        "\n",
        "d) Yes, an attention mechanism can be applied to this model, and it would be particularly beneficial for the current problem of solving arithmetic equations. The simple encoder-decoder structure without attention faces challenges in handling long input sequences or varying complexity in equations.\n",
        "\n",
        "In this problem, an attention mechanism would allow the model to focus on relevant parts of the input sequence (such as specific digits or operators) when making predictions, rather than relying on a fixed-length representation of the entire sequence. This would enable the model to handle longer sequences more effectively, improve its generalization to larger numbers, and reduce errors in operations."
      ],
      "metadata": {
        "id": "D-p28o5UMX-h"
      }
    },
    {
      "cell_type": "markdown",
      "source": [
        "## 1.3\n"
      ],
      "metadata": {
        "id": "_PVAPvTVOhER"
      }
    },
    {
      "cell_type": "code",
      "source": [
        "# Defining model 2 - adding attention\n",
        "# Defining input layer\n",
        "inputs = Input(shape=(maxlen, len(chars)))\n",
        "\n",
        "# First LSTM layer - Output sequences to feed into attention\n",
        "lstm_1 = LSTM(config_dict['hidden_size'], return_sequences=True)(inputs)\n",
        "\n",
        "# Attention layer - Attention mechanism applied on lstm_1 output\n",
        "attention = Attention()([lstm_1, lstm_1])\n",
        "\n",
        "# Flattenning the attention output to match the expected input shape for RepeatVector\n",
        "attention_flattened = Flatten()(attention)\n",
        "\n",
        "# Repeat Vector layer to ensure that the output has the same shape as the original sequence length\n",
        "repeat_vector = RepeatVector(config_dict['digits'] + 1)(attention_flattened)\n",
        "\n",
        "# Second LSTM layer - Output sequences\n",
        "lstm_2 = LSTM(config_dict['hidden_size'], return_sequences=True)(repeat_vector)\n",
        "\n",
        "# TimeDistributed Dense layer for output (categorical distribution)\n",
        "outputs = TimeDistributed(Dense(len(chars), activation='softmax'))(lstm_2)\n",
        "\n",
        "# Creating the model\n",
        "model2 = Model(inputs=inputs, outputs=outputs)\n",
        "\n",
        "# Compile the model\n",
        "model2.compile(loss='categorical_crossentropy',\n",
        "              optimizer='adam',\n",
        "              metrics=['accuracy'])\n",
        "\n",
        "model2.summary()\n",
        "\n",
        "# Train the model each generation and show predictions against the validation\n",
        "# dataset.\n",
        "checkpoint = ModelCheckpoint('best_model.h5',\n",
        "                             monitor='val_loss',\n",
        "                             save_best_only=True,\n",
        "                             mode='min',\n",
        "                             verbose=1)\n",
        "for iteration in range(config_dict['iterations']):\n",
        "    print()\n",
        "    print('-' * 50)\n",
        "    print('Iteration', iteration)\n",
        "\n",
        "    model2.fit(x_train, y_train,\n",
        "              batch_size=config_dict['batch_size'],\n",
        "              epochs=1,\n",
        "              validation_data=(x_val, y_val),\n",
        "              callbacks=[checkpoint])\n",
        "    # Select 10 samples from the validation set at random so we can visualize\n",
        "    # errors.\n",
        "    for i in range(10):\n",
        "        ind = np.random.randint(0, len(x_val))\n",
        "        rowx, rowy = x_val[np.array([ind])], y_val[np.array([ind])]\n",
        "        preds = model2.predict(rowx, verbose=0)\n",
        "        preds = np.argmax(preds, axis=-1)\n",
        "        q = ctable.decode(rowx[0])\n",
        "        correct = ctable.decode(rowy[0])\n",
        "        guess = ctable.decode(preds[0], calc_argmax=False)\n",
        "        print('Q', q, end=' ')\n",
        "        print('T', correct, end=' ')\n",
        "        if correct == guess:\n",
        "            print('☑', end=' ')\n",
        "        else:\n",
        "            print('☒', end=' ')\n",
        "        print(guess)"
      ],
      "metadata": {
        "colab": {
          "base_uri": "https://localhost:8080/",
          "height": 1000
        },
        "id": "vCEs9FD_R4td",
        "outputId": "b492eb43-3ac6-43b3-ddba-fbb0b5b747ec"
      },
      "execution_count": null,
      "outputs": [
        {
          "output_type": "display_data",
          "data": {
            "text/plain": [
              "\u001b[1mModel: \"functional_9\"\u001b[0m\n"
            ],
            "text/html": [
              "<pre style=\"white-space:pre;overflow-x:auto;line-height:normal;font-family:Menlo,'DejaVu Sans Mono',consolas,'Courier New',monospace\"><span style=\"font-weight: bold\">Model: \"functional_9\"</span>\n",
              "</pre>\n"
            ]
          },
          "metadata": {}
        },
        {
          "output_type": "display_data",
          "data": {
            "text/plain": [
              "┏━━━━━━━━━━━━━━━━━━━━━━━━━━━┳━━━━━━━━━━━━━━━━━━━━━━━━┳━━━━━━━━━━━━━━━━┳━━━━━━━━━━━━━━━━━━━━━━━━┓\n",
              "┃\u001b[1m \u001b[0m\u001b[1mLayer (type)             \u001b[0m\u001b[1m \u001b[0m┃\u001b[1m \u001b[0m\u001b[1mOutput Shape          \u001b[0m\u001b[1m \u001b[0m┃\u001b[1m \u001b[0m\u001b[1m       Param #\u001b[0m\u001b[1m \u001b[0m┃\u001b[1m \u001b[0m\u001b[1mConnected to          \u001b[0m\u001b[1m \u001b[0m┃\n",
              "┡━━━━━━━━━━━━━━━━━━━━━━━━━━━╇━━━━━━━━━━━━━━━━━━━━━━━━╇━━━━━━━━━━━━━━━━╇━━━━━━━━━━━━━━━━━━━━━━━━┩\n",
              "│ input_layer_3             │ (\u001b[38;5;45mNone\u001b[0m, \u001b[38;5;34m9\u001b[0m, \u001b[38;5;34m13\u001b[0m)          │              \u001b[38;5;34m0\u001b[0m │ -                      │\n",
              "│ (\u001b[38;5;33mInputLayer\u001b[0m)              │                        │                │                        │\n",
              "├───────────────────────────┼────────────────────────┼────────────────┼────────────────────────┤\n",
              "│ lstm_6 (\u001b[38;5;33mLSTM\u001b[0m)             │ (\u001b[38;5;45mNone\u001b[0m, \u001b[38;5;34m9\u001b[0m, \u001b[38;5;34m128\u001b[0m)         │         \u001b[38;5;34m72,704\u001b[0m │ input_layer_3[\u001b[38;5;34m0\u001b[0m][\u001b[38;5;34m0\u001b[0m]    │\n",
              "├───────────────────────────┼────────────────────────┼────────────────┼────────────────────────┤\n",
              "│ attention_1 (\u001b[38;5;33mAttention\u001b[0m)   │ (\u001b[38;5;45mNone\u001b[0m, \u001b[38;5;34m9\u001b[0m, \u001b[38;5;34m128\u001b[0m)         │              \u001b[38;5;34m0\u001b[0m │ lstm_6[\u001b[38;5;34m0\u001b[0m][\u001b[38;5;34m0\u001b[0m],          │\n",
              "│                           │                        │                │ lstm_6[\u001b[38;5;34m0\u001b[0m][\u001b[38;5;34m0\u001b[0m]           │\n",
              "├───────────────────────────┼────────────────────────┼────────────────┼────────────────────────┤\n",
              "│ flatten_1 (\u001b[38;5;33mFlatten\u001b[0m)       │ (\u001b[38;5;45mNone\u001b[0m, \u001b[38;5;34m1152\u001b[0m)           │              \u001b[38;5;34m0\u001b[0m │ attention_1[\u001b[38;5;34m0\u001b[0m][\u001b[38;5;34m0\u001b[0m]      │\n",
              "├───────────────────────────┼────────────────────────┼────────────────┼────────────────────────┤\n",
              "│ repeat_vector_3           │ (\u001b[38;5;45mNone\u001b[0m, \u001b[38;5;34m5\u001b[0m, \u001b[38;5;34m1152\u001b[0m)        │              \u001b[38;5;34m0\u001b[0m │ flatten_1[\u001b[38;5;34m0\u001b[0m][\u001b[38;5;34m0\u001b[0m]        │\n",
              "│ (\u001b[38;5;33mRepeatVector\u001b[0m)            │                        │                │                        │\n",
              "├───────────────────────────┼────────────────────────┼────────────────┼────────────────────────┤\n",
              "│ lstm_7 (\u001b[38;5;33mLSTM\u001b[0m)             │ (\u001b[38;5;45mNone\u001b[0m, \u001b[38;5;34m5\u001b[0m, \u001b[38;5;34m128\u001b[0m)         │        \u001b[38;5;34m655,872\u001b[0m │ repeat_vector_3[\u001b[38;5;34m0\u001b[0m][\u001b[38;5;34m0\u001b[0m]  │\n",
              "├───────────────────────────┼────────────────────────┼────────────────┼────────────────────────┤\n",
              "│ time_distributed_3        │ (\u001b[38;5;45mNone\u001b[0m, \u001b[38;5;34m5\u001b[0m, \u001b[38;5;34m13\u001b[0m)          │          \u001b[38;5;34m1,677\u001b[0m │ lstm_7[\u001b[38;5;34m0\u001b[0m][\u001b[38;5;34m0\u001b[0m]           │\n",
              "│ (\u001b[38;5;33mTimeDistributed\u001b[0m)         │                        │                │                        │\n",
              "└───────────────────────────┴────────────────────────┴────────────────┴────────────────────────┘\n"
            ],
            "text/html": [
              "<pre style=\"white-space:pre;overflow-x:auto;line-height:normal;font-family:Menlo,'DejaVu Sans Mono',consolas,'Courier New',monospace\">┏━━━━━━━━━━━━━━━━━━━━━━━━━━━┳━━━━━━━━━━━━━━━━━━━━━━━━┳━━━━━━━━━━━━━━━━┳━━━━━━━━━━━━━━━━━━━━━━━━┓\n",
              "┃<span style=\"font-weight: bold\"> Layer (type)              </span>┃<span style=\"font-weight: bold\"> Output Shape           </span>┃<span style=\"font-weight: bold\">        Param # </span>┃<span style=\"font-weight: bold\"> Connected to           </span>┃\n",
              "┡━━━━━━━━━━━━━━━━━━━━━━━━━━━╇━━━━━━━━━━━━━━━━━━━━━━━━╇━━━━━━━━━━━━━━━━╇━━━━━━━━━━━━━━━━━━━━━━━━┩\n",
              "│ input_layer_3             │ (<span style=\"color: #00d7ff; text-decoration-color: #00d7ff\">None</span>, <span style=\"color: #00af00; text-decoration-color: #00af00\">9</span>, <span style=\"color: #00af00; text-decoration-color: #00af00\">13</span>)          │              <span style=\"color: #00af00; text-decoration-color: #00af00\">0</span> │ -                      │\n",
              "│ (<span style=\"color: #0087ff; text-decoration-color: #0087ff\">InputLayer</span>)              │                        │                │                        │\n",
              "├───────────────────────────┼────────────────────────┼────────────────┼────────────────────────┤\n",
              "│ lstm_6 (<span style=\"color: #0087ff; text-decoration-color: #0087ff\">LSTM</span>)             │ (<span style=\"color: #00d7ff; text-decoration-color: #00d7ff\">None</span>, <span style=\"color: #00af00; text-decoration-color: #00af00\">9</span>, <span style=\"color: #00af00; text-decoration-color: #00af00\">128</span>)         │         <span style=\"color: #00af00; text-decoration-color: #00af00\">72,704</span> │ input_layer_3[<span style=\"color: #00af00; text-decoration-color: #00af00\">0</span>][<span style=\"color: #00af00; text-decoration-color: #00af00\">0</span>]    │\n",
              "├───────────────────────────┼────────────────────────┼────────────────┼────────────────────────┤\n",
              "│ attention_1 (<span style=\"color: #0087ff; text-decoration-color: #0087ff\">Attention</span>)   │ (<span style=\"color: #00d7ff; text-decoration-color: #00d7ff\">None</span>, <span style=\"color: #00af00; text-decoration-color: #00af00\">9</span>, <span style=\"color: #00af00; text-decoration-color: #00af00\">128</span>)         │              <span style=\"color: #00af00; text-decoration-color: #00af00\">0</span> │ lstm_6[<span style=\"color: #00af00; text-decoration-color: #00af00\">0</span>][<span style=\"color: #00af00; text-decoration-color: #00af00\">0</span>],          │\n",
              "│                           │                        │                │ lstm_6[<span style=\"color: #00af00; text-decoration-color: #00af00\">0</span>][<span style=\"color: #00af00; text-decoration-color: #00af00\">0</span>]           │\n",
              "├───────────────────────────┼────────────────────────┼────────────────┼────────────────────────┤\n",
              "│ flatten_1 (<span style=\"color: #0087ff; text-decoration-color: #0087ff\">Flatten</span>)       │ (<span style=\"color: #00d7ff; text-decoration-color: #00d7ff\">None</span>, <span style=\"color: #00af00; text-decoration-color: #00af00\">1152</span>)           │              <span style=\"color: #00af00; text-decoration-color: #00af00\">0</span> │ attention_1[<span style=\"color: #00af00; text-decoration-color: #00af00\">0</span>][<span style=\"color: #00af00; text-decoration-color: #00af00\">0</span>]      │\n",
              "├───────────────────────────┼────────────────────────┼────────────────┼────────────────────────┤\n",
              "│ repeat_vector_3           │ (<span style=\"color: #00d7ff; text-decoration-color: #00d7ff\">None</span>, <span style=\"color: #00af00; text-decoration-color: #00af00\">5</span>, <span style=\"color: #00af00; text-decoration-color: #00af00\">1152</span>)        │              <span style=\"color: #00af00; text-decoration-color: #00af00\">0</span> │ flatten_1[<span style=\"color: #00af00; text-decoration-color: #00af00\">0</span>][<span style=\"color: #00af00; text-decoration-color: #00af00\">0</span>]        │\n",
              "│ (<span style=\"color: #0087ff; text-decoration-color: #0087ff\">RepeatVector</span>)            │                        │                │                        │\n",
              "├───────────────────────────┼────────────────────────┼────────────────┼────────────────────────┤\n",
              "│ lstm_7 (<span style=\"color: #0087ff; text-decoration-color: #0087ff\">LSTM</span>)             │ (<span style=\"color: #00d7ff; text-decoration-color: #00d7ff\">None</span>, <span style=\"color: #00af00; text-decoration-color: #00af00\">5</span>, <span style=\"color: #00af00; text-decoration-color: #00af00\">128</span>)         │        <span style=\"color: #00af00; text-decoration-color: #00af00\">655,872</span> │ repeat_vector_3[<span style=\"color: #00af00; text-decoration-color: #00af00\">0</span>][<span style=\"color: #00af00; text-decoration-color: #00af00\">0</span>]  │\n",
              "├───────────────────────────┼────────────────────────┼────────────────┼────────────────────────┤\n",
              "│ time_distributed_3        │ (<span style=\"color: #00d7ff; text-decoration-color: #00d7ff\">None</span>, <span style=\"color: #00af00; text-decoration-color: #00af00\">5</span>, <span style=\"color: #00af00; text-decoration-color: #00af00\">13</span>)          │          <span style=\"color: #00af00; text-decoration-color: #00af00\">1,677</span> │ lstm_7[<span style=\"color: #00af00; text-decoration-color: #00af00\">0</span>][<span style=\"color: #00af00; text-decoration-color: #00af00\">0</span>]           │\n",
              "│ (<span style=\"color: #0087ff; text-decoration-color: #0087ff\">TimeDistributed</span>)         │                        │                │                        │\n",
              "└───────────────────────────┴────────────────────────┴────────────────┴────────────────────────┘\n",
              "</pre>\n"
            ]
          },
          "metadata": {}
        },
        {
          "output_type": "display_data",
          "data": {
            "text/plain": [
              "\u001b[1m Total params: \u001b[0m\u001b[38;5;34m730,253\u001b[0m (2.79 MB)\n"
            ],
            "text/html": [
              "<pre style=\"white-space:pre;overflow-x:auto;line-height:normal;font-family:Menlo,'DejaVu Sans Mono',consolas,'Courier New',monospace\"><span style=\"font-weight: bold\"> Total params: </span><span style=\"color: #00af00; text-decoration-color: #00af00\">730,253</span> (2.79 MB)\n",
              "</pre>\n"
            ]
          },
          "metadata": {}
        },
        {
          "output_type": "display_data",
          "data": {
            "text/plain": [
              "\u001b[1m Trainable params: \u001b[0m\u001b[38;5;34m730,253\u001b[0m (2.79 MB)\n"
            ],
            "text/html": [
              "<pre style=\"white-space:pre;overflow-x:auto;line-height:normal;font-family:Menlo,'DejaVu Sans Mono',consolas,'Courier New',monospace\"><span style=\"font-weight: bold\"> Trainable params: </span><span style=\"color: #00af00; text-decoration-color: #00af00\">730,253</span> (2.79 MB)\n",
              "</pre>\n"
            ]
          },
          "metadata": {}
        },
        {
          "output_type": "display_data",
          "data": {
            "text/plain": [
              "\u001b[1m Non-trainable params: \u001b[0m\u001b[38;5;34m0\u001b[0m (0.00 B)\n"
            ],
            "text/html": [
              "<pre style=\"white-space:pre;overflow-x:auto;line-height:normal;font-family:Menlo,'DejaVu Sans Mono',consolas,'Courier New',monospace\"><span style=\"font-weight: bold\"> Non-trainable params: </span><span style=\"color: #00af00; text-decoration-color: #00af00\">0</span> (0.00 B)\n",
              "</pre>\n"
            ]
          },
          "metadata": {}
        },
        {
          "output_type": "stream",
          "name": "stdout",
          "text": [
            "\n",
            "--------------------------------------------------\n",
            "Iteration 0\n",
            "\u001b[1m282/282\u001b[0m \u001b[32m━━━━━━━━━━━━━━━━━━━━\u001b[0m\u001b[37m\u001b[0m \u001b[1m0s\u001b[0m 117ms/step - accuracy: 0.3369 - loss: 1.9548\n",
            "Epoch 1: val_loss improved from inf to 1.59994, saving model to best_model.h5\n"
          ]
        },
        {
          "output_type": "stream",
          "name": "stderr",
          "text": [
            "WARNING:absl:You are saving your model as an HDF5 file via `model.save()` or `keras.saving.save_model(model)`. This file format is considered legacy. We recommend using instead the native Keras format, e.g. `model.save('my_model.keras')` or `keras.saving.save_model(model, 'my_model.keras')`. \n"
          ]
        },
        {
          "output_type": "stream",
          "name": "stdout",
          "text": [
            "\b\b\b\b\b\b\b\b\b\b\b\b\b\b\b\b\b\b\b\b\b\b\b\b\b\b\b\b\b\b\b\b\b\b\b\b\b\b\b\b\b\b\b\b\b\b\b\b\b\b\b\b\b\b\b\b\b\b\b\b\b\b\b\b\b\b\b\b\b\b\b\b\b\b\b\b\r\u001b[1m282/282\u001b[0m \u001b[32m━━━━━━━━━━━━━━━━━━━━\u001b[0m\u001b[37m\u001b[0m \u001b[1m40s\u001b[0m 124ms/step - accuracy: 0.3371 - loss: 1.9542 - val_accuracy: 0.4311 - val_loss: 1.5999\n",
            "Q 377+936   T 1313  ☒ 7777 \n",
            "Q 765-50    T 715   ☒ 556  \n",
            "Q 9561+34   T 9595  ☒ 1556 \n",
            "Q 733-695   T 38    ☒ -33  \n",
            "Q 286+39    T 325   ☒ 126  \n",
            "Q 8-9611    T -9603 ☒ -1619\n",
            "Q 8-20      T -12   ☒ -2   \n",
            "Q 8375+745  T 9120  ☒ 7757 \n",
            "Q 238-8495  T -8257 ☒ -835 \n",
            "Q 9134+594  T 9728  ☒ 1055 \n",
            "\n",
            "--------------------------------------------------\n",
            "Iteration 1\n",
            "\u001b[1m281/282\u001b[0m \u001b[32m━━━━━━━━━━━━━━━━━━━\u001b[0m\u001b[37m━\u001b[0m \u001b[1m0s\u001b[0m 125ms/step - accuracy: 0.4321 - loss: 1.5821\n",
            "Epoch 1: val_loss improved from 1.59994 to 1.52157, saving model to best_model.h5\n"
          ]
        },
        {
          "output_type": "stream",
          "name": "stderr",
          "text": [
            "WARNING:absl:You are saving your model as an HDF5 file via `model.save()` or `keras.saving.save_model(model)`. This file format is considered legacy. We recommend using instead the native Keras format, e.g. `model.save('my_model.keras')` or `keras.saving.save_model(model, 'my_model.keras')`. \n"
          ]
        },
        {
          "output_type": "stream",
          "name": "stdout",
          "text": [
            "\b\b\b\b\b\b\b\b\b\b\b\b\b\b\b\b\b\b\b\b\b\b\b\b\b\b\b\b\b\b\b\b\b\b\b\b\b\b\b\b\b\b\b\b\b\b\b\b\b\b\b\b\b\b\b\b\b\b\b\b\b\b\b\b\b\b\b\b\b\b\b\b\b\b\b\b\r\u001b[1m282/282\u001b[0m \u001b[32m━━━━━━━━━━━━━━━━━━━━\u001b[0m\u001b[37m\u001b[0m \u001b[1m36s\u001b[0m 129ms/step - accuracy: 0.4322 - loss: 1.5820 - val_accuracy: 0.4462 - val_loss: 1.5216\n",
            "Q 1214-507  T 707   ☒ 1111 \n",
            "Q 997-775   T 222   ☒ 797  \n",
            "Q 46-2055   T -2009 ☒ -4253\n",
            "Q 6+6553    T 6559  ☒ 553  \n",
            "Q 458-38    T 420   ☒ 437  \n",
            "Q 9083-853  T 8230  ☒ 9333 \n",
            "Q 9058+3967 T 13025 ☒ 1033 \n",
            "Q 99-2318   T -2219 ☒ -9993\n",
            "Q 9-6131    T -6122 ☒ -9663\n",
            "Q 6+957     T 963   ☒ 655  \n",
            "\n",
            "--------------------------------------------------\n",
            "Iteration 2\n",
            "\u001b[1m282/282\u001b[0m \u001b[32m━━━━━━━━━━━━━━━━━━━━\u001b[0m\u001b[37m\u001b[0m \u001b[1m0s\u001b[0m 121ms/step - accuracy: 0.4517 - loss: 1.4921\n",
            "Epoch 1: val_loss improved from 1.52157 to 1.43801, saving model to best_model.h5\n"
          ]
        },
        {
          "output_type": "stream",
          "name": "stderr",
          "text": [
            "WARNING:absl:You are saving your model as an HDF5 file via `model.save()` or `keras.saving.save_model(model)`. This file format is considered legacy. We recommend using instead the native Keras format, e.g. `model.save('my_model.keras')` or `keras.saving.save_model(model, 'my_model.keras')`. \n"
          ]
        },
        {
          "output_type": "stream",
          "name": "stdout",
          "text": [
            "\b\b\b\b\b\b\b\b\b\b\b\b\b\b\b\b\b\b\b\b\b\b\b\b\b\b\b\b\b\b\b\b\b\b\b\b\b\b\b\b\b\b\b\b\b\b\b\b\b\b\b\b\b\b\b\b\b\b\b\b\b\b\b\b\b\b\b\b\b\b\b\b\b\b\b\b\r\u001b[1m282/282\u001b[0m \u001b[32m━━━━━━━━━━━━━━━━━━━━\u001b[0m\u001b[37m\u001b[0m \u001b[1m36s\u001b[0m 127ms/step - accuracy: 0.4517 - loss: 1.4920 - val_accuracy: 0.4690 - val_loss: 1.4380\n",
            "Q 7+138     T 145   ☒ 732  \n",
            "Q 8+36      T 44    ☒ 83   \n",
            "Q 6915+1    T 6916  ☒ 6666 \n",
            "Q 839-54    T 785   ☒ 353  \n",
            "Q 7500-59   T 7441  ☒ 5053 \n",
            "Q 8918+2    T 8920  ☒ 8890 \n",
            "Q 275+8     T 283   ☒ 788  \n",
            "Q 683-483   T 200   ☒ 333  \n",
            "Q 91-47     T 44    ☒ -5   \n",
            "Q 51-1031   T -980  ☒ -111 \n",
            "\n",
            "--------------------------------------------------\n",
            "Iteration 3\n",
            "\u001b[1m282/282\u001b[0m \u001b[32m━━━━━━━━━━━━━━━━━━━━\u001b[0m\u001b[37m\u001b[0m \u001b[1m0s\u001b[0m 118ms/step - accuracy: 0.4706 - loss: 1.4249\n",
            "Epoch 1: val_loss improved from 1.43801 to 1.38526, saving model to best_model.h5\n"
          ]
        },
        {
          "output_type": "stream",
          "name": "stderr",
          "text": [
            "WARNING:absl:You are saving your model as an HDF5 file via `model.save()` or `keras.saving.save_model(model)`. This file format is considered legacy. We recommend using instead the native Keras format, e.g. `model.save('my_model.keras')` or `keras.saving.save_model(model, 'my_model.keras')`. \n"
          ]
        },
        {
          "output_type": "stream",
          "name": "stdout",
          "text": [
            "\b\b\b\b\b\b\b\b\b\b\b\b\b\b\b\b\b\b\b\b\b\b\b\b\b\b\b\b\b\b\b\b\b\b\b\b\b\b\b\b\b\b\b\b\b\b\b\b\b\b\b\b\b\b\b\b\b\b\b\b\b\b\b\b\b\b\b\b\b\b\b\b\b\b\b\b\r\u001b[1m282/282\u001b[0m \u001b[32m━━━━━━━━━━━━━━━━━━━━\u001b[0m\u001b[37m\u001b[0m \u001b[1m36s\u001b[0m 128ms/step - accuracy: 0.4706 - loss: 1.4248 - val_accuracy: 0.4866 - val_loss: 1.3853\n",
            "Q 86+517    T 603   ☒ 152  \n",
            "Q 43-54     T -11   ☒ -2   \n",
            "Q 61-1      T 60    ☒ 16   \n",
            "Q 82+535    T 617   ☒ 259  \n",
            "Q 2378+6    T 2384  ☒ 3325 \n",
            "Q 6187-434  T 5753  ☒ 611  \n",
            "Q 7503-70   T 7433  ☒ 7077 \n",
            "Q 6856+3    T 6859  ☒ 6669 \n",
            "Q 26-5      T 21    ☒ 56   \n",
            "Q 390+1     T 391   ☒ 309  \n",
            "\n",
            "--------------------------------------------------\n",
            "Iteration 4\n",
            "\u001b[1m282/282\u001b[0m \u001b[32m━━━━━━━━━━━━━━━━━━━━\u001b[0m\u001b[37m\u001b[0m \u001b[1m0s\u001b[0m 119ms/step - accuracy: 0.4948 - loss: 1.3608\n",
            "Epoch 1: val_loss improved from 1.38526 to 1.31635, saving model to best_model.h5\n"
          ]
        },
        {
          "output_type": "stream",
          "name": "stderr",
          "text": [
            "WARNING:absl:You are saving your model as an HDF5 file via `model.save()` or `keras.saving.save_model(model)`. This file format is considered legacy. We recommend using instead the native Keras format, e.g. `model.save('my_model.keras')` or `keras.saving.save_model(model, 'my_model.keras')`. \n"
          ]
        },
        {
          "output_type": "stream",
          "name": "stdout",
          "text": [
            "\b\b\b\b\b\b\b\b\b\b\b\b\b\b\b\b\b\b\b\b\b\b\b\b\b\b\b\b\b\b\b\b\b\b\b\b\b\b\b\b\b\b\b\b\b\b\b\b\b\b\b\b\b\b\b\b\b\b\b\b\b\b\b\b\b\b\b\b\b\b\b\b\b\b\b\b\r\u001b[1m282/282\u001b[0m \u001b[32m━━━━━━━━━━━━━━━━━━━━\u001b[0m\u001b[37m\u001b[0m \u001b[1m36s\u001b[0m 128ms/step - accuracy: 0.4948 - loss: 1.3608 - val_accuracy: 0.5082 - val_loss: 1.3164\n",
            "Q 0-768     T -768  ☒ -776 \n",
            "Q 9+8649    T 8658  ☒ 9844 \n",
            "Q 5473-243  T 5230  ☒ 4416 \n",
            "Q 5+964     T 969   ☒ 964  \n",
            "Q 4+956     T 960   ☒ 954  \n",
            "Q 9561-394  T 9167  ☒ 9442 \n",
            "Q 62+1813   T 1875  ☒ 1224 \n",
            "Q 61-1      T 60    ☒ 66   \n",
            "Q 1841-924  T 917   ☒ 1412 \n",
            "Q 858+19    T 877   ☒ 844  \n",
            "\n",
            "--------------------------------------------------\n",
            "Iteration 5\n",
            "\u001b[1m281/282\u001b[0m \u001b[32m━━━━━━━━━━━━━━━━━━━\u001b[0m\u001b[37m━\u001b[0m \u001b[1m0s\u001b[0m 117ms/step - accuracy: 0.5223 - loss: 1.2860\n",
            "Epoch 1: val_loss improved from 1.31635 to 1.24331, saving model to best_model.h5\n"
          ]
        },
        {
          "output_type": "stream",
          "name": "stderr",
          "text": [
            "WARNING:absl:You are saving your model as an HDF5 file via `model.save()` or `keras.saving.save_model(model)`. This file format is considered legacy. We recommend using instead the native Keras format, e.g. `model.save('my_model.keras')` or `keras.saving.save_model(model, 'my_model.keras')`. \n"
          ]
        },
        {
          "output_type": "stream",
          "name": "stdout",
          "text": [
            "\b\b\b\b\b\b\b\b\b\b\b\b\b\b\b\b\b\b\b\b\b\b\b\b\b\b\b\b\b\b\b\b\b\b\b\b\b\b\b\b\b\b\b\b\b\b\b\b\b\b\b\b\b\b\b\b\b\b\b\b\b\b\b\b\b\b\b\b\b\b\b\b\b\b\b\b\r\u001b[1m282/282\u001b[0m \u001b[32m━━━━━━━━━━━━━━━━━━━━\u001b[0m\u001b[37m\u001b[0m \u001b[1m34s\u001b[0m 121ms/step - accuracy: 0.5224 - loss: 1.2858 - val_accuracy: 0.5412 - val_loss: 1.2433\n",
            "Q 74+4      T 78    ☒ 79   \n",
            "Q 2034-606  T 1428  ☒ 2111 \n",
            "Q 813+1474  T 2287  ☒ 1066 \n",
            "Q 799-8     T 791   ☒ 784  \n",
            "Q 8+621     T 629   ☒ 628  \n",
            "Q 585-25    T 560   ☒ 586  \n",
            "Q 0+791     T 791   ☒ 707  \n",
            "Q 236+11    T 247   ☒ 268  \n",
            "Q 140+9     T 149   ☒ 104  \n",
            "Q 3847+2139 T 5986  ☒ 4166 \n",
            "\n",
            "--------------------------------------------------\n",
            "Iteration 6\n",
            "\u001b[1m281/282\u001b[0m \u001b[32m━━━━━━━━━━━━━━━━━━━\u001b[0m\u001b[37m━\u001b[0m \u001b[1m0s\u001b[0m 117ms/step - accuracy: 0.5529 - loss: 1.2123\n",
            "Epoch 1: val_loss improved from 1.24331 to 1.16945, saving model to best_model.h5\n"
          ]
        },
        {
          "output_type": "stream",
          "name": "stderr",
          "text": [
            "WARNING:absl:You are saving your model as an HDF5 file via `model.save()` or `keras.saving.save_model(model)`. This file format is considered legacy. We recommend using instead the native Keras format, e.g. `model.save('my_model.keras')` or `keras.saving.save_model(model, 'my_model.keras')`. \n"
          ]
        },
        {
          "output_type": "stream",
          "name": "stdout",
          "text": [
            "\b\b\b\b\b\b\b\b\b\b\b\b\b\b\b\b\b\b\b\b\b\b\b\b\b\b\b\b\b\b\b\b\b\b\b\b\b\b\b\b\b\b\b\b\b\b\b\b\b\b\b\b\b\b\b\b\b\b\b\b\b\b\b\b\b\b\b\b\b\b\b\b\b\b\b\b\r\u001b[1m282/282\u001b[0m \u001b[32m━━━━━━━━━━━━━━━━━━━━\u001b[0m\u001b[37m\u001b[0m \u001b[1m34s\u001b[0m 122ms/step - accuracy: 0.5530 - loss: 1.2122 - val_accuracy: 0.5667 - val_loss: 1.1695\n",
            "Q 4764-6    T 4758  ☒ 4471 \n",
            "Q 68-6343   T -6275 ☒ -6377\n",
            "Q 59-696    T -637  ☒ -617 \n",
            "Q 542+9048  T 9590  ☒ 1035 \n",
            "Q 3+318     T 321   ☒ 338  \n",
            "Q 6904+67   T 6971  ☒ 6001 \n",
            "Q 941+3     T 944   ☒ 941  \n",
            "Q 7+1769    T 1776  ☒ 1734 \n",
            "Q 3455-20   T 3435  ☒ 3257 \n",
            "Q 43+98     T 141   ☒ 133  \n",
            "\n",
            "--------------------------------------------------\n",
            "Iteration 7\n",
            "\u001b[1m281/282\u001b[0m \u001b[32m━━━━━━━━━━━━━━━━━━━\u001b[0m\u001b[37m━\u001b[0m \u001b[1m0s\u001b[0m 118ms/step - accuracy: 0.5790 - loss: 1.1439\n",
            "Epoch 1: val_loss improved from 1.16945 to 1.11824, saving model to best_model.h5\n"
          ]
        },
        {
          "output_type": "stream",
          "name": "stderr",
          "text": [
            "WARNING:absl:You are saving your model as an HDF5 file via `model.save()` or `keras.saving.save_model(model)`. This file format is considered legacy. We recommend using instead the native Keras format, e.g. `model.save('my_model.keras')` or `keras.saving.save_model(model, 'my_model.keras')`. \n"
          ]
        },
        {
          "output_type": "stream",
          "name": "stdout",
          "text": [
            "\b\b\b\b\b\b\b\b\b\b\b\b\b\b\b\b\b\b\b\b\b\b\b\b\b\b\b\b\b\b\b\b\b\b\b\b\b\b\b\b\b\b\b\b\b\b\b\b\b\b\b\b\b\b\b\b\b\b\b\b\b\b\b\b\b\b\b\b\b\b\b\b\b\b\b\b\r\u001b[1m282/282\u001b[0m \u001b[32m━━━━━━━━━━━━━━━━━━━━\u001b[0m\u001b[37m\u001b[0m \u001b[1m34s\u001b[0m 122ms/step - accuracy: 0.5790 - loss: 1.1438 - val_accuracy: 0.5836 - val_loss: 1.1182\n",
            "Q 2082+4125 T 6207  ☒ 4712 \n",
            "Q 4648-9033 T -4385 ☒ -4548\n",
            "Q 86-571    T -485  ☒ -597 \n",
            "Q 6179-8    T 6171  ☒ 6118 \n",
            "Q 70+964    T 1034  ☒ 1045 \n",
            "Q 779+174   T 953   ☒ 144  \n",
            "Q 8783-13   T 8770  ☒ 8766 \n",
            "Q 4826-64   T 4762  ☒ 4819 \n",
            "Q 239+15    T 254   ☒ 244  \n",
            "Q 5473-243  T 5230  ☒ 4810 \n",
            "\n",
            "--------------------------------------------------\n",
            "Iteration 8\n",
            "\u001b[1m281/282\u001b[0m \u001b[32m━━━━━━━━━━━━━━━━━━━\u001b[0m\u001b[37m━\u001b[0m \u001b[1m0s\u001b[0m 123ms/step - accuracy: 0.5984 - loss: 1.0891\n",
            "Epoch 1: val_loss improved from 1.11824 to 1.08284, saving model to best_model.h5\n"
          ]
        },
        {
          "output_type": "stream",
          "name": "stderr",
          "text": [
            "WARNING:absl:You are saving your model as an HDF5 file via `model.save()` or `keras.saving.save_model(model)`. This file format is considered legacy. We recommend using instead the native Keras format, e.g. `model.save('my_model.keras')` or `keras.saving.save_model(model, 'my_model.keras')`. \n"
          ]
        },
        {
          "output_type": "stream",
          "name": "stdout",
          "text": [
            "\b\b\b\b\b\b\b\b\b\b\b\b\b\b\b\b\b\b\b\b\b\b\b\b\b\b\b\b\b\b\b\b\b\b\b\b\b\b\b\b\b\b\b\b\b\b\b\b\b\b\b\b\b\b\b\b\b\b\b\b\b\b\b\b\b\b\b\b\b\b\b\b\b\b\b\b\r\u001b[1m282/282\u001b[0m \u001b[32m━━━━━━━━━━━━━━━━━━━━\u001b[0m\u001b[37m\u001b[0m \u001b[1m36s\u001b[0m 128ms/step - accuracy: 0.5984 - loss: 1.0891 - val_accuracy: 0.5959 - val_loss: 1.0828\n",
            "Q 5+8613    T 8618  ☒ 8616 \n",
            "Q 62-82     T -20   ☒ -1   \n",
            "Q 369+874   T 1243  ☒ 1227 \n",
            "Q 52+697    T 749   ☒ 127  \n",
            "Q 266-9897  T -9631 ☒ -9561\n",
            "Q 412+2652  T 3064  ☒ 2661 \n",
            "Q 94+82     T 176   ☒ 162  \n",
            "Q 6-990     T -984  ☒ -996 \n",
            "Q 3003-580  T 2423  ☒ 2111 \n",
            "Q 5240-5803 T -563  ☒ -344 \n",
            "\n",
            "--------------------------------------------------\n",
            "Iteration 9\n",
            "\u001b[1m281/282\u001b[0m \u001b[32m━━━━━━━━━━━━━━━━━━━\u001b[0m\u001b[37m━\u001b[0m \u001b[1m0s\u001b[0m 117ms/step - accuracy: 0.6154 - loss: 1.0495\n",
            "Epoch 1: val_loss improved from 1.08284 to 1.06353, saving model to best_model.h5\n"
          ]
        },
        {
          "output_type": "stream",
          "name": "stderr",
          "text": [
            "WARNING:absl:You are saving your model as an HDF5 file via `model.save()` or `keras.saving.save_model(model)`. This file format is considered legacy. We recommend using instead the native Keras format, e.g. `model.save('my_model.keras')` or `keras.saving.save_model(model, 'my_model.keras')`. \n"
          ]
        },
        {
          "output_type": "stream",
          "name": "stdout",
          "text": [
            "\b\b\b\b\b\b\b\b\b\b\b\b\b\b\b\b\b\b\b\b\b\b\b\b\b\b\b\b\b\b\b\b\b\b\b\b\b\b\b\b\b\b\b\b\b\b\b\b\b\b\b\b\b\b\b\b\b\b\b\b\b\b\b\b\b\b\b\b\b\b\b\b\b\b\b\b\r\u001b[1m282/282\u001b[0m \u001b[32m━━━━━━━━━━━━━━━━━━━━\u001b[0m\u001b[37m\u001b[0m \u001b[1m34s\u001b[0m 121ms/step - accuracy: 0.6154 - loss: 1.0495 - val_accuracy: 0.6015 - val_loss: 1.0635\n",
            "Q 40+3254   T 3294  ☒ 2267 \n",
            "Q 345-3     T 342   ☑ 342  \n",
            "Q 9-3767    T -3758 ☒ -3702\n",
            "Q 205+9     T 214   ☑ 214  \n",
            "Q 1848+274  T 2122  ☒ 2511 \n",
            "Q 41-4      T 37    ☒ 47   \n",
            "Q 326+32    T 358   ☒ 361  \n",
            "Q 9-6131    T -6122 ☒ -6177\n",
            "Q 831+0     T 831   ☑ 831  \n",
            "Q 5648+1906 T 7554  ☒ 6641 \n",
            "\n",
            "--------------------------------------------------\n",
            "Iteration 10\n",
            "\u001b[1m281/282\u001b[0m \u001b[32m━━━━━━━━━━━━━━━━━━━\u001b[0m\u001b[37m━\u001b[0m \u001b[1m0s\u001b[0m 125ms/step - accuracy: 0.6285 - loss: 1.0117\n",
            "Epoch 1: val_loss improved from 1.06353 to 1.01545, saving model to best_model.h5\n"
          ]
        },
        {
          "output_type": "stream",
          "name": "stderr",
          "text": [
            "WARNING:absl:You are saving your model as an HDF5 file via `model.save()` or `keras.saving.save_model(model)`. This file format is considered legacy. We recommend using instead the native Keras format, e.g. `model.save('my_model.keras')` or `keras.saving.save_model(model, 'my_model.keras')`. \n"
          ]
        },
        {
          "output_type": "stream",
          "name": "stdout",
          "text": [
            "\b\b\b\b\b\b\b\b\b\b\b\b\b\b\b\b\b\b\b\b\b\b\b\b\b\b\b\b\b\b\b\b\b\b\b\b\b\b\b\b\b\b\b\b\b\b\b\b\b\b\b\b\b\b\b\b\b\b\b\b\b\b\b\b\b\b\b\b\b\b\b\b\b\b\b\b\r\u001b[1m282/282\u001b[0m \u001b[32m━━━━━━━━━━━━━━━━━━━━\u001b[0m\u001b[37m\u001b[0m \u001b[1m37s\u001b[0m 130ms/step - accuracy: 0.6285 - loss: 1.0117 - val_accuracy: 0.6244 - val_loss: 1.0154\n",
            "Q 619+7905  T 8524  ☒ 8687 \n",
            "Q 309+548   T 857   ☒ 863  \n",
            "Q 5883-7138 T -1255 ☒ -122 \n",
            "Q 84-3      T 81    ☒ 87   \n",
            "Q 4241+8    T 4249  ☒ 4226 \n",
            "Q 950-908   T 42    ☒ -1   \n",
            "Q 9-345     T -336  ☒ -339 \n",
            "Q 9+6893    T 6902  ☒ 6996 \n",
            "Q 69-0      T 69    ☒ 68   \n",
            "Q 1+764     T 765   ☑ 765  \n",
            "\n",
            "--------------------------------------------------\n",
            "Iteration 11\n",
            "\u001b[1m282/282\u001b[0m \u001b[32m━━━━━━━━━━━━━━━━━━━━\u001b[0m\u001b[37m\u001b[0m \u001b[1m0s\u001b[0m 123ms/step - accuracy: 0.6391 - loss: 0.9778\n",
            "Epoch 1: val_loss improved from 1.01545 to 0.99089, saving model to best_model.h5\n"
          ]
        },
        {
          "output_type": "stream",
          "name": "stderr",
          "text": [
            "WARNING:absl:You are saving your model as an HDF5 file via `model.save()` or `keras.saving.save_model(model)`. This file format is considered legacy. We recommend using instead the native Keras format, e.g. `model.save('my_model.keras')` or `keras.saving.save_model(model, 'my_model.keras')`. \n"
          ]
        },
        {
          "output_type": "stream",
          "name": "stdout",
          "text": [
            "\b\b\b\b\b\b\b\b\b\b\b\b\b\b\b\b\b\b\b\b\b\b\b\b\b\b\b\b\b\b\b\b\b\b\b\b\b\b\b\b\b\b\b\b\b\b\b\b\b\b\b\b\b\b\b\b\b\b\b\b\b\b\b\b\b\b\b\b\b\b\b\b\b\b\b\b\r\u001b[1m282/282\u001b[0m \u001b[32m━━━━━━━━━━━━━━━━━━━━\u001b[0m\u001b[37m\u001b[0m \u001b[1m36s\u001b[0m 128ms/step - accuracy: 0.6391 - loss: 0.9778 - val_accuracy: 0.6296 - val_loss: 0.9909\n",
            "Q 484-437   T 47    ☒ 300  \n",
            "Q 149+8     T 157   ☒ 147  \n",
            "Q 1-814     T -813  ☑ -813 \n",
            "Q 9+1805    T 1814  ☒ 1818 \n",
            "Q 159+9042  T 9201  ☒ 9033 \n",
            "Q 5-6535    T -6530 ☒ -6538\n",
            "Q 20-618    T -598  ☒ -688 \n",
            "Q 5001-4390 T 611   ☒ 3192 \n",
            "Q 2-3367    T -3365 ☒ -3366\n",
            "Q 42-2      T 40    ☒ 41   \n",
            "\n",
            "--------------------------------------------------\n",
            "Iteration 12\n",
            "\u001b[1m282/282\u001b[0m \u001b[32m━━━━━━━━━━━━━━━━━━━━\u001b[0m\u001b[37m\u001b[0m \u001b[1m0s\u001b[0m 130ms/step - accuracy: 0.6505 - loss: 0.9503\n",
            "Epoch 1: val_loss improved from 0.99089 to 0.96779, saving model to best_model.h5\n"
          ]
        },
        {
          "output_type": "stream",
          "name": "stderr",
          "text": [
            "WARNING:absl:You are saving your model as an HDF5 file via `model.save()` or `keras.saving.save_model(model)`. This file format is considered legacy. We recommend using instead the native Keras format, e.g. `model.save('my_model.keras')` or `keras.saving.save_model(model, 'my_model.keras')`. \n"
          ]
        },
        {
          "output_type": "stream",
          "name": "stdout",
          "text": [
            "\b\b\b\b\b\b\b\b\b\b\b\b\b\b\b\b\b\b\b\b\b\b\b\b\b\b\b\b\b\b\b\b\b\b\b\b\b\b\b\b\b\b\b\b\b\b\b\b\b\b\b\b\b\b\b\b\b\b\b\b\b\b\b\b\b\b\b\b\b\b\b\b\b\b\b\b\r\u001b[1m282/282\u001b[0m \u001b[32m━━━━━━━━━━━━━━━━━━━━\u001b[0m\u001b[37m\u001b[0m \u001b[1m38s\u001b[0m 135ms/step - accuracy: 0.6505 - loss: 0.9503 - val_accuracy: 0.6374 - val_loss: 0.9678\n",
            "Q 7094+11   T 7105  ☒ 7077 \n",
            "Q 142-8     T 134   ☒ 137  \n",
            "Q 25+90     T 115   ☒ 113  \n",
            "Q 341+70    T 411   ☒ 474  \n",
            "Q 34+9124   T 9158  ☒ 9131 \n",
            "Q 520+90    T 610   ☒ 511  \n",
            "Q 937+4     T 941   ☒ 949  \n",
            "Q 6128+3    T 6131  ☒ 6171 \n",
            "Q 67+66     T 133   ☒ 132  \n",
            "Q 842+779   T 1621  ☒ 1578 \n",
            "\n",
            "--------------------------------------------------\n",
            "Iteration 13\n",
            "\u001b[1m281/282\u001b[0m \u001b[32m━━━━━━━━━━━━━━━━━━━\u001b[0m\u001b[37m━\u001b[0m \u001b[1m0s\u001b[0m 124ms/step - accuracy: 0.6611 - loss: 0.9209\n",
            "Epoch 1: val_loss improved from 0.96779 to 0.95022, saving model to best_model.h5\n"
          ]
        },
        {
          "output_type": "stream",
          "name": "stderr",
          "text": [
            "WARNING:absl:You are saving your model as an HDF5 file via `model.save()` or `keras.saving.save_model(model)`. This file format is considered legacy. We recommend using instead the native Keras format, e.g. `model.save('my_model.keras')` or `keras.saving.save_model(model, 'my_model.keras')`. \n"
          ]
        },
        {
          "output_type": "stream",
          "name": "stdout",
          "text": [
            "\b\b\b\b\b\b\b\b\b\b\b\b\b\b\b\b\b\b\b\b\b\b\b\b\b\b\b\b\b\b\b\b\b\b\b\b\b\b\b\b\b\b\b\b\b\b\b\b\b\b\b\b\b\b\b\b\b\b\b\b\b\b\b\b\b\b\b\b\b\b\b\b\b\b\b\b\r\u001b[1m282/282\u001b[0m \u001b[32m━━━━━━━━━━━━━━━━━━━━\u001b[0m\u001b[37m\u001b[0m \u001b[1m36s\u001b[0m 129ms/step - accuracy: 0.6611 - loss: 0.9209 - val_accuracy: 0.6432 - val_loss: 0.9502\n",
            "Q 9-3884    T -3875 ☑ -3875\n",
            "Q 33-819    T -786  ☒ -756 \n",
            "Q 2+2       T 4     ☒ 5    \n",
            "Q 441-9     T 432   ☒ 435  \n",
            "Q 839-54    T 785   ☒ 849  \n",
            "Q 1-2311    T -2310 ☒ -2312\n",
            "Q 382+4697  T 5079  ☒ 5720 \n",
            "Q 5+769     T 774   ☒ 782  \n",
            "Q 8+6769    T 6777  ☒ 6784 \n",
            "Q 4411+5677 T 10088 ☒ 1077 \n",
            "\n",
            "--------------------------------------------------\n",
            "Iteration 14\n",
            "\u001b[1m282/282\u001b[0m \u001b[32m━━━━━━━━━━━━━━━━━━━━\u001b[0m\u001b[37m\u001b[0m \u001b[1m0s\u001b[0m 118ms/step - accuracy: 0.6719 - loss: 0.8941\n",
            "Epoch 1: val_loss improved from 0.95022 to 0.92329, saving model to best_model.h5\n"
          ]
        },
        {
          "output_type": "stream",
          "name": "stderr",
          "text": [
            "WARNING:absl:You are saving your model as an HDF5 file via `model.save()` or `keras.saving.save_model(model)`. This file format is considered legacy. We recommend using instead the native Keras format, e.g. `model.save('my_model.keras')` or `keras.saving.save_model(model, 'my_model.keras')`. \n"
          ]
        },
        {
          "output_type": "stream",
          "name": "stdout",
          "text": [
            "\b\b\b\b\b\b\b\b\b\b\b\b\b\b\b\b\b\b\b\b\b\b\b\b\b\b\b\b\b\b\b\b\b\b\b\b\b\b\b\b\b\b\b\b\b\b\b\b\b\b\b\b\b\b\b\b\b\b\b\b\b\b\b\b\b\b\b\b\b\b\b\b\b\b\b\b\r\u001b[1m282/282\u001b[0m \u001b[32m━━━━━━━━━━━━━━━━━━━━\u001b[0m\u001b[37m\u001b[0m \u001b[1m34s\u001b[0m 122ms/step - accuracy: 0.6719 - loss: 0.8941 - val_accuracy: 0.6542 - val_loss: 0.9233\n",
            "Q 4904-1526 T 3378  ☒ 3555 \n",
            "Q 6766-6918 T -152  ☒ -19  \n",
            "Q 5+645     T 650   ☒ 649  \n",
            "Q 8-141     T -133  ☒ -137 \n",
            "Q 35-7337   T -7302 ☒ -7300\n",
            "Q 6340+61   T 6401  ☒ 6471 \n",
            "Q 7+613     T 620   ☒ 617  \n",
            "Q 46-24     T 22    ☑ 22   \n",
            "Q 640-47    T 593   ☒ 587  \n",
            "Q 765-50    T 715   ☑ 715  \n",
            "\n",
            "--------------------------------------------------\n",
            "Iteration 15\n",
            "\u001b[1m281/282\u001b[0m \u001b[32m━━━━━━━━━━━━━━━━━━━\u001b[0m\u001b[37m━\u001b[0m \u001b[1m0s\u001b[0m 127ms/step - accuracy: 0.6822 - loss: 0.8663\n",
            "Epoch 1: val_loss improved from 0.92329 to 0.90022, saving model to best_model.h5\n"
          ]
        },
        {
          "output_type": "stream",
          "name": "stderr",
          "text": [
            "WARNING:absl:You are saving your model as an HDF5 file via `model.save()` or `keras.saving.save_model(model)`. This file format is considered legacy. We recommend using instead the native Keras format, e.g. `model.save('my_model.keras')` or `keras.saving.save_model(model, 'my_model.keras')`. \n"
          ]
        },
        {
          "output_type": "stream",
          "name": "stdout",
          "text": [
            "\b\b\b\b\b\b\b\b\b\b\b\b\b\b\b\b\b\b\b\b\b\b\b\b\b\b\b\b\b\b\b\b\b\b\b\b\b\b\b\b\b\b\b\b\b\b\b\b\b\b\b\b\b\b\b\b\b\b\b\b\b\b\b\b\b\b\b\b\b\b\b\b\b\b\b\b\r\u001b[1m282/282\u001b[0m \u001b[32m━━━━━━━━━━━━━━━━━━━━\u001b[0m\u001b[37m\u001b[0m \u001b[1m37s\u001b[0m 131ms/step - accuracy: 0.6821 - loss: 0.8663 - val_accuracy: 0.6610 - val_loss: 0.9002\n",
            "Q 40-0      T 40    ☒ 30   \n",
            "Q 3732+851  T 4583  ☒ 4525 \n",
            "Q 493+14    T 507   ☒ 596  \n",
            "Q 76+31     T 107   ☑ 107  \n",
            "Q 3907-1    T 3906  ☒ 3909 \n",
            "Q 7573+314  T 7887  ☒ 7904 \n",
            "Q 4-902     T -898  ☒ -905 \n",
            "Q 0-103     T -103  ☑ -103 \n",
            "Q 4-78      T -74   ☑ -74  \n",
            "Q 1610-2    T 1608  ☒ 1602 \n",
            "\n",
            "--------------------------------------------------\n",
            "Iteration 16\n",
            "\u001b[1m281/282\u001b[0m \u001b[32m━━━━━━━━━━━━━━━━━━━\u001b[0m\u001b[37m━\u001b[0m \u001b[1m0s\u001b[0m 122ms/step - accuracy: 0.6909 - loss: 0.8442\n",
            "Epoch 1: val_loss improved from 0.90022 to 0.88645, saving model to best_model.h5\n"
          ]
        },
        {
          "output_type": "stream",
          "name": "stderr",
          "text": [
            "WARNING:absl:You are saving your model as an HDF5 file via `model.save()` or `keras.saving.save_model(model)`. This file format is considered legacy. We recommend using instead the native Keras format, e.g. `model.save('my_model.keras')` or `keras.saving.save_model(model, 'my_model.keras')`. \n"
          ]
        },
        {
          "output_type": "stream",
          "name": "stdout",
          "text": [
            "\b\b\b\b\b\b\b\b\b\b\b\b\b\b\b\b\b\b\b\b\b\b\b\b\b\b\b\b\b\b\b\b\b\b\b\b\b\b\b\b\b\b\b\b\b\b\b\b\b\b\b\b\b\b\b\b\b\b\b\b\b\b\b\b\b\b\b\b\b\b\b\b\b\b\b\b\r\u001b[1m282/282\u001b[0m \u001b[32m━━━━━━━━━━━━━━━━━━━━\u001b[0m\u001b[37m\u001b[0m \u001b[1m36s\u001b[0m 127ms/step - accuracy: 0.6909 - loss: 0.8441 - val_accuracy: 0.6691 - val_loss: 0.8864\n",
            "Q 71-1621   T -1550 ☒ -1593\n",
            "Q 3397-38   T 3359  ☒ 3305 \n",
            "Q 22-494    T -472  ☒ -466 \n",
            "Q 0-559     T -559  ☑ -559 \n",
            "Q 9-814     T -805  ☒ -806 \n",
            "Q 338+2991  T 3329  ☒ 4099 \n",
            "Q 5+206     T 211   ☒ 208  \n",
            "Q 10+26     T 36    ☒ 37   \n",
            "Q 750-9     T 741   ☒ 750  \n",
            "Q 42+9628   T 9670  ☒ 9686 \n",
            "\n",
            "--------------------------------------------------\n",
            "Iteration 17\n",
            "\u001b[1m281/282\u001b[0m \u001b[32m━━━━━━━━━━━━━━━━━━━\u001b[0m\u001b[37m━\u001b[0m \u001b[1m0s\u001b[0m 117ms/step - accuracy: 0.6994 - loss: 0.8227\n",
            "Epoch 1: val_loss improved from 0.88645 to 0.87422, saving model to best_model.h5\n"
          ]
        },
        {
          "output_type": "stream",
          "name": "stderr",
          "text": [
            "WARNING:absl:You are saving your model as an HDF5 file via `model.save()` or `keras.saving.save_model(model)`. This file format is considered legacy. We recommend using instead the native Keras format, e.g. `model.save('my_model.keras')` or `keras.saving.save_model(model, 'my_model.keras')`. \n"
          ]
        },
        {
          "output_type": "stream",
          "name": "stdout",
          "text": [
            "\b\b\b\b\b\b\b\b\b\b\b\b\b\b\b\b\b\b\b\b\b\b\b\b\b\b\b\b\b\b\b\b\b\b\b\b\b\b\b\b\b\b\b\b\b\b\b\b\b\b\b\b\b\b\b\b\b\b\b\b\b\b\b\b\b\b\b\b\b\b\b\b\b\b\b\b\r\u001b[1m282/282\u001b[0m \u001b[32m━━━━━━━━━━━━━━━━━━━━\u001b[0m\u001b[37m\u001b[0m \u001b[1m34s\u001b[0m 121ms/step - accuracy: 0.6994 - loss: 0.8227 - val_accuracy: 0.6703 - val_loss: 0.8742\n",
            "Q 1099+9086 T 10185 ☒ 10889\n",
            "Q 5181-4    T 5177  ☒ 5183 \n",
            "Q 2618-19   T 2599  ☒ 2607 \n",
            "Q 71+8401   T 8472  ☒ 8483 \n",
            "Q 960+2860  T 3820  ☒ 3884 \n",
            "Q 0-768     T -768  ☑ -768 \n",
            "Q 6-966     T -960  ☒ -961 \n",
            "Q 90+329    T 419   ☒ 311  \n",
            "Q 662-2     T 660   ☒ 654  \n",
            "Q 3048+267  T 3315  ☒ 3511 \n",
            "\n",
            "--------------------------------------------------\n",
            "Iteration 18\n",
            "\u001b[1m281/282\u001b[0m \u001b[32m━━━━━━━━━━━━━━━━━━━\u001b[0m\u001b[37m━\u001b[0m \u001b[1m0s\u001b[0m 118ms/step - accuracy: 0.7077 - loss: 0.8014\n",
            "Epoch 1: val_loss improved from 0.87422 to 0.85990, saving model to best_model.h5\n"
          ]
        },
        {
          "output_type": "stream",
          "name": "stderr",
          "text": [
            "WARNING:absl:You are saving your model as an HDF5 file via `model.save()` or `keras.saving.save_model(model)`. This file format is considered legacy. We recommend using instead the native Keras format, e.g. `model.save('my_model.keras')` or `keras.saving.save_model(model, 'my_model.keras')`. \n"
          ]
        },
        {
          "output_type": "stream",
          "name": "stdout",
          "text": [
            "\b\b\b\b\b\b\b\b\b\b\b\b\b\b\b\b\b\b\b\b\b\b\b\b\b\b\b\b\b\b\b\b\b\b\b\b\b\b\b\b\b\b\b\b\b\b\b\b\b\b\b\b\b\b\b\b\b\b\b\b\b\b\b\b\b\b\b\b\b\b\b\b\b\b\b\b\r\u001b[1m282/282\u001b[0m \u001b[32m━━━━━━━━━━━━━━━━━━━━\u001b[0m\u001b[37m\u001b[0m \u001b[1m35s\u001b[0m 124ms/step - accuracy: 0.7077 - loss: 0.8014 - val_accuracy: 0.6775 - val_loss: 0.8599\n",
            "Q 137+8     T 145   ☑ 145  \n",
            "Q 132+4     T 136   ☑ 136  \n",
            "Q 309+548   T 857   ☒ 866  \n",
            "Q 204+7747  T 7951  ☒ 7877 \n",
            "Q 8149-977  T 7172  ☒ 7726 \n",
            "Q 1-2       T -1    ☑ -1   \n",
            "Q 19-898    T -879  ☒ -870 \n",
            "Q 7541+88   T 7629  ☒ 7522 \n",
            "Q 28-392    T -364  ☑ -364 \n",
            "Q 9-6686    T -6677 ☑ -6677\n",
            "\n",
            "--------------------------------------------------\n",
            "Iteration 19\n",
            "\u001b[1m282/282\u001b[0m \u001b[32m━━━━━━━━━━━━━━━━━━━━\u001b[0m\u001b[37m\u001b[0m \u001b[1m0s\u001b[0m 118ms/step - accuracy: 0.7168 - loss: 0.7790\n",
            "Epoch 1: val_loss improved from 0.85990 to 0.84753, saving model to best_model.h5\n"
          ]
        },
        {
          "output_type": "stream",
          "name": "stderr",
          "text": [
            "WARNING:absl:You are saving your model as an HDF5 file via `model.save()` or `keras.saving.save_model(model)`. This file format is considered legacy. We recommend using instead the native Keras format, e.g. `model.save('my_model.keras')` or `keras.saving.save_model(model, 'my_model.keras')`. \n"
          ]
        },
        {
          "output_type": "stream",
          "name": "stdout",
          "text": [
            "\b\b\b\b\b\b\b\b\b\b\b\b\b\b\b\b\b\b\b\b\b\b\b\b\b\b\b\b\b\b\b\b\b\b\b\b\b\b\b\b\b\b\b\b\b\b\b\b\b\b\b\b\b\b\b\b\b\b\b\b\b\b\b\b\b\b\b\b\b\b\b\b\b\b\b\b\r\u001b[1m282/282\u001b[0m \u001b[32m━━━━━━━━━━━━━━━━━━━━\u001b[0m\u001b[37m\u001b[0m \u001b[1m35s\u001b[0m 124ms/step - accuracy: 0.7168 - loss: 0.7790 - val_accuracy: 0.6824 - val_loss: 0.8475\n",
            "Q 7273-51   T 7222  ☒ 7262 \n",
            "Q 2242-839  T 1403  ☒ 1511 \n",
            "Q 17-2      T 15    ☑ 15   \n",
            "Q 21+953    T 974   ☒ 968  \n",
            "Q 633-17    T 616   ☒ 624  \n",
            "Q 5797-3    T 5794  ☑ 5794 \n",
            "Q 4510-218  T 4292  ☒ 4188 \n",
            "Q 8-6854    T -6846 ☒ -6854\n",
            "Q 9+27      T 36    ☒ 94   \n",
            "Q 998-29    T 969   ☒ 979  \n",
            "\n",
            "--------------------------------------------------\n",
            "Iteration 20\n",
            "\u001b[1m282/282\u001b[0m \u001b[32m━━━━━━━━━━━━━━━━━━━━\u001b[0m\u001b[37m\u001b[0m \u001b[1m0s\u001b[0m 119ms/step - accuracy: 0.7247 - loss: 0.7555\n",
            "Epoch 1: val_loss improved from 0.84753 to 0.83087, saving model to best_model.h5\n"
          ]
        },
        {
          "output_type": "stream",
          "name": "stderr",
          "text": [
            "WARNING:absl:You are saving your model as an HDF5 file via `model.save()` or `keras.saving.save_model(model)`. This file format is considered legacy. We recommend using instead the native Keras format, e.g. `model.save('my_model.keras')` or `keras.saving.save_model(model, 'my_model.keras')`. \n"
          ]
        },
        {
          "output_type": "stream",
          "name": "stdout",
          "text": [
            "\b\b\b\b\b\b\b\b\b\b\b\b\b\b\b\b\b\b\b\b\b\b\b\b\b\b\b\b\b\b\b\b\b\b\b\b\b\b\b\b\b\b\b\b\b\b\b\b\b\b\b\b\b\b\b\b\b\b\b\b\b\b\b\b\b\b\b\b\b\b\b\b\b\b\b\b\r\u001b[1m282/282\u001b[0m \u001b[32m━━━━━━━━━━━━━━━━━━━━\u001b[0m\u001b[37m\u001b[0m \u001b[1m35s\u001b[0m 125ms/step - accuracy: 0.7247 - loss: 0.7556 - val_accuracy: 0.6891 - val_loss: 0.8309\n",
            "Q 95-52     T 43    ☒ 47   \n",
            "Q 20+69     T 89    ☒ 80   \n",
            "Q 559+7     T 566   ☒ 578  \n",
            "Q 94-685    T -591  ☒ -573 \n",
            "Q 5290-2    T 5288  ☒ 5291 \n",
            "Q 152+417   T 569   ☒ 563  \n",
            "Q 88-75     T 13    ☑ 13   \n",
            "Q 9181+34   T 9215  ☒ 9237 \n",
            "Q 182-7171  T -6989 ☒ -6003\n",
            "Q 0+784     T 784   ☑ 784  \n",
            "\n",
            "--------------------------------------------------\n",
            "Iteration 21\n",
            "\u001b[1m282/282\u001b[0m \u001b[32m━━━━━━━━━━━━━━━━━━━━\u001b[0m\u001b[37m\u001b[0m \u001b[1m0s\u001b[0m 115ms/step - accuracy: 0.7350 - loss: 0.7333\n",
            "Epoch 1: val_loss improved from 0.83087 to 0.80168, saving model to best_model.h5\n"
          ]
        },
        {
          "output_type": "stream",
          "name": "stderr",
          "text": [
            "WARNING:absl:You are saving your model as an HDF5 file via `model.save()` or `keras.saving.save_model(model)`. This file format is considered legacy. We recommend using instead the native Keras format, e.g. `model.save('my_model.keras')` or `keras.saving.save_model(model, 'my_model.keras')`. \n"
          ]
        },
        {
          "output_type": "stream",
          "name": "stdout",
          "text": [
            "\b\b\b\b\b\b\b\b\b\b\b\b\b\b\b\b\b\b\b\b\b\b\b\b\b\b\b\b\b\b\b\b\b\b\b\b\b\b\b\b\b\b\b\b\b\b\b\b\b\b\b\b\b\b\b\b\b\b\b\b\b\b\b\b\b\b\b\b\b\b\b\b\b\b\b\b\r\u001b[1m282/282\u001b[0m \u001b[32m━━━━━━━━━━━━━━━━━━━━\u001b[0m\u001b[37m\u001b[0m \u001b[1m35s\u001b[0m 125ms/step - accuracy: 0.7350 - loss: 0.7333 - val_accuracy: 0.7027 - val_loss: 0.8017\n",
            "Q 1528-759  T 769   ☒ 707  \n",
            "Q 123-4     T 119   ☒ 118  \n",
            "Q 9-184     T -175  ☒ -176 \n",
            "Q 9918+996  T 10914 ☒ 10087\n",
            "Q 25-4      T 21    ☑ 21   \n",
            "Q 169+969   T 1138  ☒ 1056 \n",
            "Q 5+9003    T 9008  ☒ 9005 \n",
            "Q 43-54     T -11   ☒ -1   \n",
            "Q 534+299   T 833   ☒ 845  \n",
            "Q 80+37     T 117   ☒ 111  \n",
            "\n",
            "--------------------------------------------------\n",
            "Iteration 22\n",
            "\u001b[1m282/282\u001b[0m \u001b[32m━━━━━━━━━━━━━━━━━━━━\u001b[0m\u001b[37m\u001b[0m \u001b[1m0s\u001b[0m 123ms/step - accuracy: 0.7491 - loss: 0.7042\n",
            "Epoch 1: val_loss improved from 0.80168 to 0.79193, saving model to best_model.h5\n"
          ]
        },
        {
          "output_type": "stream",
          "name": "stderr",
          "text": [
            "WARNING:absl:You are saving your model as an HDF5 file via `model.save()` or `keras.saving.save_model(model)`. This file format is considered legacy. We recommend using instead the native Keras format, e.g. `model.save('my_model.keras')` or `keras.saving.save_model(model, 'my_model.keras')`. \n"
          ]
        },
        {
          "output_type": "stream",
          "name": "stdout",
          "text": [
            "\b\b\b\b\b\b\b\b\b\b\b\b\b\b\b\b\b\b\b\b\b\b\b\b\b\b\b\b\b\b\b\b\b\b\b\b\b\b\b\b\b\b\b\b\b\b\b\b\b\b\b\b\b\b\b\b\b\b\b\b\b\b\b\b\b\b\b\b\b\b\b\b\b\b\b\b\r\u001b[1m282/282\u001b[0m \u001b[32m━━━━━━━━━━━━━━━━━━━━\u001b[0m\u001b[37m\u001b[0m \u001b[1m37s\u001b[0m 133ms/step - accuracy: 0.7491 - loss: 0.7042 - val_accuracy: 0.7063 - val_loss: 0.7919\n",
            "Q 5565-1339 T 4226  ☒ 4057 \n",
            "Q 309+7     T 316   ☑ 316  \n",
            "Q 9624+22   T 9646  ☒ 9644 \n",
            "Q 3-75      T -72   ☑ -72  \n",
            "Q 80-77     T 3     ☒ -    \n",
            "Q 11-4883   T -4872 ☒ -4870\n",
            "Q 3774-569  T 3205  ☒ 3113 \n",
            "Q 840+0     T 840   ☑ 840  \n",
            "Q 4421-6    T 4415  ☒ 4417 \n",
            "Q 1719-33   T 1686  ☒ 1606 \n",
            "\n",
            "--------------------------------------------------\n",
            "Iteration 23\n",
            "\u001b[1m282/282\u001b[0m \u001b[32m━━━━━━━━━━━━━━━━━━━━\u001b[0m\u001b[37m\u001b[0m \u001b[1m0s\u001b[0m 115ms/step - accuracy: 0.7584 - loss: 0.6831\n",
            "Epoch 1: val_loss improved from 0.79193 to 0.76387, saving model to best_model.h5\n"
          ]
        },
        {
          "output_type": "stream",
          "name": "stderr",
          "text": [
            "WARNING:absl:You are saving your model as an HDF5 file via `model.save()` or `keras.saving.save_model(model)`. This file format is considered legacy. We recommend using instead the native Keras format, e.g. `model.save('my_model.keras')` or `keras.saving.save_model(model, 'my_model.keras')`. \n"
          ]
        },
        {
          "output_type": "stream",
          "name": "stdout",
          "text": [
            "\b\b\b\b\b\b\b\b\b\b\b\b\b\b\b\b\b\b\b\b\b\b\b\b\b\b\b\b\b\b\b\b\b\b\b\b\b\b\b\b\b\b\b\b\b\b\b\b\b\b\b\b\b\b\b\b\b\b\b\b\b\b\b\b\b\b\b\b\b\b\b\b\b\b\b\b\r\u001b[1m282/282\u001b[0m \u001b[32m━━━━━━━━━━━━━━━━━━━━\u001b[0m\u001b[37m\u001b[0m \u001b[1m34s\u001b[0m 119ms/step - accuracy: 0.7584 - loss: 0.6831 - val_accuracy: 0.7195 - val_loss: 0.7639\n",
            "Q 651+99    T 750   ☒ 754  \n",
            "Q 8574-71   T 8503  ☒ 8577 \n",
            "Q 90-8599   T -8509 ☑ -8509\n",
            "Q 4387+0    T 4387  ☑ 4387 \n",
            "Q 283+88    T 371   ☒ 366  \n",
            "Q 5+345     T 350   ☑ 350  \n",
            "Q 2553+9744 T 12297 ☒ 11099\n",
            "Q 182+2886  T 3068  ☒ 3060 \n",
            "Q 8889-5460 T 3429  ☒ 3755 \n",
            "Q 5-730     T -725  ☑ -725 \n",
            "\n",
            "--------------------------------------------------\n",
            "Iteration 24\n",
            "\u001b[1m282/282\u001b[0m \u001b[32m━━━━━━━━━━━━━━━━━━━━\u001b[0m\u001b[37m\u001b[0m \u001b[1m0s\u001b[0m 119ms/step - accuracy: 0.7731 - loss: 0.6500\n",
            "Epoch 1: val_loss improved from 0.76387 to 0.73055, saving model to best_model.h5\n"
          ]
        },
        {
          "output_type": "stream",
          "name": "stderr",
          "text": [
            "WARNING:absl:You are saving your model as an HDF5 file via `model.save()` or `keras.saving.save_model(model)`. This file format is considered legacy. We recommend using instead the native Keras format, e.g. `model.save('my_model.keras')` or `keras.saving.save_model(model, 'my_model.keras')`. \n"
          ]
        },
        {
          "output_type": "stream",
          "name": "stdout",
          "text": [
            "\b\b\b\b\b\b\b\b\b\b\b\b\b\b\b\b\b\b\b\b\b\b\b\b\b\b\b\b\b\b\b\b\b\b\b\b\b\b\b\b\b\b\b\b\b\b\b\b\b\b\b\b\b\b\b\b\b\b\b\b\b\b\b\b\b\b\b\b\b\b\b\b\b\b\b\b\r\u001b[1m282/282\u001b[0m \u001b[32m━━━━━━━━━━━━━━━━━━━━\u001b[0m\u001b[37m\u001b[0m \u001b[1m35s\u001b[0m 125ms/step - accuracy: 0.7731 - loss: 0.6500 - val_accuracy: 0.7351 - val_loss: 0.7305\n",
            "Q 7659+8695 T 16354 ☒ 15334\n",
            "Q 11+608    T 619   ☑ 619  \n",
            "Q 1+84      T 85    ☑ 85   \n",
            "Q 5004-98   T 4906  ☒ 4944 \n",
            "Q 7+787     T 794   ☒ 784  \n",
            "Q 9+123     T 132   ☑ 132  \n",
            "Q 10-1425   T -1415 ☒ -1347\n",
            "Q 20+0      T 20    ☑ 20   \n",
            "Q 809-122   T 687   ☒ 773  \n",
            "Q 7+718     T 725   ☑ 725  \n",
            "\n",
            "--------------------------------------------------\n",
            "Iteration 25\n",
            "\u001b[1m281/282\u001b[0m \u001b[32m━━━━━━━━━━━━━━━━━━━\u001b[0m\u001b[37m━\u001b[0m \u001b[1m0s\u001b[0m 117ms/step - accuracy: 0.7875 - loss: 0.6159\n",
            "Epoch 1: val_loss improved from 0.73055 to 0.71026, saving model to best_model.h5\n"
          ]
        },
        {
          "output_type": "stream",
          "name": "stderr",
          "text": [
            "WARNING:absl:You are saving your model as an HDF5 file via `model.save()` or `keras.saving.save_model(model)`. This file format is considered legacy. We recommend using instead the native Keras format, e.g. `model.save('my_model.keras')` or `keras.saving.save_model(model, 'my_model.keras')`. \n"
          ]
        },
        {
          "output_type": "stream",
          "name": "stdout",
          "text": [
            "\b\b\b\b\b\b\b\b\b\b\b\b\b\b\b\b\b\b\b\b\b\b\b\b\b\b\b\b\b\b\b\b\b\b\b\b\b\b\b\b\b\b\b\b\b\b\b\b\b\b\b\b\b\b\b\b\b\b\b\b\b\b\b\b\b\b\b\b\b\b\b\b\b\b\b\b\r\u001b[1m282/282\u001b[0m \u001b[32m━━━━━━━━━━━━━━━━━━━━\u001b[0m\u001b[37m\u001b[0m \u001b[1m35s\u001b[0m 122ms/step - accuracy: 0.7875 - loss: 0.6159 - val_accuracy: 0.7441 - val_loss: 0.7103\n",
            "Q 5059-6    T 5053  ☒ 5045 \n",
            "Q 931+444   T 1375  ☒ 1367 \n",
            "Q 93-9260   T -9167 ☒ -9139\n",
            "Q 2-547     T -545  ☑ -545 \n",
            "Q 0-845     T -845  ☑ -845 \n",
            "Q 948-5600  T -4652 ☒ -4506\n",
            "Q 342+7     T 349   ☑ 349  \n",
            "Q 3449-102  T 3347  ☒ 3312 \n",
            "Q 363-1     T 362   ☑ 362  \n",
            "Q 223+8697  T 8920  ☒ 8910 \n",
            "\n",
            "--------------------------------------------------\n",
            "Iteration 26\n",
            "\u001b[1m281/282\u001b[0m \u001b[32m━━━━━━━━━━━━━━━━━━━\u001b[0m\u001b[37m━\u001b[0m \u001b[1m0s\u001b[0m 116ms/step - accuracy: 0.7977 - loss: 0.5878\n",
            "Epoch 1: val_loss improved from 0.71026 to 0.68119, saving model to best_model.h5\n"
          ]
        },
        {
          "output_type": "stream",
          "name": "stderr",
          "text": [
            "WARNING:absl:You are saving your model as an HDF5 file via `model.save()` or `keras.saving.save_model(model)`. This file format is considered legacy. We recommend using instead the native Keras format, e.g. `model.save('my_model.keras')` or `keras.saving.save_model(model, 'my_model.keras')`. \n"
          ]
        },
        {
          "output_type": "stream",
          "name": "stdout",
          "text": [
            "\b\b\b\b\b\b\b\b\b\b\b\b\b\b\b\b\b\b\b\b\b\b\b\b\b\b\b\b\b\b\b\b\b\b\b\b\b\b\b\b\b\b\b\b\b\b\b\b\b\b\b\b\b\b\b\b\b\b\b\b\b\b\b\b\b\b\b\b\b\b\b\b\b\b\b\b\r\u001b[1m282/282\u001b[0m \u001b[32m━━━━━━━━━━━━━━━━━━━━\u001b[0m\u001b[37m\u001b[0m \u001b[1m34s\u001b[0m 120ms/step - accuracy: 0.7977 - loss: 0.5878 - val_accuracy: 0.7520 - val_loss: 0.6812\n",
            "Q 5039+20   T 5059  ☒ 5111 \n",
            "Q 75+6982   T 7057  ☒ 7055 \n",
            "Q 17+63     T 80    ☒ 84   \n",
            "Q 1189-8516 T -7327 ☒ -7333\n",
            "Q 15+5094   T 5109  ☒ 5099 \n",
            "Q 2+2       T 4     ☑ 4    \n",
            "Q 8+993     T 1001  ☑ 1001 \n",
            "Q 9+7728    T 7737  ☒ 7739 \n",
            "Q 62+261    T 323   ☒ 393  \n",
            "Q 9+1318    T 1327  ☒ 1339 \n",
            "\n",
            "--------------------------------------------------\n",
            "Iteration 27\n",
            "\u001b[1m281/282\u001b[0m \u001b[32m━━━━━━━━━━━━━━━━━━━\u001b[0m\u001b[37m━\u001b[0m \u001b[1m0s\u001b[0m 127ms/step - accuracy: 0.8092 - loss: 0.5527\n",
            "Epoch 1: val_loss improved from 0.68119 to 0.65242, saving model to best_model.h5\n"
          ]
        },
        {
          "output_type": "stream",
          "name": "stderr",
          "text": [
            "WARNING:absl:You are saving your model as an HDF5 file via `model.save()` or `keras.saving.save_model(model)`. This file format is considered legacy. We recommend using instead the native Keras format, e.g. `model.save('my_model.keras')` or `keras.saving.save_model(model, 'my_model.keras')`. \n"
          ]
        },
        {
          "output_type": "stream",
          "name": "stdout",
          "text": [
            "\b\b\b\b\b\b\b\b\b\b\b\b\b\b\b\b\b\b\b\b\b\b\b\b\b\b\b\b\b\b\b\b\b\b\b\b\b\b\b\b\b\b\b\b\b\b\b\b\b\b\b\b\b\b\b\b\b\b\b\b\b\b\b\b\b\b\b\b\b\b\b\b\b\b\b\b\r\u001b[1m282/282\u001b[0m \u001b[32m━━━━━━━━━━━━━━━━━━━━\u001b[0m\u001b[37m\u001b[0m \u001b[1m37s\u001b[0m 131ms/step - accuracy: 0.8091 - loss: 0.5527 - val_accuracy: 0.7631 - val_loss: 0.6524\n",
            "Q 5+769     T 774   ☒ 784  \n",
            "Q 976+992   T 1968  ☒ 1074 \n",
            "Q 850-318   T 532   ☒ 568  \n",
            "Q 9424-552  T 8872  ☒ 8988 \n",
            "Q 83+96     T 179   ☑ 179  \n",
            "Q 0+73      T 73    ☑ 73   \n",
            "Q 58-6561   T -6503 ☒ -6593\n",
            "Q 37+77     T 114   ☑ 114  \n",
            "Q 384+583   T 967   ☒ 923  \n",
            "Q 13-6083   T -6070 ☒ -6074\n",
            "\n",
            "--------------------------------------------------\n",
            "Iteration 28\n",
            "\u001b[1m282/282\u001b[0m \u001b[32m━━━━━━━━━━━━━━━━━━━━\u001b[0m\u001b[37m\u001b[0m \u001b[1m0s\u001b[0m 119ms/step - accuracy: 0.8183 - loss: 0.5259\n",
            "Epoch 1: val_loss improved from 0.65242 to 0.64572, saving model to best_model.h5\n"
          ]
        },
        {
          "output_type": "stream",
          "name": "stderr",
          "text": [
            "WARNING:absl:You are saving your model as an HDF5 file via `model.save()` or `keras.saving.save_model(model)`. This file format is considered legacy. We recommend using instead the native Keras format, e.g. `model.save('my_model.keras')` or `keras.saving.save_model(model, 'my_model.keras')`. \n"
          ]
        },
        {
          "output_type": "stream",
          "name": "stdout",
          "text": [
            "\b\b\b\b\b\b\b\b\b\b\b\b\b\b\b\b\b\b\b\b\b\b\b\b\b\b\b\b\b\b\b\b\b\b\b\b\b\b\b\b\b\b\b\b\b\b\b\b\b\b\b\b\b\b\b\b\b\b\b\b\b\b\b\b\b\b\b\b\b\b\b\b\b\b\b\b\r\u001b[1m282/282\u001b[0m \u001b[32m━━━━━━━━━━━━━━━━━━━━\u001b[0m\u001b[37m\u001b[0m \u001b[1m36s\u001b[0m 129ms/step - accuracy: 0.8183 - loss: 0.5259 - val_accuracy: 0.7676 - val_loss: 0.6457\n",
            "Q 93-72     T 21    ☒ 11   \n",
            "Q 58-71     T -13   ☑ -13  \n",
            "Q 81-7424   T -7343 ☒ -7353\n",
            "Q 60-6236   T -6176 ☒ -6274\n",
            "Q 1992-33   T 1959  ☒ 1975 \n",
            "Q 55-89     T -34   ☒ -44  \n",
            "Q 7072+1    T 7073  ☑ 7073 \n",
            "Q 5285-1    T 5284  ☑ 5284 \n",
            "Q 1-91      T -90   ☒ -80  \n",
            "Q 118+0     T 118   ☒ 128  \n",
            "\n",
            "--------------------------------------------------\n",
            "Iteration 29\n",
            "\u001b[1m281/282\u001b[0m \u001b[32m━━━━━━━━━━━━━━━━━━━\u001b[0m\u001b[37m━\u001b[0m \u001b[1m0s\u001b[0m 116ms/step - accuracy: 0.8273 - loss: 0.5011\n",
            "Epoch 1: val_loss improved from 0.64572 to 0.61793, saving model to best_model.h5\n"
          ]
        },
        {
          "output_type": "stream",
          "name": "stderr",
          "text": [
            "WARNING:absl:You are saving your model as an HDF5 file via `model.save()` or `keras.saving.save_model(model)`. This file format is considered legacy. We recommend using instead the native Keras format, e.g. `model.save('my_model.keras')` or `keras.saving.save_model(model, 'my_model.keras')`. \n"
          ]
        },
        {
          "output_type": "stream",
          "name": "stdout",
          "text": [
            "\b\b\b\b\b\b\b\b\b\b\b\b\b\b\b\b\b\b\b\b\b\b\b\b\b\b\b\b\b\b\b\b\b\b\b\b\b\b\b\b\b\b\b\b\b\b\b\b\b\b\b\b\b\b\b\b\b\b\b\b\b\b\b\b\b\b\b\b\b\b\b\b\b\b\b\b\r\u001b[1m282/282\u001b[0m \u001b[32m━━━━━━━━━━━━━━━━━━━━\u001b[0m\u001b[37m\u001b[0m \u001b[1m34s\u001b[0m 121ms/step - accuracy: 0.8273 - loss: 0.5011 - val_accuracy: 0.7731 - val_loss: 0.6179\n",
            "Q 4037+48   T 4085  ☒ 4171 \n",
            "Q 5099+8955 T 14054 ☒ 14444\n",
            "Q 1-814     T -813  ☑ -813 \n",
            "Q 82+757    T 839   ☒ 831  \n",
            "Q 9397-31   T 9366  ☑ 9366 \n",
            "Q 8906-99   T 8807  ☒ 8819 \n",
            "Q 147-9     T 138   ☑ 138  \n",
            "Q 34+24     T 58    ☒ 68   \n",
            "Q 2030+72   T 2102  ☒ 2103 \n",
            "Q 80+2199   T 2279  ☒ 2271 \n",
            "\n",
            "--------------------------------------------------\n",
            "Iteration 30\n",
            "\u001b[1m281/282\u001b[0m \u001b[32m━━━━━━━━━━━━━━━━━━━\u001b[0m\u001b[37m━\u001b[0m \u001b[1m0s\u001b[0m 124ms/step - accuracy: 0.8317 - loss: 0.4839\n",
            "Epoch 1: val_loss improved from 0.61793 to 0.59391, saving model to best_model.h5\n"
          ]
        },
        {
          "output_type": "stream",
          "name": "stderr",
          "text": [
            "WARNING:absl:You are saving your model as an HDF5 file via `model.save()` or `keras.saving.save_model(model)`. This file format is considered legacy. We recommend using instead the native Keras format, e.g. `model.save('my_model.keras')` or `keras.saving.save_model(model, 'my_model.keras')`. \n"
          ]
        },
        {
          "output_type": "stream",
          "name": "stdout",
          "text": [
            "\b\b\b\b\b\b\b\b\b\b\b\b\b\b\b\b\b\b\b\b\b\b\b\b\b\b\b\b\b\b\b\b\b\b\b\b\b\b\b\b\b\b\b\b\b\b\b\b\b\b\b\b\b\b\b\b\b\b\b\b\b\b\b\b\b\b\b\b\b\b\b\b\b\b\b\b\r\u001b[1m282/282\u001b[0m \u001b[32m━━━━━━━━━━━━━━━━━━━━\u001b[0m\u001b[37m\u001b[0m \u001b[1m36s\u001b[0m 129ms/step - accuracy: 0.8317 - loss: 0.4839 - val_accuracy: 0.7825 - val_loss: 0.5939\n",
            "Q 62+1813   T 1875  ☒ 1885 \n",
            "Q 8266-1993 T 6273  ☒ 6755 \n",
            "Q 320-9876  T -9556 ☒ -9566\n",
            "Q 376+1     T 377   ☑ 377  \n",
            "Q 8-61      T -53   ☑ -53  \n",
            "Q 6521+74   T 6595  ☒ 6587 \n",
            "Q 361+5     T 366   ☑ 366  \n",
            "Q 354+109   T 463   ☒ 545  \n",
            "Q 891-9071  T -8180 ☒ -8222\n",
            "Q 4-231     T -227  ☒ -217 \n",
            "\n",
            "--------------------------------------------------\n",
            "Iteration 31\n",
            "\u001b[1m281/282\u001b[0m \u001b[32m━━━━━━━━━━━━━━━━━━━\u001b[0m\u001b[37m━\u001b[0m \u001b[1m0s\u001b[0m 116ms/step - accuracy: 0.8429 - loss: 0.4546\n",
            "Epoch 1: val_loss improved from 0.59391 to 0.58823, saving model to best_model.h5\n"
          ]
        },
        {
          "output_type": "stream",
          "name": "stderr",
          "text": [
            "WARNING:absl:You are saving your model as an HDF5 file via `model.save()` or `keras.saving.save_model(model)`. This file format is considered legacy. We recommend using instead the native Keras format, e.g. `model.save('my_model.keras')` or `keras.saving.save_model(model, 'my_model.keras')`. \n"
          ]
        },
        {
          "output_type": "stream",
          "name": "stdout",
          "text": [
            "\b\b\b\b\b\b\b\b\b\b\b\b\b\b\b\b\b\b\b\b\b\b\b\b\b\b\b\b\b\b\b\b\b\b\b\b\b\b\b\b\b\b\b\b\b\b\b\b\b\b\b\b\b\b\b\b\b\b\b\b\b\b\b\b\b\b\b\b\b\b\b\b\b\b\b\b\r\u001b[1m282/282\u001b[0m \u001b[32m━━━━━━━━━━━━━━━━━━━━\u001b[0m\u001b[37m\u001b[0m \u001b[1m34s\u001b[0m 121ms/step - accuracy: 0.8429 - loss: 0.4546 - val_accuracy: 0.7869 - val_loss: 0.5882\n",
            "Q 709-10    T 699   ☑ 699  \n",
            "Q 463-461   T 2     ☒ -3   \n",
            "Q 627-34    T 593   ☒ 619  \n",
            "Q 919-9970  T -9051 ☒ -8077\n",
            "Q 333+5579  T 5912  ☒ 5828 \n",
            "Q 4689+55   T 4744  ☑ 4744 \n",
            "Q 903-4247  T -3344 ☒ -3434\n",
            "Q 98-69     T 29    ☒ 19   \n",
            "Q 3275+4    T 3279  ☑ 3279 \n",
            "Q 27+434    T 461   ☑ 461  \n",
            "\n",
            "--------------------------------------------------\n",
            "Iteration 32\n",
            "\u001b[1m281/282\u001b[0m \u001b[32m━━━━━━━━━━━━━━━━━━━\u001b[0m\u001b[37m━\u001b[0m \u001b[1m0s\u001b[0m 123ms/step - accuracy: 0.8524 - loss: 0.4322\n",
            "Epoch 1: val_loss improved from 0.58823 to 0.57863, saving model to best_model.h5\n"
          ]
        },
        {
          "output_type": "stream",
          "name": "stderr",
          "text": [
            "WARNING:absl:You are saving your model as an HDF5 file via `model.save()` or `keras.saving.save_model(model)`. This file format is considered legacy. We recommend using instead the native Keras format, e.g. `model.save('my_model.keras')` or `keras.saving.save_model(model, 'my_model.keras')`. \n"
          ]
        },
        {
          "output_type": "stream",
          "name": "stdout",
          "text": [
            "\b\b\b\b\b\b\b\b\b\b\b\b\b\b\b\b\b\b\b\b\b\b\b\b\b\b\b\b\b\b\b\b\b\b\b\b\b\b\b\b\b\b\b\b\b\b\b\b\b\b\b\b\b\b\b\b\b\b\b\b\b\b\b\b\b\b\b\b\b\b\b\b\b\b\b\b\r\u001b[1m282/282\u001b[0m \u001b[32m━━━━━━━━━━━━━━━━━━━━\u001b[0m\u001b[37m\u001b[0m \u001b[1m36s\u001b[0m 128ms/step - accuracy: 0.8524 - loss: 0.4322 - val_accuracy: 0.7901 - val_loss: 0.5786\n",
            "Q 933-551   T 382   ☑ 382  \n",
            "Q 481-595   T -114  ☒ -16  \n",
            "Q 499-5622  T -5123 ☒ -5153\n",
            "Q 0+3628    T 3628  ☑ 3628 \n",
            "Q 8182-172  T 8010  ☒ 7110 \n",
            "Q 9958+864  T 10822 ☒ 10642\n",
            "Q 3971-79   T 3892  ☒ 3762 \n",
            "Q 5004-98   T 4906  ☒ 4946 \n",
            "Q 5089-254  T 4835  ☒ 5745 \n",
            "Q 138-971   T -833  ☒ -745 \n",
            "\n",
            "--------------------------------------------------\n",
            "Iteration 33\n",
            "\u001b[1m281/282\u001b[0m \u001b[32m━━━━━━━━━━━━━━━━━━━\u001b[0m\u001b[37m━\u001b[0m \u001b[1m0s\u001b[0m 114ms/step - accuracy: 0.8576 - loss: 0.4191\n",
            "Epoch 1: val_loss improved from 0.57863 to 0.56241, saving model to best_model.h5\n"
          ]
        },
        {
          "output_type": "stream",
          "name": "stderr",
          "text": [
            "WARNING:absl:You are saving your model as an HDF5 file via `model.save()` or `keras.saving.save_model(model)`. This file format is considered legacy. We recommend using instead the native Keras format, e.g. `model.save('my_model.keras')` or `keras.saving.save_model(model, 'my_model.keras')`. \n"
          ]
        },
        {
          "output_type": "stream",
          "name": "stdout",
          "text": [
            "\b\b\b\b\b\b\b\b\b\b\b\b\b\b\b\b\b\b\b\b\b\b\b\b\b\b\b\b\b\b\b\b\b\b\b\b\b\b\b\b\b\b\b\b\b\b\b\b\b\b\b\b\b\b\b\b\b\b\b\b\b\b\b\b\b\b\b\b\b\b\b\b\b\b\b\b\r\u001b[1m282/282\u001b[0m \u001b[32m━━━━━━━━━━━━━━━━━━━━\u001b[0m\u001b[37m\u001b[0m \u001b[1m34s\u001b[0m 119ms/step - accuracy: 0.8576 - loss: 0.4192 - val_accuracy: 0.7996 - val_loss: 0.5624\n",
            "Q 6-771     T -765  ☑ -765 \n",
            "Q 6118+5    T 6123  ☑ 6123 \n",
            "Q 263+7     T 270   ☑ 270  \n",
            "Q 260-5     T 255   ☑ 255  \n",
            "Q 0-73      T -73   ☑ -73  \n",
            "Q 7322-32   T 7290  ☑ 7290 \n",
            "Q 461+8153  T 8614  ☒ 8666 \n",
            "Q 99-8      T 91    ☑ 91   \n",
            "Q 914-5     T 909   ☑ 909  \n",
            "Q 7222+117  T 7339  ☒ 7345 \n",
            "\n",
            "--------------------------------------------------\n",
            "Iteration 34\n",
            "\u001b[1m282/282\u001b[0m \u001b[32m━━━━━━━━━━━━━━━━━━━━\u001b[0m\u001b[37m\u001b[0m \u001b[1m0s\u001b[0m 117ms/step - accuracy: 0.8637 - loss: 0.3991\n",
            "Epoch 1: val_loss improved from 0.56241 to 0.54489, saving model to best_model.h5\n"
          ]
        },
        {
          "output_type": "stream",
          "name": "stderr",
          "text": [
            "WARNING:absl:You are saving your model as an HDF5 file via `model.save()` or `keras.saving.save_model(model)`. This file format is considered legacy. We recommend using instead the native Keras format, e.g. `model.save('my_model.keras')` or `keras.saving.save_model(model, 'my_model.keras')`. \n"
          ]
        },
        {
          "output_type": "stream",
          "name": "stdout",
          "text": [
            "\b\b\b\b\b\b\b\b\b\b\b\b\b\b\b\b\b\b\b\b\b\b\b\b\b\b\b\b\b\b\b\b\b\b\b\b\b\b\b\b\b\b\b\b\b\b\b\b\b\b\b\b\b\b\b\b\b\b\b\b\b\b\b\b\b\b\b\b\b\b\b\b\b\b\b\b\r\u001b[1m282/282\u001b[0m \u001b[32m━━━━━━━━━━━━━━━━━━━━\u001b[0m\u001b[37m\u001b[0m \u001b[1m34s\u001b[0m 121ms/step - accuracy: 0.8637 - loss: 0.3991 - val_accuracy: 0.8019 - val_loss: 0.5449\n",
            "Q 7503-70   T 7433  ☒ 7533 \n",
            "Q 8717+3    T 8720  ☒ 8710 \n",
            "Q 5526-222  T 5304  ☒ 5244 \n",
            "Q 1059-1    T 1058  ☑ 1058 \n",
            "Q 910-4410  T -3500 ☒ -3378\n",
            "Q 45-5      T 40    ☑ 40   \n",
            "Q 914-5     T 909   ☑ 909  \n",
            "Q 17+537    T 554   ☑ 554  \n",
            "Q 27+26     T 53    ☑ 53   \n",
            "Q 1+1288    T 1289  ☑ 1289 \n",
            "\n",
            "--------------------------------------------------\n",
            "Iteration 35\n",
            "\u001b[1m281/282\u001b[0m \u001b[32m━━━━━━━━━━━━━━━━━━━\u001b[0m\u001b[37m━\u001b[0m \u001b[1m0s\u001b[0m 124ms/step - accuracy: 0.8707 - loss: 0.3813\n",
            "Epoch 1: val_loss improved from 0.54489 to 0.53366, saving model to best_model.h5\n"
          ]
        },
        {
          "output_type": "stream",
          "name": "stderr",
          "text": [
            "WARNING:absl:You are saving your model as an HDF5 file via `model.save()` or `keras.saving.save_model(model)`. This file format is considered legacy. We recommend using instead the native Keras format, e.g. `model.save('my_model.keras')` or `keras.saving.save_model(model, 'my_model.keras')`. \n"
          ]
        },
        {
          "output_type": "stream",
          "name": "stdout",
          "text": [
            "\b\b\b\b\b\b\b\b\b\b\b\b\b\b\b\b\b\b\b\b\b\b\b\b\b\b\b\b\b\b\b\b\b\b\b\b\b\b\b\b\b\b\b\b\b\b\b\b\b\b\b\b\b\b\b\b\b\b\b\b\b\b\b\b\b\b\b\b\b\b\b\b\b\b\b\b\r\u001b[1m282/282\u001b[0m \u001b[32m━━━━━━━━━━━━━━━━━━━━\u001b[0m\u001b[37m\u001b[0m \u001b[1m36s\u001b[0m 129ms/step - accuracy: 0.8707 - loss: 0.3813 - val_accuracy: 0.8081 - val_loss: 0.5337\n",
            "Q 6127+6    T 6133  ☒ 6131 \n",
            "Q 476-691   T -215  ☒ -235 \n",
            "Q 6985+621  T 7606  ☒ 7486 \n",
            "Q 44+85     T 129   ☒ 139  \n",
            "Q 88-8878   T -8790 ☑ -8790\n",
            "Q 5797-8470 T -2673 ☒ -3999\n",
            "Q 3+3759    T 3762  ☑ 3762 \n",
            "Q 283+88    T 371   ☑ 371  \n",
            "Q 414-45    T 369   ☒ 399  \n",
            "Q 32-0      T 32    ☑ 32   \n",
            "\n",
            "--------------------------------------------------\n",
            "Iteration 36\n",
            "\u001b[1m282/282\u001b[0m \u001b[32m━━━━━━━━━━━━━━━━━━━━\u001b[0m\u001b[37m\u001b[0m \u001b[1m0s\u001b[0m 121ms/step - accuracy: 0.8768 - loss: 0.3630\n",
            "Epoch 1: val_loss did not improve from 0.53366\n",
            "\u001b[1m282/282\u001b[0m \u001b[32m━━━━━━━━━━━━━━━━━━━━\u001b[0m\u001b[37m\u001b[0m \u001b[1m36s\u001b[0m 127ms/step - accuracy: 0.8768 - loss: 0.3631 - val_accuracy: 0.8083 - val_loss: 0.5364\n",
            "Q 984+4541  T 5525  ☒ 5445 \n",
            "Q 0-559     T -559  ☑ -559 \n",
            "Q 2-720     T -718  ☑ -718 \n",
            "Q 9171-67   T 9104  ☒ 9134 \n",
            "Q 4378+455  T 4833  ☑ 4833 \n",
            "Q 59+68     T 127   ☑ 127  \n",
            "Q 275-14    T 261   ☒ 251  \n",
            "Q 7847+8377 T 16224 ☒ 15200\n",
            "Q 1-9026    T -9025 ☒ -9023\n",
            "Q 647+65    T 712   ☑ 712  \n",
            "\n",
            "--------------------------------------------------\n",
            "Iteration 37\n",
            "\u001b[1m282/282\u001b[0m \u001b[32m━━━━━━━━━━━━━━━━━━━━\u001b[0m\u001b[37m\u001b[0m \u001b[1m0s\u001b[0m 128ms/step - accuracy: 0.8796 - loss: 0.3573\n",
            "Epoch 1: val_loss improved from 0.53366 to 0.51782, saving model to best_model.h5\n"
          ]
        },
        {
          "output_type": "stream",
          "name": "stderr",
          "text": [
            "WARNING:absl:You are saving your model as an HDF5 file via `model.save()` or `keras.saving.save_model(model)`. This file format is considered legacy. We recommend using instead the native Keras format, e.g. `model.save('my_model.keras')` or `keras.saving.save_model(model, 'my_model.keras')`. \n"
          ]
        },
        {
          "output_type": "stream",
          "name": "stdout",
          "text": [
            "\b\b\b\b\b\b\b\b\b\b\b\b\b\b\b\b\b\b\b\b\b\b\b\b\b\b\b\b\b\b\b\b\b\b\b\b\b\b\b\b\b\b\b\b\b\b\b\b\b\b\b\b\b\b\b\b\b\b\b\b\b\b\b\b\b\b\b\b\b\b\b\b\b\b\b\b\r\u001b[1m282/282\u001b[0m \u001b[32m━━━━━━━━━━━━━━━━━━━━\u001b[0m\u001b[37m\u001b[0m \u001b[1m38s\u001b[0m 134ms/step - accuracy: 0.8796 - loss: 0.3573 - val_accuracy: 0.8152 - val_loss: 0.5178\n",
            "Q 574-587   T -13   ☑ -13  \n",
            "Q 9958+864  T 10822 ☒ 10780\n",
            "Q 523+8184  T 8707  ☒ 8629 \n",
            "Q 6207-92   T 6115  ☒ 6185 \n",
            "Q 13+567    T 580   ☑ 580  \n",
            "Q 41+1063   T 1104  ☒ 1054 \n",
            "Q 2992-12   T 2980  ☒ 2900 \n",
            "Q 10+26     T 36    ☑ 36   \n",
            "Q 274-2     T 272   ☑ 272  \n",
            "Q 194+2097  T 2291  ☒ 2171 \n",
            "\n",
            "--------------------------------------------------\n",
            "Iteration 38\n",
            "\u001b[1m281/282\u001b[0m \u001b[32m━━━━━━━━━━━━━━━━━━━\u001b[0m\u001b[37m━\u001b[0m \u001b[1m0s\u001b[0m 117ms/step - accuracy: 0.8873 - loss: 0.3381\n",
            "Epoch 1: val_loss improved from 0.51782 to 0.51635, saving model to best_model.h5\n"
          ]
        },
        {
          "output_type": "stream",
          "name": "stderr",
          "text": [
            "WARNING:absl:You are saving your model as an HDF5 file via `model.save()` or `keras.saving.save_model(model)`. This file format is considered legacy. We recommend using instead the native Keras format, e.g. `model.save('my_model.keras')` or `keras.saving.save_model(model, 'my_model.keras')`. \n"
          ]
        },
        {
          "output_type": "stream",
          "name": "stdout",
          "text": [
            "\b\b\b\b\b\b\b\b\b\b\b\b\b\b\b\b\b\b\b\b\b\b\b\b\b\b\b\b\b\b\b\b\b\b\b\b\b\b\b\b\b\b\b\b\b\b\b\b\b\b\b\b\b\b\b\b\b\b\b\b\b\b\b\b\b\b\b\b\b\b\b\b\b\b\b\b\r\u001b[1m282/282\u001b[0m \u001b[32m━━━━━━━━━━━━━━━━━━━━\u001b[0m\u001b[37m\u001b[0m \u001b[1m34s\u001b[0m 122ms/step - accuracy: 0.8873 - loss: 0.3381 - val_accuracy: 0.8163 - val_loss: 0.5163\n",
            "Q 29-797    T -768  ☒ -758 \n",
            "Q 23-683    T -660  ☒ -640 \n",
            "Q 4+6127    T 6131  ☒ 6121 \n",
            "Q 6127+6    T 6133  ☑ 6133 \n",
            "Q 5-3835    T -3830 ☒ -3828\n",
            "Q 306+7     T 313   ☑ 313  \n",
            "Q 27+97     T 124   ☒ 114  \n",
            "Q 1594+7    T 1601  ☒ 1691 \n",
            "Q 2450+2    T 2452  ☒ 2448 \n",
            "Q 5855+8330 T 14185 ☒ 13945\n",
            "\n",
            "--------------------------------------------------\n",
            "Iteration 39\n",
            "\u001b[1m281/282\u001b[0m \u001b[32m━━━━━━━━━━━━━━━━━━━\u001b[0m\u001b[37m━\u001b[0m \u001b[1m0s\u001b[0m 118ms/step - accuracy: 0.8896 - loss: 0.3298\n",
            "Epoch 1: val_loss improved from 0.51635 to 0.50216, saving model to best_model.h5\n"
          ]
        },
        {
          "output_type": "stream",
          "name": "stderr",
          "text": [
            "WARNING:absl:You are saving your model as an HDF5 file via `model.save()` or `keras.saving.save_model(model)`. This file format is considered legacy. We recommend using instead the native Keras format, e.g. `model.save('my_model.keras')` or `keras.saving.save_model(model, 'my_model.keras')`. \n"
          ]
        },
        {
          "output_type": "stream",
          "name": "stdout",
          "text": [
            "\b\b\b\b\b\b\b\b\b\b\b\b\b\b\b\b\b\b\b\b\b\b\b\b\b\b\b\b\b\b\b\b\b\b\b\b\b\b\b\b\b\b\b\b\b\b\b\b\b\b\b\b\b\b\b\b\b\b\b\b\b\b\b\b\b\b\b\b\b\b\b\b\b\b\b\b\r\u001b[1m282/282\u001b[0m \u001b[32m━━━━━━━━━━━━━━━━━━━━\u001b[0m\u001b[37m\u001b[0m \u001b[1m35s\u001b[0m 123ms/step - accuracy: 0.8896 - loss: 0.3298 - val_accuracy: 0.8209 - val_loss: 0.5022\n",
            "Q 42-861    T -819  ☑ -819 \n",
            "Q 50-58     T -8    ☒ -    \n",
            "Q 40-0      T 40    ☑ 40   \n",
            "Q 128-671   T -543  ☒ -621 \n",
            "Q 4+86      T 90    ☑ 90   \n",
            "Q 3-615     T -612  ☑ -612 \n",
            "Q 1+167     T 168   ☑ 168  \n",
            "Q 24+3602   T 3626  ☑ 3626 \n",
            "Q 0-967     T -967  ☑ -967 \n",
            "Q 87-3934   T -3847 ☒ -3837\n",
            "\n",
            "--------------------------------------------------\n",
            "Iteration 40\n",
            "\u001b[1m281/282\u001b[0m \u001b[32m━━━━━━━━━━━━━━━━━━━\u001b[0m\u001b[37m━\u001b[0m \u001b[1m0s\u001b[0m 116ms/step - accuracy: 0.8960 - loss: 0.3122\n",
            "Epoch 1: val_loss did not improve from 0.50216\n",
            "\u001b[1m282/282\u001b[0m \u001b[32m━━━━━━━━━━━━━━━━━━━━\u001b[0m\u001b[37m\u001b[0m \u001b[1m34s\u001b[0m 120ms/step - accuracy: 0.8960 - loss: 0.3122 - val_accuracy: 0.8215 - val_loss: 0.5082\n",
            "Q 7-507     T -500  ☒ -490 \n",
            "Q 9+27      T 36    ☑ 36   \n",
            "Q 9507-5520 T 3987  ☒ 3167 \n",
            "Q 1-25      T -24   ☑ -24  \n",
            "Q 2104+5    T 2109  ☑ 2109 \n",
            "Q 27+31     T 58    ☒ 68   \n",
            "Q 3+8645    T 8648  ☑ 8648 \n",
            "Q 127-8831  T -8704 ☒ -8604\n",
            "Q 7+441     T 448   ☑ 448  \n",
            "Q 1569+36   T 1605  ☒ 1695 \n",
            "\n",
            "--------------------------------------------------\n",
            "Iteration 41\n",
            "\u001b[1m282/282\u001b[0m \u001b[32m━━━━━━━━━━━━━━━━━━━━\u001b[0m\u001b[37m\u001b[0m \u001b[1m0s\u001b[0m 117ms/step - accuracy: 0.9012 - loss: 0.2987\n",
            "Epoch 1: val_loss improved from 0.50216 to 0.49742, saving model to best_model.h5\n"
          ]
        },
        {
          "output_type": "stream",
          "name": "stderr",
          "text": [
            "WARNING:absl:You are saving your model as an HDF5 file via `model.save()` or `keras.saving.save_model(model)`. This file format is considered legacy. We recommend using instead the native Keras format, e.g. `model.save('my_model.keras')` or `keras.saving.save_model(model, 'my_model.keras')`. \n"
          ]
        },
        {
          "output_type": "stream",
          "name": "stdout",
          "text": [
            "\b\b\b\b\b\b\b\b\b\b\b\b\b\b\b\b\b\b\b\b\b\b\b\b\b\b\b\b\b\b\b\b\b\b\b\b\b\b\b\b\b\b\b\b\b\b\b\b\b\b\b\b\b\b\b\b\b\b\b\b\b\b\b\b\b\b\b\b\b\b\b\b\b\b\b\b\r\u001b[1m282/282\u001b[0m \u001b[32m━━━━━━━━━━━━━━━━━━━━\u001b[0m\u001b[37m\u001b[0m \u001b[1m34s\u001b[0m 121ms/step - accuracy: 0.9012 - loss: 0.2987 - val_accuracy: 0.8224 - val_loss: 0.4974\n",
            "Q 920-1     T 919   ☑ 919  \n",
            "Q 59-3      T 56    ☑ 56   \n",
            "Q 504-147   T 357   ☒ 337  \n",
            "Q 25+732    T 757   ☑ 757  \n",
            "Q 625-7     T 618   ☑ 618  \n",
            "Q 85+3      T 88    ☑ 88   \n",
            "Q 936+4453  T 5389  ☒ 5381 \n",
            "Q 9669+461  T 10130 ☒ 10258\n",
            "Q 43-387    T -344  ☑ -344 \n",
            "Q 903-4247  T -3344 ☒ -3332\n",
            "\n",
            "--------------------------------------------------\n",
            "Iteration 42\n",
            "\u001b[1m281/282\u001b[0m \u001b[32m━━━━━━━━━━━━━━━━━━━\u001b[0m\u001b[37m━\u001b[0m \u001b[1m0s\u001b[0m 117ms/step - accuracy: 0.9026 - loss: 0.2941\n",
            "Epoch 1: val_loss improved from 0.49742 to 0.49363, saving model to best_model.h5\n"
          ]
        },
        {
          "output_type": "stream",
          "name": "stderr",
          "text": [
            "WARNING:absl:You are saving your model as an HDF5 file via `model.save()` or `keras.saving.save_model(model)`. This file format is considered legacy. We recommend using instead the native Keras format, e.g. `model.save('my_model.keras')` or `keras.saving.save_model(model, 'my_model.keras')`. \n"
          ]
        },
        {
          "output_type": "stream",
          "name": "stdout",
          "text": [
            "\b\b\b\b\b\b\b\b\b\b\b\b\b\b\b\b\b\b\b\b\b\b\b\b\b\b\b\b\b\b\b\b\b\b\b\b\b\b\b\b\b\b\b\b\b\b\b\b\b\b\b\b\b\b\b\b\b\b\b\b\b\b\b\b\b\b\b\b\b\b\b\b\b\b\b\b\r\u001b[1m282/282\u001b[0m \u001b[32m━━━━━━━━━━━━━━━━━━━━\u001b[0m\u001b[37m\u001b[0m \u001b[1m34s\u001b[0m 121ms/step - accuracy: 0.9025 - loss: 0.2941 - val_accuracy: 0.8251 - val_loss: 0.4936\n",
            "Q 55+9      T 64    ☑ 64   \n",
            "Q 2+536     T 538   ☑ 538  \n",
            "Q 873+8     T 881   ☒ 891  \n",
            "Q 978+25    T 1003  ☒ 103  \n",
            "Q 0-4       T -4    ☑ -4   \n",
            "Q 2675+143  T 2818  ☒ 2778 \n",
            "Q 7047+9364 T 16411 ☒ 16801\n",
            "Q 860+25    T 885   ☑ 885  \n",
            "Q 4-7051    T -7047 ☑ -7047\n",
            "Q 1171-8122 T -6951 ☒ -7039\n",
            "\n",
            "--------------------------------------------------\n",
            "Iteration 43\n",
            "\u001b[1m281/282\u001b[0m \u001b[32m━━━━━━━━━━━━━━━━━━━\u001b[0m\u001b[37m━\u001b[0m \u001b[1m0s\u001b[0m 116ms/step - accuracy: 0.9085 - loss: 0.2801\n",
            "Epoch 1: val_loss did not improve from 0.49363\n",
            "\u001b[1m282/282\u001b[0m \u001b[32m━━━━━━━━━━━━━━━━━━━━\u001b[0m\u001b[37m\u001b[0m \u001b[1m34s\u001b[0m 119ms/step - accuracy: 0.9085 - loss: 0.2801 - val_accuracy: 0.8257 - val_loss: 0.5036\n",
            "Q 484+675   T 1159  ☒ 1129 \n",
            "Q 42+9628   T 9670  ☒ 9680 \n",
            "Q 7-1073    T -1066 ☑ -1066\n",
            "Q 71-278    T -207  ☑ -207 \n",
            "Q 7+5297    T 5304  ☒ 5294 \n",
            "Q 2663-13   T 2650  ☒ 2640 \n",
            "Q 723+199   T 922   ☒ 802  \n",
            "Q 25-119    T -94   ☑ -94  \n",
            "Q 25-4      T 21    ☑ 21   \n",
            "Q 858+19    T 877   ☑ 877  \n",
            "\n",
            "--------------------------------------------------\n",
            "Iteration 44\n",
            "\u001b[1m281/282\u001b[0m \u001b[32m━━━━━━━━━━━━━━━━━━━\u001b[0m\u001b[37m━\u001b[0m \u001b[1m0s\u001b[0m 115ms/step - accuracy: 0.9126 - loss: 0.2699\n",
            "Epoch 1: val_loss did not improve from 0.49363\n",
            "\u001b[1m282/282\u001b[0m \u001b[32m━━━━━━━━━━━━━━━━━━━━\u001b[0m\u001b[37m\u001b[0m \u001b[1m34s\u001b[0m 120ms/step - accuracy: 0.9126 - loss: 0.2699 - val_accuracy: 0.8278 - val_loss: 0.4945\n",
            "Q 155+566   T 721   ☒ 711  \n",
            "Q 8851-15   T 8836  ☒ 8756 \n",
            "Q 78+518    T 596   ☒ 506  \n",
            "Q 813-39    T 774   ☑ 774  \n",
            "Q 9338-9    T 9329  ☑ 9329 \n",
            "Q 494+6630  T 7124  ☒ 7104 \n",
            "Q 804+9     T 813   ☑ 813  \n",
            "Q 34-890    T -856  ☑ -856 \n",
            "Q 336+7     T 343   ☑ 343  \n",
            "Q 8+1929    T 1937  ☑ 1937 \n",
            "\n",
            "--------------------------------------------------\n",
            "Iteration 45\n",
            "\u001b[1m281/282\u001b[0m \u001b[32m━━━━━━━━━━━━━━━━━━━\u001b[0m\u001b[37m━\u001b[0m \u001b[1m0s\u001b[0m 130ms/step - accuracy: 0.9188 - loss: 0.2543\n",
            "Epoch 1: val_loss improved from 0.49363 to 0.48923, saving model to best_model.h5\n"
          ]
        },
        {
          "output_type": "stream",
          "name": "stderr",
          "text": [
            "WARNING:absl:You are saving your model as an HDF5 file via `model.save()` or `keras.saving.save_model(model)`. This file format is considered legacy. We recommend using instead the native Keras format, e.g. `model.save('my_model.keras')` or `keras.saving.save_model(model, 'my_model.keras')`. \n"
          ]
        },
        {
          "output_type": "stream",
          "name": "stdout",
          "text": [
            "\b\b\b\b\b\b\b\b\b\b\b\b\b\b\b\b\b\b\b\b\b\b\b\b\b\b\b\b\b\b\b\b\b\b\b\b\b\b\b\b\b\b\b\b\b\b\b\b\b\b\b\b\b\b\b\b\b\b\b\b\b\b\b\b\b\b\b\b\b\b\b\b\b\b\b\b\r\u001b[1m282/282\u001b[0m \u001b[32m━━━━━━━━━━━━━━━━━━━━\u001b[0m\u001b[37m\u001b[0m \u001b[1m38s\u001b[0m 133ms/step - accuracy: 0.9187 - loss: 0.2544 - val_accuracy: 0.8298 - val_loss: 0.4892\n",
            "Q 8017+36   T 8053  ☒ 8001 \n",
            "Q 8-1896    T -1888 ☑ -1888\n",
            "Q 3879+3    T 3882  ☒ 3890 \n",
            "Q 373+42    T 415   ☒ 405  \n",
            "Q 39-1412   T -1373 ☒ -1473\n",
            "Q 845+4175  T 5020  ☒ 4900 \n",
            "Q 1848+274  T 2122  ☒ 2012 \n",
            "Q 127-8831  T -8704 ☒ -8604\n",
            "Q 928-6     T 922   ☑ 922  \n",
            "Q 1702+843  T 2545  ☑ 2545 \n",
            "\n",
            "--------------------------------------------------\n",
            "Iteration 46\n",
            "\u001b[1m282/282\u001b[0m \u001b[32m━━━━━━━━━━━━━━━━━━━━\u001b[0m\u001b[37m\u001b[0m \u001b[1m0s\u001b[0m 119ms/step - accuracy: 0.9199 - loss: 0.2478\n",
            "Epoch 1: val_loss improved from 0.48923 to 0.48739, saving model to best_model.h5\n"
          ]
        },
        {
          "output_type": "stream",
          "name": "stderr",
          "text": [
            "WARNING:absl:You are saving your model as an HDF5 file via `model.save()` or `keras.saving.save_model(model)`. This file format is considered legacy. We recommend using instead the native Keras format, e.g. `model.save('my_model.keras')` or `keras.saving.save_model(model, 'my_model.keras')`. \n"
          ]
        },
        {
          "output_type": "stream",
          "name": "stdout",
          "text": [
            "\b\b\b\b\b\b\b\b\b\b\b\b\b\b\b\b\b\b\b\b\b\b\b\b\b\b\b\b\b\b\b\b\b\b\b\b\b\b\b\b\b\b\b\b\b\b\b\b\b\b\b\b\b\b\b\b\b\b\b\b\b\b\b\b\b\b\b\b\b\b\b\b\b\b\b\b\r\u001b[1m282/282\u001b[0m \u001b[32m━━━━━━━━━━━━━━━━━━━━\u001b[0m\u001b[37m\u001b[0m \u001b[1m35s\u001b[0m 124ms/step - accuracy: 0.9199 - loss: 0.2479 - val_accuracy: 0.8322 - val_loss: 0.4874\n",
            "Q 6+656     T 662   ☑ 662  \n",
            "Q 93-87     T 6     ☑ 6    \n",
            "Q 8+451     T 459   ☑ 459  \n",
            "Q 3430+4190 T 7620  ☒ 8960 \n",
            "Q 9081-5    T 9076  ☒ 9086 \n",
            "Q 780-632   T 148   ☒ 142  \n",
            "Q 2-45      T -43   ☑ -43  \n",
            "Q 5136+12   T 5148  ☑ 5148 \n",
            "Q 82-7575   T -7493 ☒ -7463\n",
            "Q 22+135    T 157   ☑ 157  \n",
            "\n",
            "--------------------------------------------------\n",
            "Iteration 47\n",
            "\u001b[1m281/282\u001b[0m \u001b[32m━━━━━━━━━━━━━━━━━━━\u001b[0m\u001b[37m━\u001b[0m \u001b[1m0s\u001b[0m 124ms/step - accuracy: 0.9241 - loss: 0.2394\n",
            "Epoch 1: val_loss improved from 0.48739 to 0.48689, saving model to best_model.h5\n"
          ]
        },
        {
          "output_type": "stream",
          "name": "stderr",
          "text": [
            "WARNING:absl:You are saving your model as an HDF5 file via `model.save()` or `keras.saving.save_model(model)`. This file format is considered legacy. We recommend using instead the native Keras format, e.g. `model.save('my_model.keras')` or `keras.saving.save_model(model, 'my_model.keras')`. \n"
          ]
        },
        {
          "output_type": "stream",
          "name": "stdout",
          "text": [
            "\b\b\b\b\b\b\b\b\b\b\b\b\b\b\b\b\b\b\b\b\b\b\b\b\b\b\b\b\b\b\b\b\b\b\b\b\b\b\b\b\b\b\b\b\b\b\b\b\b\b\b\b\b\b\b\b\b\b\b\b\b\b\b\b\b\b\b\b\b\b\b\b\b\b\b\b\r\u001b[1m282/282\u001b[0m \u001b[32m━━━━━━━━━━━━━━━━━━━━\u001b[0m\u001b[37m\u001b[0m \u001b[1m36s\u001b[0m 128ms/step - accuracy: 0.9241 - loss: 0.2394 - val_accuracy: 0.8309 - val_loss: 0.4869\n",
            "Q 1-814     T -813  ☑ -813 \n",
            "Q 27+26     T 53    ☒ 43   \n",
            "Q 75+6982   T 7057  ☒ 7049 \n",
            "Q 4+701     T 705   ☑ 705  \n",
            "Q 221-35    T 186   ☑ 186  \n",
            "Q 50-7117   T -7067 ☒ -7077\n",
            "Q 51+7      T 58    ☑ 58   \n",
            "Q 4799+5    T 4804  ☒ 4794 \n",
            "Q 333+5579  T 5912  ☒ 5902 \n",
            "Q 6-9977    T -9971 ☒ -9981\n",
            "\n",
            "--------------------------------------------------\n",
            "Iteration 48\n",
            "\u001b[1m281/282\u001b[0m \u001b[32m━━━━━━━━━━━━━━━━━━━\u001b[0m\u001b[37m━\u001b[0m \u001b[1m0s\u001b[0m 118ms/step - accuracy: 0.9275 - loss: 0.2291\n",
            "Epoch 1: val_loss improved from 0.48689 to 0.48322, saving model to best_model.h5\n"
          ]
        },
        {
          "output_type": "stream",
          "name": "stderr",
          "text": [
            "WARNING:absl:You are saving your model as an HDF5 file via `model.save()` or `keras.saving.save_model(model)`. This file format is considered legacy. We recommend using instead the native Keras format, e.g. `model.save('my_model.keras')` or `keras.saving.save_model(model, 'my_model.keras')`. \n"
          ]
        },
        {
          "output_type": "stream",
          "name": "stdout",
          "text": [
            "\b\b\b\b\b\b\b\b\b\b\b\b\b\b\b\b\b\b\b\b\b\b\b\b\b\b\b\b\b\b\b\b\b\b\b\b\b\b\b\b\b\b\b\b\b\b\b\b\b\b\b\b\b\b\b\b\b\b\b\b\b\b\b\b\b\b\b\b\b\b\b\b\b\b\b\b\r\u001b[1m282/282\u001b[0m \u001b[32m━━━━━━━━━━━━━━━━━━━━\u001b[0m\u001b[37m\u001b[0m \u001b[1m35s\u001b[0m 122ms/step - accuracy: 0.9275 - loss: 0.2291 - val_accuracy: 0.8361 - val_loss: 0.4832\n",
            "Q 3791-6804 T -3013 ☒ -4063\n",
            "Q 53+4      T 57    ☑ 57   \n",
            "Q 42+4509   T 4551  ☒ 4531 \n",
            "Q 42-2      T 40    ☑ 40   \n",
            "Q 978-91    T 887   ☑ 887  \n",
            "Q 7390-258  T 7132  ☑ 7132 \n",
            "Q 36+60     T 96    ☑ 96   \n",
            "Q 33+2      T 35    ☑ 35   \n",
            "Q 807-569   T 238   ☑ 238  \n",
            "Q 6+957     T 963   ☑ 963  \n",
            "\n",
            "--------------------------------------------------\n",
            "Iteration 49\n",
            "\u001b[1m281/282\u001b[0m \u001b[32m━━━━━━━━━━━━━━━━━━━\u001b[0m\u001b[37m━\u001b[0m \u001b[1m0s\u001b[0m 119ms/step - accuracy: 0.9294 - loss: 0.2228\n",
            "Epoch 1: val_loss did not improve from 0.48322\n",
            "\u001b[1m282/282\u001b[0m \u001b[32m━━━━━━━━━━━━━━━━━━━━\u001b[0m\u001b[37m\u001b[0m \u001b[1m36s\u001b[0m 128ms/step - accuracy: 0.9294 - loss: 0.2228 - val_accuracy: 0.8334 - val_loss: 0.4854\n",
            "Q 159+9042  T 9201  ☒ 9631 \n",
            "Q 9474+2468 T 11942 ☒ 12622\n",
            "Q 897-726   T 171   ☒ 211  \n",
            "Q 539+26    T 565   ☒ 573  \n",
            "Q 1176-7    T 1169  ☑ 1169 \n",
            "Q 17+86     T 103   ☑ 103  \n",
            "Q 2031+7042 T 9073  ☒ 9023 \n",
            "Q 7391-93   T 7298  ☒ 7288 \n",
            "Q 85-4      T 81    ☑ 81   \n",
            "Q 8318+27   T 8345  ☒ 8245 \n"
          ]
        }
      ]
    },
    {
      "cell_type": "markdown",
      "source": [
        "It can be seen that in the initial model (without attention), the accuracy was almost 80%, with a validation accuracy of nearly 73%. The model struggled with handling large numbers and had an inconsistent performance on basic arithmetic problems.\n",
        "\n",
        "After adding the attention mechanism, the accuracy jumped to 92%, with a validation accuracy of 83%, and the loss decreased. These results indicate a significant improvement in performance, especially in terms of both accuracy and loss. The attention mechanism helped the model focus on the most relevant parts of the input sequence, enabling it to handle more complex arithmetic operations and improve its generalization capabilities.\n",
        "\n",
        "In comparison, the attention-based model performed better across both training and validation sets, suggesting that the attention mechanism greatly enhanced the model's ability to solve arithmetic problems accurately."
      ],
      "metadata": {
        "id": "g5qFcY-9iwHb"
      }
    },
    {
      "cell_type": "markdown",
      "source": [
        "## 1.4"
      ],
      "metadata": {
        "id": "eALjoFMOkfwW"
      }
    },
    {
      "cell_type": "code",
      "source": [
        "# Defining the Model 3 architecture\n",
        "def build_model_3(input_shape, output_shape, n_chars):\n",
        "    inputs = Input(shape=input_shape)\n",
        "\n",
        "    # Bidirectional LSTM - Capture both forward and backward context\n",
        "    lstm_1 = Bidirectional(LSTM(config_dict['hidden_size'], return_sequences=True))(inputs)\n",
        "\n",
        "    # Dropout layer to prevent overfitting\n",
        "    lstm_1 = Dropout(0.2)(lstm_1)\n",
        "\n",
        "    # Attention mechanism\n",
        "    attention = Attention()([lstm_1, lstm_1])\n",
        "\n",
        "    # Flatten the attention output and repeat to match the decoder input shape\n",
        "    attention_flattened = Flatten()(attention)\n",
        "    repeat_vector = RepeatVector(output_shape[0])(attention_flattened)\n",
        "\n",
        "    # Second LSTM layer\n",
        "    lstm_2 = Bidirectional(LSTM(config_dict['hidden_size'], return_sequences=True))(repeat_vector)\n",
        "\n",
        "    # Dropout layer for regularization\n",
        "    lstm_2 = Dropout(0.2)(lstm_2)\n",
        "\n",
        "    # TimeDistributed Dense layer to generate the final predictions\n",
        "    outputs = TimeDistributed(Dense(n_chars, activation='softmax'))(lstm_2)\n",
        "\n",
        "    model_3 = Model(inputs=inputs, outputs=outputs)\n",
        "    model_3.compile(loss='categorical_crossentropy', optimizer='adam', metrics=['accuracy'])\n",
        "\n",
        "    return model_3\n",
        "\n",
        "# Input shape: (maxlen, len(chars)), Output shape: (digits + 1, len(chars))\n",
        "input_shape = (x_train.shape[1], x_train.shape[2])\n",
        "output_shape = (y_train.shape[1], y_train.shape[2])\n",
        "\n",
        "# Build and summarize the model\n",
        "model_3 = build_model_3(input_shape, output_shape, len(config_dict['chars']))\n",
        "model_3.summary()\n",
        "\n",
        "# Training the model and saving the best model\n",
        "checkpoint = ModelCheckpoint('best_model_3.h5',\n",
        "                             monitor='val_loss',\n",
        "                             save_best_only=True,\n",
        "                             mode='min',\n",
        "                             verbose=1)\n",
        "\n",
        "for iteration in range(config_dict['iterations']):\n",
        "    print()\n",
        "    print('-' * 50)\n",
        "    print('Iteration', iteration)\n",
        "\n",
        "    model_3.fit(x_train, y_train,\n",
        "                batch_size=config_dict['batch_size'],\n",
        "                epochs=1,\n",
        "                validation_data=(x_val, y_val),\n",
        "                callbacks=[checkpoint])\n",
        "\n",
        "    # Select 10 samples from the validation set at random for error visualization\n",
        "    for i in range(10):\n",
        "        ind = np.random.randint(0, len(x_val))\n",
        "        rowx, rowy = x_val[np.array([ind])], y_val[np.array([ind])]\n",
        "\n",
        "        preds = model_3.predict(rowx, verbose=0)\n",
        "        preds = np.argmax(preds, axis=-1)\n",
        "        q = ctable.decode(rowx[0])\n",
        "        correct = ctable.decode(rowy[0])\n",
        "        guess = ctable.decode(preds[0], calc_argmax=False)\n",
        "\n",
        "        print('Q', q, end=' ')\n",
        "        print('T', correct, end=' ')\n",
        "        if correct == guess:\n",
        "            print('☑', end=' ')\n",
        "        else:\n",
        "            print('☒', end=' ')\n",
        "        print(guess)"
      ],
      "metadata": {
        "colab": {
          "base_uri": "https://localhost:8080/",
          "height": 1000
        },
        "id": "dmcE01Z-kQY-",
        "outputId": "130d745c-739c-4864-abc7-570fb1d795ed"
      },
      "execution_count": null,
      "outputs": [
        {
          "output_type": "display_data",
          "data": {
            "text/plain": [
              "\u001b[1mModel: \"functional_4\"\u001b[0m\n"
            ],
            "text/html": [
              "<pre style=\"white-space:pre;overflow-x:auto;line-height:normal;font-family:Menlo,'DejaVu Sans Mono',consolas,'Courier New',monospace\"><span style=\"font-weight: bold\">Model: \"functional_4\"</span>\n",
              "</pre>\n"
            ]
          },
          "metadata": {}
        },
        {
          "output_type": "display_data",
          "data": {
            "text/plain": [
              "┏━━━━━━━━━━━━━━━━━━━━━━━━━━━┳━━━━━━━━━━━━━━━━━━━━━━━━┳━━━━━━━━━━━━━━━━┳━━━━━━━━━━━━━━━━━━━━━━━━┓\n",
              "┃\u001b[1m \u001b[0m\u001b[1mLayer (type)             \u001b[0m\u001b[1m \u001b[0m┃\u001b[1m \u001b[0m\u001b[1mOutput Shape          \u001b[0m\u001b[1m \u001b[0m┃\u001b[1m \u001b[0m\u001b[1m       Param #\u001b[0m\u001b[1m \u001b[0m┃\u001b[1m \u001b[0m\u001b[1mConnected to          \u001b[0m\u001b[1m \u001b[0m┃\n",
              "┡━━━━━━━━━━━━━━━━━━━━━━━━━━━╇━━━━━━━━━━━━━━━━━━━━━━━━╇━━━━━━━━━━━━━━━━╇━━━━━━━━━━━━━━━━━━━━━━━━┩\n",
              "│ input_layer_1             │ (\u001b[38;5;45mNone\u001b[0m, \u001b[38;5;34m9\u001b[0m, \u001b[38;5;34m13\u001b[0m)          │              \u001b[38;5;34m0\u001b[0m │ -                      │\n",
              "│ (\u001b[38;5;33mInputLayer\u001b[0m)              │                        │                │                        │\n",
              "├───────────────────────────┼────────────────────────┼────────────────┼────────────────────────┤\n",
              "│ bidirectional             │ (\u001b[38;5;45mNone\u001b[0m, \u001b[38;5;34m9\u001b[0m, \u001b[38;5;34m256\u001b[0m)         │        \u001b[38;5;34m145,408\u001b[0m │ input_layer_1[\u001b[38;5;34m0\u001b[0m][\u001b[38;5;34m0\u001b[0m]    │\n",
              "│ (\u001b[38;5;33mBidirectional\u001b[0m)           │                        │                │                        │\n",
              "├───────────────────────────┼────────────────────────┼────────────────┼────────────────────────┤\n",
              "│ dropout (\u001b[38;5;33mDropout\u001b[0m)         │ (\u001b[38;5;45mNone\u001b[0m, \u001b[38;5;34m9\u001b[0m, \u001b[38;5;34m256\u001b[0m)         │              \u001b[38;5;34m0\u001b[0m │ bidirectional[\u001b[38;5;34m0\u001b[0m][\u001b[38;5;34m0\u001b[0m]    │\n",
              "├───────────────────────────┼────────────────────────┼────────────────┼────────────────────────┤\n",
              "│ attention (\u001b[38;5;33mAttention\u001b[0m)     │ (\u001b[38;5;45mNone\u001b[0m, \u001b[38;5;34m9\u001b[0m, \u001b[38;5;34m256\u001b[0m)         │              \u001b[38;5;34m0\u001b[0m │ dropout[\u001b[38;5;34m0\u001b[0m][\u001b[38;5;34m0\u001b[0m],         │\n",
              "│                           │                        │                │ dropout[\u001b[38;5;34m0\u001b[0m][\u001b[38;5;34m0\u001b[0m]          │\n",
              "├───────────────────────────┼────────────────────────┼────────────────┼────────────────────────┤\n",
              "│ flatten (\u001b[38;5;33mFlatten\u001b[0m)         │ (\u001b[38;5;45mNone\u001b[0m, \u001b[38;5;34m2304\u001b[0m)           │              \u001b[38;5;34m0\u001b[0m │ attention[\u001b[38;5;34m0\u001b[0m][\u001b[38;5;34m0\u001b[0m]        │\n",
              "├───────────────────────────┼────────────────────────┼────────────────┼────────────────────────┤\n",
              "│ repeat_vector_1           │ (\u001b[38;5;45mNone\u001b[0m, \u001b[38;5;34m5\u001b[0m, \u001b[38;5;34m2304\u001b[0m)        │              \u001b[38;5;34m0\u001b[0m │ flatten[\u001b[38;5;34m0\u001b[0m][\u001b[38;5;34m0\u001b[0m]          │\n",
              "│ (\u001b[38;5;33mRepeatVector\u001b[0m)            │                        │                │                        │\n",
              "├───────────────────────────┼────────────────────────┼────────────────┼────────────────────────┤\n",
              "│ bidirectional_1           │ (\u001b[38;5;45mNone\u001b[0m, \u001b[38;5;34m5\u001b[0m, \u001b[38;5;34m256\u001b[0m)         │      \u001b[38;5;34m2,491,392\u001b[0m │ repeat_vector_1[\u001b[38;5;34m0\u001b[0m][\u001b[38;5;34m0\u001b[0m]  │\n",
              "│ (\u001b[38;5;33mBidirectional\u001b[0m)           │                        │                │                        │\n",
              "├───────────────────────────┼────────────────────────┼────────────────┼────────────────────────┤\n",
              "│ dropout_1 (\u001b[38;5;33mDropout\u001b[0m)       │ (\u001b[38;5;45mNone\u001b[0m, \u001b[38;5;34m5\u001b[0m, \u001b[38;5;34m256\u001b[0m)         │              \u001b[38;5;34m0\u001b[0m │ bidirectional_1[\u001b[38;5;34m0\u001b[0m][\u001b[38;5;34m0\u001b[0m]  │\n",
              "├───────────────────────────┼────────────────────────┼────────────────┼────────────────────────┤\n",
              "│ time_distributed_1        │ (\u001b[38;5;45mNone\u001b[0m, \u001b[38;5;34m5\u001b[0m, \u001b[38;5;34m13\u001b[0m)          │          \u001b[38;5;34m3,341\u001b[0m │ dropout_1[\u001b[38;5;34m0\u001b[0m][\u001b[38;5;34m0\u001b[0m]        │\n",
              "│ (\u001b[38;5;33mTimeDistributed\u001b[0m)         │                        │                │                        │\n",
              "└───────────────────────────┴────────────────────────┴────────────────┴────────────────────────┘\n"
            ],
            "text/html": [
              "<pre style=\"white-space:pre;overflow-x:auto;line-height:normal;font-family:Menlo,'DejaVu Sans Mono',consolas,'Courier New',monospace\">┏━━━━━━━━━━━━━━━━━━━━━━━━━━━┳━━━━━━━━━━━━━━━━━━━━━━━━┳━━━━━━━━━━━━━━━━┳━━━━━━━━━━━━━━━━━━━━━━━━┓\n",
              "┃<span style=\"font-weight: bold\"> Layer (type)              </span>┃<span style=\"font-weight: bold\"> Output Shape           </span>┃<span style=\"font-weight: bold\">        Param # </span>┃<span style=\"font-weight: bold\"> Connected to           </span>┃\n",
              "┡━━━━━━━━━━━━━━━━━━━━━━━━━━━╇━━━━━━━━━━━━━━━━━━━━━━━━╇━━━━━━━━━━━━━━━━╇━━━━━━━━━━━━━━━━━━━━━━━━┩\n",
              "│ input_layer_1             │ (<span style=\"color: #00d7ff; text-decoration-color: #00d7ff\">None</span>, <span style=\"color: #00af00; text-decoration-color: #00af00\">9</span>, <span style=\"color: #00af00; text-decoration-color: #00af00\">13</span>)          │              <span style=\"color: #00af00; text-decoration-color: #00af00\">0</span> │ -                      │\n",
              "│ (<span style=\"color: #0087ff; text-decoration-color: #0087ff\">InputLayer</span>)              │                        │                │                        │\n",
              "├───────────────────────────┼────────────────────────┼────────────────┼────────────────────────┤\n",
              "│ bidirectional             │ (<span style=\"color: #00d7ff; text-decoration-color: #00d7ff\">None</span>, <span style=\"color: #00af00; text-decoration-color: #00af00\">9</span>, <span style=\"color: #00af00; text-decoration-color: #00af00\">256</span>)         │        <span style=\"color: #00af00; text-decoration-color: #00af00\">145,408</span> │ input_layer_1[<span style=\"color: #00af00; text-decoration-color: #00af00\">0</span>][<span style=\"color: #00af00; text-decoration-color: #00af00\">0</span>]    │\n",
              "│ (<span style=\"color: #0087ff; text-decoration-color: #0087ff\">Bidirectional</span>)           │                        │                │                        │\n",
              "├───────────────────────────┼────────────────────────┼────────────────┼────────────────────────┤\n",
              "│ dropout (<span style=\"color: #0087ff; text-decoration-color: #0087ff\">Dropout</span>)         │ (<span style=\"color: #00d7ff; text-decoration-color: #00d7ff\">None</span>, <span style=\"color: #00af00; text-decoration-color: #00af00\">9</span>, <span style=\"color: #00af00; text-decoration-color: #00af00\">256</span>)         │              <span style=\"color: #00af00; text-decoration-color: #00af00\">0</span> │ bidirectional[<span style=\"color: #00af00; text-decoration-color: #00af00\">0</span>][<span style=\"color: #00af00; text-decoration-color: #00af00\">0</span>]    │\n",
              "├───────────────────────────┼────────────────────────┼────────────────┼────────────────────────┤\n",
              "│ attention (<span style=\"color: #0087ff; text-decoration-color: #0087ff\">Attention</span>)     │ (<span style=\"color: #00d7ff; text-decoration-color: #00d7ff\">None</span>, <span style=\"color: #00af00; text-decoration-color: #00af00\">9</span>, <span style=\"color: #00af00; text-decoration-color: #00af00\">256</span>)         │              <span style=\"color: #00af00; text-decoration-color: #00af00\">0</span> │ dropout[<span style=\"color: #00af00; text-decoration-color: #00af00\">0</span>][<span style=\"color: #00af00; text-decoration-color: #00af00\">0</span>],         │\n",
              "│                           │                        │                │ dropout[<span style=\"color: #00af00; text-decoration-color: #00af00\">0</span>][<span style=\"color: #00af00; text-decoration-color: #00af00\">0</span>]          │\n",
              "├───────────────────────────┼────────────────────────┼────────────────┼────────────────────────┤\n",
              "│ flatten (<span style=\"color: #0087ff; text-decoration-color: #0087ff\">Flatten</span>)         │ (<span style=\"color: #00d7ff; text-decoration-color: #00d7ff\">None</span>, <span style=\"color: #00af00; text-decoration-color: #00af00\">2304</span>)           │              <span style=\"color: #00af00; text-decoration-color: #00af00\">0</span> │ attention[<span style=\"color: #00af00; text-decoration-color: #00af00\">0</span>][<span style=\"color: #00af00; text-decoration-color: #00af00\">0</span>]        │\n",
              "├───────────────────────────┼────────────────────────┼────────────────┼────────────────────────┤\n",
              "│ repeat_vector_1           │ (<span style=\"color: #00d7ff; text-decoration-color: #00d7ff\">None</span>, <span style=\"color: #00af00; text-decoration-color: #00af00\">5</span>, <span style=\"color: #00af00; text-decoration-color: #00af00\">2304</span>)        │              <span style=\"color: #00af00; text-decoration-color: #00af00\">0</span> │ flatten[<span style=\"color: #00af00; text-decoration-color: #00af00\">0</span>][<span style=\"color: #00af00; text-decoration-color: #00af00\">0</span>]          │\n",
              "│ (<span style=\"color: #0087ff; text-decoration-color: #0087ff\">RepeatVector</span>)            │                        │                │                        │\n",
              "├───────────────────────────┼────────────────────────┼────────────────┼────────────────────────┤\n",
              "│ bidirectional_1           │ (<span style=\"color: #00d7ff; text-decoration-color: #00d7ff\">None</span>, <span style=\"color: #00af00; text-decoration-color: #00af00\">5</span>, <span style=\"color: #00af00; text-decoration-color: #00af00\">256</span>)         │      <span style=\"color: #00af00; text-decoration-color: #00af00\">2,491,392</span> │ repeat_vector_1[<span style=\"color: #00af00; text-decoration-color: #00af00\">0</span>][<span style=\"color: #00af00; text-decoration-color: #00af00\">0</span>]  │\n",
              "│ (<span style=\"color: #0087ff; text-decoration-color: #0087ff\">Bidirectional</span>)           │                        │                │                        │\n",
              "├───────────────────────────┼────────────────────────┼────────────────┼────────────────────────┤\n",
              "│ dropout_1 (<span style=\"color: #0087ff; text-decoration-color: #0087ff\">Dropout</span>)       │ (<span style=\"color: #00d7ff; text-decoration-color: #00d7ff\">None</span>, <span style=\"color: #00af00; text-decoration-color: #00af00\">5</span>, <span style=\"color: #00af00; text-decoration-color: #00af00\">256</span>)         │              <span style=\"color: #00af00; text-decoration-color: #00af00\">0</span> │ bidirectional_1[<span style=\"color: #00af00; text-decoration-color: #00af00\">0</span>][<span style=\"color: #00af00; text-decoration-color: #00af00\">0</span>]  │\n",
              "├───────────────────────────┼────────────────────────┼────────────────┼────────────────────────┤\n",
              "│ time_distributed_1        │ (<span style=\"color: #00d7ff; text-decoration-color: #00d7ff\">None</span>, <span style=\"color: #00af00; text-decoration-color: #00af00\">5</span>, <span style=\"color: #00af00; text-decoration-color: #00af00\">13</span>)          │          <span style=\"color: #00af00; text-decoration-color: #00af00\">3,341</span> │ dropout_1[<span style=\"color: #00af00; text-decoration-color: #00af00\">0</span>][<span style=\"color: #00af00; text-decoration-color: #00af00\">0</span>]        │\n",
              "│ (<span style=\"color: #0087ff; text-decoration-color: #0087ff\">TimeDistributed</span>)         │                        │                │                        │\n",
              "└───────────────────────────┴────────────────────────┴────────────────┴────────────────────────┘\n",
              "</pre>\n"
            ]
          },
          "metadata": {}
        },
        {
          "output_type": "display_data",
          "data": {
            "text/plain": [
              "\u001b[1m Total params: \u001b[0m\u001b[38;5;34m2,640,141\u001b[0m (10.07 MB)\n"
            ],
            "text/html": [
              "<pre style=\"white-space:pre;overflow-x:auto;line-height:normal;font-family:Menlo,'DejaVu Sans Mono',consolas,'Courier New',monospace\"><span style=\"font-weight: bold\"> Total params: </span><span style=\"color: #00af00; text-decoration-color: #00af00\">2,640,141</span> (10.07 MB)\n",
              "</pre>\n"
            ]
          },
          "metadata": {}
        },
        {
          "output_type": "display_data",
          "data": {
            "text/plain": [
              "\u001b[1m Trainable params: \u001b[0m\u001b[38;5;34m2,640,141\u001b[0m (10.07 MB)\n"
            ],
            "text/html": [
              "<pre style=\"white-space:pre;overflow-x:auto;line-height:normal;font-family:Menlo,'DejaVu Sans Mono',consolas,'Courier New',monospace\"><span style=\"font-weight: bold\"> Trainable params: </span><span style=\"color: #00af00; text-decoration-color: #00af00\">2,640,141</span> (10.07 MB)\n",
              "</pre>\n"
            ]
          },
          "metadata": {}
        },
        {
          "output_type": "display_data",
          "data": {
            "text/plain": [
              "\u001b[1m Non-trainable params: \u001b[0m\u001b[38;5;34m0\u001b[0m (0.00 B)\n"
            ],
            "text/html": [
              "<pre style=\"white-space:pre;overflow-x:auto;line-height:normal;font-family:Menlo,'DejaVu Sans Mono',consolas,'Courier New',monospace\"><span style=\"font-weight: bold\"> Non-trainable params: </span><span style=\"color: #00af00; text-decoration-color: #00af00\">0</span> (0.00 B)\n",
              "</pre>\n"
            ]
          },
          "metadata": {}
        },
        {
          "output_type": "stream",
          "name": "stdout",
          "text": [
            "\n",
            "--------------------------------------------------\n",
            "Iteration 0\n",
            "\u001b[1m279/282\u001b[0m \u001b[32m━━━━━━━━━━━━━━━━━━━\u001b[0m\u001b[37m━\u001b[0m \u001b[1m0s\u001b[0m 15ms/step - accuracy: 0.3731 - loss: 1.8442\n",
            "Epoch 1: val_loss improved from inf to 1.51187, saving model to best_model_3.h5\n"
          ]
        },
        {
          "output_type": "stream",
          "name": "stderr",
          "text": [
            "WARNING:absl:You are saving your model as an HDF5 file via `model.save()` or `keras.saving.save_model(model)`. This file format is considered legacy. We recommend using instead the native Keras format, e.g. `model.save('my_model.keras')` or `keras.saving.save_model(model, 'my_model.keras')`. \n"
          ]
        },
        {
          "output_type": "stream",
          "name": "stdout",
          "text": [
            "\b\b\b\b\b\b\b\b\b\b\b\b\b\b\b\b\b\b\b\b\b\b\b\b\b\b\b\b\b\b\b\b\b\b\b\b\b\b\b\b\b\b\b\b\b\b\b\b\b\b\b\b\b\b\b\b\b\b\b\b\b\b\b\b\b\b\b\b\b\b\b\b\b\b\b\r\u001b[1m282/282\u001b[0m \u001b[32m━━━━━━━━━━━━━━━━━━━━\u001b[0m\u001b[37m\u001b[0m \u001b[1m9s\u001b[0m 18ms/step - accuracy: 0.3736 - loss: 1.8421 - val_accuracy: 0.4499 - val_loss: 1.5119\n",
            "Q 6+390     T 396   ☒ 660  \n",
            "Q 398-6     T 392   ☒ 333  \n",
            "Q 60-85     T -25   ☒ -5   \n",
            "Q 5469-2071 T 3398  ☒ -455 \n",
            "Q 5403-4    T 5399  ☒ 445  \n",
            "Q 3879-374  T 3505  ☒ 337  \n",
            "Q 317-3     T 314   ☒ 333  \n",
            "Q 7-7793    T -7786 ☒ -7777\n",
            "Q 317+9510  T 9827  ☒ 1133 \n",
            "Q 1179+70   T 1249  ☒ 1113 \n",
            "\n",
            "--------------------------------------------------\n",
            "Iteration 1\n",
            "\u001b[1m282/282\u001b[0m \u001b[32m━━━━━━━━━━━━━━━━━━━━\u001b[0m\u001b[37m\u001b[0m \u001b[1m0s\u001b[0m 15ms/step - accuracy: 0.4557 - loss: 1.5067\n",
            "Epoch 1: val_loss improved from 1.51187 to 1.37645, saving model to best_model_3.h5\n"
          ]
        },
        {
          "output_type": "stream",
          "name": "stderr",
          "text": [
            "WARNING:absl:You are saving your model as an HDF5 file via `model.save()` or `keras.saving.save_model(model)`. This file format is considered legacy. We recommend using instead the native Keras format, e.g. `model.save('my_model.keras')` or `keras.saving.save_model(model, 'my_model.keras')`. \n"
          ]
        },
        {
          "output_type": "stream",
          "name": "stdout",
          "text": [
            "\b\b\b\b\b\b\b\b\b\b\b\b\b\b\b\b\b\b\b\b\b\b\b\b\b\b\b\b\b\b\b\b\b\b\b\b\b\b\b\b\b\b\b\b\b\b\b\b\b\b\b\b\b\b\b\b\b\b\b\b\b\b\b\b\b\b\b\b\b\b\b\b\b\b\b\r\u001b[1m282/282\u001b[0m \u001b[32m━━━━━━━━━━━━━━━━━━━━\u001b[0m\u001b[37m\u001b[0m \u001b[1m5s\u001b[0m 17ms/step - accuracy: 0.4557 - loss: 1.5066 - val_accuracy: 0.4894 - val_loss: 1.3764\n",
            "Q 258-705   T -447  ☒ -22  \n",
            "Q 6232+3293 T 9525  ☒ 1100 \n",
            "Q 71+40     T 111   ☒ 11   \n",
            "Q 372+4706  T 5078  ☒ 1100 \n",
            "Q 9064-40   T 9024  ☒ 9905 \n",
            "Q 429+616   T 1045  ☒ 112  \n",
            "Q 201+45    T 246   ☒ 222  \n",
            "Q 2+1396    T 1398  ☒ 2222 \n",
            "Q 737+91    T 828   ☒ 110  \n",
            "Q 8279+95   T 8374  ☒ 8804 \n",
            "\n",
            "--------------------------------------------------\n",
            "Iteration 2\n",
            "\u001b[1m281/282\u001b[0m \u001b[32m━━━━━━━━━━━━━━━━━━━\u001b[0m\u001b[37m━\u001b[0m \u001b[1m0s\u001b[0m 12ms/step - accuracy: 0.4973 - loss: 1.3669\n",
            "Epoch 1: val_loss improved from 1.37645 to 1.25505, saving model to best_model_3.h5\n"
          ]
        },
        {
          "output_type": "stream",
          "name": "stderr",
          "text": [
            "WARNING:absl:You are saving your model as an HDF5 file via `model.save()` or `keras.saving.save_model(model)`. This file format is considered legacy. We recommend using instead the native Keras format, e.g. `model.save('my_model.keras')` or `keras.saving.save_model(model, 'my_model.keras')`. \n"
          ]
        },
        {
          "output_type": "stream",
          "name": "stdout",
          "text": [
            "\b\b\b\b\b\b\b\b\b\b\b\b\b\b\b\b\b\b\b\b\b\b\b\b\b\b\b\b\b\b\b\b\b\b\b\b\b\b\b\b\b\b\b\b\b\b\b\b\b\b\b\b\b\b\b\b\b\b\b\b\b\b\b\b\b\b\b\b\b\b\b\b\b\b\b\r\u001b[1m282/282\u001b[0m \u001b[32m━━━━━━━━━━━━━━━━━━━━\u001b[0m\u001b[37m\u001b[0m \u001b[1m4s\u001b[0m 14ms/step - accuracy: 0.4974 - loss: 1.3667 - val_accuracy: 0.5318 - val_loss: 1.2550\n",
            "Q 9-843     T -834  ☒ -843 \n",
            "Q 6-711     T -705  ☒ -711 \n",
            "Q 384-4129  T -3745 ☒ -337 \n",
            "Q 47-2019   T -1972 ☒ -2109\n",
            "Q 805+6320  T 7125  ☒ 8622 \n",
            "Q 779+816   T 1595  ☒ 1154 \n",
            "Q 3183-755  T 2428  ☒ 3209 \n",
            "Q 899-484   T 415   ☒ 33   \n",
            "Q 38-8288   T -8250 ☒ -8801\n",
            "Q 216+3     T 219   ☒ 223  \n",
            "\n",
            "--------------------------------------------------\n",
            "Iteration 3\n",
            "\u001b[1m282/282\u001b[0m \u001b[32m━━━━━━━━━━━━━━━━━━━━\u001b[0m\u001b[37m\u001b[0m \u001b[1m0s\u001b[0m 13ms/step - accuracy: 0.5337 - loss: 1.2530\n",
            "Epoch 1: val_loss improved from 1.25505 to 1.13612, saving model to best_model_3.h5\n"
          ]
        },
        {
          "output_type": "stream",
          "name": "stderr",
          "text": [
            "WARNING:absl:You are saving your model as an HDF5 file via `model.save()` or `keras.saving.save_model(model)`. This file format is considered legacy. We recommend using instead the native Keras format, e.g. `model.save('my_model.keras')` or `keras.saving.save_model(model, 'my_model.keras')`. \n"
          ]
        },
        {
          "output_type": "stream",
          "name": "stdout",
          "text": [
            "\b\b\b\b\b\b\b\b\b\b\b\b\b\b\b\b\b\b\b\b\b\b\b\b\b\b\b\b\b\b\b\b\b\b\b\b\b\b\b\b\b\b\b\b\b\b\b\b\b\b\b\b\b\b\b\b\b\b\b\b\b\b\b\b\b\b\b\b\b\b\b\b\b\b\b\r\u001b[1m282/282\u001b[0m \u001b[32m━━━━━━━━━━━━━━━━━━━━\u001b[0m\u001b[37m\u001b[0m \u001b[1m4s\u001b[0m 15ms/step - accuracy: 0.5338 - loss: 1.2529 - val_accuracy: 0.5769 - val_loss: 1.1361\n",
            "Q 3921+6565 T 10486 ☒ 1100 \n",
            "Q 8220+33   T 8253  ☒ 8211 \n",
            "Q 62+15     T 77    ☑ 77   \n",
            "Q 3447-8908 T -5461 ☒ -3322\n",
            "Q 0+114     T 114   ☒ 112  \n",
            "Q 5512+76   T 5588  ☒ 5563 \n",
            "Q 4-9846    T -9842 ☒ -9955\n",
            "Q 522-24    T 498   ☒ 511  \n",
            "Q 1661+8708 T 10369 ☒ 1222 \n",
            "Q 4019-518  T 3501  ☒ 3393 \n",
            "\n",
            "--------------------------------------------------\n",
            "Iteration 4\n",
            "\u001b[1m280/282\u001b[0m \u001b[32m━━━━━━━━━━━━━━━━━━━\u001b[0m\u001b[37m━\u001b[0m \u001b[1m0s\u001b[0m 13ms/step - accuracy: 0.5776 - loss: 1.1437\n",
            "Epoch 1: val_loss improved from 1.13612 to 1.04549, saving model to best_model_3.h5\n"
          ]
        },
        {
          "output_type": "stream",
          "name": "stderr",
          "text": [
            "WARNING:absl:You are saving your model as an HDF5 file via `model.save()` or `keras.saving.save_model(model)`. This file format is considered legacy. We recommend using instead the native Keras format, e.g. `model.save('my_model.keras')` or `keras.saving.save_model(model, 'my_model.keras')`. \n"
          ]
        },
        {
          "output_type": "stream",
          "name": "stdout",
          "text": [
            "\b\b\b\b\b\b\b\b\b\b\b\b\b\b\b\b\b\b\b\b\b\b\b\b\b\b\b\b\b\b\b\b\b\b\b\b\b\b\b\b\b\b\b\b\b\b\b\b\b\b\b\b\b\b\b\b\b\b\b\b\b\b\b\b\b\b\b\b\b\b\b\b\b\b\b\r\u001b[1m282/282\u001b[0m \u001b[32m━━━━━━━━━━━━━━━━━━━━\u001b[0m\u001b[37m\u001b[0m \u001b[1m4s\u001b[0m 15ms/step - accuracy: 0.5777 - loss: 1.1435 - val_accuracy: 0.6138 - val_loss: 1.0455\n",
            "Q 86-19     T 67    ☒ 52   \n",
            "Q 583+8     T 591   ☒ 585  \n",
            "Q 2-5303    T -5301 ☒ -5308\n",
            "Q 24+9229   T 9253  ☒ 9233 \n",
            "Q 5+627     T 632   ☒ 623  \n",
            "Q 821-6100  T -5279 ☒ -5597\n",
            "Q 8+675     T 683   ☒ 678  \n",
            "Q 587+5     T 592   ☒ 582  \n",
            "Q 28-482    T -454  ☒ -470 \n",
            "Q 115+2     T 117   ☒ 116  \n",
            "\n",
            "--------------------------------------------------\n",
            "Iteration 5\n",
            "\u001b[1m281/282\u001b[0m \u001b[32m━━━━━━━━━━━━━━━━━━━\u001b[0m\u001b[37m━\u001b[0m \u001b[1m0s\u001b[0m 13ms/step - accuracy: 0.6129 - loss: 1.0467\n",
            "Epoch 1: val_loss improved from 1.04549 to 0.93968, saving model to best_model_3.h5\n"
          ]
        },
        {
          "output_type": "stream",
          "name": "stderr",
          "text": [
            "WARNING:absl:You are saving your model as an HDF5 file via `model.save()` or `keras.saving.save_model(model)`. This file format is considered legacy. We recommend using instead the native Keras format, e.g. `model.save('my_model.keras')` or `keras.saving.save_model(model, 'my_model.keras')`. \n"
          ]
        },
        {
          "output_type": "stream",
          "name": "stdout",
          "text": [
            "\b\b\b\b\b\b\b\b\b\b\b\b\b\b\b\b\b\b\b\b\b\b\b\b\b\b\b\b\b\b\b\b\b\b\b\b\b\b\b\b\b\b\b\b\b\b\b\b\b\b\b\b\b\b\b\b\b\b\b\b\b\b\b\b\b\b\b\b\b\b\b\b\b\b\b\r\u001b[1m282/282\u001b[0m \u001b[32m━━━━━━━━━━━━━━━━━━━━\u001b[0m\u001b[37m\u001b[0m \u001b[1m4s\u001b[0m 15ms/step - accuracy: 0.6130 - loss: 1.0466 - val_accuracy: 0.6482 - val_loss: 0.9397\n",
            "Q 4257-5883 T -1626 ☒ -333 \n",
            "Q 670+4     T 674   ☒ 666  \n",
            "Q 289-9981  T -9692 ☒ -9000\n",
            "Q 10-713    T -703  ☒ -702 \n",
            "Q 9-5244    T -5235 ☒ -5244\n",
            "Q 1556+9726 T 11282 ☒ 10000\n",
            "Q 9095-3    T 9092  ☒ 9098 \n",
            "Q 7162+176  T 7338  ☒ 7244 \n",
            "Q 1218+32   T 1250  ☒ 1345 \n",
            "Q 105+223   T 328   ☒ 266  \n",
            "\n",
            "--------------------------------------------------\n",
            "Iteration 6\n",
            "\u001b[1m279/282\u001b[0m \u001b[32m━━━━━━━━━━━━━━━━━━━\u001b[0m\u001b[37m━\u001b[0m \u001b[1m0s\u001b[0m 14ms/step - accuracy: 0.6453 - loss: 0.9572\n",
            "Epoch 1: val_loss improved from 0.93968 to 0.85078, saving model to best_model_3.h5\n"
          ]
        },
        {
          "output_type": "stream",
          "name": "stderr",
          "text": [
            "WARNING:absl:You are saving your model as an HDF5 file via `model.save()` or `keras.saving.save_model(model)`. This file format is considered legacy. We recommend using instead the native Keras format, e.g. `model.save('my_model.keras')` or `keras.saving.save_model(model, 'my_model.keras')`. \n"
          ]
        },
        {
          "output_type": "stream",
          "name": "stdout",
          "text": [
            "\b\b\b\b\b\b\b\b\b\b\b\b\b\b\b\b\b\b\b\b\b\b\b\b\b\b\b\b\b\b\b\b\b\b\b\b\b\b\b\b\b\b\b\b\b\b\b\b\b\b\b\b\b\b\b\b\b\b\b\b\b\b\b\b\b\b\b\b\b\b\b\b\b\b\b\r\u001b[1m282/282\u001b[0m \u001b[32m━━━━━━━━━━━━━━━━━━━━\u001b[0m\u001b[37m\u001b[0m \u001b[1m4s\u001b[0m 16ms/step - accuracy: 0.6454 - loss: 0.9570 - val_accuracy: 0.6844 - val_loss: 0.8508\n",
            "Q 853+4355  T 5208  ☒ 4998 \n",
            "Q 3-30      T -27   ☒ -22  \n",
            "Q 0-180     T -180  ☑ -180 \n",
            "Q 8-844     T -836  ☒ -837 \n",
            "Q 28-385    T -357  ☒ -363 \n",
            "Q 88+4      T 92    ☑ 92   \n",
            "Q 4-802     T -798  ☒ -797 \n",
            "Q 3283-22   T 3261  ☒ 3255 \n",
            "Q 5463-8    T 5455  ☒ 5555 \n",
            "Q 490+629   T 1119  ☒ 1111 \n",
            "\n",
            "--------------------------------------------------\n",
            "Iteration 7\n",
            "\u001b[1m278/282\u001b[0m \u001b[32m━━━━━━━━━━━━━━━━━━━\u001b[0m\u001b[37m━\u001b[0m \u001b[1m0s\u001b[0m 13ms/step - accuracy: 0.6746 - loss: 0.8770\n",
            "Epoch 1: val_loss improved from 0.85078 to 0.78266, saving model to best_model_3.h5\n"
          ]
        },
        {
          "output_type": "stream",
          "name": "stderr",
          "text": [
            "WARNING:absl:You are saving your model as an HDF5 file via `model.save()` or `keras.saving.save_model(model)`. This file format is considered legacy. We recommend using instead the native Keras format, e.g. `model.save('my_model.keras')` or `keras.saving.save_model(model, 'my_model.keras')`. \n"
          ]
        },
        {
          "output_type": "stream",
          "name": "stdout",
          "text": [
            "\b\b\b\b\b\b\b\b\b\b\b\b\b\b\b\b\b\b\b\b\b\b\b\b\b\b\b\b\b\b\b\b\b\b\b\b\b\b\b\b\b\b\b\b\b\b\b\b\b\b\b\b\b\b\b\b\b\b\b\b\b\b\b\b\b\b\b\b\b\b\b\b\b\b\b\r\u001b[1m282/282\u001b[0m \u001b[32m━━━━━━━━━━━━━━━━━━━━\u001b[0m\u001b[37m\u001b[0m \u001b[1m4s\u001b[0m 14ms/step - accuracy: 0.6747 - loss: 0.8767 - val_accuracy: 0.7101 - val_loss: 0.7827\n",
            "Q 799-9396  T -8597 ☒ -8887\n",
            "Q 7450-44   T 7406  ☒ 7444 \n",
            "Q 51+291    T 342   ☒ 340  \n",
            "Q 3971-4120 T -149  ☒ 220  \n",
            "Q 812-475   T 337   ☒ 326  \n",
            "Q 8+75      T 83    ☑ 83   \n",
            "Q 5-605     T -600  ☑ -600 \n",
            "Q 1642-9908 T -8266 ☒ -8336\n",
            "Q 9498-5301 T 4197  ☒ 449  \n",
            "Q 453-2     T 451   ☑ 451  \n",
            "\n",
            "--------------------------------------------------\n",
            "Iteration 8\n",
            "\u001b[1m278/282\u001b[0m \u001b[32m━━━━━━━━━━━━━━━━━━━\u001b[0m\u001b[37m━\u001b[0m \u001b[1m0s\u001b[0m 15ms/step - accuracy: 0.7043 - loss: 0.7927\n",
            "Epoch 1: val_loss improved from 0.78266 to 0.69932, saving model to best_model_3.h5\n"
          ]
        },
        {
          "output_type": "stream",
          "name": "stderr",
          "text": [
            "WARNING:absl:You are saving your model as an HDF5 file via `model.save()` or `keras.saving.save_model(model)`. This file format is considered legacy. We recommend using instead the native Keras format, e.g. `model.save('my_model.keras')` or `keras.saving.save_model(model, 'my_model.keras')`. \n"
          ]
        },
        {
          "output_type": "stream",
          "name": "stdout",
          "text": [
            "\b\b\b\b\b\b\b\b\b\b\b\b\b\b\b\b\b\b\b\b\b\b\b\b\b\b\b\b\b\b\b\b\b\b\b\b\b\b\b\b\b\b\b\b\b\b\b\b\b\b\b\b\b\b\b\b\b\b\b\b\b\b\b\b\b\b\b\b\b\b\b\b\b\b\b\r\u001b[1m282/282\u001b[0m \u001b[32m━━━━━━━━━━━━━━━━━━━━\u001b[0m\u001b[37m\u001b[0m \u001b[1m4s\u001b[0m 16ms/step - accuracy: 0.7045 - loss: 0.7924 - val_accuracy: 0.7418 - val_loss: 0.6993\n",
            "Q 4260+699  T 4959  ☒ 4700 \n",
            "Q 4-8540    T -8536 ☒ -8545\n",
            "Q 621-3814  T -3193 ☒ -3275\n",
            "Q 1+988     T 989   ☒ 990  \n",
            "Q 98-758    T -660  ☒ -677 \n",
            "Q 711+9     T 720   ☒ 710  \n",
            "Q 85+879    T 964   ☒ 965  \n",
            "Q 152+402   T 554   ☒ 541  \n",
            "Q 8278-21   T 8257  ☒ 8262 \n",
            "Q 9122+4    T 9126  ☑ 9126 \n",
            "\n",
            "--------------------------------------------------\n",
            "Iteration 9\n",
            "\u001b[1m279/282\u001b[0m \u001b[32m━━━━━━━━━━━━━━━━━━━\u001b[0m\u001b[37m━\u001b[0m \u001b[1m0s\u001b[0m 12ms/step - accuracy: 0.7330 - loss: 0.7164\n",
            "Epoch 1: val_loss improved from 0.69932 to 0.61441, saving model to best_model_3.h5\n"
          ]
        },
        {
          "output_type": "stream",
          "name": "stderr",
          "text": [
            "WARNING:absl:You are saving your model as an HDF5 file via `model.save()` or `keras.saving.save_model(model)`. This file format is considered legacy. We recommend using instead the native Keras format, e.g. `model.save('my_model.keras')` or `keras.saving.save_model(model, 'my_model.keras')`. \n"
          ]
        },
        {
          "output_type": "stream",
          "name": "stdout",
          "text": [
            "\b\b\b\b\b\b\b\b\b\b\b\b\b\b\b\b\b\b\b\b\b\b\b\b\b\b\b\b\b\b\b\b\b\b\b\b\b\b\b\b\b\b\b\b\b\b\b\b\b\b\b\b\b\b\b\b\b\b\b\b\b\b\b\b\b\b\b\b\b\b\b\b\b\b\b\r\u001b[1m282/282\u001b[0m \u001b[32m━━━━━━━━━━━━━━━━━━━━\u001b[0m\u001b[37m\u001b[0m \u001b[1m4s\u001b[0m 14ms/step - accuracy: 0.7331 - loss: 0.7162 - val_accuracy: 0.7775 - val_loss: 0.6144\n",
            "Q 8-487     T -479  ☒ -489 \n",
            "Q 967-1476  T -509  ☒ -77  \n",
            "Q 75+22     T 97    ☒ 18   \n",
            "Q 398-6     T 392   ☑ 392  \n",
            "Q 641-4     T 637   ☑ 637  \n",
            "Q 53-340    T -287  ☑ -287 \n",
            "Q 2-319     T -317  ☑ -317 \n",
            "Q 659-49    T 610   ☒ 600  \n",
            "Q 1+5070    T 5071  ☒ 5070 \n",
            "Q 17+2472   T 2489  ☑ 2489 \n",
            "\n",
            "--------------------------------------------------\n",
            "Iteration 10\n",
            "\u001b[1m281/282\u001b[0m \u001b[32m━━━━━━━━━━━━━━━━━━━\u001b[0m\u001b[37m━\u001b[0m \u001b[1m0s\u001b[0m 14ms/step - accuracy: 0.7658 - loss: 0.6393\n",
            "Epoch 1: val_loss improved from 0.61441 to 0.54373, saving model to best_model_3.h5\n"
          ]
        },
        {
          "output_type": "stream",
          "name": "stderr",
          "text": [
            "WARNING:absl:You are saving your model as an HDF5 file via `model.save()` or `keras.saving.save_model(model)`. This file format is considered legacy. We recommend using instead the native Keras format, e.g. `model.save('my_model.keras')` or `keras.saving.save_model(model, 'my_model.keras')`. \n"
          ]
        },
        {
          "output_type": "stream",
          "name": "stdout",
          "text": [
            "\b\b\b\b\b\b\b\b\b\b\b\b\b\b\b\b\b\b\b\b\b\b\b\b\b\b\b\b\b\b\b\b\b\b\b\b\b\b\b\b\b\b\b\b\b\b\b\b\b\b\b\b\b\b\b\b\b\b\b\b\b\b\b\b\b\b\b\b\b\b\b\b\b\b\b\r\u001b[1m282/282\u001b[0m \u001b[32m━━━━━━━━━━━━━━━━━━━━\u001b[0m\u001b[37m\u001b[0m \u001b[1m4s\u001b[0m 15ms/step - accuracy: 0.7658 - loss: 0.6392 - val_accuracy: 0.8095 - val_loss: 0.5437\n",
            "Q 5+588     T 593   ☑ 593  \n",
            "Q 2766+1    T 2767  ☑ 2767 \n",
            "Q 3460-21   T 3439  ☒ 3461 \n",
            "Q 0-34      T -34   ☑ -34  \n",
            "Q 67-1      T 66    ☑ 66   \n",
            "Q 7-794     T -787  ☑ -787 \n",
            "Q 2-4238    T -4236 ☒ -4246\n",
            "Q 4+2       T 6     ☑ 6    \n",
            "Q 8-0       T 8     ☑ 8    \n",
            "Q 16-739    T -723  ☒ -728 \n",
            "\n",
            "--------------------------------------------------\n",
            "Iteration 11\n",
            "\u001b[1m282/282\u001b[0m \u001b[32m━━━━━━━━━━━━━━━━━━━━\u001b[0m\u001b[37m\u001b[0m \u001b[1m0s\u001b[0m 13ms/step - accuracy: 0.7895 - loss: 0.5751\n",
            "Epoch 1: val_loss improved from 0.54373 to 0.47800, saving model to best_model_3.h5\n"
          ]
        },
        {
          "output_type": "stream",
          "name": "stderr",
          "text": [
            "WARNING:absl:You are saving your model as an HDF5 file via `model.save()` or `keras.saving.save_model(model)`. This file format is considered legacy. We recommend using instead the native Keras format, e.g. `model.save('my_model.keras')` or `keras.saving.save_model(model, 'my_model.keras')`. \n"
          ]
        },
        {
          "output_type": "stream",
          "name": "stdout",
          "text": [
            "\b\b\b\b\b\b\b\b\b\b\b\b\b\b\b\b\b\b\b\b\b\b\b\b\b\b\b\b\b\b\b\b\b\b\b\b\b\b\b\b\b\b\b\b\b\b\b\b\b\b\b\b\b\b\b\b\b\b\b\b\b\b\b\b\b\b\b\b\b\b\b\b\b\b\b\r\u001b[1m282/282\u001b[0m \u001b[32m━━━━━━━━━━━━━━━━━━━━\u001b[0m\u001b[37m\u001b[0m \u001b[1m4s\u001b[0m 14ms/step - accuracy: 0.7895 - loss: 0.5750 - val_accuracy: 0.8342 - val_loss: 0.4780\n",
            "Q 2+832     T 834   ☑ 834  \n",
            "Q 822+3     T 825   ☑ 825  \n",
            "Q 18+52     T 70    ☒ 60   \n",
            "Q 9+32      T 41    ☑ 41   \n",
            "Q 417-8     T 409   ☑ 409  \n",
            "Q 712+883   T 1595  ☒ 1655 \n",
            "Q 69+4787   T 4856  ☑ 4856 \n",
            "Q 9149+93   T 9242  ☒ 9222 \n",
            "Q 6869+21   T 6890  ☒ 6880 \n",
            "Q 29-87     T -58   ☒ -48  \n",
            "\n",
            "--------------------------------------------------\n",
            "Iteration 12\n",
            "\u001b[1m281/282\u001b[0m \u001b[32m━━━━━━━━━━━━━━━━━━━\u001b[0m\u001b[37m━\u001b[0m \u001b[1m0s\u001b[0m 13ms/step - accuracy: 0.8194 - loss: 0.5038\n",
            "Epoch 1: val_loss improved from 0.47800 to 0.42181, saving model to best_model_3.h5\n"
          ]
        },
        {
          "output_type": "stream",
          "name": "stderr",
          "text": [
            "WARNING:absl:You are saving your model as an HDF5 file via `model.save()` or `keras.saving.save_model(model)`. This file format is considered legacy. We recommend using instead the native Keras format, e.g. `model.save('my_model.keras')` or `keras.saving.save_model(model, 'my_model.keras')`. \n"
          ]
        },
        {
          "output_type": "stream",
          "name": "stdout",
          "text": [
            "\b\b\b\b\b\b\b\b\b\b\b\b\b\b\b\b\b\b\b\b\b\b\b\b\b\b\b\b\b\b\b\b\b\b\b\b\b\b\b\b\b\b\b\b\b\b\b\b\b\b\b\b\b\b\b\b\b\b\b\b\b\b\b\b\b\b\b\b\b\b\b\b\b\b\b\r\u001b[1m282/282\u001b[0m \u001b[32m━━━━━━━━━━━━━━━━━━━━\u001b[0m\u001b[37m\u001b[0m \u001b[1m4s\u001b[0m 14ms/step - accuracy: 0.8195 - loss: 0.5037 - val_accuracy: 0.8521 - val_loss: 0.4218\n",
            "Q 308+32    T 340   ☑ 340  \n",
            "Q 1674-94   T 1580  ☑ 1580 \n",
            "Q 799-9396  T -8597 ☒ -8595\n",
            "Q 984+40    T 1024  ☒ 1034 \n",
            "Q 9498-5301 T 4197  ☒ 459  \n",
            "Q 4-621     T -617  ☑ -617 \n",
            "Q 389+379   T 768   ☒ 758  \n",
            "Q 357+1243  T 1600  ☒ 1611 \n",
            "Q 8-7330    T -7322 ☑ -7322\n",
            "Q 300+74    T 374   ☒ 384  \n",
            "\n",
            "--------------------------------------------------\n",
            "Iteration 13\n",
            "\u001b[1m279/282\u001b[0m \u001b[32m━━━━━━━━━━━━━━━━━━━\u001b[0m\u001b[37m━\u001b[0m \u001b[1m0s\u001b[0m 14ms/step - accuracy: 0.8420 - loss: 0.4458\n",
            "Epoch 1: val_loss improved from 0.42181 to 0.38189, saving model to best_model_3.h5\n"
          ]
        },
        {
          "output_type": "stream",
          "name": "stderr",
          "text": [
            "WARNING:absl:You are saving your model as an HDF5 file via `model.save()` or `keras.saving.save_model(model)`. This file format is considered legacy. We recommend using instead the native Keras format, e.g. `model.save('my_model.keras')` or `keras.saving.save_model(model, 'my_model.keras')`. \n"
          ]
        },
        {
          "output_type": "stream",
          "name": "stdout",
          "text": [
            "\b\b\b\b\b\b\b\b\b\b\b\b\b\b\b\b\b\b\b\b\b\b\b\b\b\b\b\b\b\b\b\b\b\b\b\b\b\b\b\b\b\b\b\b\b\b\b\b\b\b\b\b\b\b\b\b\b\b\b\b\b\b\b\b\b\b\b\b\b\b\b\b\b\b\b\r\u001b[1m282/282\u001b[0m \u001b[32m━━━━━━━━━━━━━━━━━━━━\u001b[0m\u001b[37m\u001b[0m \u001b[1m4s\u001b[0m 15ms/step - accuracy: 0.8421 - loss: 0.4457 - val_accuracy: 0.8662 - val_loss: 0.3819\n",
            "Q 3870+791  T 4661  ☑ 4661 \n",
            "Q 24-8877   T -8853 ☑ -8853\n",
            "Q 3+270     T 273   ☑ 273  \n",
            "Q 158+533   T 691   ☒ 601  \n",
            "Q 603+7885  T 8488  ☒ 8558 \n",
            "Q 919+764   T 1683  ☒ 1653 \n",
            "Q 717-328   T 389   ☒ 499  \n",
            "Q 79+94     T 173   ☑ 173  \n",
            "Q 67+8671   T 8738  ☑ 8738 \n",
            "Q 351-1618  T -1267 ☒ -1088\n",
            "\n",
            "--------------------------------------------------\n",
            "Iteration 14\n",
            "\u001b[1m280/282\u001b[0m \u001b[32m━━━━━━━━━━━━━━━━━━━\u001b[0m\u001b[37m━\u001b[0m \u001b[1m0s\u001b[0m 12ms/step - accuracy: 0.8566 - loss: 0.4020\n",
            "Epoch 1: val_loss improved from 0.38189 to 0.34566, saving model to best_model_3.h5\n"
          ]
        },
        {
          "output_type": "stream",
          "name": "stderr",
          "text": [
            "WARNING:absl:You are saving your model as an HDF5 file via `model.save()` or `keras.saving.save_model(model)`. This file format is considered legacy. We recommend using instead the native Keras format, e.g. `model.save('my_model.keras')` or `keras.saving.save_model(model, 'my_model.keras')`. \n"
          ]
        },
        {
          "output_type": "stream",
          "name": "stdout",
          "text": [
            "\b\b\b\b\b\b\b\b\b\b\b\b\b\b\b\b\b\b\b\b\b\b\b\b\b\b\b\b\b\b\b\b\b\b\b\b\b\b\b\b\b\b\b\b\b\b\b\b\b\b\b\b\b\b\b\b\b\b\b\b\b\b\b\b\b\b\b\b\b\b\b\b\b\b\b\r\u001b[1m282/282\u001b[0m \u001b[32m━━━━━━━━━━━━━━━━━━━━\u001b[0m\u001b[37m\u001b[0m \u001b[1m4s\u001b[0m 14ms/step - accuracy: 0.8567 - loss: 0.4019 - val_accuracy: 0.8770 - val_loss: 0.3457\n",
            "Q 32+91     T 123   ☑ 123  \n",
            "Q 86-35     T 51    ☑ 51   \n",
            "Q 2219-7295 T -5076 ☒ -4986\n",
            "Q 416+498   T 914   ☒ 904  \n",
            "Q 606-95    T 511   ☑ 511  \n",
            "Q 66-245    T -179  ☒ -189 \n",
            "Q 5-3587    T -3582 ☑ -3582\n",
            "Q 8741+9438 T 18179 ☒ 17409\n",
            "Q 90+5659   T 5749  ☒ 5669 \n",
            "Q 1222+4204 T 5426  ☒ 6226 \n",
            "\n",
            "--------------------------------------------------\n",
            "Iteration 15\n",
            "\u001b[1m282/282\u001b[0m \u001b[32m━━━━━━━━━━━━━━━━━━━━\u001b[0m\u001b[37m\u001b[0m \u001b[1m0s\u001b[0m 15ms/step - accuracy: 0.8719 - loss: 0.3573\n",
            "Epoch 1: val_loss improved from 0.34566 to 0.32175, saving model to best_model_3.h5\n"
          ]
        },
        {
          "output_type": "stream",
          "name": "stderr",
          "text": [
            "WARNING:absl:You are saving your model as an HDF5 file via `model.save()` or `keras.saving.save_model(model)`. This file format is considered legacy. We recommend using instead the native Keras format, e.g. `model.save('my_model.keras')` or `keras.saving.save_model(model, 'my_model.keras')`. \n"
          ]
        },
        {
          "output_type": "stream",
          "name": "stdout",
          "text": [
            "\b\b\b\b\b\b\b\b\b\b\b\b\b\b\b\b\b\b\b\b\b\b\b\b\b\b\b\b\b\b\b\b\b\b\b\b\b\b\b\b\b\b\b\b\b\b\b\b\b\b\b\b\b\b\b\b\b\b\b\b\b\b\b\b\b\b\b\b\b\b\b\b\b\b\b\r\u001b[1m282/282\u001b[0m \u001b[32m━━━━━━━━━━━━━━━━━━━━\u001b[0m\u001b[37m\u001b[0m \u001b[1m5s\u001b[0m 17ms/step - accuracy: 0.8719 - loss: 0.3573 - val_accuracy: 0.8851 - val_loss: 0.3218\n",
            "Q 3+4339    T 4342  ☑ 4342 \n",
            "Q 13-913    T -900  ☒ -800 \n",
            "Q 37+8      T 45    ☑ 45   \n",
            "Q 9573+943  T 10516 ☒ 10326\n",
            "Q 9064+5915 T 14979 ☒ 15049\n",
            "Q 42-599    T -557  ☑ -557 \n",
            "Q 552-80    T 472   ☒ 482  \n",
            "Q 57-77     T -20   ☒ -10  \n",
            "Q 7809+3    T 7812  ☑ 7812 \n",
            "Q 5394-5253 T 141   ☒ -76  \n",
            "\n",
            "--------------------------------------------------\n",
            "Iteration 16\n",
            "\u001b[1m280/282\u001b[0m \u001b[32m━━━━━━━━━━━━━━━━━━━\u001b[0m\u001b[37m━\u001b[0m \u001b[1m0s\u001b[0m 12ms/step - accuracy: 0.8804 - loss: 0.3276\n",
            "Epoch 1: val_loss improved from 0.32175 to 0.30337, saving model to best_model_3.h5\n"
          ]
        },
        {
          "output_type": "stream",
          "name": "stderr",
          "text": [
            "WARNING:absl:You are saving your model as an HDF5 file via `model.save()` or `keras.saving.save_model(model)`. This file format is considered legacy. We recommend using instead the native Keras format, e.g. `model.save('my_model.keras')` or `keras.saving.save_model(model, 'my_model.keras')`. \n"
          ]
        },
        {
          "output_type": "stream",
          "name": "stdout",
          "text": [
            "\b\b\b\b\b\b\b\b\b\b\b\b\b\b\b\b\b\b\b\b\b\b\b\b\b\b\b\b\b\b\b\b\b\b\b\b\b\b\b\b\b\b\b\b\b\b\b\b\b\b\b\b\b\b\b\b\b\b\b\b\b\b\b\b\b\b\b\b\b\b\b\b\b\b\b\r\u001b[1m282/282\u001b[0m \u001b[32m━━━━━━━━━━━━━━━━━━━━\u001b[0m\u001b[37m\u001b[0m \u001b[1m4s\u001b[0m 14ms/step - accuracy: 0.8804 - loss: 0.3276 - val_accuracy: 0.8914 - val_loss: 0.3034\n",
            "Q 1+452     T 453   ☑ 453  \n",
            "Q 721-16    T 705   ☒ 715  \n",
            "Q 585-18    T 567   ☒ 577  \n",
            "Q 8685+94   T 8779  ☑ 8779 \n",
            "Q 74+8992   T 9066  ☒ 9056 \n",
            "Q 2913-3603 T -690  ☒ -110 \n",
            "Q 793+908   T 1701  ☒ 1681 \n",
            "Q 22+323    T 345   ☒ 355  \n",
            "Q 27+7012   T 7039  ☒ 7029 \n",
            "Q 156-750   T -594  ☒ -616 \n",
            "\n",
            "--------------------------------------------------\n",
            "Iteration 17\n",
            "\u001b[1m281/282\u001b[0m \u001b[32m━━━━━━━━━━━━━━━━━━━\u001b[0m\u001b[37m━\u001b[0m \u001b[1m0s\u001b[0m 13ms/step - accuracy: 0.8908 - loss: 0.2986\n",
            "Epoch 1: val_loss did not improve from 0.30337\n",
            "\u001b[1m282/282\u001b[0m \u001b[32m━━━━━━━━━━━━━━━━━━━━\u001b[0m\u001b[37m\u001b[0m \u001b[1m4s\u001b[0m 14ms/step - accuracy: 0.8908 - loss: 0.2986 - val_accuracy: 0.8890 - val_loss: 0.3128\n",
            "Q 9+2       T 11    ☑ 11   \n",
            "Q 200+52    T 252   ☑ 252  \n",
            "Q 77+8224   T 8301  ☒ 8291 \n",
            "Q 78+12     T 90    ☑ 90   \n",
            "Q 8570+315  T 8885  ☒ 8965 \n",
            "Q 7070-9347 T -2277 ☒ -2337\n",
            "Q 730-216   T 514   ☑ 514  \n",
            "Q 2359+6    T 2365  ☑ 2365 \n",
            "Q 702+8527  T 9229  ☒ 9449 \n",
            "Q 4+7407    T 7411  ☑ 7411 \n",
            "\n",
            "--------------------------------------------------\n",
            "Iteration 18\n",
            "\u001b[1m280/282\u001b[0m \u001b[32m━━━━━━━━━━━━━━━━━━━\u001b[0m\u001b[37m━\u001b[0m \u001b[1m0s\u001b[0m 13ms/step - accuracy: 0.8974 - loss: 0.2792\n",
            "Epoch 1: val_loss improved from 0.30337 to 0.27707, saving model to best_model_3.h5\n"
          ]
        },
        {
          "output_type": "stream",
          "name": "stderr",
          "text": [
            "WARNING:absl:You are saving your model as an HDF5 file via `model.save()` or `keras.saving.save_model(model)`. This file format is considered legacy. We recommend using instead the native Keras format, e.g. `model.save('my_model.keras')` or `keras.saving.save_model(model, 'my_model.keras')`. \n"
          ]
        },
        {
          "output_type": "stream",
          "name": "stdout",
          "text": [
            "\b\b\b\b\b\b\b\b\b\b\b\b\b\b\b\b\b\b\b\b\b\b\b\b\b\b\b\b\b\b\b\b\b\b\b\b\b\b\b\b\b\b\b\b\b\b\b\b\b\b\b\b\b\b\b\b\b\b\b\b\b\b\b\b\b\b\b\b\b\b\b\b\b\b\b\r\u001b[1m282/282\u001b[0m \u001b[32m━━━━━━━━━━━━━━━━━━━━\u001b[0m\u001b[37m\u001b[0m \u001b[1m4s\u001b[0m 14ms/step - accuracy: 0.8974 - loss: 0.2792 - val_accuracy: 0.8955 - val_loss: 0.2771\n",
            "Q 870+2     T 872   ☑ 872  \n",
            "Q 1+7452    T 7453  ☑ 7453 \n",
            "Q 31+4      T 35    ☑ 35   \n",
            "Q 34+7      T 41    ☑ 41   \n",
            "Q 8-64      T -56   ☑ -56  \n",
            "Q 37-879    T -842  ☑ -842 \n",
            "Q 395+2876  T 3271  ☒ 3261 \n",
            "Q 473+4500  T 4973  ☒ 4943 \n",
            "Q 31+2858   T 2889  ☒ 2899 \n",
            "Q 7+624     T 631   ☑ 631  \n",
            "\n",
            "--------------------------------------------------\n",
            "Iteration 19\n",
            "\u001b[1m278/282\u001b[0m \u001b[32m━━━━━━━━━━━━━━━━━━━\u001b[0m\u001b[37m━\u001b[0m \u001b[1m0s\u001b[0m 13ms/step - accuracy: 0.9048 - loss: 0.2580\n",
            "Epoch 1: val_loss improved from 0.27707 to 0.26546, saving model to best_model_3.h5\n"
          ]
        },
        {
          "output_type": "stream",
          "name": "stderr",
          "text": [
            "WARNING:absl:You are saving your model as an HDF5 file via `model.save()` or `keras.saving.save_model(model)`. This file format is considered legacy. We recommend using instead the native Keras format, e.g. `model.save('my_model.keras')` or `keras.saving.save_model(model, 'my_model.keras')`. \n"
          ]
        },
        {
          "output_type": "stream",
          "name": "stdout",
          "text": [
            "\b\b\b\b\b\b\b\b\b\b\b\b\b\b\b\b\b\b\b\b\b\b\b\b\b\b\b\b\b\b\b\b\b\b\b\b\b\b\b\b\b\b\b\b\b\b\b\b\b\b\b\b\b\b\b\b\b\b\b\b\b\b\b\b\b\b\b\b\b\b\b\b\b\b\b\r\u001b[1m282/282\u001b[0m \u001b[32m━━━━━━━━━━━━━━━━━━━━\u001b[0m\u001b[37m\u001b[0m \u001b[1m4s\u001b[0m 14ms/step - accuracy: 0.9048 - loss: 0.2580 - val_accuracy: 0.9003 - val_loss: 0.2655\n",
            "Q 7-7793    T -7786 ☑ -7786\n",
            "Q 0-92      T -92   ☑ -92  \n",
            "Q 82+264    T 346   ☒ 356  \n",
            "Q 6712-8485 T -1773 ☒ -1733\n",
            "Q 5339-5    T 5334  ☑ 5334 \n",
            "Q 322+23    T 345   ☒ 355  \n",
            "Q 48+79     T 127   ☑ 127  \n",
            "Q 44+850    T 894   ☑ 894  \n",
            "Q 415+958   T 1373  ☒ 1383 \n",
            "Q 1303-638  T 665   ☒ 515  \n",
            "\n",
            "--------------------------------------------------\n",
            "Iteration 20\n",
            "\u001b[1m280/282\u001b[0m \u001b[32m━━━━━━━━━━━━━━━━━━━\u001b[0m\u001b[37m━\u001b[0m \u001b[1m0s\u001b[0m 14ms/step - accuracy: 0.9048 - loss: 0.2522\n",
            "Epoch 1: val_loss did not improve from 0.26546\n",
            "\u001b[1m282/282\u001b[0m \u001b[32m━━━━━━━━━━━━━━━━━━━━\u001b[0m\u001b[37m\u001b[0m \u001b[1m4s\u001b[0m 16ms/step - accuracy: 0.9048 - loss: 0.2522 - val_accuracy: 0.9000 - val_loss: 0.2676\n",
            "Q 285-0     T 285   ☑ 285  \n",
            "Q 50+950    T 1000  ☑ 1000 \n",
            "Q 5135+211  T 5346  ☒ 5336 \n",
            "Q 9-5063    T -5054 ☑ -5054\n",
            "Q 96+868    T 964   ☑ 964  \n",
            "Q 70-3449   T -3379 ☑ -3379\n",
            "Q 2+82      T 84    ☑ 84   \n",
            "Q 93+78     T 171   ☑ 171  \n",
            "Q 7-4535    T -4528 ☑ -4528\n",
            "Q 493+9127  T 9620  ☒ 9660 \n",
            "\n",
            "--------------------------------------------------\n",
            "Iteration 21\n",
            "\u001b[1m278/282\u001b[0m \u001b[32m━━━━━━━━━━━━━━━━━━━\u001b[0m\u001b[37m━\u001b[0m \u001b[1m0s\u001b[0m 13ms/step - accuracy: 0.9121 - loss: 0.2378\n",
            "Epoch 1: val_loss improved from 0.26546 to 0.24956, saving model to best_model_3.h5\n"
          ]
        },
        {
          "output_type": "stream",
          "name": "stderr",
          "text": [
            "WARNING:absl:You are saving your model as an HDF5 file via `model.save()` or `keras.saving.save_model(model)`. This file format is considered legacy. We recommend using instead the native Keras format, e.g. `model.save('my_model.keras')` or `keras.saving.save_model(model, 'my_model.keras')`. \n"
          ]
        },
        {
          "output_type": "stream",
          "name": "stdout",
          "text": [
            "\b\b\b\b\b\b\b\b\b\b\b\b\b\b\b\b\b\b\b\b\b\b\b\b\b\b\b\b\b\b\b\b\b\b\b\b\b\b\b\b\b\b\b\b\b\b\b\b\b\b\b\b\b\b\b\b\b\b\b\b\b\b\b\b\b\b\b\b\b\b\b\b\b\b\b\r\u001b[1m282/282\u001b[0m \u001b[32m━━━━━━━━━━━━━━━━━━━━\u001b[0m\u001b[37m\u001b[0m \u001b[1m4s\u001b[0m 14ms/step - accuracy: 0.9121 - loss: 0.2377 - val_accuracy: 0.9061 - val_loss: 0.2496\n",
            "Q 95-47     T 48    ☑ 48   \n",
            "Q 977-8290  T -7313 ☒ -7323\n",
            "Q 933+4346  T 5279  ☒ 5289 \n",
            "Q 636-7     T 629   ☑ 629  \n",
            "Q 416-5     T 411   ☑ 411  \n",
            "Q 2401+41   T 2442  ☑ 2442 \n",
            "Q 384-4129  T -3745 ☒ -3775\n",
            "Q 53-10     T 43    ☑ 43   \n",
            "Q 2+58      T 60    ☑ 60   \n",
            "Q 4521-258  T 4263  ☒ 4373 \n",
            "\n",
            "--------------------------------------------------\n",
            "Iteration 22\n",
            "\u001b[1m282/282\u001b[0m \u001b[32m━━━━━━━━━━━━━━━━━━━━\u001b[0m\u001b[37m\u001b[0m \u001b[1m0s\u001b[0m 15ms/step - accuracy: 0.9181 - loss: 0.2215\n",
            "Epoch 1: val_loss improved from 0.24956 to 0.23982, saving model to best_model_3.h5\n"
          ]
        },
        {
          "output_type": "stream",
          "name": "stderr",
          "text": [
            "WARNING:absl:You are saving your model as an HDF5 file via `model.save()` or `keras.saving.save_model(model)`. This file format is considered legacy. We recommend using instead the native Keras format, e.g. `model.save('my_model.keras')` or `keras.saving.save_model(model, 'my_model.keras')`. \n"
          ]
        },
        {
          "output_type": "stream",
          "name": "stdout",
          "text": [
            "\b\b\b\b\b\b\b\b\b\b\b\b\b\b\b\b\b\b\b\b\b\b\b\b\b\b\b\b\b\b\b\b\b\b\b\b\b\b\b\b\b\b\b\b\b\b\b\b\b\b\b\b\b\b\b\b\b\b\b\b\b\b\b\b\b\b\b\b\b\b\b\b\b\b\b\r\u001b[1m282/282\u001b[0m \u001b[32m━━━━━━━━━━━━━━━━━━━━\u001b[0m\u001b[37m\u001b[0m \u001b[1m5s\u001b[0m 16ms/step - accuracy: 0.9181 - loss: 0.2215 - val_accuracy: 0.9103 - val_loss: 0.2398\n",
            "Q 93+571    T 664   ☑ 664  \n",
            "Q 331+479   T 810   ☑ 810  \n",
            "Q 740-519   T 221   ☒ 229  \n",
            "Q 36+9182   T 9218  ☑ 9218 \n",
            "Q 95+2413   T 2508  ☑ 2508 \n",
            "Q 86+596    T 682   ☑ 682  \n",
            "Q 66+8      T 74    ☑ 74   \n",
            "Q 406-82    T 324   ☑ 324  \n",
            "Q 4577-8800 T -4223 ☒ -4133\n",
            "Q 66-739    T -673  ☒ -683 \n",
            "\n",
            "--------------------------------------------------\n",
            "Iteration 23\n",
            "\u001b[1m278/282\u001b[0m \u001b[32m━━━━━━━━━━━━━━━━━━━\u001b[0m\u001b[37m━\u001b[0m \u001b[1m0s\u001b[0m 13ms/step - accuracy: 0.9208 - loss: 0.2110\n",
            "Epoch 1: val_loss improved from 0.23982 to 0.22854, saving model to best_model_3.h5\n"
          ]
        },
        {
          "output_type": "stream",
          "name": "stderr",
          "text": [
            "WARNING:absl:You are saving your model as an HDF5 file via `model.save()` or `keras.saving.save_model(model)`. This file format is considered legacy. We recommend using instead the native Keras format, e.g. `model.save('my_model.keras')` or `keras.saving.save_model(model, 'my_model.keras')`. \n"
          ]
        },
        {
          "output_type": "stream",
          "name": "stdout",
          "text": [
            "\b\b\b\b\b\b\b\b\b\b\b\b\b\b\b\b\b\b\b\b\b\b\b\b\b\b\b\b\b\b\b\b\b\b\b\b\b\b\b\b\b\b\b\b\b\b\b\b\b\b\b\b\b\b\b\b\b\b\b\b\b\b\b\b\b\b\b\b\b\b\b\b\b\b\b\r\u001b[1m282/282\u001b[0m \u001b[32m━━━━━━━━━━━━━━━━━━━━\u001b[0m\u001b[37m\u001b[0m \u001b[1m4s\u001b[0m 14ms/step - accuracy: 0.9208 - loss: 0.2109 - val_accuracy: 0.9135 - val_loss: 0.2285\n",
            "Q 5712+4    T 5716  ☑ 5716 \n",
            "Q 1044+469  T 1513  ☑ 1513 \n",
            "Q 607+9     T 616   ☑ 616  \n",
            "Q 1+28      T 29    ☑ 29   \n",
            "Q 94+2      T 96    ☑ 96   \n",
            "Q 25+6      T 31    ☑ 31   \n",
            "Q 285-0     T 285   ☑ 285  \n",
            "Q 0-4573    T -4573 ☑ -4573\n",
            "Q 64+9085   T 9149  ☒ 9139 \n",
            "Q 5+4094    T 4099  ☑ 4099 \n",
            "\n",
            "--------------------------------------------------\n",
            "Iteration 24\n",
            "\u001b[1m279/282\u001b[0m \u001b[32m━━━━━━━━━━━━━━━━━━━\u001b[0m\u001b[37m━\u001b[0m \u001b[1m0s\u001b[0m 15ms/step - accuracy: 0.9243 - loss: 0.2004\n",
            "Epoch 1: val_loss improved from 0.22854 to 0.22806, saving model to best_model_3.h5\n"
          ]
        },
        {
          "output_type": "stream",
          "name": "stderr",
          "text": [
            "WARNING:absl:You are saving your model as an HDF5 file via `model.save()` or `keras.saving.save_model(model)`. This file format is considered legacy. We recommend using instead the native Keras format, e.g. `model.save('my_model.keras')` or `keras.saving.save_model(model, 'my_model.keras')`. \n"
          ]
        },
        {
          "output_type": "stream",
          "name": "stdout",
          "text": [
            "\b\b\b\b\b\b\b\b\b\b\b\b\b\b\b\b\b\b\b\b\b\b\b\b\b\b\b\b\b\b\b\b\b\b\b\b\b\b\b\b\b\b\b\b\b\b\b\b\b\b\b\b\b\b\b\b\b\b\b\b\b\b\b\b\b\b\b\b\b\b\b\b\b\b\b\r\u001b[1m282/282\u001b[0m \u001b[32m━━━━━━━━━━━━━━━━━━━━\u001b[0m\u001b[37m\u001b[0m \u001b[1m5s\u001b[0m 16ms/step - accuracy: 0.9243 - loss: 0.2004 - val_accuracy: 0.9153 - val_loss: 0.2281\n",
            "Q 191-4     T 187   ☑ 187  \n",
            "Q 8796-76   T 8720  ☑ 8720 \n",
            "Q 50+2827   T 2877  ☑ 2877 \n",
            "Q 56+83     T 139   ☑ 139  \n",
            "Q 86-0      T 86    ☑ 86   \n",
            "Q 2893+0    T 2893  ☑ 2893 \n",
            "Q 6-584     T -578  ☑ -578 \n",
            "Q 1376-5792 T -4416 ☒ -4306\n",
            "Q 7-2773    T -2766 ☑ -2766\n",
            "Q 3753+834  T 4587  ☒ 4497 \n",
            "\n",
            "--------------------------------------------------\n",
            "Iteration 25\n",
            "\u001b[1m281/282\u001b[0m \u001b[32m━━━━━━━━━━━━━━━━━━━\u001b[0m\u001b[37m━\u001b[0m \u001b[1m0s\u001b[0m 13ms/step - accuracy: 0.9290 - loss: 0.1895\n",
            "Epoch 1: val_loss improved from 0.22806 to 0.22188, saving model to best_model_3.h5\n"
          ]
        },
        {
          "output_type": "stream",
          "name": "stderr",
          "text": [
            "WARNING:absl:You are saving your model as an HDF5 file via `model.save()` or `keras.saving.save_model(model)`. This file format is considered legacy. We recommend using instead the native Keras format, e.g. `model.save('my_model.keras')` or `keras.saving.save_model(model, 'my_model.keras')`. \n"
          ]
        },
        {
          "output_type": "stream",
          "name": "stdout",
          "text": [
            "\b\b\b\b\b\b\b\b\b\b\b\b\b\b\b\b\b\b\b\b\b\b\b\b\b\b\b\b\b\b\b\b\b\b\b\b\b\b\b\b\b\b\b\b\b\b\b\b\b\b\b\b\b\b\b\b\b\b\b\b\b\b\b\b\b\b\b\b\b\b\b\b\b\b\b\r\u001b[1m282/282\u001b[0m \u001b[32m━━━━━━━━━━━━━━━━━━━━\u001b[0m\u001b[37m\u001b[0m \u001b[1m4s\u001b[0m 14ms/step - accuracy: 0.9290 - loss: 0.1895 - val_accuracy: 0.9189 - val_loss: 0.2219\n",
            "Q 1+988     T 989   ☑ 989  \n",
            "Q 46+742    T 788   ☑ 788  \n",
            "Q 1402-41   T 1361  ☑ 1361 \n",
            "Q 362-867   T -505  ☒ -415 \n",
            "Q 5929+527  T 6456  ☒ 6446 \n",
            "Q 75+89     T 164   ☑ 164  \n",
            "Q 37+43     T 80    ☑ 80   \n",
            "Q 4-543     T -539  ☒ -549 \n",
            "Q 11-11     T 0     ☒ 2    \n",
            "Q 671+9565  T 10236 ☒ 10216\n",
            "\n",
            "--------------------------------------------------\n",
            "Iteration 26\n",
            "\u001b[1m282/282\u001b[0m \u001b[32m━━━━━━━━━━━━━━━━━━━━\u001b[0m\u001b[37m\u001b[0m \u001b[1m0s\u001b[0m 13ms/step - accuracy: 0.9332 - loss: 0.1775\n",
            "Epoch 1: val_loss improved from 0.22188 to 0.22152, saving model to best_model_3.h5\n"
          ]
        },
        {
          "output_type": "stream",
          "name": "stderr",
          "text": [
            "WARNING:absl:You are saving your model as an HDF5 file via `model.save()` or `keras.saving.save_model(model)`. This file format is considered legacy. We recommend using instead the native Keras format, e.g. `model.save('my_model.keras')` or `keras.saving.save_model(model, 'my_model.keras')`. \n"
          ]
        },
        {
          "output_type": "stream",
          "name": "stdout",
          "text": [
            "\b\b\b\b\b\b\b\b\b\b\b\b\b\b\b\b\b\b\b\b\b\b\b\b\b\b\b\b\b\b\b\b\b\b\b\b\b\b\b\b\b\b\b\b\b\b\b\b\b\b\b\b\b\b\b\b\b\b\b\b\b\b\b\b\b\b\b\b\b\b\b\b\b\b\b\r\u001b[1m282/282\u001b[0m \u001b[32m━━━━━━━━━━━━━━━━━━━━\u001b[0m\u001b[37m\u001b[0m \u001b[1m4s\u001b[0m 14ms/step - accuracy: 0.9332 - loss: 0.1775 - val_accuracy: 0.9168 - val_loss: 0.2215\n",
            "Q 649-784   T -135  ☑ -135 \n",
            "Q 899-7     T 892   ☑ 892  \n",
            "Q 6+2292    T 2298  ☑ 2298 \n",
            "Q 470+774   T 1244  ☒ 1144 \n",
            "Q 6+8769    T 8775  ☑ 8775 \n",
            "Q 993-381   T 612   ☒ 622  \n",
            "Q 7-5868    T -5861 ☑ -5861\n",
            "Q 1982-24   T 1958  ☒ 1968 \n",
            "Q 3694-5200 T -1506 ☒ -1866\n",
            "Q 5+1604    T 1609  ☑ 1609 \n",
            "\n",
            "--------------------------------------------------\n",
            "Iteration 27\n",
            "\u001b[1m278/282\u001b[0m \u001b[32m━━━━━━━━━━━━━━━━━━━\u001b[0m\u001b[37m━\u001b[0m \u001b[1m0s\u001b[0m 13ms/step - accuracy: 0.9361 - loss: 0.1707\n",
            "Epoch 1: val_loss improved from 0.22152 to 0.21312, saving model to best_model_3.h5\n"
          ]
        },
        {
          "output_type": "stream",
          "name": "stderr",
          "text": [
            "WARNING:absl:You are saving your model as an HDF5 file via `model.save()` or `keras.saving.save_model(model)`. This file format is considered legacy. We recommend using instead the native Keras format, e.g. `model.save('my_model.keras')` or `keras.saving.save_model(model, 'my_model.keras')`. \n"
          ]
        },
        {
          "output_type": "stream",
          "name": "stdout",
          "text": [
            "\b\b\b\b\b\b\b\b\b\b\b\b\b\b\b\b\b\b\b\b\b\b\b\b\b\b\b\b\b\b\b\b\b\b\b\b\b\b\b\b\b\b\b\b\b\b\b\b\b\b\b\b\b\b\b\b\b\b\b\b\b\b\b\b\b\b\b\b\b\b\b\b\b\b\b\r\u001b[1m282/282\u001b[0m \u001b[32m━━━━━━━━━━━━━━━━━━━━\u001b[0m\u001b[37m\u001b[0m \u001b[1m4s\u001b[0m 14ms/step - accuracy: 0.9361 - loss: 0.1707 - val_accuracy: 0.9230 - val_loss: 0.2131\n",
            "Q 154+18    T 172   ☑ 172  \n",
            "Q 411+2497  T 2908  ☒ 2898 \n",
            "Q 1+136     T 137   ☑ 137  \n",
            "Q 9+517     T 526   ☑ 526  \n",
            "Q 6663-0    T 6663  ☑ 6663 \n",
            "Q 5176+3    T 5179  ☑ 5179 \n",
            "Q 415+958   T 1373  ☑ 1373 \n",
            "Q 4274+381  T 4655  ☒ 4645 \n",
            "Q 7543-82   T 7461  ☑ 7461 \n",
            "Q 581-35    T 546   ☑ 546  \n",
            "\n",
            "--------------------------------------------------\n",
            "Iteration 28\n",
            "\u001b[1m281/282\u001b[0m \u001b[32m━━━━━━━━━━━━━━━━━━━\u001b[0m\u001b[37m━\u001b[0m \u001b[1m0s\u001b[0m 13ms/step - accuracy: 0.9395 - loss: 0.1614\n",
            "Epoch 1: val_loss did not improve from 0.21312\n",
            "\u001b[1m282/282\u001b[0m \u001b[32m━━━━━━━━━━━━━━━━━━━━\u001b[0m\u001b[37m\u001b[0m \u001b[1m4s\u001b[0m 14ms/step - accuracy: 0.9395 - loss: 0.1615 - val_accuracy: 0.9216 - val_loss: 0.2174\n",
            "Q 3-870     T -867  ☑ -867 \n",
            "Q 6718-9    T 6709  ☑ 6709 \n",
            "Q 934+56    T 990   ☒ 980  \n",
            "Q 9992-0    T 9992  ☑ 9992 \n",
            "Q 8422+79   T 8501  ☑ 8501 \n",
            "Q 552-6612  T -6060 ☒ -6050\n",
            "Q 927-7078  T -6151 ☒ -6281\n",
            "Q 307+48    T 355   ☑ 355  \n",
            "Q 39+418    T 457   ☒ 467  \n",
            "Q 829+8125  T 8954  ☒ 8944 \n",
            "\n",
            "--------------------------------------------------\n",
            "Iteration 29\n",
            "\u001b[1m278/282\u001b[0m \u001b[32m━━━━━━━━━━━━━━━━━━━\u001b[0m\u001b[37m━\u001b[0m \u001b[1m0s\u001b[0m 14ms/step - accuracy: 0.9404 - loss: 0.1591\n",
            "Epoch 1: val_loss did not improve from 0.21312\n",
            "\u001b[1m282/282\u001b[0m \u001b[32m━━━━━━━━━━━━━━━━━━━━\u001b[0m\u001b[37m\u001b[0m \u001b[1m4s\u001b[0m 15ms/step - accuracy: 0.9404 - loss: 0.1591 - val_accuracy: 0.9206 - val_loss: 0.2188\n",
            "Q 9-918     T -909  ☑ -909 \n",
            "Q 28+4      T 32    ☑ 32   \n",
            "Q 40-214    T -174  ☑ -174 \n",
            "Q 3+857     T 860   ☑ 860  \n",
            "Q 0-6094    T -6094 ☒ -6084\n",
            "Q 4-5020    T -5016 ☑ -5016\n",
            "Q 786+626   T 1412  ☑ 1412 \n",
            "Q 335-6     T 329   ☑ 329  \n",
            "Q 813-2248  T -1435 ☒ -1645\n",
            "Q 6+74      T 80    ☑ 80   \n",
            "\n",
            "--------------------------------------------------\n",
            "Iteration 30\n",
            "\u001b[1m282/282\u001b[0m \u001b[32m━━━━━━━━━━━━━━━━━━━━\u001b[0m\u001b[37m\u001b[0m \u001b[1m0s\u001b[0m 13ms/step - accuracy: 0.9441 - loss: 0.1511\n",
            "Epoch 1: val_loss improved from 0.21312 to 0.21237, saving model to best_model_3.h5\n"
          ]
        },
        {
          "output_type": "stream",
          "name": "stderr",
          "text": [
            "WARNING:absl:You are saving your model as an HDF5 file via `model.save()` or `keras.saving.save_model(model)`. This file format is considered legacy. We recommend using instead the native Keras format, e.g. `model.save('my_model.keras')` or `keras.saving.save_model(model, 'my_model.keras')`. \n"
          ]
        },
        {
          "output_type": "stream",
          "name": "stdout",
          "text": [
            "\b\b\b\b\b\b\b\b\b\b\b\b\b\b\b\b\b\b\b\b\b\b\b\b\b\b\b\b\b\b\b\b\b\b\b\b\b\b\b\b\b\b\b\b\b\b\b\b\b\b\b\b\b\b\b\b\b\b\b\b\b\b\b\b\b\b\b\b\b\b\b\b\b\b\b\r\u001b[1m282/282\u001b[0m \u001b[32m━━━━━━━━━━━━━━━━━━━━\u001b[0m\u001b[37m\u001b[0m \u001b[1m4s\u001b[0m 15ms/step - accuracy: 0.9441 - loss: 0.1511 - val_accuracy: 0.9220 - val_loss: 0.2124\n",
            "Q 2913-3603 T -690  ☒ -710 \n",
            "Q 863+817   T 1680  ☑ 1680 \n",
            "Q 6+98      T 104   ☑ 104  \n",
            "Q 18-91     T -73   ☑ -73  \n",
            "Q 550+5     T 555   ☑ 555  \n",
            "Q 2+524     T 526   ☑ 526  \n",
            "Q 27+4851   T 4878  ☑ 4878 \n",
            "Q 11+7009   T 7020  ☒ 7010 \n",
            "Q 25-6111   T -6086 ☒ -6096\n",
            "Q 8-154     T -146  ☑ -146 \n",
            "\n",
            "--------------------------------------------------\n",
            "Iteration 31\n",
            "\u001b[1m279/282\u001b[0m \u001b[32m━━━━━━━━━━━━━━━━━━━\u001b[0m\u001b[37m━\u001b[0m \u001b[1m0s\u001b[0m 15ms/step - accuracy: 0.9439 - loss: 0.1509\n",
            "Epoch 1: val_loss improved from 0.21237 to 0.20851, saving model to best_model_3.h5\n"
          ]
        },
        {
          "output_type": "stream",
          "name": "stderr",
          "text": [
            "WARNING:absl:You are saving your model as an HDF5 file via `model.save()` or `keras.saving.save_model(model)`. This file format is considered legacy. We recommend using instead the native Keras format, e.g. `model.save('my_model.keras')` or `keras.saving.save_model(model, 'my_model.keras')`. \n"
          ]
        },
        {
          "output_type": "stream",
          "name": "stdout",
          "text": [
            "\b\b\b\b\b\b\b\b\b\b\b\b\b\b\b\b\b\b\b\b\b\b\b\b\b\b\b\b\b\b\b\b\b\b\b\b\b\b\b\b\b\b\b\b\b\b\b\b\b\b\b\b\b\b\b\b\b\b\b\b\b\b\b\b\b\b\b\b\b\b\b\b\b\b\b\r\u001b[1m282/282\u001b[0m \u001b[32m━━━━━━━━━━━━━━━━━━━━\u001b[0m\u001b[37m\u001b[0m \u001b[1m5s\u001b[0m 16ms/step - accuracy: 0.9439 - loss: 0.1509 - val_accuracy: 0.9258 - val_loss: 0.2085\n",
            "Q 1+5877    T 5878  ☑ 5878 \n",
            "Q 30-2      T 28    ☑ 28   \n",
            "Q 2+1926    T 1928  ☑ 1928 \n",
            "Q 659+3     T 662   ☑ 662  \n",
            "Q 47-2019   T -1972 ☑ -1972\n",
            "Q 1-1777    T -1776 ☑ -1776\n",
            "Q 61+23     T 84    ☑ 84   \n",
            "Q 8745+1237 T 9982  ☒ 9008 \n",
            "Q 3712+36   T 3748  ☑ 3748 \n",
            "Q 60-85     T -25   ☑ -25  \n",
            "\n",
            "--------------------------------------------------\n",
            "Iteration 32\n",
            "\u001b[1m282/282\u001b[0m \u001b[32m━━━━━━━━━━━━━━━━━━━━\u001b[0m\u001b[37m\u001b[0m \u001b[1m0s\u001b[0m 13ms/step - accuracy: 0.9491 - loss: 0.1374\n",
            "Epoch 1: val_loss improved from 0.20851 to 0.20094, saving model to best_model_3.h5\n"
          ]
        },
        {
          "output_type": "stream",
          "name": "stderr",
          "text": [
            "WARNING:absl:You are saving your model as an HDF5 file via `model.save()` or `keras.saving.save_model(model)`. This file format is considered legacy. We recommend using instead the native Keras format, e.g. `model.save('my_model.keras')` or `keras.saving.save_model(model, 'my_model.keras')`. \n"
          ]
        },
        {
          "output_type": "stream",
          "name": "stdout",
          "text": [
            "\b\b\b\b\b\b\b\b\b\b\b\b\b\b\b\b\b\b\b\b\b\b\b\b\b\b\b\b\b\b\b\b\b\b\b\b\b\b\b\b\b\b\b\b\b\b\b\b\b\b\b\b\b\b\b\b\b\b\b\b\b\b\b\b\b\b\b\b\b\b\b\b\b\b\b\r\u001b[1m282/282\u001b[0m \u001b[32m━━━━━━━━━━━━━━━━━━━━\u001b[0m\u001b[37m\u001b[0m \u001b[1m4s\u001b[0m 14ms/step - accuracy: 0.9491 - loss: 0.1374 - val_accuracy: 0.9262 - val_loss: 0.2009\n",
            "Q 576+71    T 647   ☑ 647  \n",
            "Q 15+3483   T 3498  ☒ 3508 \n",
            "Q 10+3      T 13    ☑ 13   \n",
            "Q 727-79    T 648   ☒ 658  \n",
            "Q 2+83      T 85    ☑ 85   \n",
            "Q 6366-0    T 6366  ☑ 6366 \n",
            "Q 8200-3000 T 5200  ☑ 5200 \n",
            "Q 0-180     T -180  ☑ -180 \n",
            "Q 3389+187  T 3576  ☑ 3576 \n",
            "Q 48+2453   T 2501  ☑ 2501 \n",
            "\n",
            "--------------------------------------------------\n",
            "Iteration 33\n",
            "\u001b[1m281/282\u001b[0m \u001b[32m━━━━━━━━━━━━━━━━━━━\u001b[0m\u001b[37m━\u001b[0m \u001b[1m0s\u001b[0m 13ms/step - accuracy: 0.9498 - loss: 0.1348\n",
            "Epoch 1: val_loss improved from 0.20094 to 0.19916, saving model to best_model_3.h5\n"
          ]
        },
        {
          "output_type": "stream",
          "name": "stderr",
          "text": [
            "WARNING:absl:You are saving your model as an HDF5 file via `model.save()` or `keras.saving.save_model(model)`. This file format is considered legacy. We recommend using instead the native Keras format, e.g. `model.save('my_model.keras')` or `keras.saving.save_model(model, 'my_model.keras')`. \n"
          ]
        },
        {
          "output_type": "stream",
          "name": "stdout",
          "text": [
            "\b\b\b\b\b\b\b\b\b\b\b\b\b\b\b\b\b\b\b\b\b\b\b\b\b\b\b\b\b\b\b\b\b\b\b\b\b\b\b\b\b\b\b\b\b\b\b\b\b\b\b\b\b\b\b\b\b\b\b\b\b\b\b\b\b\b\b\b\b\b\b\b\b\b\b\r\u001b[1m282/282\u001b[0m \u001b[32m━━━━━━━━━━━━━━━━━━━━\u001b[0m\u001b[37m\u001b[0m \u001b[1m4s\u001b[0m 15ms/step - accuracy: 0.9498 - loss: 0.1348 - val_accuracy: 0.9288 - val_loss: 0.1992\n",
            "Q 1692-945  T 747   ☒ 867  \n",
            "Q 1551-6833 T -5282 ☒ -5122\n",
            "Q 960-0     T 960   ☑ 960  \n",
            "Q 2-768     T -766  ☑ -766 \n",
            "Q 780-1     T 779   ☑ 779  \n",
            "Q 7580+1    T 7581  ☑ 7581 \n",
            "Q 352+19    T 371   ☑ 371  \n",
            "Q 1726-2    T 1724  ☑ 1724 \n",
            "Q 3-341     T -338  ☑ -338 \n",
            "Q 67-399    T -332  ☑ -332 \n",
            "\n",
            "--------------------------------------------------\n",
            "Iteration 34\n",
            "\u001b[1m279/282\u001b[0m \u001b[32m━━━━━━━━━━━━━━━━━━━\u001b[0m\u001b[37m━\u001b[0m \u001b[1m0s\u001b[0m 13ms/step - accuracy: 0.9524 - loss: 0.1280\n",
            "Epoch 1: val_loss improved from 0.19916 to 0.19631, saving model to best_model_3.h5\n"
          ]
        },
        {
          "output_type": "stream",
          "name": "stderr",
          "text": [
            "WARNING:absl:You are saving your model as an HDF5 file via `model.save()` or `keras.saving.save_model(model)`. This file format is considered legacy. We recommend using instead the native Keras format, e.g. `model.save('my_model.keras')` or `keras.saving.save_model(model, 'my_model.keras')`. \n"
          ]
        },
        {
          "output_type": "stream",
          "name": "stdout",
          "text": [
            "\b\b\b\b\b\b\b\b\b\b\b\b\b\b\b\b\b\b\b\b\b\b\b\b\b\b\b\b\b\b\b\b\b\b\b\b\b\b\b\b\b\b\b\b\b\b\b\b\b\b\b\b\b\b\b\b\b\b\b\b\b\b\b\b\b\b\b\b\b\b\b\b\b\b\b\r\u001b[1m282/282\u001b[0m \u001b[32m━━━━━━━━━━━━━━━━━━━━\u001b[0m\u001b[37m\u001b[0m \u001b[1m4s\u001b[0m 15ms/step - accuracy: 0.9524 - loss: 0.1280 - val_accuracy: 0.9287 - val_loss: 0.1963\n",
            "Q 909-10    T 899   ☑ 899  \n",
            "Q 3576+9    T 3585  ☑ 3585 \n",
            "Q 747-1820  T -1073 ☒ -1173\n",
            "Q 48+79     T 127   ☑ 127  \n",
            "Q 2+2300    T 2302  ☑ 2302 \n",
            "Q 785+1     T 786   ☑ 786  \n",
            "Q 1+3568    T 3569  ☑ 3569 \n",
            "Q 150+0     T 150   ☑ 150  \n",
            "Q 70-7      T 63    ☑ 63   \n",
            "Q 433+938   T 1371  ☑ 1371 \n",
            "\n",
            "--------------------------------------------------\n",
            "Iteration 35\n",
            "\u001b[1m280/282\u001b[0m \u001b[32m━━━━━━━━━━━━━━━━━━━\u001b[0m\u001b[37m━\u001b[0m \u001b[1m0s\u001b[0m 12ms/step - accuracy: 0.9546 - loss: 0.1239\n",
            "Epoch 1: val_loss improved from 0.19631 to 0.19630, saving model to best_model_3.h5\n"
          ]
        },
        {
          "output_type": "stream",
          "name": "stderr",
          "text": [
            "WARNING:absl:You are saving your model as an HDF5 file via `model.save()` or `keras.saving.save_model(model)`. This file format is considered legacy. We recommend using instead the native Keras format, e.g. `model.save('my_model.keras')` or `keras.saving.save_model(model, 'my_model.keras')`. \n"
          ]
        },
        {
          "output_type": "stream",
          "name": "stdout",
          "text": [
            "\b\b\b\b\b\b\b\b\b\b\b\b\b\b\b\b\b\b\b\b\b\b\b\b\b\b\b\b\b\b\b\b\b\b\b\b\b\b\b\b\b\b\b\b\b\b\b\b\b\b\b\b\b\b\b\b\b\b\b\b\b\b\b\b\b\b\b\b\b\b\b\b\b\b\b\r\u001b[1m282/282\u001b[0m \u001b[32m━━━━━━━━━━━━━━━━━━━━\u001b[0m\u001b[37m\u001b[0m \u001b[1m4s\u001b[0m 14ms/step - accuracy: 0.9546 - loss: 0.1239 - val_accuracy: 0.9295 - val_loss: 0.1963\n",
            "Q 3-2025    T -2022 ☑ -2022\n",
            "Q 49-31     T 18    ☑ 18   \n",
            "Q 46-33     T 13    ☑ 13   \n",
            "Q 1535+4105 T 5640  ☒ 5650 \n",
            "Q 2353-8270 T -5917 ☒ -6937\n",
            "Q 3688-666  T 3022  ☒ 2922 \n",
            "Q 6376-6    T 6370  ☑ 6370 \n",
            "Q 2-768     T -766  ☑ -766 \n",
            "Q 4890+1    T 4891  ☑ 4891 \n",
            "Q 533-603   T -70   ☒ -40  \n",
            "\n",
            "--------------------------------------------------\n",
            "Iteration 36\n",
            "\u001b[1m278/282\u001b[0m \u001b[32m━━━━━━━━━━━━━━━━━━━\u001b[0m\u001b[37m━\u001b[0m \u001b[1m0s\u001b[0m 14ms/step - accuracy: 0.9562 - loss: 0.1184\n",
            "Epoch 1: val_loss improved from 0.19630 to 0.19327, saving model to best_model_3.h5\n"
          ]
        },
        {
          "output_type": "stream",
          "name": "stderr",
          "text": [
            "WARNING:absl:You are saving your model as an HDF5 file via `model.save()` or `keras.saving.save_model(model)`. This file format is considered legacy. We recommend using instead the native Keras format, e.g. `model.save('my_model.keras')` or `keras.saving.save_model(model, 'my_model.keras')`. \n"
          ]
        },
        {
          "output_type": "stream",
          "name": "stdout",
          "text": [
            "\b\b\b\b\b\b\b\b\b\b\b\b\b\b\b\b\b\b\b\b\b\b\b\b\b\b\b\b\b\b\b\b\b\b\b\b\b\b\b\b\b\b\b\b\b\b\b\b\b\b\b\b\b\b\b\b\b\b\b\b\b\b\b\b\b\b\b\b\b\b\b\b\b\b\b\r\u001b[1m282/282\u001b[0m \u001b[32m━━━━━━━━━━━━━━━━━━━━\u001b[0m\u001b[37m\u001b[0m \u001b[1m4s\u001b[0m 16ms/step - accuracy: 0.9562 - loss: 0.1184 - val_accuracy: 0.9309 - val_loss: 0.1933\n",
            "Q 7-324     T -317  ☑ -317 \n",
            "Q 5-63      T -58   ☑ -58  \n",
            "Q 366+8     T 374   ☑ 374  \n",
            "Q 5+3796    T 3801  ☑ 3801 \n",
            "Q 3774+8    T 3782  ☑ 3782 \n",
            "Q 867+7281  T 8148  ☒ 8158 \n",
            "Q 51+291    T 342   ☑ 342  \n",
            "Q 671-759   T -88   ☒ -98  \n",
            "Q 237+4     T 241   ☑ 241  \n",
            "Q 1-1777    T -1776 ☑ -1776\n",
            "\n",
            "--------------------------------------------------\n",
            "Iteration 37\n",
            "\u001b[1m279/282\u001b[0m \u001b[32m━━━━━━━━━━━━━━━━━━━\u001b[0m\u001b[37m━\u001b[0m \u001b[1m0s\u001b[0m 13ms/step - accuracy: 0.9556 - loss: 0.1186\n",
            "Epoch 1: val_loss improved from 0.19327 to 0.18916, saving model to best_model_3.h5\n"
          ]
        },
        {
          "output_type": "stream",
          "name": "stderr",
          "text": [
            "WARNING:absl:You are saving your model as an HDF5 file via `model.save()` or `keras.saving.save_model(model)`. This file format is considered legacy. We recommend using instead the native Keras format, e.g. `model.save('my_model.keras')` or `keras.saving.save_model(model, 'my_model.keras')`. \n"
          ]
        },
        {
          "output_type": "stream",
          "name": "stdout",
          "text": [
            "\b\b\b\b\b\b\b\b\b\b\b\b\b\b\b\b\b\b\b\b\b\b\b\b\b\b\b\b\b\b\b\b\b\b\b\b\b\b\b\b\b\b\b\b\b\b\b\b\b\b\b\b\b\b\b\b\b\b\b\b\b\b\b\b\b\b\b\b\b\b\b\b\b\b\b\r\u001b[1m282/282\u001b[0m \u001b[32m━━━━━━━━━━━━━━━━━━━━\u001b[0m\u001b[37m\u001b[0m \u001b[1m4s\u001b[0m 15ms/step - accuracy: 0.9556 - loss: 0.1186 - val_accuracy: 0.9304 - val_loss: 0.1892\n",
            "Q 645+497   T 1142  ☑ 1142 \n",
            "Q 9650+1495 T 11145 ☒ 10155\n",
            "Q 1124-345  T 779   ☑ 779  \n",
            "Q 37-801    T -764  ☑ -764 \n",
            "Q 306-1     T 305   ☑ 305  \n",
            "Q 1248-57   T 1191  ☑ 1191 \n",
            "Q 0+7057    T 7057  ☑ 7057 \n",
            "Q 3+246     T 249   ☑ 249  \n",
            "Q 7434-63   T 7371  ☑ 7371 \n",
            "Q 18+86     T 104   ☑ 104  \n",
            "\n",
            "--------------------------------------------------\n",
            "Iteration 38\n",
            "\u001b[1m279/282\u001b[0m \u001b[32m━━━━━━━━━━━━━━━━━━━\u001b[0m\u001b[37m━\u001b[0m \u001b[1m0s\u001b[0m 15ms/step - accuracy: 0.9608 - loss: 0.1072\n",
            "Epoch 1: val_loss did not improve from 0.18916\n",
            "\u001b[1m282/282\u001b[0m \u001b[32m━━━━━━━━━━━━━━━━━━━━\u001b[0m\u001b[37m\u001b[0m \u001b[1m4s\u001b[0m 16ms/step - accuracy: 0.9608 - loss: 0.1072 - val_accuracy: 0.9312 - val_loss: 0.1918\n",
            "Q 4-983     T -979  ☒ -989 \n",
            "Q 368-862   T -494  ☒ -504 \n",
            "Q 12+9766   T 9778  ☑ 9778 \n",
            "Q 476+77    T 553   ☑ 553  \n",
            "Q 39+6126   T 6165  ☑ 6165 \n",
            "Q 248+32    T 280   ☒ 270  \n",
            "Q 1594+95   T 1689  ☒ 1699 \n",
            "Q 99-91     T 8     ☒ 0    \n",
            "Q 134+7     T 141   ☑ 141  \n",
            "Q 38+6      T 44    ☑ 44   \n",
            "\n",
            "--------------------------------------------------\n",
            "Iteration 39\n",
            "\u001b[1m280/282\u001b[0m \u001b[32m━━━━━━━━━━━━━━━━━━━\u001b[0m\u001b[37m━\u001b[0m \u001b[1m0s\u001b[0m 13ms/step - accuracy: 0.9606 - loss: 0.1084\n",
            "Epoch 1: val_loss did not improve from 0.18916\n",
            "\u001b[1m282/282\u001b[0m \u001b[32m━━━━━━━━━━━━━━━━━━━━\u001b[0m\u001b[37m\u001b[0m \u001b[1m4s\u001b[0m 14ms/step - accuracy: 0.9606 - loss: 0.1084 - val_accuracy: 0.9313 - val_loss: 0.1951\n",
            "Q 96-206    T -110  ☒ -100 \n",
            "Q 26+5      T 31    ☑ 31   \n",
            "Q 638+4     T 642   ☑ 642  \n",
            "Q 4+7924    T 7928  ☑ 7928 \n",
            "Q 4031-42   T 3989  ☑ 3989 \n",
            "Q 8050+6470 T 14520 ☒ 13400\n",
            "Q 46-443    T -397  ☑ -397 \n",
            "Q 536+9     T 545   ☑ 545  \n",
            "Q 8+31      T 39    ☑ 39   \n",
            "Q 35-8183   T -8148 ☑ -8148\n",
            "\n",
            "--------------------------------------------------\n",
            "Iteration 40\n",
            "\u001b[1m281/282\u001b[0m \u001b[32m━━━━━━━━━━━━━━━━━━━\u001b[0m\u001b[37m━\u001b[0m \u001b[1m0s\u001b[0m 14ms/step - accuracy: 0.9616 - loss: 0.1054\n",
            "Epoch 1: val_loss did not improve from 0.18916\n",
            "\u001b[1m282/282\u001b[0m \u001b[32m━━━━━━━━━━━━━━━━━━━━\u001b[0m\u001b[37m\u001b[0m \u001b[1m4s\u001b[0m 16ms/step - accuracy: 0.9616 - loss: 0.1054 - val_accuracy: 0.9338 - val_loss: 0.1958\n",
            "Q 759+3     T 762   ☑ 762  \n",
            "Q 3341+432  T 3773  ☑ 3773 \n",
            "Q 335-6     T 329   ☑ 329  \n",
            "Q 523-5835  T -5312 ☒ -5202\n",
            "Q 2-3278    T -3276 ☑ -3276\n",
            "Q 9-1450    T -1441 ☑ -1441\n",
            "Q 5157-6    T 5151  ☑ 5151 \n",
            "Q 6755-603  T 6152  ☒ 6142 \n",
            "Q 2+1396    T 1398  ☑ 1398 \n",
            "Q 166-3793  T -3627 ☑ -3627\n",
            "\n",
            "--------------------------------------------------\n",
            "Iteration 41\n",
            "\u001b[1m278/282\u001b[0m \u001b[32m━━━━━━━━━━━━━━━━━━━\u001b[0m\u001b[37m━\u001b[0m \u001b[1m0s\u001b[0m 13ms/step - accuracy: 0.9635 - loss: 0.1013\n",
            "Epoch 1: val_loss did not improve from 0.18916\n",
            "\u001b[1m282/282\u001b[0m \u001b[32m━━━━━━━━━━━━━━━━━━━━\u001b[0m\u001b[37m\u001b[0m \u001b[1m4s\u001b[0m 14ms/step - accuracy: 0.9635 - loss: 0.1014 - val_accuracy: 0.9323 - val_loss: 0.2046\n",
            "Q 7-936     T -929  ☑ -929 \n",
            "Q 69+6936   T 7005  ☒ 7905 \n",
            "Q 930-402   T 528   ☒ 532  \n",
            "Q 6-813     T -807  ☑ -807 \n",
            "Q 201+651   T 852   ☒ 862  \n",
            "Q 6081-7    T 6074  ☑ 6074 \n",
            "Q 35-6      T 29    ☑ 29   \n",
            "Q 770-2     T 768   ☑ 768  \n",
            "Q 8+914     T 922   ☑ 922  \n",
            "Q 7+1423    T 1430  ☑ 1430 \n",
            "\n",
            "--------------------------------------------------\n",
            "Iteration 42\n",
            "\u001b[1m279/282\u001b[0m \u001b[32m━━━━━━━━━━━━━━━━━━━\u001b[0m\u001b[37m━\u001b[0m \u001b[1m0s\u001b[0m 13ms/step - accuracy: 0.9626 - loss: 0.1030\n",
            "Epoch 1: val_loss improved from 0.18916 to 0.18361, saving model to best_model_3.h5\n"
          ]
        },
        {
          "output_type": "stream",
          "name": "stderr",
          "text": [
            "WARNING:absl:You are saving your model as an HDF5 file via `model.save()` or `keras.saving.save_model(model)`. This file format is considered legacy. We recommend using instead the native Keras format, e.g. `model.save('my_model.keras')` or `keras.saving.save_model(model, 'my_model.keras')`. \n"
          ]
        },
        {
          "output_type": "stream",
          "name": "stdout",
          "text": [
            "\b\b\b\b\b\b\b\b\b\b\b\b\b\b\b\b\b\b\b\b\b\b\b\b\b\b\b\b\b\b\b\b\b\b\b\b\b\b\b\b\b\b\b\b\b\b\b\b\b\b\b\b\b\b\b\b\b\b\b\b\b\b\b\b\b\b\b\b\b\b\b\b\b\b\b\r\u001b[1m282/282\u001b[0m \u001b[32m━━━━━━━━━━━━━━━━━━━━\u001b[0m\u001b[37m\u001b[0m \u001b[1m4s\u001b[0m 15ms/step - accuracy: 0.9625 - loss: 0.1030 - val_accuracy: 0.9357 - val_loss: 0.1836\n",
            "Q 3233-4    T 3229  ☑ 3229 \n",
            "Q 198-3018  T -2820 ☒ -2920\n",
            "Q 1-3451    T -3450 ☑ -3450\n",
            "Q 5+875     T 880   ☑ 880  \n",
            "Q 0+37      T 37    ☑ 37   \n",
            "Q 5+550     T 555   ☑ 555  \n",
            "Q 829-1674  T -845  ☑ -845 \n",
            "Q 387+7     T 394   ☑ 394  \n",
            "Q 0-10      T -10   ☑ -10  \n",
            "Q 359-2     T 357   ☑ 357  \n",
            "\n",
            "--------------------------------------------------\n",
            "Iteration 43\n",
            "\u001b[1m281/282\u001b[0m \u001b[32m━━━━━━━━━━━━━━━━━━━\u001b[0m\u001b[37m━\u001b[0m \u001b[1m0s\u001b[0m 13ms/step - accuracy: 0.9658 - loss: 0.0924\n",
            "Epoch 1: val_loss did not improve from 0.18361\n",
            "\u001b[1m282/282\u001b[0m \u001b[32m━━━━━━━━━━━━━━━━━━━━\u001b[0m\u001b[37m\u001b[0m \u001b[1m4s\u001b[0m 14ms/step - accuracy: 0.9658 - loss: 0.0924 - val_accuracy: 0.9345 - val_loss: 0.1933\n",
            "Q 940+5330  T 6270  ☒ 6370 \n",
            "Q 232-0     T 232   ☑ 232  \n",
            "Q 666+764   T 1430  ☒ 1420 \n",
            "Q 768-3     T 765   ☑ 765  \n",
            "Q 2-3321    T -3319 ☑ -3319\n",
            "Q 3875-143  T 3732  ☒ 3722 \n",
            "Q 3-4040    T -4037 ☑ -4037\n",
            "Q 716-9940  T -9224 ☒ -9164\n",
            "Q 5929+527  T 6456  ☒ 6466 \n",
            "Q 849+246   T 1095  ☒ 1055 \n",
            "\n",
            "--------------------------------------------------\n",
            "Iteration 44\n",
            "\u001b[1m279/282\u001b[0m \u001b[32m━━━━━━━━━━━━━━━━━━━\u001b[0m\u001b[37m━\u001b[0m \u001b[1m0s\u001b[0m 13ms/step - accuracy: 0.9663 - loss: 0.0937\n",
            "Epoch 1: val_loss did not improve from 0.18361\n",
            "\u001b[1m282/282\u001b[0m \u001b[32m━━━━━━━━━━━━━━━━━━━━\u001b[0m\u001b[37m\u001b[0m \u001b[1m4s\u001b[0m 14ms/step - accuracy: 0.9663 - loss: 0.0937 - val_accuracy: 0.9346 - val_loss: 0.1956\n",
            "Q 5-224     T -219  ☑ -219 \n",
            "Q 5+875     T 880   ☑ 880  \n",
            "Q 1161+362  T 1523  ☑ 1523 \n",
            "Q 0-250     T -250  ☑ -250 \n",
            "Q 50-78     T -28   ☑ -28  \n",
            "Q 23+1981   T 2004  ☒ 1904 \n",
            "Q 6-350     T -344  ☑ -344 \n",
            "Q 9488-679  T 8809  ☑ 8809 \n",
            "Q 8+89      T 97    ☑ 97   \n",
            "Q 780+2     T 782   ☑ 782  \n",
            "\n",
            "--------------------------------------------------\n",
            "Iteration 45\n",
            "\u001b[1m282/282\u001b[0m \u001b[32m━━━━━━━━━━━━━━━━━━━━\u001b[0m\u001b[37m\u001b[0m \u001b[1m0s\u001b[0m 13ms/step - accuracy: 0.9680 - loss: 0.0888\n",
            "Epoch 1: val_loss did not improve from 0.18361\n",
            "\u001b[1m282/282\u001b[0m \u001b[32m━━━━━━━━━━━━━━━━━━━━\u001b[0m\u001b[37m\u001b[0m \u001b[1m4s\u001b[0m 15ms/step - accuracy: 0.9680 - loss: 0.0888 - val_accuracy: 0.9354 - val_loss: 0.1993\n",
            "Q 6329-938  T 5391  ☒ 5491 \n",
            "Q 9+3529    T 3538  ☑ 3538 \n",
            "Q 111+9     T 120   ☑ 120  \n",
            "Q 763+926   T 1689  ☑ 1689 \n",
            "Q 909-10    T 899   ☑ 899  \n",
            "Q 73+3      T 76    ☑ 76   \n",
            "Q 25-648    T -623  ☑ -623 \n",
            "Q 77+5792   T 5869  ☒ 5879 \n",
            "Q 9-910     T -901  ☑ -901 \n",
            "Q 2-1026    T -1024 ☑ -1024\n",
            "\n",
            "--------------------------------------------------\n",
            "Iteration 46\n",
            "\u001b[1m278/282\u001b[0m \u001b[32m━━━━━━━━━━━━━━━━━━━\u001b[0m\u001b[37m━\u001b[0m \u001b[1m0s\u001b[0m 13ms/step - accuracy: 0.9698 - loss: 0.0843\n",
            "Epoch 1: val_loss did not improve from 0.18361\n",
            "\u001b[1m282/282\u001b[0m \u001b[32m━━━━━━━━━━━━━━━━━━━━\u001b[0m\u001b[37m\u001b[0m \u001b[1m4s\u001b[0m 14ms/step - accuracy: 0.9698 - loss: 0.0844 - val_accuracy: 0.9362 - val_loss: 0.1951\n",
            "Q 417-8     T 409   ☑ 409  \n",
            "Q 77+6      T 83    ☑ 83   \n",
            "Q 32-2      T 30    ☑ 30   \n",
            "Q 45-7528   T -7483 ☑ -7483\n",
            "Q 38+20     T 58    ☑ 58   \n",
            "Q 583-5206  T -4623 ☑ -4623\n",
            "Q 5-9293    T -9288 ☑ -9288\n",
            "Q 660-6     T 654   ☑ 654  \n",
            "Q 65+31     T 96    ☑ 96   \n",
            "Q 0-47      T -47   ☑ -47  \n",
            "\n",
            "--------------------------------------------------\n",
            "Iteration 47\n",
            "\u001b[1m279/282\u001b[0m \u001b[32m━━━━━━━━━━━━━━━━━━━\u001b[0m\u001b[37m━\u001b[0m \u001b[1m0s\u001b[0m 14ms/step - accuracy: 0.9692 - loss: 0.0855\n",
            "Epoch 1: val_loss did not improve from 0.18361\n",
            "\u001b[1m282/282\u001b[0m \u001b[32m━━━━━━━━━━━━━━━━━━━━\u001b[0m\u001b[37m\u001b[0m \u001b[1m4s\u001b[0m 15ms/step - accuracy: 0.9692 - loss: 0.0855 - val_accuracy: 0.9377 - val_loss: 0.1977\n",
            "Q 1877-283  T 1594  ☒ 1584 \n",
            "Q 808+362   T 1170  ☑ 1170 \n",
            "Q 49-3084   T -3035 ☒ -3045\n",
            "Q 8-7330    T -7322 ☑ -7322\n",
            "Q 91+9267   T 9358  ☑ 9358 \n",
            "Q 6-62      T -56   ☑ -56  \n",
            "Q 80-978    T -898  ☒ -998 \n",
            "Q 43-136    T -93   ☑ -93  \n",
            "Q 6925+340  T 7265  ☑ 7265 \n",
            "Q 55-2669   T -2614 ☑ -2614\n",
            "\n",
            "--------------------------------------------------\n",
            "Iteration 48\n",
            "\u001b[1m281/282\u001b[0m \u001b[32m━━━━━━━━━━━━━━━━━━━\u001b[0m\u001b[37m━\u001b[0m \u001b[1m0s\u001b[0m 15ms/step - accuracy: 0.9701 - loss: 0.0832\n",
            "Epoch 1: val_loss did not improve from 0.18361\n",
            "\u001b[1m282/282\u001b[0m \u001b[32m━━━━━━━━━━━━━━━━━━━━\u001b[0m\u001b[37m\u001b[0m \u001b[1m5s\u001b[0m 16ms/step - accuracy: 0.9701 - loss: 0.0833 - val_accuracy: 0.9358 - val_loss: 0.1991\n",
            "Q 475-251   T 224   ☑ 224  \n",
            "Q 2-609     T -607  ☑ -607 \n",
            "Q 27+2422   T 2449  ☑ 2449 \n",
            "Q 6+211     T 217   ☑ 217  \n",
            "Q 117+8     T 125   ☑ 125  \n",
            "Q 984-73    T 911   ☑ 911  \n",
            "Q 517-124   T 393   ☑ 393  \n",
            "Q 1564+89   T 1653  ☒ 1643 \n",
            "Q 1-890     T -889  ☑ -889 \n",
            "Q 614+5616  T 6230  ☑ 6230 \n",
            "\n",
            "--------------------------------------------------\n",
            "Iteration 49\n",
            "\u001b[1m282/282\u001b[0m \u001b[32m━━━━━━━━━━━━━━━━━━━━\u001b[0m\u001b[37m\u001b[0m \u001b[1m0s\u001b[0m 13ms/step - accuracy: 0.9708 - loss: 0.0815\n",
            "Epoch 1: val_loss did not improve from 0.18361\n",
            "\u001b[1m282/282\u001b[0m \u001b[32m━━━━━━━━━━━━━━━━━━━━\u001b[0m\u001b[37m\u001b[0m \u001b[1m4s\u001b[0m 14ms/step - accuracy: 0.9708 - loss: 0.0815 - val_accuracy: 0.9391 - val_loss: 0.1926\n",
            "Q 391-6565  T -6174 ☒ -6164\n",
            "Q 201-4546  T -4345 ☒ -4335\n",
            "Q 3567+5359 T 8926  ☒ 8916 \n",
            "Q 660-6     T 654   ☑ 654  \n",
            "Q 65-912    T -847  ☑ -847 \n",
            "Q 645+2459  T 3104  ☑ 3104 \n",
            "Q 385+9218  T 9603  ☒ 9693 \n",
            "Q 14+84     T 98    ☑ 98   \n",
            "Q 6975+23   T 6998  ☑ 6998 \n",
            "Q 482-3112  T -2630 ☒ -2430\n"
          ]
        }
      ]
    },
    {
      "cell_type": "markdown",
      "source": [
        "The Improved Model (Model 3) shows significant improvements over model 2 including the attention, in terms of both training and validation performance. The training accuracy of Model 3 is about 97%, compared to the second model’s 93%.The validation accuracy of Model 3 is almost 94%, a 11% improvement over the second model’s 83%. This demonstrates that Model 3 generalizes much better to unseen data, likely due to the enhancements made in the architecture.\n",
        "\n",
        "I made two main changes to improve the model. First, I used bidirectional LSTMs so the network is able to capture context from both past and future tokens in the input sequence. This allows the model to have a richer understanding of the sequence, which helps improve predictions.\n",
        "\n",
        "Second, I add dropout to the model prevents it from overfitting to the training data. It forces the model to learn more robust features that generalize better to unseen data. This is reflected in the significant improvement in validation accuracy for Model 3."
      ],
      "metadata": {
        "id": "_k97YvBfnNTZ"
      }
    }
  ],
  "metadata": {
    "colab": {
      "provenance": [],
      "gpuType": "T4"
    },
    "kernelspec": {
      "display_name": "Python 3",
      "name": "python3"
    },
    "accelerator": "GPU"
  },
  "nbformat": 4,
  "nbformat_minor": 0
}
