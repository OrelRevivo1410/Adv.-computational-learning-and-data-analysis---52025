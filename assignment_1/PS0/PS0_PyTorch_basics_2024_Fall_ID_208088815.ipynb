{
 "cells": [
  {
   "cell_type": "markdown",
   "metadata": {
    "id": "n3aXk1o_qRLu"
   },
   "source": [
    "# PyTorch - the Basics!\n",
    "\n",
    "Advanced Learning 2024\n",
    "\n",
    "Lee Carlin"
   ]
  },
  {
   "cell_type": "markdown",
   "metadata": {
    "id": "O88JcDDEeVKl"
   },
   "source": [
    "## For SUBMISSION:\n",
    "~~~\n",
    "STUDENT ID: 208088815\n",
    "~~~\n",
    "~~~\n",
    "STUDENT GIT LINK: https://github.com/OrelRevivo1410/Adv.-computational-learning-and-data-analysis---52025\n",
    "~~~\n",
    "In Addition, don't forget to add your ID to the files:\n",
    "`PS0_PyTorch_basics_2024_ID_[208088815].ipynb`  \n",
    "`PS0_PyTorch_basics_2024_ID_[208088815].html`  "
   ]
  },
  {
   "cell_type": "markdown",
   "metadata": {
    "id": "fCByaAJ1q-Gc"
   },
   "source": [
    "## 1. What is PyTorch?\n",
    "\n",
    "\n",
    "PyTorch is a popular open-source library for machine learning, particularly well-suited for deep learning applications.    \n",
    "Here's a breakdown of its key features:\n",
    "\n",
    "    \n",
    "\n",
    "*   **Deep Learning Framework:**  PyTorch provides tools and functionalities to  build and train complex neural networks.\n",
    "*   **Pythonic Interface:**  Known for its Python-like syntax, PyTorch is considered user-friendly and easy to learn.\n",
    "* **Flexibility:**  PyTorch offers both dynamic computational graphs (eager execution) and static graphs (graph mode) for model development.\n",
    "* **Production Ready:**  PyTorch provides features like TorchScript to transition models from development to production seamlessly.\n",
    "* **Scalability:**  PyTorch supports distributed training, enabling you to leverage multiple CPUs or GPUs to train models faster.\n",
    "* **Rich Ecosystem:**  A growing ecosystem of libraries and tools built on PyTorch expands its capabilities for tasks like computer vision, natural language processing, and model interpretability.\n",
    "\n",
    "\n",
    "\n",
    "\n",
    "    \n",
    "    \n",
    "\n",
    "    \n",
    "\n",
    "    \n",
    "    \n",
    "\n"
   ]
  },
  {
   "cell_type": "markdown",
   "metadata": {
    "id": "Y0NFG56arhsD"
   },
   "source": [
    "We start by importing PyTorch's main objects:"
   ]
  },
  {
   "cell_type": "code",
   "execution_count": 4,
   "metadata": {
    "id": "phCzuWkUqPRk"
   },
   "outputs": [],
   "source": [
    "import torch\n",
    "from torch import nn"
   ]
  },
  {
   "cell_type": "markdown",
   "metadata": {
    "id": "jL-emQP0xtkr"
   },
   "source": [
    "### PyTorch Main Modules"
   ]
  },
  {
   "cell_type": "markdown",
   "metadata": {
    "id": "AKs60PcGucH7"
   },
   "source": [
    "`torch.nn`:\n",
    "\n",
    "In PyTorch, the `torch.nn` module provides the essential building blocks you need to construct and train neural networks. It offers a comprehensive collection of classes and functions that streamline the deep learning development process.  \n",
    "  \n",
    "*Key Components:*  \n",
    "\n",
    "**Modules**:   \n",
    "These are the fundamental units that perform specific operations on data. They can be combined to create complex neural network architectures. Common examples include:   \n",
    "\n",
    "* Linear Layers (nn.Linear): Apply linear transformations (y = xA^T + b) for feeding data forward through the network.\n",
    "* Convolutional Layers (nn.Conv2d): Perform convolutions, especially useful for processing image data.\n",
    "* Activation Layers (nn.ReLU, nn.Sigmoid): Introduce non-linearity into the network, allowing it to learn complex patterns.\n",
    "* Normalization Layers (nn.BatchNorm2d): Normalize inputs to layers for faster and more stable training.\n",
    "* Recurrent Layers (nn.LSTM, nn.GRU): Handle sequential data like text or time series.\n",
    "* Dropout Layers (nn.Dropout): Introduce randomness by randomly dropping out neurons during training to prevent overfitting.\n",
    "* Many More: PyTorch offers a vast selection of modules catering to diverse neural network architectures.\n",
    "\n",
    "**Containers**:   \n",
    "These classes help you organize and structure your modules into hierarchical networks. They include:\n",
    "* nn.Sequential: Stacks modules in a linear sequence, making it easy to define simple neural networks.\n",
    "* nn.ModuleList: Holds other modules in a list, allowing for more flexible network structures.\n",
    "* nn.ModuleDict: Manages sub-modules with dictionary-like access for complex topologies.\n",
    "\n",
    "**Loss Functions:**   \n",
    "Functions that measure the error between the network's predictions and the ground truth labels. These guide the training process by calculating the gradients used to update the network's weights. Common examples include:\n",
    "* nn.CrossEntropyLoss: For multi-class classification problems.\n",
    "* nn.MSELoss: For mean squared error calculations in regression tasks.\n",
    "\n"
   ]
  },
  {
   "cell_type": "code",
   "execution_count": 5,
   "metadata": {
    "id": "Tw5uR0na0s8J"
   },
   "outputs": [],
   "source": [
    "from torch.utils.data import DataLoader\n"
   ]
  },
  {
   "cell_type": "markdown",
   "metadata": {
    "id": "YzHi6U5zvteu"
   },
   "source": [
    "`torch.utils.data.DataLoader`:\n",
    "\n",
    "In PyTorch, `torch.utils.data.DataLoader` is a powerful tool that simplifies how you load and manage data for training your deep learning models. It acts as an iterator, efficiently providing batches of data during the training process.\n",
    "\n",
    "Here's a breakdown of its key functionalities:\n",
    "\n",
    "Data Management Abstraction:\n",
    "\n",
    "    Decouples data loading logic from your model training code, promoting cleaner and more maintainable code.\n",
    "    Handles complexities like batching, shuffling, and multi-processing data loading, freeing you from writing repetitive code.\n",
    "\n",
    "Efficient Batching:\n",
    "\n",
    "    Groups data samples (images, text, etc.) into batches of a specified size (batch_size). Batching improves computational efficiency by utilizing vectorized operations on GPUs.\n",
    "    Provides an optional collate_fn argument that allows you to customize how samples within a batch are combined. This can be useful for tasks like padding sequences to have the same length."
   ]
  },
  {
   "cell_type": "code",
   "execution_count": 5,
   "metadata": {
    "colab": {
     "base_uri": "https://localhost:8080/",
     "height": 36
    },
    "executionInfo": {
     "elapsed": 12,
     "status": "ok",
     "timestamp": 1715159495582,
     "user": {
      "displayName": "Lee Carlin",
      "userId": "17523197383808952175"
     },
     "user_tz": -180
    },
    "id": "sbHK6GkR0vIH",
    "outputId": "57cc3fdd-175e-4631-a2e5-f1d679d79d03"
   },
   "outputs": [
    {
     "data": {
      "text/plain": [
       "'2.5.1+cpu'"
      ]
     },
     "execution_count": 5,
     "metadata": {},
     "output_type": "execute_result"
    }
   ],
   "source": [
    "torch.__version__"
   ]
  },
  {
   "cell_type": "markdown",
   "metadata": {
    "id": "Sut-qO6F0x1X"
   },
   "source": [
    "In our course we use PyTorch version >=2.2.1.   \n",
    "`cu121` refers to CUDA 12.1, a software layer that gives direct access to the GPU's virtual instruction set and parallel computational elements for the execution of compute kernels."
   ]
  },
  {
   "cell_type": "markdown",
   "metadata": {
    "id": "HE9DKe-9s2aH"
   },
   "source": [
    "## 2. Tensors\n",
    "\n",
    "In PyTorch, tensors are the fundamental data structure. They are similar to NumPy arrays but with some key advantages for deep learning:\n",
    "\n",
    "* **Multi-dimensional Arrays**: Like NumPy arrays, tensors can have multiple dimensions, making them suitable for representing data like images (2D), videos (3D), or sequences of text (1D).\n",
    "\n",
    "* **Hardware Acceleration**: PyTorch tensors can be moved to and run on GPUs or other hardware accelerators, significantly speeding up computations compared to CPUs for deep learning tasks.\n",
    "\n",
    "* **Automatic Differentiation**:  A core feature in deep learning, automatic differentiation allows PyTorch to calculate gradients efficiently, which is essential for training neural networks.  Regular NumPy arrays don't inherently support this.\n",
    "\n",
    "* **Rich Functionality**: PyTorch offers a variety of operations specifically designed for tensors, making it convenient to manipulate and analyze data for deep learning models.\n",
    "\n",
    "In essence, tensors in PyTorch act as the workhorses for your deep learning models. They store and process the data that gets fed into your network, undergoes computations, and ultimately leads to predictions or outputs.\n"
   ]
  },
  {
   "cell_type": "markdown",
   "metadata": {
    "id": "PrthmFbIfsXR"
   },
   "source": [
    "**PyTorch tensor operations:**\n",
    "\n",
    "PyTorch tensor operations are the fundamental building blocks for working with data in your deep learning models. These operations allow you to manipulate, analyze, and transform tensors in various ways. Here's a breakdown of some common categories:\n",
    "\n",
    "1. Arithmetic Operations:\n",
    "\n",
    "These operations perform element-wise calculations between tensors or a tensor and a scalar value. They include:\n",
    "\n",
    "    Addition (+)\n",
    "    Subtraction (-)\n",
    "    Multiplication (*)\n",
    "    Division (/)\n",
    "    Exponentiation (**)\n",
    "\n",
    "These operations can be used for simple calculations or combined to create more complex expressions.\n",
    "\n",
    "2. Comparison Operations:\n",
    "\n",
    "These operations compare elements between tensors or a tensor and a scalar value, resulting in a tensor of booleans (True or False) indicating the comparison outcome. Examples include:\n",
    "\n",
    "    Equal (==)\n",
    "    Not equal (!=)\n",
    "    Greater than (>)\n",
    "    Less than (<)\n",
    "    Greater than or equal (>=)\n",
    "    Less than or equal (<=)\n",
    "\n",
    "Comparison operations are useful for filtering data or making decisions within your model.\n",
    "\n",
    "3. Broadcasting:\n",
    "\n",
    "A powerful feature in PyTorch, broadcasting allows operations between tensors of different shapes as long as they are compatible. For instance, you can add a scalar value to a tensor, or add a one-dimensional tensor to a two-dimensional tensor (as long as the dimensions match). PyTorch automatically expands the smaller tensor to match the larger one for element-wise operations.\n",
    "\n",
    "4. In-place Operations:\n",
    "\n",
    "Certain operations modify the original tensor they are applied to, denoted by a trailing underscore (_). Examples include:\n",
    "\n",
    "    x.add_(y) (equivalent to x = x + y)\n",
    "    x.sub_(y) (equivalent to x = x - y)\n",
    "    x.mul_(y) (equivalent to x = x * y)\n",
    "\n",
    "These operations can be memory-efficient when modifying existing tensors is desired.\n",
    "\n",
    "5. Linear Algebra Operations:\n",
    "\n",
    "PyTorch provides functions for common linear algebra operations on tensors, including:\n",
    "\n",
    "    torch.matmul(a, b): Matrix multiplication between tensors a and b.\n",
    "    torch.sum(input, dim=None): Sums the elements of a tensor along a specified dimension.\n",
    "    torch.mean(input, dim=None): Computes the mean of the elements of a tensor along a specified dimension.\n",
    "\n",
    "These operations are essential for various deep learning tasks like calculating activation outputs or loss functions.\n",
    "\n",
    "6. Tensor Reshaping and Indexing:\n",
    "\n",
    "PyTorch offers functionalities to manipulate the shape and access specific elements of tensors:\n",
    "\n",
    "    x.view(new_shape): Reshapes the tensor x into a new shape while keeping the total number of elements the same.\n",
    "    x[index]: Accesses specific elements or sub-tensors using indexing syntax (similar to NumPy).\n",
    "\n",
    "Reshaping and indexing are crucial for preparing data for specific layers in your neural network architecture.\n",
    "\n",
    "7. Element-wise Operations:\n",
    "\n",
    "These operations apply a function to each element of a tensor independently. PyTorch provides a rich set of element-wise functions like:\n",
    "\n",
    "    torch.relu(x): Applies the rectified linear unit (ReLU) activation function.\n",
    "    torch.sigmoid(x): Applies the sigmoid activation function.\n",
    "    torch.tanh(x): Applies the hyperbolic tangent (tanh) activation function.\n",
    "\n",
    "Element-wise operations are fundamental for introducing non-linearity and transforming data in deep learning models.\n",
    "\n",
    "8. Random Operations:\n",
    "\n",
    "PyTorch offers functions for generating random tensors or modifying existing ones with randomness:\n",
    "\n",
    "    torch.rand(shape): Generates a random tensor filled with uniformly distributed values between 0 and 1.\n",
    "    torch.randn(shape): Generates a random tensor filled with values from a standard normal distribution.\n",
    "\n",
    "These operations are useful for data augmentation techniques or initializing weights in your network.\n",
    "\n",
    "By understanding and effectively using these PyTorch tensor operations, you can build and manipulate your deep learning models with greater flexibility and control."
   ]
  },
  {
   "cell_type": "markdown",
   "metadata": {
    "id": "H9nYSKhmoAQy"
   },
   "source": [
    "Some examples:"
   ]
  },
  {
   "cell_type": "code",
   "execution_count": 6,
   "metadata": {
    "colab": {
     "base_uri": "https://localhost:8080/"
    },
    "executionInfo": {
     "elapsed": 11,
     "status": "ok",
     "timestamp": 1715159495582,
     "user": {
      "displayName": "Lee Carlin",
      "userId": "17523197383808952175"
     },
     "user_tz": -180
    },
    "id": "DMm7DspXrWpj",
    "outputId": "f68d071f-a9ec-406f-8f37-72e5fead4739"
   },
   "outputs": [
    {
     "name": "stdout",
     "output_type": "stream",
     "text": [
      "tens: tensor([[1, 2, 3, 4],\n",
      "        [5, 6, 7, 8]])\n",
      "Shape of tensor: torch.Size([2, 4])\n",
      "Datatype of tensor: torch.int64\n",
      "Device tensor is stored on: cpu\n"
     ]
    }
   ],
   "source": [
    "lst_of_lsts = [[1, 2, 3, 4],[5, 6, 7, 8]]\n",
    "tens = torch.tensor(lst_of_lsts)\n",
    "print(f\"tens: {tens}\")\n",
    "print(f\"Shape of tensor: {tens.shape}\")\n",
    "print(f\"Datatype of tensor: {tens.dtype}\")\n",
    "print(f\"Device tensor is stored on: {tens.device}\")\n"
   ]
  },
  {
   "cell_type": "code",
   "execution_count": 8,
   "metadata": {
    "colab": {
     "base_uri": "https://localhost:8080/"
    },
    "executionInfo": {
     "elapsed": 424,
     "status": "ok",
     "timestamp": 1715159495997,
     "user": {
      "displayName": "Lee Carlin",
      "userId": "17523197383808952175"
     },
     "user_tz": -180
    },
    "id": "cLgpeDPeoDpG",
    "outputId": "cb5b2690-124e-446c-9962-6099aa162f2d"
   },
   "outputs": [
    {
     "name": "stdout",
     "output_type": "stream",
     "text": [
      "Random Tensor: \n",
      " tensor([[[0.9502, 0.2374, 0.6583],\n",
      "         [0.4251, 0.5340, 0.6257]],\n",
      "\n",
      "        [[0.4119, 0.4152, 0.2960],\n",
      "         [0.0031, 0.7710, 0.5209]]]) \n",
      "\n",
      "Ones Tensor: \n",
      " tensor([[[1., 1., 1.],\n",
      "         [1., 1., 1.]],\n",
      "\n",
      "        [[1., 1., 1.],\n",
      "         [1., 1., 1.]]]) \n",
      "\n",
      "Zeros Tensor: \n",
      " tensor([[[0., 0., 0.],\n",
      "         [0., 0., 0.]],\n",
      "\n",
      "        [[0., 0., 0.],\n",
      "         [0., 0., 0.]]])\n"
     ]
    }
   ],
   "source": [
    "shape = (2,2,3)\n",
    "rand_tensor = torch.rand(shape)\n",
    "ones_tensor = torch.ones(shape)\n",
    "zeros_tensor = torch.zeros(shape)\n",
    "\n",
    "print(f\"Random Tensor: \\n {rand_tensor} \\n\")\n",
    "print(f\"Ones Tensor: \\n {ones_tensor} \\n\")\n",
    "print(f\"Zeros Tensor: \\n {zeros_tensor}\")"
   ]
  },
  {
   "cell_type": "code",
   "execution_count": 10,
   "metadata": {
    "colab": {
     "base_uri": "https://localhost:8080/"
    },
    "executionInfo": {
     "elapsed": 7,
     "status": "ok",
     "timestamp": 1715159495997,
     "user": {
      "displayName": "Lee Carlin",
      "userId": "17523197383808952175"
     },
     "user_tz": -180
    },
    "id": "5ADu57CsoykL",
    "outputId": "c29d4da1-ee2e-4874-ae32-f9eb80ab2430"
   },
   "outputs": [
    {
     "name": "stdout",
     "output_type": "stream",
     "text": [
      "t4.shape: torch.Size([300, 3])\n",
      "t5.shape: torch.Size([100, 9])\n"
     ]
    }
   ],
   "source": [
    "shpe = (100,3)\n",
    "t1 = torch.rand(shpe)\n",
    "t2 = torch.rand(shpe)\n",
    "t3 = torch.rand(shpe)\n",
    "t4=torch.cat([t1,t2,t3],dim=0)\n",
    "print(f\"t4.shape: {t4.shape}\")\n",
    "t5=torch.cat([t1,t2,t3],dim=1)\n",
    "print(f\"t5.shape: {t5.shape}\")"
   ]
  },
  {
   "cell_type": "code",
   "execution_count": 11,
   "metadata": {
    "colab": {
     "base_uri": "https://localhost:8080/"
    },
    "executionInfo": {
     "elapsed": 5,
     "status": "ok",
     "timestamp": 1715159495997,
     "user": {
      "displayName": "Lee Carlin",
      "userId": "17523197383808952175"
     },
     "user_tz": -180
    },
    "id": "NwV4Fnweo1OT",
    "outputId": "6b483281-9764-4a83-addb-246f1df7e08f"
   },
   "outputs": [
    {
     "data": {
      "text/plain": [
       "tensor([[ 8.3619,  0.1350, -1.0661,  ...,  0.9479,  0.4630, -0.6716],\n",
       "        [ 0.1350,  7.1206, -0.8727,  ...,  0.6149,  1.1330,  0.0441],\n",
       "        [-1.0661, -0.8727,  8.7019,  ...,  0.2642, -0.0942,  0.9023],\n",
       "        ...,\n",
       "        [ 0.9479,  0.6149,  0.2642,  ...,  8.9479, -0.2642, -0.0835],\n",
       "        [ 0.4630,  1.1330, -0.0942,  ..., -0.2642,  9.3356,  0.4979],\n",
       "        [-0.6716,  0.0441,  0.9023,  ..., -0.0835,  0.4979,  9.7197]])"
      ]
     },
     "execution_count": 11,
     "metadata": {},
     "output_type": "execute_result"
    }
   ],
   "source": [
    "X = torch.rand(100,100)\n",
    "X_cent = X - X.mean(dim=1, keepdim=True)\n",
    "covX = X_cent.T@X_cent\n",
    "covX"
   ]
  },
  {
   "cell_type": "markdown",
   "metadata": {
    "id": "2qKr9lixtGgO"
   },
   "source": [
    "## Data & Handling"
   ]
  },
  {
   "cell_type": "markdown",
   "metadata": {
    "id": "9TJNXJdfuHxH"
   },
   "source": [
    "### PyTorch Datasets"
   ]
  },
  {
   "cell_type": "markdown",
   "metadata": {
    "id": "YZEnT7gHzWUp"
   },
   "source": [
    "Deep networks are versatile tools that can be adapted to various data types by\n",
    "leveraging appropriate pre-processing techniques and network architectures.\n",
    "PyTorch, like other deep learning libraries, can handle a wide array of data:\n",
    "  \n",
    "\n",
    "\n",
    "* images\n",
    "* audio\n",
    "* text data\n",
    "* tabluar (numerical, categorical, mixed)\n",
    "* multimodal Data\n",
    "* other\n",
    "\n"
   ]
  },
  {
   "cell_type": "markdown",
   "metadata": {
    "id": "GbZ5lmtzuKlb"
   },
   "source": [
    "PyTorch also offers built-in vision specific datasets as part of the `torchvision.datasets` [module](https://pytorch.org/vision/stable/datasets.html):"
   ]
  },
  {
   "cell_type": "code",
   "execution_count": 6,
   "metadata": {
    "id": "9kGSr-D-y42B"
   },
   "outputs": [],
   "source": [
    "from torchvision import datasets"
   ]
  },
  {
   "cell_type": "code",
   "execution_count": 7,
   "metadata": {
    "colab": {
     "base_uri": "https://localhost:8080/"
    },
    "executionInfo": {
     "elapsed": 17,
     "status": "ok",
     "timestamp": 1715159499601,
     "user": {
      "displayName": "Lee Carlin",
      "userId": "17523197383808952175"
     },
     "user_tz": -180
    },
    "id": "ML5of6dVzEAY",
    "outputId": "3b84c8d7-bfdf-4041-a0c6-c697a85b381f"
   },
   "outputs": [
    {
     "data": {
      "text/plain": [
       "['CIFAR10',\n",
       " 'CIFAR100',\n",
       " 'CLEVRClassification',\n",
       " 'CREStereo',\n",
       " 'Caltech101',\n",
       " 'Caltech256',\n",
       " 'CarlaStereo',\n",
       " 'CelebA',\n",
       " 'Cityscapes',\n",
       " 'CocoCaptions',\n",
       " 'CocoDetection',\n",
       " 'Country211',\n",
       " 'DTD',\n",
       " 'DatasetFolder',\n",
       " 'EMNIST',\n",
       " 'ETH3DStereo',\n",
       " 'EuroSAT',\n",
       " 'FER2013',\n",
       " 'FGVCAircraft',\n",
       " 'FakeData',\n",
       " 'FallingThingsStereo',\n",
       " 'FashionMNIST',\n",
       " 'Flickr30k',\n",
       " 'Flickr8k',\n",
       " 'Flowers102',\n",
       " 'FlyingChairs',\n",
       " 'FlyingThings3D',\n",
       " 'Food101',\n",
       " 'GTSRB',\n",
       " 'HD1K',\n",
       " 'HMDB51',\n",
       " 'INaturalist',\n",
       " 'ImageFolder',\n",
       " 'ImageNet',\n",
       " 'Imagenette',\n",
       " 'InStereo2k',\n",
       " 'KMNIST',\n",
       " 'Kinetics',\n",
       " 'Kitti',\n",
       " 'Kitti2012Stereo',\n",
       " 'Kitti2015Stereo',\n",
       " 'KittiFlow',\n",
       " 'LFWPairs',\n",
       " 'LFWPeople',\n",
       " 'LSUN',\n",
       " 'LSUNClass',\n",
       " 'MNIST',\n",
       " 'Middlebury2014Stereo',\n",
       " 'MovingMNIST',\n",
       " 'Omniglot',\n",
       " 'OxfordIIITPet',\n",
       " 'PCAM',\n",
       " 'PhotoTour',\n",
       " 'Places365',\n",
       " 'QMNIST',\n",
       " 'RenderedSST2',\n",
       " 'SBDataset',\n",
       " 'SBU',\n",
       " 'SEMEION',\n",
       " 'STL10',\n",
       " 'SUN397',\n",
       " 'SVHN',\n",
       " 'SceneFlowStereo',\n",
       " 'Sintel',\n",
       " 'SintelStereo',\n",
       " 'StanfordCars',\n",
       " 'UCF101',\n",
       " 'USPS',\n",
       " 'VOCDetection',\n",
       " 'VOCSegmentation',\n",
       " 'VisionDataset',\n",
       " 'WIDERFace',\n",
       " '__all__',\n",
       " '__builtins__',\n",
       " '__cached__',\n",
       " '__doc__',\n",
       " '__file__',\n",
       " '__getattr__',\n",
       " '__loader__',\n",
       " '__name__',\n",
       " '__package__',\n",
       " '__path__',\n",
       " '__spec__',\n",
       " '_optical_flow',\n",
       " '_stereo_matching',\n",
       " 'caltech',\n",
       " 'celeba',\n",
       " 'cifar',\n",
       " 'cityscapes',\n",
       " 'clevr',\n",
       " 'coco',\n",
       " 'country211',\n",
       " 'dtd',\n",
       " 'eurosat',\n",
       " 'fakedata',\n",
       " 'fer2013',\n",
       " 'fgvc_aircraft',\n",
       " 'flickr',\n",
       " 'flowers102',\n",
       " 'folder',\n",
       " 'food101',\n",
       " 'gtsrb',\n",
       " 'hmdb51',\n",
       " 'imagenet',\n",
       " 'imagenette',\n",
       " 'inaturalist',\n",
       " 'kinetics',\n",
       " 'kitti',\n",
       " 'lfw',\n",
       " 'lsun',\n",
       " 'mnist',\n",
       " 'moving_mnist',\n",
       " 'omniglot',\n",
       " 'oxford_iiit_pet',\n",
       " 'pcam',\n",
       " 'phototour',\n",
       " 'places365',\n",
       " 'rendered_sst2',\n",
       " 'sbd',\n",
       " 'sbu',\n",
       " 'semeion',\n",
       " 'stanford_cars',\n",
       " 'stl10',\n",
       " 'sun397',\n",
       " 'svhn',\n",
       " 'ucf101',\n",
       " 'usps',\n",
       " 'utils',\n",
       " 'video_utils',\n",
       " 'vision',\n",
       " 'voc',\n",
       " 'widerface']"
      ]
     },
     "execution_count": 7,
     "metadata": {},
     "output_type": "execute_result"
    }
   ],
   "source": [
    "dir(datasets)"
   ]
  },
  {
   "cell_type": "markdown",
   "metadata": {
    "id": "6CCQWfKR0etj"
   },
   "source": []
  },
  {
   "cell_type": "code",
   "execution_count": 8,
   "metadata": {
    "colab": {
     "base_uri": "https://localhost:8080/"
    },
    "executionInfo": {
     "elapsed": 21548,
     "status": "ok",
     "timestamp": 1715159521136,
     "user": {
      "displayName": "Lee Carlin",
      "userId": "17523197383808952175"
     },
     "user_tz": -180
    },
    "id": "WQjlYm3I3bIj",
    "outputId": "57920d1c-ec39-42b5-cae6-399543c78cbe"
   },
   "outputs": [
    {
     "data": {
      "text/plain": [
       "Dataset FashionMNIST\n",
       "    Number of datapoints: 60000\n",
       "    Root location: data\n",
       "    Split: Train\n",
       "    StandardTransform\n",
       "Transform: ToTensor()"
      ]
     },
     "execution_count": 8,
     "metadata": {},
     "output_type": "execute_result"
    }
   ],
   "source": [
    "from torchvision.transforms import ToTensor\n",
    "train_source = training_data = datasets.FashionMNIST(\n",
    "    root=\"data\",\n",
    "    train=True,\n",
    "    download=True,\n",
    "    transform=ToTensor()\n",
    ")\n",
    "train_source"
   ]
  },
  {
   "cell_type": "code",
   "execution_count": 9,
   "metadata": {
    "colab": {
     "base_uri": "https://localhost:8080/",
     "height": 203
    },
    "executionInfo": {
     "elapsed": 12,
     "status": "ok",
     "timestamp": 1715159521136,
     "user": {
      "displayName": "Lee Carlin",
      "userId": "17523197383808952175"
     },
     "user_tz": -180
    },
    "id": "uq7YInbH3z4K",
    "outputId": "e48518f9-08bc-42e5-d9d6-5e268c992440"
   },
   "outputs": [
    {
     "data": {
      "text/plain": [
       "torchvision.datasets.mnist.FashionMNIST"
      ]
     },
     "execution_count": 9,
     "metadata": {},
     "output_type": "execute_result"
    }
   ],
   "source": [
    "type(train_source)"
   ]
  },
  {
   "cell_type": "code",
   "execution_count": 10,
   "metadata": {
    "colab": {
     "base_uri": "https://localhost:8080/"
    },
    "executionInfo": {
     "elapsed": 10,
     "status": "ok",
     "timestamp": 1715159521136,
     "user": {
      "displayName": "Lee Carlin",
      "userId": "17523197383808952175"
     },
     "user_tz": -180
    },
    "id": "CI0VZXWe5oL_",
    "outputId": "de1c09d9-bbac-4434-9bdf-cb18a1a1129b"
   },
   "outputs": [
    {
     "name": "stdout",
     "output_type": "stream",
     "text": [
      "the shape of the data: torch.Size([60000, 28, 28])\n"
     ]
    }
   ],
   "source": [
    "print(f\"the shape of the data: {train_source.data.shape}\")"
   ]
  },
  {
   "cell_type": "markdown",
   "metadata": {
    "id": "QvCx0iKV5uPl"
   },
   "source": [
    "We can visualize the data using matplotlib:"
   ]
  },
  {
   "cell_type": "code",
   "execution_count": 11,
   "metadata": {
    "id": "UpM3phXL41eL"
   },
   "outputs": [],
   "source": [
    "import matplotlib.pyplot as plt"
   ]
  },
  {
   "cell_type": "code",
   "execution_count": 12,
   "metadata": {
    "colab": {
     "base_uri": "https://localhost:8080/",
     "height": 502
    },
    "executionInfo": {
     "elapsed": 1200,
     "status": "ok",
     "timestamp": 1715159522331,
     "user": {
      "displayName": "Lee Carlin",
      "userId": "17523197383808952175"
     },
     "user_tz": -180
    },
    "id": "UGVwuqTP4w6B",
    "outputId": "d6f07905-b93d-4670-d361-393af111742a"
   },
   "outputs": [
    {
     "data": {
      "image/png": "[encoded data removed]",
      "text/plain": [
       "<Figure size 800x800 with 10 Axes>"
      ]
     },
     "metadata": {},
     "output_type": "display_data"
    }
   ],
   "source": [
    "labels_map = {\n",
    "    0: \"T-Shirt\",\n",
    "    1: \"Trouser\",\n",
    "    2: \"Pullover\",\n",
    "    3: \"Dress\",\n",
    "    4: \"Coat\",\n",
    "    5: \"Sandal\",\n",
    "    6: \"Shirt\",\n",
    "    7: \"Sneaker\",\n",
    "    8: \"Bag\",\n",
    "    9: \"Ankle Boot\",\n",
    "}\n",
    "figure = plt.figure(figsize=(8, 8))\n",
    "cols, rows = 5, 2\n",
    "for i in range(1, cols * rows + 1):\n",
    "    sample_idx = torch.randint(len(train_source), size=(1,)).item()\n",
    "    img, label = train_source[sample_idx]\n",
    "    figure.add_subplot(rows, cols, i)\n",
    "    plt.title(labels_map[label])\n",
    "    plt.axis(\"off\")\n",
    "    plt.imshow(img.squeeze(), cmap=\"gray\")\n",
    "plt.show()"
   ]
  },
  {
   "cell_type": "markdown",
   "metadata": {
    "id": "WUArfaqcuF9p"
   },
   "source": [
    "### DataLoader"
   ]
  },
  {
   "cell_type": "markdown",
   "metadata": {
    "id": "ptoV6URJtMyg"
   },
   "source": [
    "As mentioned above, the `torch.utils.data.DataLoader` is responsible for handling data during the deep learning model training.\n",
    "\n",
    "Key Parameters:\n",
    "\n",
    "* dataset (Dataset): The PyTorch dataset you want to load data from (your custom class representing the data and how to access samples and labels).\n",
    "* batch_size (int, optional): The number of samples in a batch (default: 1).\n",
    "* shuffle (bool, optional): Whether to shuffle the data at the beginning of each epoch (default: False).\n",
    "* sampler (Sampler, optional): A custom sampler object for controlling data loading order (default: None).\n",
    "* collate_fn (callable, optional): A function to customize how samples within a batch are combined (default: None). Useful for padding sequences.\n",
    "* pin_memory=True (bool, optional): If using a GPU, pin fetched data tensors in pinned memory for faster transfer (default: False)."
   ]
  },
  {
   "cell_type": "code",
   "execution_count": 13,
   "metadata": {
    "colab": {
     "base_uri": "https://localhost:8080/",
     "height": 290
    },
    "executionInfo": {
     "elapsed": 19,
     "status": "ok",
     "timestamp": 1715159522331,
     "user": {
      "displayName": "Lee Carlin",
      "userId": "17523197383808952175"
     },
     "user_tz": -180
    },
    "id": "4XyudTrorICU",
    "outputId": "ddd496c5-dcd2-4261-d075-36d868826431"
   },
   "outputs": [
    {
     "data": {
      "text/plain": [
       "torch.utils.data.dataloader.DataLoader"
      ]
     },
     "execution_count": 13,
     "metadata": {},
     "output_type": "execute_result"
    }
   ],
   "source": [
    "train = DataLoader(train_source, batch_size=64, shuffle=True)\n",
    "type(train)"
   ]
  },
  {
   "cell_type": "markdown",
   "metadata": {
    "id": "FdKFXjkH6NPg"
   },
   "source": [
    "\n",
    "\n",
    "> The Dataset retrieves our dataset’s features and labels one sample at a time. While training a model, we typically want to pass samples in “minibatches”, reshuffle the data at every epoch to reduce model overfitting, and use Python’s multiprocessing to speed up data retrieval.\n",
    "\n"
   ]
  },
  {
   "cell_type": "code",
   "execution_count": 14,
   "metadata": {
    "colab": {
     "base_uri": "https://localhost:8080/"
    },
    "executionInfo": {
     "elapsed": 18,
     "status": "ok",
     "timestamp": 1715159522331,
     "user": {
      "displayName": "Lee Carlin",
      "userId": "17523197383808952175"
     },
     "user_tz": -180
    },
    "id": "vBYbBhat6DBf",
    "outputId": "b1b3554a-845b-42c8-a40f-7c68f9c80c34"
   },
   "outputs": [
    {
     "name": "stdout",
     "output_type": "stream",
     "text": [
      "batch shape: torch.Size([64, 1, 28, 28])\n",
      "batch shape: torch.Size([64, 1, 28, 28])\n",
      "batch shape: torch.Size([64, 1, 28, 28])\n",
      "batch shape: torch.Size([64, 1, 28, 28])\n",
      "batch shape: torch.Size([64, 1, 28, 28])\n"
     ]
    }
   ],
   "source": [
    "for i in range(5):\n",
    "  btch = next(iter(train))\n",
    "  print(f\"batch shape: {btch[0].shape}\")"
   ]
  },
  {
   "cell_type": "markdown",
   "metadata": {
    "id": "KOok4gOvaBuW"
   },
   "source": [
    "## Practice Questions"
   ]
  },
  {
   "cell_type": "markdown",
   "metadata": {
    "id": "B3Fby9XPaJjR"
   },
   "source": [
    "Produce the following tensors:  \n",
    "\n",
    "1. Create a tensor from the list `[1, 2, 3]`\n",
    "2. Create a tensor from a NumPy array of shape (50,10)\n",
    "3. Specify a data type and device option for a tensor with `[7, 8, 9]`, `[.5,0,.7]`\n",
    "4. Create a zero tensor of size (3, 4)\n",
    "5. Create a ones tensor of size (2, 2, 2) with dtype float\n",
    "6. Create a tensor of size (5, 5) with random values from a normal distribution\n",
    "7. Create a new tensor by cloning an existing tensor\n",
    "8. Create a new tensor by reshaping an existing tensor\n",
    "9. Create a new tensor by concatenating two existing tensors\n",
    "10.  Perform operations with different data types"
   ]
  },
  {
   "cell_type": "code",
   "execution_count": 99,
   "metadata": {
    "id": "ASqrBB6KeImk"
   },
   "outputs": [
    {
     "name": "stdout",
     "output_type": "stream",
     "text": [
      "1. tensor from list: tensor([1, 2, 3])\n",
      "\n",
      "2. tensor from Numpy array (only shape): torch.Size([50, 10])\n",
      "\n",
      "3. Datatype of tensor: torch.float32\n",
      "\n",
      "3. Device tensor is stored on: cpu\n",
      "\n",
      "4. Zeros Tensor: tensor([[0., 0., 0., 0.],\n",
      "        [0., 0., 0., 0.]]) \n",
      "\n",
      "5. Ones Tensor: tensor([[[1., 1.],\n",
      "         [1., 1.]],\n",
      "\n",
      "        [[1., 1.],\n",
      "         [1., 1.]]]) \n",
      "\n",
      "6. Random Tensor from normal distributaion: tensor([[-0.9489, -0.4112, -1.4078, -0.6796, -1.5669],\n",
      "        [ 0.1291, -0.2364,  1.6805,  1.0250, -1.0534],\n",
      "        [-0.2484,  0.3496, -1.7422,  1.6472,  0.3874],\n",
      "        [-1.3664,  0.2172,  0.5761, -1.5206, -0.6895],\n",
      "        [-0.8343,  0.5739,  1.7445, -0.6033, -1.3787]]) \n",
      "\n",
      "7. New tensor created by cloning the random normal tensor: tensor([[-0.9489, -0.4112, -1.4078, -0.6796, -1.5669],\n",
      "        [ 0.1291, -0.2364,  1.6805,  1.0250, -1.0534],\n",
      "        [-0.2484,  0.3496, -1.7422,  1.6472,  0.3874],\n",
      "        [-1.3664,  0.2172,  0.5761, -1.5206, -0.6895],\n",
      "        [-0.8343,  0.5739,  1.7445, -0.6033, -1.3787]]) \n",
      "\n",
      "8. New tensor created by reshaping the ones tensor: tensor([[1., 1., 1., 1.],\n",
      "        [1., 1., 1., 1.]]) \n",
      "\n",
      "9. New tensor created by concatenating zeros_tensor and reshaped_tensor: tensor([[0., 0., 0., 0., 1., 1., 1., 1.],\n",
      "        [0., 0., 0., 0., 1., 1., 1., 1.]])\n",
      "10. New tensor created by adding tensor_int and reshaped_tensor: tensor([[2., 3.],\n",
      "        [3., 5.],\n",
      "        [2., 4.],\n",
      "        [6., 7.]])\n"
     ]
    }
   ],
   "source": [
    "# YOUR CODE HERE\n",
    "import numpy as np\n",
    "my_lst = [1,2,3]\n",
    "tens_from_list = torch.tensor(my_lst)\n",
    "print(f\"1. tensor from list: {tens_from_list}\\n\")\n",
    "\n",
    "my_array = np.zeros((50, 10))\n",
    "tens_from_arr = torch.tensor(my_array)\n",
    "print(f\"2. tensor from Numpy array (only shape): {tens_from_arr.shape}\\n\")\n",
    "\n",
    "lst_for_tens = [[7, 8, 9], [.5,0,.7]]\n",
    "tens_from_lists = torch.tensor(lst_for_tens)\n",
    "print(f\"3. Datatype of tensor: {tens_from_lists.dtype}\\n\")\n",
    "print(f\"3. Device tensor is stored on: {tens_from_lists.device}\\n\")\n",
    "\n",
    "zeros_tensor = torch.zeros((2,4))\n",
    "print(f\"4. Zeros Tensor: {zeros_tensor} \\n\")\n",
    "\n",
    "ones_tensor = torch.ones((2,2,2), dtype=torch.float32)\n",
    "print(f\"5. Ones Tensor: {ones_tensor} \\n\")\n",
    "\n",
    "rand_tensor_normal = torch.randn((5, 5))\n",
    "print(f\"6. Random Tensor from normal distributaion: {rand_tensor_normal} \\n\")\n",
    "\n",
    "new_tensor = rand_tensor_normal.clone()\n",
    "print(f\"7. New tensor created by cloning the random normal tensor: {new_tensor} \\n\")\n",
    "\n",
    "reshaped_tensor = ones_tensor.view(2, 4)\n",
    "print(f\"8. New tensor created by reshaping the ones tensor: {reshaped_tensor} \\n\")\n",
    "\n",
    "concatenated_tensor = torch.cat([zeros_tensor,reshaped_tensor],dim=1)\n",
    "print(f\"9. New tensor created by concatenating zeros_tensor and reshaped_tensor: {concatenated_tensor}\")\n",
    "\n",
    "tensor_int = torch.tensor([[1, 2],[2,4],[1,3],[5,6]], dtype=torch.int32)\n",
    "\n",
    "diff_data_type = reshaped_tensor.view(4,2) + tensor_int\n",
    "print(f\"10. New tensor created by adding tensor_int and reshaped_tensor: {diff_data_type}\")"
   ]
  },
  {
   "cell_type": "markdown",
   "metadata": {
    "id": "TvL6c_cEboV_"
   },
   "source": [
    "1. Inspect the  attributes of some of the tensors you created with `shape,dtype,numel`.\n",
    "2. Indexing to access specific elements: `[[1, 2, 3], [4, 5, 6]]`, get the '2' element.\n",
    "\n",
    "3. Modify modify the '5' element to '10'\n",
    "4. Apply element-wise addition to two tensors.\n",
    "5. Apply element-wise multiplication to two tensors\n",
    "6. Apply a square root to a tensor.\n",
    "7. Create a tensor with random values from a uniform distribution between 0 and 1.\n",
    "8. Create a tensor with random values from a normal distribution with mean 0 and standard deviation 1\n",
    "9. Create a tensor with random values from a discrete uniform distribution between 1 and 10.\n",
    "10. Reshape a tensor from size `(2, 3)` to `(3, 2)`\n",
    "11. Transpose a tensor\n",
    "12. Concatenate tensors along a specific dimension\n",
    "13. Stack tensors along a new dimension\n"
   ]
  },
  {
   "cell_type": "code",
   "execution_count": 100,
   "metadata": {
    "id": "d_eeWx27eLGJ"
   },
   "outputs": [
    {
     "name": "stdout",
     "output_type": "stream",
     "text": [
      "1. Inspectation:\n",
      " shape of tens: torch.Size([3])\n",
      " tensor_int data type: torch.int32\n",
      " zeros_tensor numal:<built-in method numel of Tensor object at 0x000001F3C2C00A70>\n",
      "2. Indexing to access the two element: 2\n",
      "3. Modify the '5' element to '10': tensor([[ 1,  2,  3],\n",
      "        [ 4, 10,  6]])\n",
      "4. Apply element-wise addition to two tensors: tensor([[ 2,  4,  6],\n",
      "        [ 8, 20, 12]])\n",
      "5. Apply element-wise multiplication to two tensors: tensor([[  1,   4,   9],\n",
      "        [ 16, 100,  36]])\n",
      "6. Apply a square root to a tensor: tensor([[1.0000, 1.4142, 1.7321],\n",
      "        [2.0000, 3.1623, 2.4495]])\n",
      "7. tensor with random values from a uniform distribution between 0 and 1: tensor([[0.8077, 0.7635],\n",
      "        [0.2469, 0.7022]])\n",
      "8. tensor with random values from a normal distribution with mean 0 and standard deviation 1: tensor([[ 0.9118, -0.2230],\n",
      "        [-0.8981, -1.2668]])\n",
      "9. tensor with random values from a discrete uniform distribution between 1 and 10: tensor([[ 8,  4],\n",
      "        [10,  3]])\n",
      "10. Reshape a tensor from size (2, 3) to (3, 2):\n",
      " original:\n",
      " tensor([[ 0.4091, -2.6124, -0.7210],\n",
      "        [ 0.4686, -1.0523, -0.7528]]),\n",
      " reshaped:\n",
      " tensor([[ 0.4091, -2.6124],\n",
      "        [-0.7210,  0.4686],\n",
      "        [-1.0523, -0.7528]])\n",
      "11. Transpose tensor :\n",
      " original:\n",
      " tensor([[ 0.4091, -2.6124, -0.7210],\n",
      "        [ 0.4686, -1.0523, -0.7528]]),\n",
      " transposed:\n",
      " tensor([[ 0.4091,  0.4686],\n",
      "        [-2.6124, -1.0523],\n",
      "        [-0.7210, -0.7528]])\n",
      "12. Concatenated tensors along the 0 dimension:\n",
      " tensor([[ 0.8077,  0.7635],\n",
      "        [ 0.2469,  0.7022],\n",
      "        [ 0.9118, -0.2230],\n",
      "        [-0.8981, -1.2668]])\n",
      "13. Stacked tensors alonga new dimention:\n",
      " tensor([[[ 0.8077,  0.7635],\n",
      "         [ 0.2469,  0.7022]],\n",
      "\n",
      "        [[ 0.9118, -0.2230],\n",
      "         [-0.8981, -1.2668]]])\n"
     ]
    }
   ],
   "source": [
    "# YOUR CODE HERE\n",
    "print(f\"1. Inspectation:\\n shape of tens: {tens_from_list.shape}\\n tensor_int data type: {tensor_int.dtype}\\n zeros_tensor numal:{zeros_tensor.numel}\")\n",
    "\n",
    "my_tensor = torch.tensor([[1, 2, 3], [4, 5, 6]])\n",
    "print(f\"2. Indexing to access the two element: {my_tensor[0,1]}\")\n",
    "\n",
    "my_tensor[1,1]=10\n",
    "print(f\"3. Modify the '5' element to '10': {my_tensor}\")\n",
    "\n",
    "add_tensors = my_tensor + my_tensor\n",
    "print(f\"4. Apply element-wise addition to two tensors: {add_tensors}\")\n",
    "\n",
    "multiplication_tensors = my_tensor * my_tensor\n",
    "print(f\"5. Apply element-wise multiplication to two tensors: {multiplication_tensors}\")\n",
    "\n",
    "sqrt_tensor = torch.sqrt(my_tensor)\n",
    "print(f\"6. Apply a square root to a tensor: {sqrt_tensor}\")\n",
    "\n",
    "rand_unif = torch.rand((2,2))\n",
    "print(f\"7. tensor with random values from a uniform distribution between 0 and 1: {rand_unif}\")\n",
    "\n",
    "rand_normal = torch.randn((2,2))\n",
    "print(f\"8. tensor with random values from a normal distribution with mean 0 and standard deviation 1: {rand_normal}\")\n",
    "\n",
    "rand_unif_int = torch.randint(1, 11, (2, 2))\n",
    "print(f\"9. tensor with random values from a discrete uniform distribution between 1 and 10: {rand_unif_int}\")\n",
    "\n",
    "tensor_2_3 = torch.randn((2,3))\n",
    "reshapes_tensor_2_3 = tensor_2_3.view(3,2)\n",
    "print(f\"10. Reshape a tensor from size (2, 3) to (3, 2):\\n original:\\n {tensor_2_3},\\n reshaped:\\n {reshapes_tensor_2_3}\")\n",
    "\n",
    "transposed_tensor_2_3 = tensor_2_3.t()\n",
    "print(f\"11. Transpose tensor :\\n original:\\n {tensor_2_3},\\n transposed:\\n {transposed_tensor_2_3}\")\n",
    "\n",
    "Concatenate_tensors = torch.cat((rand_unif, rand_normal), dim=0)\n",
    "print(f\"12. Concatenated tensors along the 0 dimension:\\n {Concatenate_tensors}\")\n",
    "\n",
    "stack_tensors = torch.stack((rand_unif, rand_normal), dim=0)\n",
    "print(f\"13. Stacked tensors alonga new dimention:\\n {stack_tensors}\")"
   ]
  },
  {
   "cell_type": "markdown",
   "metadata": {
    "id": "q5Ag4aLvd186"
   },
   "source": [
    "1. Sum of all elements in a tensor.\n",
    "2. Mean along a specific dimension\n",
    "3. Find the minimum and maximum values in a tensor\n",
    "4. Find the indices of minimum and maximum values in a tensor\n"
   ]
  },
  {
   "cell_type": "code",
   "execution_count": 101,
   "metadata": {
    "id": "YS_zcuzPeL2y"
   },
   "outputs": [
    {
     "name": "stdout",
     "output_type": "stream",
     "text": [
      "1. Sum of all elements in my tensor:\n",
      " 26\n",
      "2. Mean along the 0 dimension:\n",
      " tensor([2.5000, 6.0000, 4.5000])\n",
      "3.\n",
      " Minimum value in my_tensor: 1\n",
      "\n",
      " Maximum value in my_tensor: 10\n",
      "4.\n",
      " Index of minimum value in my_tensor: 0\n",
      "\n",
      " Index of maximum value in my_tensor: 4\n"
     ]
    }
   ],
   "source": [
    "# YOUR CODE HERE\n",
    "my_tensor_sum = torch.sum(my_tensor)\n",
    "print(f\"1. Sum of all elements in my tensor:\\n {my_tensor_sum}\")\n",
    "\n",
    "my_tensor_float = my_tensor.float() \n",
    "my_tensor_mean = torch.mean(my_tensor_float, dim=0)\n",
    "print(f\"2. Mean along the 0 dimension:\\n {my_tensor_mean}\")\n",
    "\n",
    "my_tensor_min = torch.min(my_tensor)\n",
    "print(f\"3.\\n Minimum value in my_tensor: {my_tensor_min}\")\n",
    "my_tensor_max = torch.max(my_tensor)\n",
    "print(f\"\\n Maximum value in my_tensor: {my_tensor_max}\")\n",
    "\n",
    "my_tensor_min_index = torch.argmin(my_tensor)\n",
    "print(f\"4.\\n Index of minimum value in my_tensor: {my_tensor_min_index}\")\n",
    "my_tensor_max_index = torch.argmax(my_tensor)\n",
    "print(f\"\\n Index of maximum value in my_tensor: {my_tensor_max_index}\")\n"
   ]
  },
  {
   "cell_type": "markdown",
   "metadata": {
    "id": "ZUhF40qoc9lh"
   },
   "source": [
    "Broadcasting:"
   ]
  },
  {
   "cell_type": "code",
   "execution_count": null,
   "metadata": {
    "colab": {
     "base_uri": "https://localhost:8080/"
    },
    "executionInfo": {
     "elapsed": 14,
     "status": "ok",
     "timestamp": 1715159522332,
     "user": {
      "displayName": "Lee Carlin",
      "userId": "17523197383808952175"
     },
     "user_tz": -180
    },
    "id": "WZ3jXo9F7YyB",
    "outputId": "09168315-7d03-4d52-ebde-4ff6d35f9051"
   },
   "outputs": [
    {
     "name": "stdout",
     "output_type": "stream",
     "text": [
      "Broadcasting with scalars:\n",
      "tensor([6, 7, 8])\n",
      "Broadcasting with different shapes:\n",
      "tensor([[11, 22, 33],\n",
      "        [14, 25, 36]])\n"
     ]
    }
   ],
   "source": [
    "\n",
    "# Broadcasting with scalars\n",
    "tensor_a = torch.tensor([1, 2, 3])\n",
    "scalar_b = 5\n",
    "result_broadcast_scalar = tensor_a + scalar_b\n",
    "print(\"Broadcasting with scalars:\")\n",
    "print(result_broadcast_scalar)  # Output: tensor([6, 7, 8])\n",
    "\n",
    "# Broadcasting with different shapes\n",
    "tensor_c = torch.tensor([[1, 2, 3], [4, 5, 6]])\n",
    "tensor_d = torch.tensor([10, 20, 30])\n",
    "result_broadcast_shape = tensor_c + tensor_d\n",
    "print(\"Broadcasting with different shapes:\")\n",
    "print(result_broadcast_shape)"
   ]
  },
  {
   "cell_type": "code",
   "execution_count": 84,
   "metadata": {
    "colab": {
     "base_uri": "https://localhost:8080/"
    },
    "executionInfo": {
     "elapsed": 458,
     "status": "ok",
     "timestamp": 1715159522778,
     "user": {
      "displayName": "Lee Carlin",
      "userId": "17523197383808952175"
     },
     "user_tz": -180
    },
    "id": "CTTx-zG3dFzd",
    "outputId": "c0b03603-38b7-46c1-993b-9d66020f4863"
   },
   "outputs": [
    {
     "name": "stdout",
     "output_type": "stream",
     "text": [
      "Broadcasting with multidimensional tensors:\n",
      "tensor([[11, 22, 33],\n",
      "        [14, 25, 36]])\n",
      "RuntimeError: The size of tensor a (3) must match the size of tensor b (2) at non-singleton dimension 1\n"
     ]
    }
   ],
   "source": [
    "# Broadcasting with multidimensional tensors\n",
    "tensor_a = torch.tensor([[1, 2, 3], [4, 5, 6]])\n",
    "tensor_b = torch.tensor([10, 20, 30])\n",
    "result_broadcast = tensor_a + tensor_b\n",
    "print(\"Broadcasting with multidimensional tensors:\")\n",
    "print(result_broadcast)\n",
    "\n",
    "# Common broadcasting pitfalls\n",
    "tensor_c = torch.tensor([[1, 2, 3], [4, 5, 6]])\n",
    "tensor_d = torch.tensor([10, 20])\n",
    "# The following line will raise a RuntimeError\n",
    "try:\n",
    "    result_pitfall = tensor_c + tensor_d\n",
    "except RuntimeError as e:\n",
    "    print(\"RuntimeError:\", e)"
   ]
  },
  {
   "cell_type": "markdown",
   "metadata": {
    "id": "d8XnR20UdL9x"
   },
   "source": [
    "Device specification"
   ]
  },
  {
   "cell_type": "code",
   "execution_count": 85,
   "metadata": {
    "colab": {
     "base_uri": "https://localhost:8080/"
    },
    "executionInfo": {
     "elapsed": 12,
     "status": "ok",
     "timestamp": 1715159522778,
     "user": {
      "displayName": "Lee Carlin",
      "userId": "17523197383808952175"
     },
     "user_tz": -180
    },
    "id": "UmOPlcDndLei",
    "outputId": "41ccd2a3-1a28-4fd6-b70a-d7861c6cb337"
   },
   "outputs": [
    {
     "name": "stdout",
     "output_type": "stream",
     "text": [
      "Is GPU available? False\n",
      "Tensor on GPU: tensor([1, 2, 3])\n"
     ]
    }
   ],
   "source": [
    "# Code examples for device configuration and availability\n",
    "\n",
    "# Check if GPU is available\n",
    "is_gpu_available = torch.cuda.is_available()\n",
    "print(\"Is GPU available?\", is_gpu_available)\n",
    "\n",
    "# Specify device for tensor operations\n",
    "device = torch.device('cuda' if is_gpu_available else 'cpu')\n",
    "tensor_gpu = torch.tensor([1, 2, 3], device=device)\n",
    "print(\"Tensor on GPU:\", tensor_gpu)\n"
   ]
  },
  {
   "cell_type": "markdown",
   "metadata": {
    "id": "aTb9_VWsgCkv"
   },
   "source": [
    "Dataloader practice:"
   ]
  },
  {
   "cell_type": "markdown",
   "metadata": {
    "id": "A-XSmZ7Tffq2"
   },
   "source": [
    "Using the Fashion MNIST dataloader object, iterate over the batches, and calculate an interesting statistic. Make sure the statistic represent the entire data, not just a single batch. Hint- find a way to \"update\" the statistic along the batches."
   ]
  },
  {
   "cell_type": "code",
   "execution_count": 102,
   "metadata": {
    "id": "ED4PArw7e43C"
   },
   "outputs": [
    {
     "name": "stdout",
     "output_type": "stream",
     "text": [
      "Mean pixel value of the Fashion MNIST dataset: 0.28604090213775635\n"
     ]
    }
   ],
   "source": [
    "# Your code here\n",
    "from torchvision.transforms import ToTensor\n",
    "data_source = data = datasets.FashionMNIST(\n",
    "    root=\"data\",\n",
    "    train=True,\n",
    "    download=True,\n",
    "    transform=ToTensor()\n",
    ")\n",
    "\n",
    "batch_size = 32  \n",
    "data_loader = DataLoader(train_source, batch_size=batch_size, shuffle=True)\n",
    "\n",
    "cum_sum =0 \n",
    "tot_count = 0\n",
    "for images, labels in data_loader:\n",
    "    cum_sum += images.sum()\n",
    "    tot_count += images.numel()\n",
    "\n",
    "mean_pixel_value = cum_sum / tot_count\n",
    "\n",
    "print(\"Mean pixel value of the Fashion MNIST dataset:\", mean_pixel_value.item())"
   ]
  },
  {
   "cell_type": "markdown",
   "metadata": {
    "id": "NrhHnCUOXeTY"
   },
   "source": [
    "## How to export an `HTML` file of your `ipynb`\n"
   ]
  },
  {
   "cell_type": "markdown",
   "metadata": {
    "id": "-yvoSJjmXqah"
   },
   "source": [
    "1. Save your notebook and make sure all the cells have the expected output.\n",
    "2. Download your notebook to your local machine.   `File-->Download-->Download ipynb`\n",
    "3.  Reupload it so Colab can see it :  Click on the Files icon on the far left bar--> you should see your current kernel folder --> click `upload to session storage` --> upload your file.\n",
    "4. Execute the following: `!jupyter nbconvert --to html /content/NOTEBOOKFILE.ipynb`\n",
    "5. You should see the html file produced in your kernel's current folder. You can download it locally.\n",
    "[link text](https://)"
   ]
  },
  {
   "cell_type": "markdown",
   "metadata": {
    "id": "ZKpF6F5E741a"
   },
   "source": [
    " END OF PyTorch BASICS"
   ]
  }
 ],
 "metadata": {
  "colab": {
   "provenance": [],
   "toc_visible": true
  },
  "kernelspec": {
   "display_name": "Python 3 (ipykernel)",
   "language": "python",
   "name": "python3"
  },
  "language_info": {
   "codemirror_mode": {
    "name": "ipython",
    "version": 3
   },
   "file_extension": ".py",
   "mimetype": "text/x-python",
   "name": "python",
   "nbconvert_exporter": "python",
   "pygments_lexer": "ipython3",
   "version": "3.11.5"
  }
 },
 "nbformat": 4,
 "nbformat_minor": 1
}
